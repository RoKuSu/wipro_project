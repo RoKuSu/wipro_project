{
 "cells": [
  {
   "cell_type": "code",
   "execution_count": 1,
   "metadata": {
    "collapsed": false,
    "deletable": true,
    "editable": true
   },
   "outputs": [],
   "source": [
    "import numpy as np \n",
    "import pandas as pd\n",
    "import json\n",
    "from gensim.models.tfidfmodel import TfidfModel\n",
    "import logging\n",
    "from gensim import corpora, models, similarities\n",
    "from time import time\n",
    "from nltk.tokenize import word_tokenize, sent_tokenize\n",
    "import operator\n",
    "import scipy.stats as ss\n",
    "from nltk.corpus import stopwords\n",
    "import matplotlib.pyplot as plt"
   ]
  },
  {
   "cell_type": "code",
   "execution_count": 3,
   "metadata": {
    "collapsed": true,
    "deletable": true,
    "editable": true
   },
   "outputs": [],
   "source": [
    "def convert_json_data_frame(path):\n",
    "    df_squad_train = pd.read_json(path)\n",
    "    df_squad_train.rename(columns={'passages':'documents'}, inplace=True)\n",
    "    # rearranging the dataframe such that it is easy to access (splitting from columns)\n",
    "    df_squad_train_new = df_squad_train.groupby('title').documents.apply(lambda x: pd.DataFrame(x.values[0])).reset_index().drop('level_1', axis = 1)\n",
    "    df_squad_train_new.rename(columns={'questions':'question_set'}, inplace=True)\n",
    "    return df_squad_train_new"
   ]
  },
  {
   "cell_type": "code",
   "execution_count": 4,
   "metadata": {
    "collapsed": true,
    "deletable": true,
    "editable": true
   },
   "outputs": [],
   "source": [
    "path = 'squad_train_doc.json'"
   ]
  },
  {
   "cell_type": "code",
   "execution_count": 8,
   "metadata": {
    "collapsed": true,
    "deletable": true,
    "editable": true
   },
   "outputs": [],
   "source": [
    "data_train = convert_json_data_frame(path)"
   ]
  },
  {
   "cell_type": "code",
   "execution_count": 9,
   "metadata": {
    "collapsed": true,
    "deletable": true,
    "editable": true
   },
   "outputs": [],
   "source": [
    "data_train_context =  data_train.groupby('title').context.sum()\n",
    "data_train_questions = data_train.groupby('title').question_set.sum()"
   ]
  },
  {
   "cell_type": "code",
   "execution_count": 10,
   "metadata": {
    "collapsed": true,
    "deletable": true,
    "editable": true
   },
   "outputs": [],
   "source": [
    "stop_words = set(stopwords.words('english'))"
   ]
  },
  {
   "cell_type": "code",
   "execution_count": 11,
   "metadata": {
    "collapsed": true,
    "deletable": true,
    "editable": true
   },
   "outputs": [],
   "source": [
    "def convert_to_words(data_train):\n",
    "    data_train_context =  data_train.groupby('title').context.sum()\n",
    "    data_train_questions = data_train.groupby('title').question_set.sum()\n",
    "    contexts = []\n",
    "    question = []\n",
    "    question_temp = []\n",
    "    for context, question in zip(range(0,len(data_train_context)), data_train_questions):\n",
    "        words = [word for word in word_tokenize(data_train_context[context]) if word not in stop_words]\n",
    "#         for each_ques in question:\n",
    "#             question_temp = question_temp + [word for word in word_tokenize(each_ques) if word not in stop_words]\n",
    "#         words = words+ question_temp\n",
    "        contexts.append(words)\n",
    "        \n",
    "    return contexts"
   ]
  },
  {
   "cell_type": "code",
   "execution_count": 12,
   "metadata": {
    "collapsed": true,
    "deletable": true,
    "editable": true
   },
   "outputs": [],
   "source": [
    "docs = convert_to_words(data_train)"
   ]
  },
  {
   "cell_type": "code",
   "execution_count": 13,
   "metadata": {
    "collapsed": true,
    "deletable": true,
    "editable": true
   },
   "outputs": [],
   "source": [
    "def create_dict(docs):\n",
    "    dictionary = corpora.Dictionary(docs)\n",
    "    dictionary.save('/tmp/squad.dict') # store the dictionary, for future reference"
   ]
  },
  {
   "cell_type": "code",
   "execution_count": 14,
   "metadata": {
    "collapsed": true,
    "deletable": true,
    "editable": true
   },
   "outputs": [],
   "source": [
    "dictionary = create_dict(docs)"
   ]
  },
  {
   "cell_type": "code",
   "execution_count": 15,
   "metadata": {
    "collapsed": true,
    "deletable": true,
    "editable": true
   },
   "outputs": [],
   "source": [
    "def create_corpus(dictionary,docs):\n",
    "    raw_corpus = [dictionary.doc2bow(each_doc) for each_doc in docs]\n",
    "    corpora.MmCorpus.serialize('/tmp/squad.mm', raw_corpus) # store to disk\n"
   ]
  },
  {
   "cell_type": "code",
   "execution_count": 16,
   "metadata": {
    "collapsed": true,
    "deletable": true,
    "editable": true
   },
   "outputs": [],
   "source": [
    "dictionary = corpora.Dictionary.load('/tmp/squad.dict')"
   ]
  },
  {
   "cell_type": "code",
   "execution_count": 17,
   "metadata": {
    "collapsed": true,
    "deletable": true,
    "editable": true
   },
   "outputs": [],
   "source": [
    "create_corpus(dictionary,docs)"
   ]
  },
  {
   "cell_type": "code",
   "execution_count": 18,
   "metadata": {
    "collapsed": true,
    "deletable": true,
    "editable": true
   },
   "outputs": [],
   "source": [
    "\n",
    "corpus = corpora.MmCorpus('/tmp/squad.mm')"
   ]
  },
  {
   "cell_type": "code",
   "execution_count": 19,
   "metadata": {
    "collapsed": true,
    "deletable": true,
    "editable": true
   },
   "outputs": [],
   "source": [
    "tfidf = models.TfidfModel(corpus) # step 1 -- initialize a model"
   ]
  },
  {
   "cell_type": "code",
   "execution_count": 37,
   "metadata": {
    "collapsed": true,
    "deletable": true,
    "editable": true
   },
   "outputs": [],
   "source": [
    "tfidf.save('/tmp/squad.model')"
   ]
  },
  {
   "cell_type": "code",
   "execution_count": null,
   "metadata": {
    "collapsed": true,
    "deletable": true,
    "editable": true
   },
   "outputs": [],
   "source": []
  },
  {
   "cell_type": "code",
   "execution_count": 20,
   "metadata": {
    "collapsed": true,
    "deletable": true,
    "editable": true
   },
   "outputs": [],
   "source": [
    "corpus_tfidf = tfidf[corpus]"
   ]
  },
  {
   "cell_type": "code",
   "execution_count": 21,
   "metadata": {
    "collapsed": true,
    "deletable": true,
    "editable": true
   },
   "outputs": [],
   "source": [
    "def create_similarity_matrix(corpus_tfidf):\n",
    "    index = similarities.MatrixSimilarity(corpus_tfidf)\n",
    "    index.save('/tmp/squad.index')"
   ]
  },
  {
   "cell_type": "code",
   "execution_count": 22,
   "metadata": {
    "collapsed": true,
    "deletable": true,
    "editable": true
   },
   "outputs": [],
   "source": [
    "create_similarity_matrix(corpus_tfidf)"
   ]
  },
  {
   "cell_type": "code",
   "execution_count": 23,
   "metadata": {
    "collapsed": true,
    "deletable": true,
    "editable": true
   },
   "outputs": [],
   "source": [
    "index = similarities.MatrixSimilarity.load('/tmp/squad.index')"
   ]
  },
  {
   "cell_type": "code",
   "execution_count": 24,
   "metadata": {
    "collapsed": true,
    "deletable": true,
    "editable": true
   },
   "outputs": [],
   "source": [
    "def get_similarity_matrix(corpus_tfidf,index):\n",
    "    return index[corpus_tfidf]"
   ]
  },
  {
   "cell_type": "code",
   "execution_count": 25,
   "metadata": {
    "collapsed": true,
    "deletable": true,
    "editable": true
   },
   "outputs": [],
   "source": [
    "similarity_matrix =  get_similarity_matrix(corpus_tfidf, index)"
   ]
  },
  {
   "cell_type": "code",
   "execution_count": 26,
   "metadata": {
    "collapsed": true,
    "deletable": true,
    "editable": true
   },
   "outputs": [],
   "source": [
    "def give_query(query):\n",
    "    #print(query)\n",
    "    index = similarities.MatrixSimilarity.load('/tmp/squad.index')\n",
    "    query = (word_tokenize(query))\n",
    "    query_1 = []\n",
    "    query_1.append(query)\n",
    "#     dictionary_query = corpora.Dictionary(query_1)\n",
    "    raw_corpus_query = [dictionary.doc2bow(word) for word in query_1]\n",
    "    corpora.MmCorpus.serialize('/tmp/query3.mm',raw_corpus_query)\n",
    "    corpus_query = corpora.MmCorpus('/tmp/query3.mm')\n",
    "#     for k in tfidf[corpus_query]:\n",
    "#         print(k)\n",
    "    similarity_table = index.get_similarities(tfidf[corpus_query])\n",
    "#     similarity_table = similarities.MatrixSimilarity()\n",
    "    ranks = ss.rankdata(similarity_table, method = 'max')\n",
    "    #doc_pick, value = max(enumerate(similarity_table), key=operator.itemgetter(1))\n",
    "    similarity_table = np.array(similarity_table)\n",
    "    #print([i for i in np.argsort(similarity_table)[-2:]])\n",
    "    #print(sorted(range(len(similarity_table)), key=lambda i: similarity_table[i])[-2:])\n",
    "    doc_pick = similarity_table.argmax()\n",
    "    #print(len(similarity_table[0]))\n",
    "    #print(ranks)\n",
    "    return similarity_table\n",
    "    "
   ]
  },
  {
   "cell_type": "code",
   "execution_count": null,
   "metadata": {
    "collapsed": true,
    "deletable": true,
    "editable": true
   },
   "outputs": [],
   "source": []
  },
  {
   "cell_type": "code",
   "execution_count": 27,
   "metadata": {
    "collapsed": true,
    "deletable": true,
    "editable": true
   },
   "outputs": [],
   "source": [
    "query = \"\"\"For which masterpiece did Cesare Beccaria become famous?\"\"\"\n",
    "zz = give_query(query)"
   ]
  },
  {
   "cell_type": "code",
   "execution_count": 28,
   "metadata": {
    "collapsed": false,
    "deletable": true,
    "editable": true
   },
   "outputs": [
    {
     "data": {
      "text/plain": [
       "8"
      ]
     },
     "execution_count": 28,
     "metadata": {},
     "output_type": "execute_result"
    }
   ],
   "source": [
    "zz.argmax()"
   ]
  },
  {
   "cell_type": "code",
   "execution_count": 229,
   "metadata": {
    "collapsed": true,
    "deletable": true,
    "editable": true
   },
   "outputs": [],
   "source": [
    "idx = (-zz).argsort()[:5]"
   ]
  },
  {
   "cell_type": "code",
   "execution_count": 237,
   "metadata": {
    "collapsed": false,
    "deletable": true,
    "editable": true
   },
   "outputs": [
    {
     "data": {
      "text/plain": [
       "115"
      ]
     },
     "execution_count": 237,
     "metadata": {},
     "output_type": "execute_result"
    }
   ],
   "source": [
    "idx[0][0]"
   ]
  },
  {
   "cell_type": "code",
   "execution_count": null,
   "metadata": {
    "collapsed": true,
    "deletable": true,
    "editable": true
   },
   "outputs": [],
   "source": [
    "data_train[144:156]"
   ]
  },
  {
   "cell_type": "code",
   "execution_count": null,
   "metadata": {
    "collapsed": true,
    "deletable": true,
    "editable": true
   },
   "outputs": [],
   "source": [
    "data_train.to_csv('data_train_idf')"
   ]
  },
  {
   "cell_type": "code",
   "execution_count": 29,
   "metadata": {
    "collapsed": true,
    "deletable": true,
    "editable": true
   },
   "outputs": [],
   "source": [
    "def top_similiar(top_num, query):\n",
    "    similarity_table = give_query(query)\n",
    "    top_n_similiar = (-similarity_table).argsort()[:top_num]\n",
    "    similiar_n = []\n",
    "    for num in range(0,top_num):\n",
    "        similiar_n.append(top_n_similiar[0][num])\n",
    "    return similiar_n"
   ]
  },
  {
   "cell_type": "code",
   "execution_count": 46,
   "metadata": {
    "collapsed": true,
    "deletable": true,
    "editable": true
   },
   "outputs": [],
   "source": [
    "def calc_accuracy(rank):\n",
    "    index_cols = ['doc_num','question_num','doc_predicted']\n",
    "    accuracy_data = pd.DataFrame(columns= index_cols)\n",
    "    acc = {'doc_num':0,'doc_num_pred':None , 'question':None}\n",
    "    \n",
    "    for doc_num in range(0,len(data_train_questions)):\n",
    "        print('doc_num', doc_num)\n",
    "        for question in data_train_questions[doc_num]:\n",
    "            doc_sim = top_similiar(rank, question)\n",
    "            acc['doc_num_pred'] = doc_sim\n",
    "            acc['question'] = question\n",
    "            acc['doc_num'] = doc_num\n",
    "            acc_data = pd.Series(data = [acc['doc_num'],acc['question'],acc['doc_num_pred']], index = index_cols)\n",
    "            accuracy_data = accuracy_data.append(acc_data, ignore_index= True)\n",
    "    return accuracy_data\n",
    "    "
   ]
  },
  {
   "cell_type": "code",
   "execution_count": 63,
   "metadata": {
    "collapsed": false,
    "deletable": true,
    "editable": true
   },
   "outputs": [
    {
     "name": "stdout",
     "output_type": "stream",
     "text": [
      "doc_num 0\n",
      "doc_num 1\n",
      "doc_num 2\n",
      "doc_num 3\n",
      "doc_num 4\n",
      "doc_num 5\n",
      "doc_num 6\n",
      "doc_num 7\n",
      "doc_num 8\n",
      "doc_num 9\n",
      "doc_num 10\n",
      "doc_num 11\n",
      "doc_num 12\n",
      "doc_num 13\n",
      "doc_num 14\n",
      "doc_num 15\n",
      "doc_num 16\n",
      "doc_num 17\n"
     ]
    },
    {
     "ename": "KeyboardInterrupt",
     "evalue": "",
     "output_type": "error",
     "traceback": [
      "\u001b[0;31m---------------------------------------------------------------------------\u001b[0m",
      "\u001b[0;31mKeyboardInterrupt\u001b[0m                         Traceback (most recent call last)",
      "\u001b[0;32m<ipython-input-63-e78d88517554>\u001b[0m in \u001b[0;36m<module>\u001b[0;34m()\u001b[0m\n\u001b[0;32m----> 1\u001b[0;31m \u001b[0maccuracy_data\u001b[0m \u001b[0;34m=\u001b[0m \u001b[0mcalc_accuracy\u001b[0m\u001b[0;34m(\u001b[0m\u001b[0;36m50\u001b[0m\u001b[0;34m)\u001b[0m\u001b[0;34m\u001b[0m\u001b[0m\n\u001b[0m",
      "\u001b[0;32m<ipython-input-46-68e252de65d0>\u001b[0m in \u001b[0;36mcalc_accuracy\u001b[0;34m(rank)\u001b[0m\n\u001b[1;32m      7\u001b[0m         \u001b[0mprint\u001b[0m\u001b[0;34m(\u001b[0m\u001b[0;34m'doc_num'\u001b[0m\u001b[0;34m,\u001b[0m \u001b[0mdoc_num\u001b[0m\u001b[0;34m)\u001b[0m\u001b[0;34m\u001b[0m\u001b[0m\n\u001b[1;32m      8\u001b[0m         \u001b[0;32mfor\u001b[0m \u001b[0mquestion\u001b[0m \u001b[0;32min\u001b[0m \u001b[0mdata_train_questions\u001b[0m\u001b[0;34m[\u001b[0m\u001b[0mdoc_num\u001b[0m\u001b[0;34m]\u001b[0m\u001b[0;34m:\u001b[0m\u001b[0;34m\u001b[0m\u001b[0m\n\u001b[0;32m----> 9\u001b[0;31m             \u001b[0mdoc_sim\u001b[0m \u001b[0;34m=\u001b[0m \u001b[0mtop_similiar\u001b[0m\u001b[0;34m(\u001b[0m\u001b[0mrank\u001b[0m\u001b[0;34m,\u001b[0m \u001b[0mquestion\u001b[0m\u001b[0;34m)\u001b[0m\u001b[0;34m\u001b[0m\u001b[0m\n\u001b[0m\u001b[1;32m     10\u001b[0m             \u001b[0macc\u001b[0m\u001b[0;34m[\u001b[0m\u001b[0;34m'doc_num_pred'\u001b[0m\u001b[0;34m]\u001b[0m \u001b[0;34m=\u001b[0m \u001b[0mdoc_sim\u001b[0m\u001b[0;34m\u001b[0m\u001b[0m\n\u001b[1;32m     11\u001b[0m             \u001b[0macc\u001b[0m\u001b[0;34m[\u001b[0m\u001b[0;34m'question'\u001b[0m\u001b[0;34m]\u001b[0m \u001b[0;34m=\u001b[0m \u001b[0mquestion\u001b[0m\u001b[0;34m\u001b[0m\u001b[0m\n",
      "\u001b[0;32m<ipython-input-29-e163e5c1513b>\u001b[0m in \u001b[0;36mtop_similiar\u001b[0;34m(top_num, query)\u001b[0m\n\u001b[1;32m      1\u001b[0m \u001b[0;32mdef\u001b[0m \u001b[0mtop_similiar\u001b[0m\u001b[0;34m(\u001b[0m\u001b[0mtop_num\u001b[0m\u001b[0;34m,\u001b[0m \u001b[0mquery\u001b[0m\u001b[0;34m)\u001b[0m\u001b[0;34m:\u001b[0m\u001b[0;34m\u001b[0m\u001b[0m\n\u001b[0;32m----> 2\u001b[0;31m     \u001b[0msimilarity_table\u001b[0m \u001b[0;34m=\u001b[0m \u001b[0mgive_query\u001b[0m\u001b[0;34m(\u001b[0m\u001b[0mquery\u001b[0m\u001b[0;34m)\u001b[0m\u001b[0;34m\u001b[0m\u001b[0m\n\u001b[0m\u001b[1;32m      3\u001b[0m     \u001b[0mtop_n_similiar\u001b[0m \u001b[0;34m=\u001b[0m \u001b[0;34m(\u001b[0m\u001b[0;34m-\u001b[0m\u001b[0msimilarity_table\u001b[0m\u001b[0;34m)\u001b[0m\u001b[0;34m.\u001b[0m\u001b[0margsort\u001b[0m\u001b[0;34m(\u001b[0m\u001b[0;34m)\u001b[0m\u001b[0;34m[\u001b[0m\u001b[0;34m:\u001b[0m\u001b[0mtop_num\u001b[0m\u001b[0;34m]\u001b[0m\u001b[0;34m\u001b[0m\u001b[0m\n\u001b[1;32m      4\u001b[0m     \u001b[0msimiliar_n\u001b[0m \u001b[0;34m=\u001b[0m \u001b[0;34m[\u001b[0m\u001b[0;34m]\u001b[0m\u001b[0;34m\u001b[0m\u001b[0m\n\u001b[1;32m      5\u001b[0m     \u001b[0;32mfor\u001b[0m \u001b[0mnum\u001b[0m \u001b[0;32min\u001b[0m \u001b[0mrange\u001b[0m\u001b[0;34m(\u001b[0m\u001b[0;36m0\u001b[0m\u001b[0;34m,\u001b[0m\u001b[0mtop_num\u001b[0m\u001b[0;34m)\u001b[0m\u001b[0;34m:\u001b[0m\u001b[0;34m\u001b[0m\u001b[0m\n",
      "\u001b[0;32m<ipython-input-26-8e00648aea84>\u001b[0m in \u001b[0;36mgive_query\u001b[0;34m(query)\u001b[0m\n\u001b[1;32m      1\u001b[0m \u001b[0;32mdef\u001b[0m \u001b[0mgive_query\u001b[0m\u001b[0;34m(\u001b[0m\u001b[0mquery\u001b[0m\u001b[0;34m)\u001b[0m\u001b[0;34m:\u001b[0m\u001b[0;34m\u001b[0m\u001b[0m\n\u001b[1;32m      2\u001b[0m     \u001b[0;31m#print(query)\u001b[0m\u001b[0;34m\u001b[0m\u001b[0;34m\u001b[0m\u001b[0m\n\u001b[0;32m----> 3\u001b[0;31m     \u001b[0mindex\u001b[0m \u001b[0;34m=\u001b[0m \u001b[0msimilarities\u001b[0m\u001b[0;34m.\u001b[0m\u001b[0mMatrixSimilarity\u001b[0m\u001b[0;34m.\u001b[0m\u001b[0mload\u001b[0m\u001b[0;34m(\u001b[0m\u001b[0;34m'/tmp/squad.index'\u001b[0m\u001b[0;34m)\u001b[0m\u001b[0;34m\u001b[0m\u001b[0m\n\u001b[0m\u001b[1;32m      4\u001b[0m     \u001b[0mquery\u001b[0m \u001b[0;34m=\u001b[0m \u001b[0;34m(\u001b[0m\u001b[0mword_tokenize\u001b[0m\u001b[0;34m(\u001b[0m\u001b[0mquery\u001b[0m\u001b[0;34m)\u001b[0m\u001b[0;34m)\u001b[0m\u001b[0;34m\u001b[0m\u001b[0m\n\u001b[1;32m      5\u001b[0m     \u001b[0mquery_1\u001b[0m \u001b[0;34m=\u001b[0m \u001b[0;34m[\u001b[0m\u001b[0;34m]\u001b[0m\u001b[0;34m\u001b[0m\u001b[0m\n",
      "\u001b[0;32m/home/user/assign2/lib/python3.5/site-packages/gensim/utils.py\u001b[0m in \u001b[0;36mload\u001b[0;34m(cls, fname, mmap)\u001b[0m\n\u001b[1;32m    270\u001b[0m \u001b[0;34m\u001b[0m\u001b[0m\n\u001b[1;32m    271\u001b[0m         \u001b[0mobj\u001b[0m \u001b[0;34m=\u001b[0m \u001b[0munpickle\u001b[0m\u001b[0;34m(\u001b[0m\u001b[0mfname\u001b[0m\u001b[0;34m)\u001b[0m\u001b[0;34m\u001b[0m\u001b[0m\n\u001b[0;32m--> 272\u001b[0;31m         \u001b[0mobj\u001b[0m\u001b[0;34m.\u001b[0m\u001b[0m_load_specials\u001b[0m\u001b[0;34m(\u001b[0m\u001b[0mfname\u001b[0m\u001b[0;34m,\u001b[0m \u001b[0mmmap\u001b[0m\u001b[0;34m,\u001b[0m \u001b[0mcompress\u001b[0m\u001b[0;34m,\u001b[0m \u001b[0msubname\u001b[0m\u001b[0;34m)\u001b[0m\u001b[0;34m\u001b[0m\u001b[0m\n\u001b[0m\u001b[1;32m    273\u001b[0m         \u001b[0mlogger\u001b[0m\u001b[0;34m.\u001b[0m\u001b[0minfo\u001b[0m\u001b[0;34m(\u001b[0m\u001b[0;34m\"loaded %s\"\u001b[0m\u001b[0;34m,\u001b[0m \u001b[0mfname\u001b[0m\u001b[0;34m)\u001b[0m\u001b[0;34m\u001b[0m\u001b[0m\n\u001b[1;32m    274\u001b[0m         \u001b[0;32mreturn\u001b[0m \u001b[0mobj\u001b[0m\u001b[0;34m\u001b[0m\u001b[0m\n",
      "\u001b[0;32m/home/user/assign2/lib/python3.5/site-packages/gensim/utils.py\u001b[0m in \u001b[0;36m_load_specials\u001b[0;34m(self, fname, mmap, compress, subname)\u001b[0m\n\u001b[1;32m    300\u001b[0m                 \u001b[0mval\u001b[0m \u001b[0;34m=\u001b[0m \u001b[0mnp\u001b[0m\u001b[0;34m.\u001b[0m\u001b[0mload\u001b[0m\u001b[0;34m(\u001b[0m\u001b[0msubname\u001b[0m\u001b[0;34m(\u001b[0m\u001b[0mfname\u001b[0m\u001b[0;34m,\u001b[0m \u001b[0mattrib\u001b[0m\u001b[0;34m)\u001b[0m\u001b[0;34m)\u001b[0m\u001b[0;34m[\u001b[0m\u001b[0;34m'val'\u001b[0m\u001b[0;34m]\u001b[0m\u001b[0;34m\u001b[0m\u001b[0m\n\u001b[1;32m    301\u001b[0m             \u001b[0;32melse\u001b[0m\u001b[0;34m:\u001b[0m\u001b[0;34m\u001b[0m\u001b[0m\n\u001b[0;32m--> 302\u001b[0;31m                 \u001b[0mval\u001b[0m \u001b[0;34m=\u001b[0m \u001b[0mnp\u001b[0m\u001b[0;34m.\u001b[0m\u001b[0mload\u001b[0m\u001b[0;34m(\u001b[0m\u001b[0msubname\u001b[0m\u001b[0;34m(\u001b[0m\u001b[0mfname\u001b[0m\u001b[0;34m,\u001b[0m \u001b[0mattrib\u001b[0m\u001b[0;34m)\u001b[0m\u001b[0;34m,\u001b[0m \u001b[0mmmap_mode\u001b[0m\u001b[0;34m=\u001b[0m\u001b[0mmmap\u001b[0m\u001b[0;34m)\u001b[0m\u001b[0;34m\u001b[0m\u001b[0m\n\u001b[0m\u001b[1;32m    303\u001b[0m \u001b[0;34m\u001b[0m\u001b[0m\n\u001b[1;32m    304\u001b[0m             \u001b[0msetattr\u001b[0m\u001b[0;34m(\u001b[0m\u001b[0mself\u001b[0m\u001b[0;34m,\u001b[0m \u001b[0mattrib\u001b[0m\u001b[0;34m,\u001b[0m \u001b[0mval\u001b[0m\u001b[0;34m)\u001b[0m\u001b[0;34m\u001b[0m\u001b[0m\n",
      "\u001b[0;32m/home/user/assign2/lib/python3.5/site-packages/numpy/lib/npyio.py\u001b[0m in \u001b[0;36mload\u001b[0;34m(file, mmap_mode, allow_pickle, fix_imports, encoding)\u001b[0m\n\u001b[1;32m    417\u001b[0m             \u001b[0;32melse\u001b[0m\u001b[0;34m:\u001b[0m\u001b[0;34m\u001b[0m\u001b[0m\n\u001b[1;32m    418\u001b[0m                 return format.read_array(fid, allow_pickle=allow_pickle,\n\u001b[0;32m--> 419\u001b[0;31m                                          pickle_kwargs=pickle_kwargs)\n\u001b[0m\u001b[1;32m    420\u001b[0m         \u001b[0;32melse\u001b[0m\u001b[0;34m:\u001b[0m\u001b[0;34m\u001b[0m\u001b[0m\n\u001b[1;32m    421\u001b[0m             \u001b[0;31m# Try a pickle\u001b[0m\u001b[0;34m\u001b[0m\u001b[0;34m\u001b[0m\u001b[0m\n",
      "\u001b[0;32m/home/user/assign2/lib/python3.5/site-packages/numpy/lib/format.py\u001b[0m in \u001b[0;36mread_array\u001b[0;34m(fp, allow_pickle, pickle_kwargs)\u001b[0m\n\u001b[1;32m    649\u001b[0m         \u001b[0;32mif\u001b[0m \u001b[0misfileobj\u001b[0m\u001b[0;34m(\u001b[0m\u001b[0mfp\u001b[0m\u001b[0;34m)\u001b[0m\u001b[0;34m:\u001b[0m\u001b[0;34m\u001b[0m\u001b[0m\n\u001b[1;32m    650\u001b[0m             \u001b[0;31m# We can use the fast fromfile() function.\u001b[0m\u001b[0;34m\u001b[0m\u001b[0;34m\u001b[0m\u001b[0m\n\u001b[0;32m--> 651\u001b[0;31m             \u001b[0marray\u001b[0m \u001b[0;34m=\u001b[0m \u001b[0mnumpy\u001b[0m\u001b[0;34m.\u001b[0m\u001b[0mfromfile\u001b[0m\u001b[0;34m(\u001b[0m\u001b[0mfp\u001b[0m\u001b[0;34m,\u001b[0m \u001b[0mdtype\u001b[0m\u001b[0;34m=\u001b[0m\u001b[0mdtype\u001b[0m\u001b[0;34m,\u001b[0m \u001b[0mcount\u001b[0m\u001b[0;34m=\u001b[0m\u001b[0mcount\u001b[0m\u001b[0;34m)\u001b[0m\u001b[0;34m\u001b[0m\u001b[0m\n\u001b[0m\u001b[1;32m    652\u001b[0m         \u001b[0;32melse\u001b[0m\u001b[0;34m:\u001b[0m\u001b[0;34m\u001b[0m\u001b[0m\n\u001b[1;32m    653\u001b[0m             \u001b[0;31m# This is not a real file. We have to read it the\u001b[0m\u001b[0;34m\u001b[0m\u001b[0;34m\u001b[0m\u001b[0m\n",
      "\u001b[0;31mKeyboardInterrupt\u001b[0m: "
     ]
    }
   ],
   "source": [
    "accuracy_data = calc_accuracy(50)"
   ]
  },
  {
   "cell_type": "code",
   "execution_count": 41,
   "metadata": {
    "collapsed": true,
    "deletable": true,
    "editable": true
   },
   "outputs": [],
   "source": [
    "counter = 0\n",
    "for index in range(len(accuracy_data.doc_predicted)):\n",
    "    for count in range(len(accuracy_data.doc_predicted[index])):\n",
    "        if(accuracy_data.doc_predicted[index][count] == accuracy_data.doc_num[index]):\n",
    "            counter += 1\n",
    "accuracy = counter/len(accuracy_data.doc_predicted)"
   ]
  },
  {
   "cell_type": "code",
   "execution_count": 42,
   "metadata": {
    "collapsed": false,
    "deletable": true,
    "editable": true
   },
   "outputs": [
    {
     "data": {
      "text/plain": [
       "0.9008497935562088"
      ]
     },
     "execution_count": 42,
     "metadata": {},
     "output_type": "execute_result"
    }
   ],
   "source": [
    "accuracy"
   ]
  },
  {
   "cell_type": "code",
   "execution_count": 40,
   "metadata": {
    "collapsed": true,
    "deletable": true,
    "editable": true
   },
   "outputs": [],
   "source": [
    "accuracy_1_window = 0.53"
   ]
  },
  {
   "cell_type": "code",
   "execution_count": 38,
   "metadata": {
    "collapsed": true,
    "deletable": true,
    "editable": true
   },
   "outputs": [],
   "source": [
    "accuracy_5_window = 0.8493589377008681"
   ]
  },
  {
   "cell_type": "code",
   "execution_count": 43,
   "metadata": {
    "collapsed": true,
    "deletable": true,
    "editable": true
   },
   "outputs": [],
   "source": [
    "accuracy_10_window = 0.9008497935562088"
   ]
  },
  {
   "cell_type": "code",
   "execution_count": null,
   "metadata": {
    "collapsed": true,
    "deletable": true,
    "editable": true
   },
   "outputs": [],
   "source": [
    "accuracy_50_window = "
   ]
  },
  {
   "cell_type": "code",
   "execution_count": 209,
   "metadata": {
    "collapsed": true,
    "deletable": true,
    "editable": true
   },
   "outputs": [],
   "source": [
    "# Accuracy"
   ]
  },
  {
   "cell_type": "code",
   "execution_count": 49,
   "metadata": {
    "collapsed": true,
    "deletable": true,
    "editable": true
   },
   "outputs": [],
   "source": [
    "def accuracy_doc(doc_number, question_set, top_num):\n",
    "    acc = {'doc_num':doc_number,'doc_num_pred':None , 'question_num':None , 'question':None}\n",
    "    question_num =  np.random.randint(0,len(question_set))\n",
    "    doc_sim = top_similiar(top_num, question_set[question_num])\n",
    "    acc['doc_num_pred'] = doc_sim\n",
    "    acc['question_num'] = question_num\n",
    "    acc['question'] = question_set[question_num]\n",
    "    return acc "
   ]
  },
  {
   "cell_type": "code",
   "execution_count": 50,
   "metadata": {
    "collapsed": true,
    "deletable": true,
    "editable": true
   },
   "outputs": [],
   "source": [
    "def accuracy(data_train, top_num, iter_num):\n",
    "    data_train_context =  data_train.groupby('title').context.sum()\n",
    "    data_train_questions = data_train.groupby('title').question_set.sum()\n",
    "    length_doc = len(data_train_context)\n",
    "    index_cols = ['doc_num','question_num','question','doc_predicted']\n",
    "    accuracy_data = pd.DataFrame(columns= index_cols)\n",
    "    for iters in range(0, iter_num):\n",
    "        doc_num =  np.random.randint(0,length_doc)\n",
    "        question_set = data_train_questions[doc_num]\n",
    "        acc = accuracy_doc(doc_num,question_set,top_num)\n",
    "        acc_data = pd.Series(data = [acc['doc_num'],acc['question_num'], acc['question'],acc['doc_num_pred']], index = index_cols)\n",
    "       # print(acc_data)\n",
    "        accuracy_data = accuracy_data.append(acc_data, ignore_index= True)\n",
    "        #print(accuracy_data)\n",
    "    return accuracy_data"
   ]
  },
  {
   "cell_type": "code",
   "execution_count": 51,
   "metadata": {
    "collapsed": true,
    "deletable": true,
    "editable": true
   },
   "outputs": [],
   "source": [
    " rr = accuracy(data_train,5,100)"
   ]
  },
  {
   "cell_type": "code",
   "execution_count": 52,
   "metadata": {
    "collapsed": false,
    "deletable": true,
    "editable": true
   },
   "outputs": [
    {
     "data": {
      "text/html": [
       "<div>\n",
       "<table border=\"1\" class=\"dataframe\">\n",
       "  <thead>\n",
       "    <tr style=\"text-align: right;\">\n",
       "      <th></th>\n",
       "      <th>doc_num</th>\n",
       "      <th>question_num</th>\n",
       "      <th>question</th>\n",
       "      <th>doc_predicted</th>\n",
       "    </tr>\n",
       "  </thead>\n",
       "  <tbody>\n",
       "    <tr>\n",
       "      <th>0</th>\n",
       "      <td>150.0</td>\n",
       "      <td>53.0</td>\n",
       "      <td>When was the Road to Serfdom published?</td>\n",
       "      <td>[150, 338, 380, 408, 252]</td>\n",
       "    </tr>\n",
       "    <tr>\n",
       "      <th>1</th>\n",
       "      <td>51.0</td>\n",
       "      <td>104.0</td>\n",
       "      <td>What is one of the great agricultural challeng...</td>\n",
       "      <td>[169, 170, 195, 51, 384]</td>\n",
       "    </tr>\n",
       "    <tr>\n",
       "      <th>2</th>\n",
       "      <td>270.0</td>\n",
       "      <td>201.0</td>\n",
       "      <td>Who was the videotape used as evidence against...</td>\n",
       "      <td>[270, 297, 375, 42, 181]</td>\n",
       "    </tr>\n",
       "    <tr>\n",
       "      <th>3</th>\n",
       "      <td>177.0</td>\n",
       "      <td>50.0</td>\n",
       "      <td>When did the PAIGC acknowledge the executions?</td>\n",
       "      <td>[177, 69, 184, 268, 335]</td>\n",
       "    </tr>\n",
       "    <tr>\n",
       "      <th>4</th>\n",
       "      <td>22.0</td>\n",
       "      <td>140.0</td>\n",
       "      <td>What effect do cages have on the spectrum of u...</td>\n",
       "      <td>[308, 210, 309, 167, 334]</td>\n",
       "    </tr>\n",
       "    <tr>\n",
       "      <th>5</th>\n",
       "      <td>430.0</td>\n",
       "      <td>47.0</td>\n",
       "      <td>In which year did Poland declassify most of it...</td>\n",
       "      <td>[430, 151, 263, 390, 275]</td>\n",
       "    </tr>\n",
       "    <tr>\n",
       "      <th>6</th>\n",
       "      <td>350.0</td>\n",
       "      <td>82.0</td>\n",
       "      <td>On what date were the Belavezha Accords signed?</td>\n",
       "      <td>[350, 112, 217, 174, 252]</td>\n",
       "    </tr>\n",
       "    <tr>\n",
       "      <th>7</th>\n",
       "      <td>2.0</td>\n",
       "      <td>34.0</td>\n",
       "      <td>What form of government do the Puerto Ricans h...</td>\n",
       "      <td>[2, 378, 146, 335, 142]</td>\n",
       "    </tr>\n",
       "    <tr>\n",
       "      <th>8</th>\n",
       "      <td>360.0</td>\n",
       "      <td>231.0</td>\n",
       "      <td>How does the Seattle ferry line compare to the...</td>\n",
       "      <td>[360, 374, 401, 11, 311]</td>\n",
       "    </tr>\n",
       "    <tr>\n",
       "      <th>9</th>\n",
       "      <td>384.0</td>\n",
       "      <td>84.0</td>\n",
       "      <td>What has been the result of attempts to connec...</td>\n",
       "      <td>[384, 108, 351, 116, 378]</td>\n",
       "    </tr>\n",
       "    <tr>\n",
       "      <th>10</th>\n",
       "      <td>171.0</td>\n",
       "      <td>71.0</td>\n",
       "      <td>The Ottomans controlled mainland Greece in wha...</td>\n",
       "      <td>[171, 120, 172, 296, 96]</td>\n",
       "    </tr>\n",
       "    <tr>\n",
       "      <th>11</th>\n",
       "      <td>14.0</td>\n",
       "      <td>42.0</td>\n",
       "      <td>What are the two phases when steel becomes het...</td>\n",
       "      <td>[14, 253, 336, 202, 401]</td>\n",
       "    </tr>\n",
       "    <tr>\n",
       "      <th>12</th>\n",
       "      <td>148.0</td>\n",
       "      <td>239.0</td>\n",
       "      <td>What did a German patrol spot that led them to...</td>\n",
       "      <td>[148, 162, 381, 203, 394]</td>\n",
       "    </tr>\n",
       "    <tr>\n",
       "      <th>13</th>\n",
       "      <td>73.0</td>\n",
       "      <td>98.0</td>\n",
       "      <td>What is the per capita income in CAR?</td>\n",
       "      <td>[73, 193, 40, 285, 388]</td>\n",
       "    </tr>\n",
       "    <tr>\n",
       "      <th>14</th>\n",
       "      <td>100.0</td>\n",
       "      <td>194.0</td>\n",
       "      <td>What percentage of the 25-34 Cyprus population...</td>\n",
       "      <td>[100, 122, 172, 212, 48]</td>\n",
       "    </tr>\n",
       "    <tr>\n",
       "      <th>15</th>\n",
       "      <td>123.0</td>\n",
       "      <td>131.0</td>\n",
       "      <td>When government computerised ID cards who were...</td>\n",
       "      <td>[439, 420, 123, 255, 313]</td>\n",
       "    </tr>\n",
       "    <tr>\n",
       "      <th>16</th>\n",
       "      <td>255.0</td>\n",
       "      <td>52.0</td>\n",
       "      <td>What do cognitive neuroscientists believe memo...</td>\n",
       "      <td>[255, 90, 127, 5, 203]</td>\n",
       "    </tr>\n",
       "    <tr>\n",
       "      <th>17</th>\n",
       "      <td>354.0</td>\n",
       "      <td>268.0</td>\n",
       "      <td>Both telephone and internet services are subje...</td>\n",
       "      <td>[87, 12, 86, 214, 354]</td>\n",
       "    </tr>\n",
       "    <tr>\n",
       "      <th>18</th>\n",
       "      <td>189.0</td>\n",
       "      <td>228.0</td>\n",
       "      <td>Who rediscovered the laws of inheritance?</td>\n",
       "      <td>[293, 181, 42, 154, 268]</td>\n",
       "    </tr>\n",
       "    <tr>\n",
       "      <th>19</th>\n",
       "      <td>117.0</td>\n",
       "      <td>381.0</td>\n",
       "      <td>Who was the youngest person elected to the Uni...</td>\n",
       "      <td>[362, 181, 361, 202, 268]</td>\n",
       "    </tr>\n",
       "    <tr>\n",
       "      <th>20</th>\n",
       "      <td>159.0</td>\n",
       "      <td>35.0</td>\n",
       "      <td>Which event precipitated the Ordovician period?</td>\n",
       "      <td>[159, 20, 376, 18, 27]</td>\n",
       "    </tr>\n",
       "    <tr>\n",
       "      <th>21</th>\n",
       "      <td>342.0</td>\n",
       "      <td>88.0</td>\n",
       "      <td>The middle of the country features what kind o...</td>\n",
       "      <td>[376, 292, 252, 351, 123]</td>\n",
       "    </tr>\n",
       "    <tr>\n",
       "      <th>22</th>\n",
       "      <td>179.0</td>\n",
       "      <td>106.0</td>\n",
       "      <td>When did Dou Wu die?</td>\n",
       "      <td>[179, 440, 330, 273, 190]</td>\n",
       "    </tr>\n",
       "    <tr>\n",
       "      <th>23</th>\n",
       "      <td>60.0</td>\n",
       "      <td>291.0</td>\n",
       "      <td>When did many former colonies' citizens begin ...</td>\n",
       "      <td>[60, 364, 61, 262, 260]</td>\n",
       "    </tr>\n",
       "    <tr>\n",
       "      <th>24</th>\n",
       "      <td>52.0</td>\n",
       "      <td>152.0</td>\n",
       "      <td>What is particularly important in closed habit...</td>\n",
       "      <td>[51, 129, 27, 15, 52]</td>\n",
       "    </tr>\n",
       "    <tr>\n",
       "      <th>25</th>\n",
       "      <td>193.0</td>\n",
       "      <td>45.0</td>\n",
       "      <td>How does the 2009 Human Development Report ref...</td>\n",
       "      <td>[193, 414, 120, 431, 349]</td>\n",
       "    </tr>\n",
       "    <tr>\n",
       "      <th>26</th>\n",
       "      <td>303.0</td>\n",
       "      <td>75.0</td>\n",
       "      <td>How long may it take for persistent pesticides...</td>\n",
       "      <td>[303, 95, 158, 255, 321]</td>\n",
       "    </tr>\n",
       "    <tr>\n",
       "      <th>27</th>\n",
       "      <td>441.0</td>\n",
       "      <td>184.0</td>\n",
       "      <td>What are dogs known to ingest?</td>\n",
       "      <td>[113, 321, 389, 304, 20]</td>\n",
       "    </tr>\n",
       "    <tr>\n",
       "      <th>28</th>\n",
       "      <td>115.0</td>\n",
       "      <td>28.0</td>\n",
       "      <td>The Dutch East-India Company inhabited how man...</td>\n",
       "      <td>[116, 115, 118, 60, 346]</td>\n",
       "    </tr>\n",
       "    <tr>\n",
       "      <th>29</th>\n",
       "      <td>146.0</td>\n",
       "      <td>38.0</td>\n",
       "      <td>What is the first Incursion led by Jackson kno...</td>\n",
       "      <td>[373, 17, 344, 362, 343]</td>\n",
       "    </tr>\n",
       "    <tr>\n",
       "      <th>...</th>\n",
       "      <td>...</td>\n",
       "      <td>...</td>\n",
       "      <td>...</td>\n",
       "      <td>...</td>\n",
       "    </tr>\n",
       "    <tr>\n",
       "      <th>70</th>\n",
       "      <td>296.0</td>\n",
       "      <td>195.0</td>\n",
       "      <td>Egypt was added to the Ottoman Empire in what ...</td>\n",
       "      <td>[296, 123, 276, 96, 172]</td>\n",
       "    </tr>\n",
       "    <tr>\n",
       "      <th>71</th>\n",
       "      <td>104.0</td>\n",
       "      <td>82.0</td>\n",
       "      <td>Which part of Brazil observes Daylight Saving ...</td>\n",
       "      <td>[104, 401, 382, 54, 238]</td>\n",
       "    </tr>\n",
       "    <tr>\n",
       "      <th>72</th>\n",
       "      <td>143.0</td>\n",
       "      <td>81.0</td>\n",
       "      <td>What happened in Federalist No.46?</td>\n",
       "      <td>[143, 362, 314, 401, 115]</td>\n",
       "    </tr>\n",
       "    <tr>\n",
       "      <th>73</th>\n",
       "      <td>76.0</td>\n",
       "      <td>138.0</td>\n",
       "      <td>When did Kerry Wood strike out 20 batters agai...</td>\n",
       "      <td>[221, 192, 418, 76, 161]</td>\n",
       "    </tr>\n",
       "    <tr>\n",
       "      <th>74</th>\n",
       "      <td>291.0</td>\n",
       "      <td>78.0</td>\n",
       "      <td>When did Penn Square Bank go bankrupt?</td>\n",
       "      <td>[305, 136, 145, 239, 217]</td>\n",
       "    </tr>\n",
       "    <tr>\n",
       "      <th>75</th>\n",
       "      <td>274.0</td>\n",
       "      <td>449.0</td>\n",
       "      <td>In what year did Napoleon marry Joséphine de B...</td>\n",
       "      <td>[274, 160, 148, 383, 332]</td>\n",
       "    </tr>\n",
       "    <tr>\n",
       "      <th>76</th>\n",
       "      <td>166.0</td>\n",
       "      <td>66.0</td>\n",
       "      <td>What cathedral first made use of pointed arche...</td>\n",
       "      <td>[166, 420, 259, 434, 426]</td>\n",
       "    </tr>\n",
       "    <tr>\n",
       "      <th>77</th>\n",
       "      <td>85.0</td>\n",
       "      <td>49.0</td>\n",
       "      <td>Where do comics usually appear?</td>\n",
       "      <td>[85, 250, 161, 111, 313]</td>\n",
       "    </tr>\n",
       "    <tr>\n",
       "      <th>78</th>\n",
       "      <td>195.0</td>\n",
       "      <td>10.0</td>\n",
       "      <td>In addition to domesticated animals, how do ga...</td>\n",
       "      <td>[195, 320, 18, 278, 196]</td>\n",
       "    </tr>\n",
       "    <tr>\n",
       "      <th>79</th>\n",
       "      <td>302.0</td>\n",
       "      <td>78.0</td>\n",
       "      <td>Is it safe to employ negative strategy?</td>\n",
       "      <td>[252, 394, 302, 91, 364]</td>\n",
       "    </tr>\n",
       "    <tr>\n",
       "      <th>80</th>\n",
       "      <td>373.0</td>\n",
       "      <td>29.0</td>\n",
       "      <td>What place on the charts did Date Records' big...</td>\n",
       "      <td>[373, 191, 275, 6, 181]</td>\n",
       "    </tr>\n",
       "    <tr>\n",
       "      <th>81</th>\n",
       "      <td>396.0</td>\n",
       "      <td>57.0</td>\n",
       "      <td>What does AI stand for?</td>\n",
       "      <td>[394, 425, 343, 252, 212]</td>\n",
       "    </tr>\n",
       "    <tr>\n",
       "      <th>82</th>\n",
       "      <td>121.0</td>\n",
       "      <td>45.0</td>\n",
       "      <td>When was Lord Bathurst born?</td>\n",
       "      <td>[121, 126, 160, 332, 96]</td>\n",
       "    </tr>\n",
       "    <tr>\n",
       "      <th>83</th>\n",
       "      <td>267.0</td>\n",
       "      <td>238.0</td>\n",
       "      <td>Who did the RCC buy military equipment from?</td>\n",
       "      <td>[267, 153, 181, 260, 42]</td>\n",
       "    </tr>\n",
       "    <tr>\n",
       "      <th>84</th>\n",
       "      <td>270.0</td>\n",
       "      <td>201.0</td>\n",
       "      <td>Who was the videotape used as evidence against...</td>\n",
       "      <td>[270, 297, 375, 42, 181]</td>\n",
       "    </tr>\n",
       "    <tr>\n",
       "      <th>85</th>\n",
       "      <td>233.0</td>\n",
       "      <td>51.0</td>\n",
       "      <td>In what case did the supreme court of Californ...</td>\n",
       "      <td>[386, 233, 93, 136, 361]</td>\n",
       "    </tr>\n",
       "    <tr>\n",
       "      <th>86</th>\n",
       "      <td>286.0</td>\n",
       "      <td>89.0</td>\n",
       "      <td>Who was the last Chief Minister of Norfolk Isl...</td>\n",
       "      <td>[286, 324, 261, 282, 181]</td>\n",
       "    </tr>\n",
       "    <tr>\n",
       "      <th>87</th>\n",
       "      <td>225.0</td>\n",
       "      <td>157.0</td>\n",
       "      <td>Who argued that Popper's falsificationism was ...</td>\n",
       "      <td>[225, 128, 150, 181, 315]</td>\n",
       "    </tr>\n",
       "    <tr>\n",
       "      <th>88</th>\n",
       "      <td>85.0</td>\n",
       "      <td>18.0</td>\n",
       "      <td>In France, what did historians find that they ...</td>\n",
       "      <td>[85, 250, 233, 170, 220]</td>\n",
       "    </tr>\n",
       "    <tr>\n",
       "      <th>89</th>\n",
       "      <td>193.0</td>\n",
       "      <td>53.0</td>\n",
       "      <td>The HDI in the 2007/2008 Human Development Rep...</td>\n",
       "      <td>[193, 257, 414, 431, 180]</td>\n",
       "    </tr>\n",
       "    <tr>\n",
       "      <th>90</th>\n",
       "      <td>210.0</td>\n",
       "      <td>30.0</td>\n",
       "      <td>What is a commonly used term for infrared radi...</td>\n",
       "      <td>[210, 309, 238, 237, 22]</td>\n",
       "    </tr>\n",
       "    <tr>\n",
       "      <th>91</th>\n",
       "      <td>329.0</td>\n",
       "      <td>54.0</td>\n",
       "      <td>When did Ahmad fight at Balakot?</td>\n",
       "      <td>[329, 54, 425, 416, 252]</td>\n",
       "    </tr>\n",
       "    <tr>\n",
       "      <th>92</th>\n",
       "      <td>433.0</td>\n",
       "      <td>5.0</td>\n",
       "      <td>A browser can also access files where?</td>\n",
       "      <td>[433, 200, 242, 93, 91]</td>\n",
       "    </tr>\n",
       "    <tr>\n",
       "      <th>93</th>\n",
       "      <td>268.0</td>\n",
       "      <td>63.0</td>\n",
       "      <td>In the western US, who were not allowed to hav...</td>\n",
       "      <td>[268, 7, 5, 56, 146]</td>\n",
       "    </tr>\n",
       "    <tr>\n",
       "      <th>94</th>\n",
       "      <td>326.0</td>\n",
       "      <td>49.0</td>\n",
       "      <td>What are referees called?</td>\n",
       "      <td>[326, 313, 343, 252, 212]</td>\n",
       "    </tr>\n",
       "    <tr>\n",
       "      <th>95</th>\n",
       "      <td>291.0</td>\n",
       "      <td>55.0</td>\n",
       "      <td>How many households were in Oklahoma city?</td>\n",
       "      <td>[291, 290, 305, 69, 282]</td>\n",
       "    </tr>\n",
       "    <tr>\n",
       "      <th>96</th>\n",
       "      <td>24.0</td>\n",
       "      <td>199.0</td>\n",
       "      <td>Poland and other European countries could not ...</td>\n",
       "      <td>[390, 263, 119, 364, 262]</td>\n",
       "    </tr>\n",
       "    <tr>\n",
       "      <th>97</th>\n",
       "      <td>290.0</td>\n",
       "      <td>219.0</td>\n",
       "      <td>Where is Oklahoma's largest airport?</td>\n",
       "      <td>[291, 290, 10, 69, 58]</td>\n",
       "    </tr>\n",
       "    <tr>\n",
       "      <th>98</th>\n",
       "      <td>237.0</td>\n",
       "      <td>112.0</td>\n",
       "      <td>What needs to be used to reflect light that wo...</td>\n",
       "      <td>[238, 207, 237, 210, 28]</td>\n",
       "    </tr>\n",
       "    <tr>\n",
       "      <th>99</th>\n",
       "      <td>234.0</td>\n",
       "      <td>2.0</td>\n",
       "      <td>The terms uppercase and lowercase originated f...</td>\n",
       "      <td>[234, 3, 433, 189, 106]</td>\n",
       "    </tr>\n",
       "  </tbody>\n",
       "</table>\n",
       "<p>100 rows × 4 columns</p>\n",
       "</div>"
      ],
      "text/plain": [
       "    doc_num  question_num                                           question  \\\n",
       "0     150.0          53.0            When was the Road to Serfdom published?   \n",
       "1      51.0         104.0  What is one of the great agricultural challeng...   \n",
       "2     270.0         201.0  Who was the videotape used as evidence against...   \n",
       "3     177.0          50.0     When did the PAIGC acknowledge the executions?   \n",
       "4      22.0         140.0  What effect do cages have on the spectrum of u...   \n",
       "5     430.0          47.0  In which year did Poland declassify most of it...   \n",
       "6     350.0          82.0    On what date were the Belavezha Accords signed?   \n",
       "7       2.0          34.0  What form of government do the Puerto Ricans h...   \n",
       "8     360.0         231.0  How does the Seattle ferry line compare to the...   \n",
       "9     384.0          84.0  What has been the result of attempts to connec...   \n",
       "10    171.0          71.0  The Ottomans controlled mainland Greece in wha...   \n",
       "11     14.0          42.0  What are the two phases when steel becomes het...   \n",
       "12    148.0         239.0  What did a German patrol spot that led them to...   \n",
       "13     73.0          98.0              What is the per capita income in CAR?   \n",
       "14    100.0         194.0  What percentage of the 25-34 Cyprus population...   \n",
       "15    123.0         131.0  When government computerised ID cards who were...   \n",
       "16    255.0          52.0  What do cognitive neuroscientists believe memo...   \n",
       "17    354.0         268.0  Both telephone and internet services are subje...   \n",
       "18    189.0         228.0          Who rediscovered the laws of inheritance?   \n",
       "19    117.0         381.0  Who was the youngest person elected to the Uni...   \n",
       "20    159.0          35.0    Which event precipitated the Ordovician period?   \n",
       "21    342.0          88.0  The middle of the country features what kind o...   \n",
       "22    179.0         106.0                               When did Dou Wu die?   \n",
       "23     60.0         291.0  When did many former colonies' citizens begin ...   \n",
       "24     52.0         152.0  What is particularly important in closed habit...   \n",
       "25    193.0          45.0  How does the 2009 Human Development Report ref...   \n",
       "26    303.0          75.0  How long may it take for persistent pesticides...   \n",
       "27    441.0         184.0                     What are dogs known to ingest?   \n",
       "28    115.0          28.0  The Dutch East-India Company inhabited how man...   \n",
       "29    146.0          38.0  What is the first Incursion led by Jackson kno...   \n",
       "..      ...           ...                                                ...   \n",
       "70    296.0         195.0  Egypt was added to the Ottoman Empire in what ...   \n",
       "71    104.0          82.0  Which part of Brazil observes Daylight Saving ...   \n",
       "72    143.0          81.0                 What happened in Federalist No.46?   \n",
       "73     76.0         138.0  When did Kerry Wood strike out 20 batters agai...   \n",
       "74    291.0          78.0             When did Penn Square Bank go bankrupt?   \n",
       "75    274.0         449.0  In what year did Napoleon marry Joséphine de B...   \n",
       "76    166.0          66.0  What cathedral first made use of pointed arche...   \n",
       "77     85.0          49.0                    Where do comics usually appear?   \n",
       "78    195.0          10.0  In addition to domesticated animals, how do ga...   \n",
       "79    302.0          78.0            Is it safe to employ negative strategy?   \n",
       "80    373.0          29.0  What place on the charts did Date Records' big...   \n",
       "81    396.0          57.0                            What does AI stand for?   \n",
       "82    121.0          45.0                       When was Lord Bathurst born?   \n",
       "83    267.0         238.0       Who did the RCC buy military equipment from?   \n",
       "84    270.0         201.0  Who was the videotape used as evidence against...   \n",
       "85    233.0          51.0  In what case did the supreme court of Californ...   \n",
       "86    286.0          89.0  Who was the last Chief Minister of Norfolk Isl...   \n",
       "87    225.0         157.0  Who argued that Popper's falsificationism was ...   \n",
       "88     85.0          18.0  In France, what did historians find that they ...   \n",
       "89    193.0          53.0  The HDI in the 2007/2008 Human Development Rep...   \n",
       "90    210.0          30.0  What is a commonly used term for infrared radi...   \n",
       "91    329.0          54.0                   When did Ahmad fight at Balakot?   \n",
       "92    433.0           5.0             A browser can also access files where?   \n",
       "93    268.0          63.0  In the western US, who were not allowed to hav...   \n",
       "94    326.0          49.0                          What are referees called?   \n",
       "95    291.0          55.0         How many households were in Oklahoma city?   \n",
       "96     24.0         199.0  Poland and other European countries could not ...   \n",
       "97    290.0         219.0               Where is Oklahoma's largest airport?   \n",
       "98    237.0         112.0  What needs to be used to reflect light that wo...   \n",
       "99    234.0           2.0  The terms uppercase and lowercase originated f...   \n",
       "\n",
       "                doc_predicted  \n",
       "0   [150, 338, 380, 408, 252]  \n",
       "1    [169, 170, 195, 51, 384]  \n",
       "2    [270, 297, 375, 42, 181]  \n",
       "3    [177, 69, 184, 268, 335]  \n",
       "4   [308, 210, 309, 167, 334]  \n",
       "5   [430, 151, 263, 390, 275]  \n",
       "6   [350, 112, 217, 174, 252]  \n",
       "7     [2, 378, 146, 335, 142]  \n",
       "8    [360, 374, 401, 11, 311]  \n",
       "9   [384, 108, 351, 116, 378]  \n",
       "10   [171, 120, 172, 296, 96]  \n",
       "11   [14, 253, 336, 202, 401]  \n",
       "12  [148, 162, 381, 203, 394]  \n",
       "13    [73, 193, 40, 285, 388]  \n",
       "14   [100, 122, 172, 212, 48]  \n",
       "15  [439, 420, 123, 255, 313]  \n",
       "16     [255, 90, 127, 5, 203]  \n",
       "17     [87, 12, 86, 214, 354]  \n",
       "18   [293, 181, 42, 154, 268]  \n",
       "19  [362, 181, 361, 202, 268]  \n",
       "20     [159, 20, 376, 18, 27]  \n",
       "21  [376, 292, 252, 351, 123]  \n",
       "22  [179, 440, 330, 273, 190]  \n",
       "23    [60, 364, 61, 262, 260]  \n",
       "24      [51, 129, 27, 15, 52]  \n",
       "25  [193, 414, 120, 431, 349]  \n",
       "26   [303, 95, 158, 255, 321]  \n",
       "27   [113, 321, 389, 304, 20]  \n",
       "28   [116, 115, 118, 60, 346]  \n",
       "29   [373, 17, 344, 362, 343]  \n",
       "..                        ...  \n",
       "70   [296, 123, 276, 96, 172]  \n",
       "71   [104, 401, 382, 54, 238]  \n",
       "72  [143, 362, 314, 401, 115]  \n",
       "73   [221, 192, 418, 76, 161]  \n",
       "74  [305, 136, 145, 239, 217]  \n",
       "75  [274, 160, 148, 383, 332]  \n",
       "76  [166, 420, 259, 434, 426]  \n",
       "77   [85, 250, 161, 111, 313]  \n",
       "78   [195, 320, 18, 278, 196]  \n",
       "79   [252, 394, 302, 91, 364]  \n",
       "80    [373, 191, 275, 6, 181]  \n",
       "81  [394, 425, 343, 252, 212]  \n",
       "82   [121, 126, 160, 332, 96]  \n",
       "83   [267, 153, 181, 260, 42]  \n",
       "84   [270, 297, 375, 42, 181]  \n",
       "85   [386, 233, 93, 136, 361]  \n",
       "86  [286, 324, 261, 282, 181]  \n",
       "87  [225, 128, 150, 181, 315]  \n",
       "88   [85, 250, 233, 170, 220]  \n",
       "89  [193, 257, 414, 431, 180]  \n",
       "90   [210, 309, 238, 237, 22]  \n",
       "91   [329, 54, 425, 416, 252]  \n",
       "92    [433, 200, 242, 93, 91]  \n",
       "93       [268, 7, 5, 56, 146]  \n",
       "94  [326, 313, 343, 252, 212]  \n",
       "95   [291, 290, 305, 69, 282]  \n",
       "96  [390, 263, 119, 364, 262]  \n",
       "97     [291, 290, 10, 69, 58]  \n",
       "98   [238, 207, 237, 210, 28]  \n",
       "99    [234, 3, 433, 189, 106]  \n",
       "\n",
       "[100 rows x 4 columns]"
      ]
     },
     "execution_count": 52,
     "metadata": {},
     "output_type": "execute_result"
    }
   ],
   "source": [
    "rr\n",
    "    "
   ]
  },
  {
   "cell_type": "code",
   "execution_count": null,
   "metadata": {
    "collapsed": true,
    "deletable": true,
    "editable": true
   },
   "outputs": [],
   "source": []
  },
  {
   "cell_type": "code",
   "execution_count": null,
   "metadata": {
    "collapsed": true,
    "deletable": true,
    "editable": true
   },
   "outputs": [],
   "source": []
  }
 ],
 "metadata": {
  "kernelspec": {
   "display_name": "Python 3",
   "language": "python",
   "name": "python3"
  },
  "language_info": {
   "codemirror_mode": {
    "name": "ipython",
    "version": 3
   },
   "file_extension": ".py",
   "mimetype": "text/x-python",
   "name": "python",
   "nbconvert_exporter": "python",
   "pygments_lexer": "ipython3",
   "version": "3.5.2"
  }
 },
 "nbformat": 4,
 "nbformat_minor": 2
}
