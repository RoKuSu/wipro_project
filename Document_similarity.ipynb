{
 "cells": [
  {
   "cell_type": "code",
   "execution_count": 2,
   "metadata": {
    "collapsed": true,
    "deletable": true,
    "editable": true
   },
   "outputs": [],
   "source": [
    "# for loading json files\n",
    "import json\n",
    "\n",
    "# for easy math \n",
    "import numpy as np\n",
    "\n",
    "# for loading the directory of the file\n",
    "from os import listdir\n",
    "\n",
    "# for creating models\n",
    "import gensim\n",
    "from gensim.models import doc2vec\n",
    "\n",
    "# to work with pandas\n",
    "import pandas as pd"
   ]
  },
  {
   "cell_type": "code",
   "execution_count": 3,
   "metadata": {
    "collapsed": true,
    "deletable": true,
    "editable": true
   },
   "outputs": [],
   "source": [
    "# # docLabels are the names of the documents, which could be the keys for classification\n",
    "# docLabels = []\n",
    "# docLabels = [file for file in listdir(\"data\") ]"
   ]
  },
  {
   "cell_type": "code",
   "execution_count": 4,
   "metadata": {
    "collapsed": false,
    "deletable": true,
    "editable": true
   },
   "outputs": [],
   "source": [
    "# docLabels"
   ]
  },
  {
   "cell_type": "code",
   "execution_count": 5,
   "metadata": {
    "collapsed": false,
    "deletable": true,
    "editable": true
   },
   "outputs": [],
   "source": [
    "# json_documents = {}\n",
    "# for i in docLabels:\n",
    "#     json_documents[i]=json.load(open('data/'+i))"
   ]
  },
  {
   "cell_type": "code",
   "execution_count": 6,
   "metadata": {
    "collapsed": false,
    "deletable": true,
    "editable": true
   },
   "outputs": [],
   "source": [
    "# json_documents['squad_dev_doc.json'][0]"
   ]
  },
  {
   "cell_type": "code",
   "execution_count": 7,
   "metadata": {
    "collapsed": false,
    "deletable": true,
    "editable": true
   },
   "outputs": [],
   "source": [
    "# json_documents[1][0]"
   ]
  },
  {
   "cell_type": "code",
   "execution_count": 11,
   "metadata": {
    "collapsed": false,
    "deletable": true,
    "editable": true
   },
   "outputs": [],
   "source": [
    "# Getting the json files into a dataframe\n",
    "df_squad_train = pd.read_json('squad_train_doc.json')\n",
    "# df_squad_dev = pd.read_json('data/squad_dev_doc.json')\n",
    "# df_dev = pd.read_json('data/dev-v1.1.json')\n",
    "# df_train = pd.read_json('data/train-v1.1.json')"
   ]
  },
  {
   "cell_type": "code",
   "execution_count": 12,
   "metadata": {
    "collapsed": false,
    "deletable": true,
    "editable": true
   },
   "outputs": [],
   "source": [
    "# Renaming the columns for the purpose of understanding\n",
    "df_squad_train.rename(columns={'passages':'documents'}, inplace=True)"
   ]
  },
  {
   "cell_type": "code",
   "execution_count": 13,
   "metadata": {
    "collapsed": false,
    "deletable": true,
    "editable": true
   },
   "outputs": [
    {
     "data": {
      "text/html": [
       "<div>\n",
       "<table border=\"1\" class=\"dataframe\">\n",
       "  <thead>\n",
       "    <tr style=\"text-align: right;\">\n",
       "      <th></th>\n",
       "      <th>documents</th>\n",
       "      <th>title</th>\n",
       "    </tr>\n",
       "  </thead>\n",
       "  <tbody>\n",
       "    <tr>\n",
       "      <th>0</th>\n",
       "      <td>[{'context': 'Architecturally, the school has ...</td>\n",
       "      <td>University_of_Notre_Dame</td>\n",
       "    </tr>\n",
       "    <tr>\n",
       "      <th>1</th>\n",
       "      <td>[{'context': 'Beyoncé Giselle Knowles-Carter (...</td>\n",
       "      <td>Beyoncé</td>\n",
       "    </tr>\n",
       "    <tr>\n",
       "      <th>2</th>\n",
       "      <td>[{'context': 'Montana i/mɒnˈtænə/ is a state i...</td>\n",
       "      <td>Montana</td>\n",
       "    </tr>\n",
       "    <tr>\n",
       "      <th>3</th>\n",
       "      <td>[{'context': 'The phrase \"in whole or in part\"...</td>\n",
       "      <td>Genocide</td>\n",
       "    </tr>\n",
       "    <tr>\n",
       "      <th>4</th>\n",
       "      <td>[{'context': 'The emergence of resistance of b...</td>\n",
       "      <td>Antibiotics</td>\n",
       "    </tr>\n",
       "  </tbody>\n",
       "</table>\n",
       "</div>"
      ],
      "text/plain": [
       "                                           documents                     title\n",
       "0  [{'context': 'Architecturally, the school has ...  University_of_Notre_Dame\n",
       "1  [{'context': 'Beyoncé Giselle Knowles-Carter (...                   Beyoncé\n",
       "2  [{'context': 'Montana i/mɒnˈtænə/ is a state i...                   Montana\n",
       "3  [{'context': 'The phrase \"in whole or in part\"...                  Genocide\n",
       "4  [{'context': 'The emergence of resistance of b...               Antibiotics"
      ]
     },
     "execution_count": 13,
     "metadata": {},
     "output_type": "execute_result"
    }
   ],
   "source": [
    "df_squad_train.head()"
   ]
  },
  {
   "cell_type": "code",
   "execution_count": 14,
   "metadata": {
    "collapsed": false,
    "deletable": true,
    "editable": true
   },
   "outputs": [],
   "source": [
    "# df_squad_train['documents'].apply(lambda x : dict(eval(x)) )"
   ]
  },
  {
   "cell_type": "code",
   "execution_count": 15,
   "metadata": {
    "collapsed": false,
    "deletable": true,
    "editable": true
   },
   "outputs": [
    {
     "data": {
      "text/plain": [
       "(442, 2)"
      ]
     },
     "execution_count": 15,
     "metadata": {},
     "output_type": "execute_result"
    }
   ],
   "source": [
    "df_squad_train.shape"
   ]
  },
  {
   "cell_type": "code",
   "execution_count": 16,
   "metadata": {
    "collapsed": false,
    "deletable": true,
    "editable": true
   },
   "outputs": [
    {
     "data": {
      "text/plain": [
       "{'context': 'Architecturally, the school has a Catholic character. Atop the Main Building\\'s gold dome is a golden statue of the Virgin Mary. Immediately in front of the Main Building and facing it, is a copper statue of Christ with arms upraised with the legend \"Venite Ad Me Omnes\". Next to the Main Building is the Basilica of the Sacred Heart. Immediately behind the basilica is the Grotto, a Marian place of prayer and reflection. It is a replica of the grotto at Lourdes, France where the Virgin Mary reputedly appeared to Saint Bernadette Soubirous in 1858. At the end of the main drive (and in a direct line that connects through 3 statues and the Gold Dome), is a simple, modern stone statue of Mary.',\n",
       " 'questions': ['To whom did the Virgin Mary allegedly appear in 1858 in Lourdes France?',\n",
       "  'What is the Grotto at Notre Dame?',\n",
       "  'What is in front of the Notre Dame Main Building?',\n",
       "  'The Basilica of the Sacred heart at Notre Dame is beside to which structure?',\n",
       "  'What sits on top of the Main Building at Notre Dame?']}"
      ]
     },
     "execution_count": 16,
     "metadata": {},
     "output_type": "execute_result"
    }
   ],
   "source": [
    "df_squad_train.iloc[0,0][0]"
   ]
  },
  {
   "cell_type": "code",
   "execution_count": 17,
   "metadata": {
    "collapsed": false,
    "deletable": true,
    "editable": true
   },
   "outputs": [
    {
     "data": {
      "text/plain": [
       "'Architecturally, the school has a Catholic character. Atop the Main Building\\'s gold dome is a golden statue of the Virgin Mary. Immediately in front of the Main Building and facing it, is a copper statue of Christ with arms upraised with the legend \"Venite Ad Me Omnes\". Next to the Main Building is the Basilica of the Sacred Heart. Immediately behind the basilica is the Grotto, a Marian place of prayer and reflection. It is a replica of the grotto at Lourdes, France where the Virgin Mary reputedly appeared to Saint Bernadette Soubirous in 1858. At the end of the main drive (and in a direct line that connects through 3 statues and the Gold Dome), is a simple, modern stone statue of Mary.'"
      ]
     },
     "execution_count": 17,
     "metadata": {},
     "output_type": "execute_result"
    }
   ],
   "source": [
    "df_squad_train.iloc[0,0][0]['context']"
   ]
  },
  {
   "cell_type": "code",
   "execution_count": 18,
   "metadata": {
    "collapsed": true,
    "deletable": true,
    "editable": true
   },
   "outputs": [],
   "source": [
    "# df_squad_dev = pd.DataFrame(json_documents['squad_dev_doc.json'])\n",
    "# df_dev = pd.DataFrame(json_documents['dev-v1.1.json'])\n",
    "# df_train = pd.DataFrame(json_documents['train-v1.1.json'])"
   ]
  },
  {
   "cell_type": "code",
   "execution_count": 19,
   "metadata": {
    "collapsed": false,
    "deletable": true,
    "editable": true
   },
   "outputs": [],
   "source": [
    "# df_squad_train.rename(columns={'passages':'documents'}, inplace=True)a"
   ]
  },
  {
   "cell_type": "code",
   "execution_count": 20,
   "metadata": {
    "collapsed": false,
    "deletable": true,
    "editable": true
   },
   "outputs": [],
   "source": [
    "# len(df_squad_train.loc[0,'passages'])"
   ]
  },
  {
   "cell_type": "code",
   "execution_count": 21,
   "metadata": {
    "collapsed": false,
    "deletable": true,
    "editable": true
   },
   "outputs": [],
   "source": [
    "# rearranging the dataframe such that it is easy to access (splitting from columns)\n",
    "df_squad_train_new = df_squad_train.groupby('title').documents.apply(lambda x: pd.DataFrame(x.values[0])).reset_index().drop('level_1', axis = 1)"
   ]
  },
  {
   "cell_type": "code",
   "execution_count": 22,
   "metadata": {
    "collapsed": false,
    "deletable": true,
    "editable": true
   },
   "outputs": [],
   "source": [
    "# renaming the columns for understanding\n",
    "df_squad_train_new.rename(columns={'questions':'question set'}, inplace=True)"
   ]
  },
  {
   "cell_type": "code",
   "execution_count": 23,
   "metadata": {
    "collapsed": false,
    "deletable": true,
    "editable": true
   },
   "outputs": [
    {
     "data": {
      "text/html": [
       "<div>\n",
       "<table border=\"1\" class=\"dataframe\">\n",
       "  <thead>\n",
       "    <tr style=\"text-align: right;\">\n",
       "      <th></th>\n",
       "      <th>title</th>\n",
       "      <th>context</th>\n",
       "      <th>question set</th>\n",
       "    </tr>\n",
       "  </thead>\n",
       "  <tbody>\n",
       "    <tr>\n",
       "      <th>0</th>\n",
       "      <td>2008_Sichuan_earthquake</td>\n",
       "      <td>The 2008 Sichuan earthquake or the Great Sichu...</td>\n",
       "      <td>[What was the earthquake named?, What did the ...</td>\n",
       "    </tr>\n",
       "    <tr>\n",
       "      <th>1</th>\n",
       "      <td>2008_Sichuan_earthquake</td>\n",
       "      <td>It is also known as the Wenchuan earthquake (C...</td>\n",
       "      <td>[What was the focal depth of the quake?, How l...</td>\n",
       "    </tr>\n",
       "    <tr>\n",
       "      <th>2</th>\n",
       "      <td>2008_Sichuan_earthquake</td>\n",
       "      <td>Official figures (as of July 21, 2008 12:00 CS...</td>\n",
       "      <td>[How many were injured in Sichuan?, How many p...</td>\n",
       "    </tr>\n",
       "    <tr>\n",
       "      <th>3</th>\n",
       "      <td>2008_Sichuan_earthquake</td>\n",
       "      <td>The earthquake had a magnitude of 8.0 Ms and 7...</td>\n",
       "      <td>[What percentage of buildings were destroyed?,...</td>\n",
       "    </tr>\n",
       "    <tr>\n",
       "      <th>4</th>\n",
       "      <td>2008_Sichuan_earthquake</td>\n",
       "      <td>According to a study by the China Earthquake A...</td>\n",
       "      <td>[What was the most displacement caused by the ...</td>\n",
       "    </tr>\n",
       "  </tbody>\n",
       "</table>\n",
       "</div>"
      ],
      "text/plain": [
       "                     title                                            context  \\\n",
       "0  2008_Sichuan_earthquake  The 2008 Sichuan earthquake or the Great Sichu...   \n",
       "1  2008_Sichuan_earthquake  It is also known as the Wenchuan earthquake (C...   \n",
       "2  2008_Sichuan_earthquake  Official figures (as of July 21, 2008 12:00 CS...   \n",
       "3  2008_Sichuan_earthquake  The earthquake had a magnitude of 8.0 Ms and 7...   \n",
       "4  2008_Sichuan_earthquake  According to a study by the China Earthquake A...   \n",
       "\n",
       "                                        question set  \n",
       "0  [What was the earthquake named?, What did the ...  \n",
       "1  [What was the focal depth of the quake?, How l...  \n",
       "2  [How many were injured in Sichuan?, How many p...  \n",
       "3  [What percentage of buildings were destroyed?,...  \n",
       "4  [What was the most displacement caused by the ...  "
      ]
     },
     "execution_count": 23,
     "metadata": {},
     "output_type": "execute_result"
    }
   ],
   "source": [
    "df_squad_train_new.head()"
   ]
  },
  {
   "cell_type": "code",
   "execution_count": 24,
   "metadata": {
    "collapsed": false,
    "deletable": true,
    "editable": true
   },
   "outputs": [
    {
     "data": {
      "text/plain": [
       "(18896, 3)"
      ]
     },
     "execution_count": 24,
     "metadata": {},
     "output_type": "execute_result"
    }
   ],
   "source": [
    "df_squad_train_new.shape"
   ]
  },
  {
   "cell_type": "code",
   "execution_count": 25,
   "metadata": {
    "collapsed": true,
    "deletable": true,
    "editable": true
   },
   "outputs": [],
   "source": [
    "# getting labels of documents, i.e. their names\n",
    "doc_labels = df_squad_train_new.title.unique()"
   ]
  },
  {
   "cell_type": "code",
   "execution_count": 26,
   "metadata": {
    "collapsed": false,
    "deletable": true,
    "editable": true
   },
   "outputs": [
    {
     "data": {
      "text/plain": [
       "442"
      ]
     },
     "execution_count": 26,
     "metadata": {},
     "output_type": "execute_result"
    }
   ],
   "source": [
    "# Number of documents\n",
    "len(doc_labels)"
   ]
  },
  {
   "cell_type": "code",
   "execution_count": 27,
   "metadata": {
    "collapsed": false,
    "deletable": true,
    "editable": true
   },
   "outputs": [
    {
     "data": {
      "text/plain": [
       "'The 2008 Sichuan earthquake or the Great Sichuan earthquake, measured at 8.0 Ms and 7.9 Mw, and occurred at 02:28:01 PM China Standard Time at epicenter (06:28:01 UTC) on May 12 in Sichuan province, killed 69,197 people and left 18,222 missing.It is also known as the Wenchuan earthquake (Chinese: 汶川大地震; pinyin: Wènchuān dà dìzhèn; literally: \"Great Wenchuan earthquake\"), after the location of the earthquake\\'s epicenter, Wenchuan County, Sichuan. The epicenter was 80 kilometres (50 mi) west-northwest of Chengdu, the provincial capital, with a focal depth of 19 km (12 mi). The earthquake was also felt in nearby countries and as far away as both Beijing and Shanghai—1,500 km (930 mi) and 1,700 km (1,060 mi) away—where office buildings swayed with the tremor. Strong aftershocks, some exceeding magnitude 6, continued to hit the area even months after the main quake, causing new casualties and damage.Official figures (as of July 21, 2008 12:00 CST) stated that 69,197 were confirmed dead, including 68,636 in Sichuan province, and 374,176 injured, with 18,222 listed as missing. The earthquake left about 4.8 million people homeless, though the number could be as high as 11 million. Approximately 15 million people lived in the affected area. It was the deadliest earthquake to hit China since the 1976 Tangshan earthquake, which killed at least 240,000 people, and the strongest in the country since the 1950 Chayu earthquake, which registered at 8.5 on the Richter magnitude scale. It is the 21st deadliest earthquake of all time. On November 6, 2008, the central government announced that it would spend 1 trillion RMB (about US $146.5 billion) over the next three years to rebuild areas ravaged by the earthquake, as part of the Chinese economic stimulus program.The earthquake had a magnitude of 8.0 Ms and 7.9 Mw. The epicenter was in Wenchuan County, Ngawa Tibetan and Qiang Autonomous Prefecture, 80 km west/northwest of the provincial capital of Chengdu, with its main tremor occurring at 14:28:01.42 China Standard Time (06:28:01.42 UTC), on May 12, 2008 lasting for around 2 minutes, in the quake almost 80% of buildings were destroyed.According to a study by the China Earthquake Administration (CEA), the earthquake occurred along the Longmenshan fault, a thrust structure along the border of the Indo-Australian Plate and Eurasian Plate. Seismic activities concentrated on its mid-fracture (known as Yingxiu-Beichuan fracture). The rupture lasted close to 120 sec, with the majority of energy released in the first 80 sec. Starting from Wenchuan, the rupture propagated at an average speed of 3.1 kilometers per second 49° toward north east, rupturing a total of about 300 km. Maximum displacement amounted to 9 meters. The focus was deeper than 10 km.Malaysia-based Yazhou Zhoukan conducted an interview with former researcher at the China Seismological Bureau Geng Qingguo (耿庆国), in which Geng claimed that a confidential written report was sent to the State Seismological Bureau on April 30, 2008, warning about the possible occurrence of a significant earthquake in Ngawa Prefecture region of Sichuan around May 8, with a range of 10 days before or after the quake. Geng, while acknowledging that earthquake prediction was broadly considered problematic by the scientific community, believed that \"the bigger the earthquake, the easier it is to predict.\" Geng had long attempted to establish a correlation between the occurrence of droughts and earthquakes; Premier Zhou Enlai reportedly took an interest in Geng\\'s work. Geng\\'s drought-earthquake correlation theory was first released in 1972, and said to have successfully predicted the 1975 Haicheng and 1976 Tangshan earthquakes. The same Yazhou Zhoukan article pointed out the inherent difficulties associated with predicting earthquakes. In response, an official with the Seismological Bureau stated that \"earthquake prediction is widely acknowledged around the world to be difficult from a scientific standpoint.\" The official also denied that the Seismological Bureau had received reports predicting the earthquake.In a United States Geological Survey (USGS) study, preliminary rupture models of the earthquake indicated displacement of up to 9 meters along a fault approximately 240 km long by 20 km deep. The earthquake generated deformations of the surface greater than 3 meters and increased the stress (and probability of occurrence of future events) at the northeastern and southwestern ends of the fault. On May 20, USGS seismologist Tom Parsons warned that there is \"high risk\" of a major M>7 aftershock over the next weeks or months.Japanese seismologist Yuji Yagi at the University of Tsukuba said that the earthquake occurred in two stages: \"The 155-mile Longmenshan Fault tore in two sections, the first one ripping about seven yards, followed by a second one that sheared four yards.\" His data also showed that the earthquake lasted about two minutes and released 30 times the energy of the Great Hanshin earthquake of 1995 in Japan, which killed over 6,000 people. He pointed out that the shallowness of the epicenter and the density of population greatly increased the severity of the earthquake. Teruyuki Kato, a seismologist at the University of Tokyo, said that the seismic waves of the quake traveled a long distance without losing their power because of the firmness of the terrain in central China. According to reports from Chengdu, the capital of Sichuan province, the earthquake tremors lasted for \"about two or three minutes\".Between 64 and 104 major aftershocks, ranging in magnitude from 4.0 to 6.1, were recorded within 72 hours of the main quake. According to Chinese official counts, \"by 12:00 CST, November 6, 2008 there had been 42,719 total aftershocks, of which 246 ranged from 4.0 MS to 4.9 MS, 34 from 5.0 MS to 5.9 MS, and 8 from 6.0 Ms to 6.4 MS; the strongest aftershock measured 6.4 MS.\" The latest aftershock exceeding M6 occurred on August 5, 2008.(The Ms 6.1 earthquake on August 30, 2008 in southern Sichuan was not part of this series because it was caused by a different fault. See 2008 Panzhihua earthquake for details.)The map of earthquake intensity published by CEA after surveying 500,000 km2 of the affected area shows a maximum liedu of XI on the China Seismic Intensity Scale (CSIS), described as \"very destructive\" on the European Macroseismic Scale (EMS) from which CSIS drew reference. (USGS, using the Modified Mercalli intensity scale (CC), also placed maximum intensity at XI, \"very disastrous\".) Two south-west-north-east stripes of liedu XI are centered around Yingxiu, Wenchuan (the town closest to the epicenter of the main quake) and Beichuan (the town repeatedly struck by strong aftershocks including one registering MS 6.1 on Aug 1, 2008), both in Sichuan Province, occupying a total of 2,419 km2. The Yingxiu liedu-XI zone is about 66 km long and 20 km wide along Wenchuan–Dujiangyan–Pengzhou; the Beichuan liedu-XI zone is about 82 km long and 15 km wide along An County–Beichuan–Pingwu. The area with liedu X (comparable to X on EMS, \"destructive\" and X on MM, \"disastrous\") spans 3,144 km2. The area affected by earthquakes exceeding liedu VI totals 440,442 km2, occupying an oval 936 km long and 596 km wide, spanning three provinces and one autonomous region.The Longmen Shan Fault System is situated in the eastern border of the Tibetan Plateau and contains several faults. This earthquake ruptured at least two imbricate structures in Longmen Shan Fault System, i.e. the Beichuan Fault and the Guanxian–Anxian Fault. In the epicentral area, the average slip in Beichuan Fault was about 3.5 metres (11 ft) vertical, 3.5 metres (11 ft) horizontal-parallel to the fault, and 4.8 metres (16 ft) horizontal-perpendicular to the fault. In the area about 30 kilometres (19 mi) northeast of the epicenter, the surface slip on Beichuan Fault was almost purely dextral strike-slip up to about 3 metres (9.8 ft), while the average slip in Guanxian–Anxian Fault was about 2 metres (6 ft 7 in) vertical and 2.3 metres (7 ft 7 in) horizontal.Office buildings in Shanghai\\'s financial district, including the Jin Mao Tower and the Hong Kong New World Tower, were evacuated. A receptionist at the Tibet Hotel in Chengdu said things were \"calm\" after the hotel evacuated its guests. Meanwhile, workers at a Ford plant in Sichuan were evacuated for about 10 minutes. Chengdu Shuangliu International Airport was shut down, and the control tower and regional radar control evacuated. One SilkAir flight was diverted and landed in Kunming as a result. Cathay Pacific delayed both legs of its quadruple daily Hong Kong to London route due to this disruption in air traffic services. Chengdu Shuangliu Airport reopened later on the evening of May 12, offering limited service as the airport began to be used as a staging area for relief operations.Reporters in Chengdu said they saw cracks on walls of some residential buildings in the downtown areas, but no buildings collapsed. Many Beijing office towers were evacuated, including the building housing the media offices for the organizers of the 2008 Summer Olympics. None of the Olympic venues were damaged. Meanwhile, a cargo train carrying 13 petrol tanks derailed in Hui County, Gansu, and caught on fire after the rail was distorted.All of the highways into Wenchuan, and others throughout the province, were damaged, resulting in delayed arrival of the rescue troops. In Beichuan County, 80% of the buildings collapsed according to Xinhua News. In the city of Shifang, the collapse of two chemical plants led to leakage of some 80 tons of liquid ammonia, with hundreds of people reported buried. In the city of Dujiangyan, south-east of the epicenter, a whole school collapsed with 900 students buried and fewer than 60 survived. The Juyuan Middle School, where many teenagers were buried, was excavated by civilians and cranes. Dujiangyan is home of the Dujiangyan Irrigation System, an ancient water diversion project which is still in use and is a UNESCO World Heritage Site. The project\\'s famous Fish Mouth was cracked but not severely damaged otherwise.Both the Shanghai Stock Exchange and the Shenzhen Stock Exchange suspended trading of companies based in southwestern China. Copper rose over speculations that production in southwestern China may be affected, and oil prices dropped over speculations that demand from China would fall.Immediately after the earthquake event, mobile and terrestrial telecommunications were cut to the affected and surrounding area, with all internet capabilities cut to the Sichuan area too. Elements of telecommunications were restored by the government piece by piece over the next number of months as the situation in the Sichuan province gradually improved. Eventually, a handful of major news and media websites were made accessible online in the region, albeit with dramatically pared back webpages.China Mobile had more than 2,300 base stations suspended due to power disruption or severe telecommunication traffic congestion. Half of the wireless communications were lost in the Sichuan province. China Unicom\\'s service in Wenchuan and four nearby counties was cut off, with more than 700 towers suspended.Initially, officials were unable to contact the Wolong National Nature Reserve, home to around 280 giant pandas. However, the Foreign Ministry later said that a group of 31 British tourists visiting the Wolong Panda Reserve in the quake-hit area returned safe and uninjured to Chengdu. Nonetheless, the well-being of an even greater number of pandas in the neighbouring panda reserves remained unknown. Five security guards at the reserve were killed by the earthquake. Six pandas escaped after their enclosures were damaged. By May 20, two pandas at the reserve were found to be injured, while the search continued for another two adult pandas that went missing after the quake. By May 28, 2008, one panda was still missing. The missing panda was later found dead under the rubble of an enclosure. Nine-year-old Mao Mao, a mother of five at the breeding center, was discovered on Monday, her body crushed by a wall in her enclosure. Panda keepers and other workers placed her remains in a small wooden crate and buried her outside the breeding centre.The Zipingpu Hydropower Plant (simplified Chinese: 紫坪铺水库; traditional Chinese: 紫坪鋪水庫) located 20 km east of the epicenter was damaged. A recent inspection indicated that the damage was less severe than initially feared, and it remains structurally stable and safe. The Tulong reservoir upstream is in danger of collapse. About 2,000 troops have been allocated to Zipingpu, trying to release the pressure through spillway. In total, 391 dams, most of them small, were reported damaged by the quake.According to Chinese state officials, the quake caused 69,180 known deaths including 68,636 in Sichuan province; 18,498 people are listed as missing, and 374,176 injured, but these figures may further increase as more reports come in.[dated info] This estimate includes 158 earthquake relief workers who were killed in landslides as they tried to repair roads.One rescue team reported only 2,300 survivors from the town of Yingxiu in Wenchuan County, out of a total population of about 9,000. 3,000 to 5,000 people were killed in Beichuan County, Sichuan alone; in the same location, 10,000 people were injured and 80% of the buildings were destroyed. The old county seat of Beichuan was abandoned and preserved as part of the Beichuan Earthquake Museum. Eight schools were toppled in Dujiangyan. A 56-year-old was killed in Dujiangyan during a rescue attempt on the Lingyanshan Ropeway, where due to the earthquake 11 tourists from Taiwan had been trapped inside cable cars since May 13. A 4-year-old boy named Zhu Shaowei (traditional Chinese: 朱紹維; simplified Chinese: 朱绍维; pinyin: Zhū Shàowéi) was also killed in Mianzhu City when a house collapsed on him and another was reported missing.Experts point out that the earthquake hit an area that has been largely neglected and untouched by China\\'s economic rise. Health care is poor in inland areas such as Sichuan, highlighting the widening gap between prosperous urban dwellers and struggling rural people. Vice Minister of Health Gao Qiang told reporters in Beijing that the \"public health care system in China is insufficient.\" The Vice Minister of Health also suggested that the government would pick up the costs of care to earthquake victims, many of whom have little or no insurance: \"The government should be responsible for providing medical treatment to them,\" he said.In terms of school casualties, thousands of school children died due to shoddy construction. In Mianyang City, seven schools collapsed, burying at least 1,700 people. At least 7,000 school buildings throughout the province collapsed. Another 700 students were buried in a school in Hanwang. At least 600 students and staff died at Juyuan Elementary School. Up to 1,300 children and teachers died at Beichuan Middle School.Details of school casualties had been under non-governmental investigation since December 2008 by volunteers including artist and architect Ai Weiwei, who had been constantly posting updates on his blog since March 2009. The official tally of students killed in the earthquake was not released until May 7, 2009, almost a year after the earthquake. According to the state-run Xinhua news agency, the earthquake killed 5,335 students and left another 546 children disabled. In the aftermath of the earthquake, the Chinese government declared that parents who had lost their only children would get free treatment from fertility clinics to reverse vasectomies and tubal ligations conducted by family planning authorities.The earthquake left at least 5 million people without housing, although the number could be as high as 11 million. Millions of livestock and a significant amount of agriculture were also destroyed, including 12.5 million animals, mainly birds. In the Sichuan province a million pigs died out of 60 million total. Catastrophe modeling firm AIR Worldwide reported official estimates of insurers\\' losses at US$1 billion from the earthquake; estimated total damages exceed US$20 billion. It values Chengdu, at the time having an urban population of 4.5 million people, at around US$115 billion, with only a small portion covered by insurance.Reginald DesRoches, a professor of civil and environmental engineering at Georgia Tech, pointed out that the massive damage of properties and houses in the earthquake area was because China did not create an adequate seismic design code until after the devastating 1976 Tangshan earthquake. DesRoches said: \"If the buildings were older and built prior to that 1976 earthquake, chances are they weren\\'t built for adequate earthquake forces.\"In the days following the disaster, an international reconnaissance team of engineers was dispatched to the region to make a detailed preliminary survey of damaged buildings. Their findings show a variety of reasons why many constructions failed to withstand the earthquake.News reports indicate that the poorer, rural villages were hardest hit. Swaminathan Krishnan, assistant professor of civil engineering and geophysics at the California Institute of Technology said: \"the earthquake occurred in the rural part of China. Presumably, many of the buildings were just built; they were not designed, so to speak.\" Swaminathan Krishnan further added: \"There are very strong building codes in China, which take care of earthquake issues and seismic design issues. But many of these buildings presumably were quite old and probably were not built with any regulations overseeing them.\"Even with the five largest cities in Sichuan suffering only minor damage from the quake, some estimates of the economic loss run higher than US$75 billion, making the earthquake one of the costliest natural disasters in Chinese history.Strong aftershocks continued to strike even months after the main quake. On May 25, an aftershock of 6.0 Mw (6.4 Ms according to CEA) hit northeast of the original earthquake\\'s epicenter, in Qingchuan County, Sichuan, causing eight deaths, 1000 injuries, and destroying thousands of buildings. On May 27, two aftershocks, one 5.2 Mw in Qingchuan County and one 5.7 Mw in Ningqiang County, Shaanxi, led to the collapse of more than 420,000 homes and injured 63 people. The same area suffered two more aftershocks of 5.6 and 6.0 Ms (5.8 and 5.5 Mw, respectively, according to USGS) on July 23, resulting in 1 death, 6 serious injuries, collapse of hundreds of homes and damaging kilometers of highways. Pingwu County and Beichuan County, Sichuan, also northeast of Wenchuan and close to the epicenter of a 7.2 Ms earthquake in 1976, suffered a 6.1 Ms aftershock (5.7 Mw according to USGS) on August 1; it caused 2 deaths, 345 injuries, collapse of 707 homes, damages to over 1,000 homes, and blocked 25 kilometres (16 mi) of country roads. As late as August 5, yet another aftershock of 6.1 Ms (6.2 Mw according to USGS) hit Qingchuan, Sichuan, causing 1 death, 32 injuries, telecommunication interruptions, and widespread hill slides blocking roads in the area including a national highway.Executive vice governor Wei Hong confirmed on November 21, 2008 that more than 90,000 people in total were dead or missing in the earthquake. He stated that 200,000 homes had been rebuilt, and 685,000 were under reconstruction, but 1.94 million households were still without permanent shelter. 1,300 schools had been reconstructed, with initial relocation of 25 townships, including Beichuan and Wenchuan, two of the most devastated areas. The government spent $441 billion on relief and reconstruction efforts.General Secretary and President Hu Jintao announced that the disaster response would be rapid. Just 90 minutes after the earthquake, Premier Wen Jiabao, who has an academic background in geomechanics, flew to the earthquake area to oversee the rescue work. Soon afterward, the Ministry of Health said that it had sent ten emergency medical teams to Wenchuan County. On the same day, the Chengdu Military Region Command dispatched 50,000 troops and armed police to help with disaster relief work in Wenchuan County. However, due to the rough terrain and close proximity of the quake\\'s epicenter, the soldiers found it very difficult to get help to the rural regions of the province.The National Disaster Relief Commission initiated a \"Level II emergency contingency plan\", which covers the most serious class of natural disasters. The plan rose to Level I at 22:15 CST, May 12.An earthquake emergency relief team of 184 people (consisting of 12 people from the State Seismological Bureau, 150 from the Beijing Military Area Command, and 22 from the Armed Police General Hospital) left Beijing from Nanyuan Airport late May 12 in two military transport planes to travel to Wenchuan County.In the China Digital Times an article reports a close analysis by an alleged Chinese construction engineer known online as “Book Blade” (书剑子), who stated:On Children\\'s Day, June 1, 2008, many parents went to the rubble of schools to mourn for their children. The surviving children, who were mostly living in relief centres, performed ceremonies marking the special day, but also acknowledging the earthquake.Central State-owned enterprises have accumulatively donated more than $48.6 million. China National Petroleum Corp and Sinopec donated 10 million yuan each to the disaster area.On May 16 China stated it had also received $457 million in donated money and goods for rescue efforts so far, including $83 million from 19 countries and four international organizations. Saudi Arabia was the largest aid donor to China, providing close to €40,000,000 in financial assistance, and an additional €8,000,000 worth of relief materials.In 2008, State Council established a counterpart support plan (《汶川地震灾后恢复重建对口支援方案》). The plan is to arrange 19 eastern and central province and municipalitie to help 18 counties, on \"one province to one affected county\" basis. The plan spanned 3 years, and cost no less than one percent of the province or municipality\\'s budget.An article in Science suggested that the construction and filling of the Zipingpu Dam may have triggered the earthquake. The chief engineer of the Sichuan Geology and Mineral Bureau said that the sudden shift of a huge quantity of water into the region could have relaxed the tension between the two sides of the fault, allowing them to move apart, and could have increased the direct pressure on it, causing a violent rupture. The effect was \"25 times more\" than a year\\'s worth of natural stress from tectonic movement. The government had disregarded warnings about so many large-scale dam projects in a seismically active area. Researchers have been denied access to seismological and geological data to examine the cause of the quake further.The earthquake also provided opportunities for researchers to retrofit data in order to model future earthquake predictions. Using data from the Intermagnet Lanzhou geomagnetic observatory, geologists Lazo Pekevski from the Ss. Cyril and Methodius University of Skopje in Macedonia and Strachimir Mavrodiev from the Bulgarian Academy of Sciences attempted to establish a \"time prediction method\" through collecting statistics on geomagnetism with tidal gravitational potential. Using this method, they were said to have predicted the time of the 2008 Sichuan earthquake with an accuracy of ±1 day. The same study, however, acknowledges the limitation of earthquake prediction models, and does not mention that the location of the quake could be accurately predicted.In a press conference held by the State Council Information Office the day after the earthquake, geologist Zhang Xiaodong, deputy director of CEA\\'s Seismic Monitoring Network Center, restated that earthquake prediction was a global issue, in the sense that no proven methods exist, and that no prediction notification was received before the earthquake. Seismologist Gary Gibson of Monash University in Australia told Deutsche Presse-Agentur that he also did not see anything that could be regarded as having \\'predicted\\' the earthquake\\'s occurrence.In 2002, Chinese geologist Chen Xuezhong published a Seismic Risk Analysis study in which he came to the conclusion that beginning with 2003, attention should be paid to the possibility of an earthquake with a magnitude of over 7.0 occurring in Sichuan region. He based his study on statistical correlation. That Sichuan is a seismically active area has been discussed for years prior to the quake, though few studies point to a specific date and time.The earthquake was the worst to strike the Sichuan area in over 30 years. Following the quake, experts and the general public sought information on whether or not the earthquake could have been predicted in advance, and whether or not studying statistics related to the quake could result in better prediction of earthquakes in the future. Earthquake prediction is not yet established science; there was no consensus within the scientific community that earthquake \"prediction\" is possible.Many rescue teams, including that of the Taipei Fire Department from Taiwan, were reported ready to join the rescue effort in Sichuan as early as Wednesday. However, the Red Cross Society of China said that (on May 13) \"it was inconvenient currently due to the traffic problem to the hardest hit areas closest to the epicenter.\" The Red Cross Society of China also stated that the disaster areas need tents, medical supplies, drinking water and food; however it recommended donating cash instead of other items, as it had not been possible to reach roads that were completely damaged or places that were blocked off by landslides. Landslides continuously threatened the progress of a search and rescue group of 80 men, each carrying about 40 kg of relief supplies, from a motorized infantry brigade under commander Yang Wenyao, as they tried to reach the ethnically Tibetan village of Sier at a height of 4000 m above sea level in Pingwu county. The extreme terrain conditions precluded the use of helicopter evacuation, and over 300 of the Tibetan villagers were stranded in their demolished village for five days without food and water before the rescue group finally arrived to help the injured and stranded villagers down the mountain.Persistent heavy rain and landslides in Wenchuan County and the nearby area badly affected rescue efforts. At the start of rescue operations on May 12, 20 helicopters were deployed for the delivery of food, water, and emergency aid, and also the evacuation of the injured and reconnaissance of quake-stricken areas. By 17:37 CST on May 13, a total of over 15,600 troops and militia reservists from the Chengdu Military Region had joined the rescue force in the heavily affected areas. A commander reported from Yingxiu Town, Wenchuan, that around 3,000 survivors were found, while the status of the other inhabitants (around 9,000) remained unclear. The 1,300 rescuers reached the epicenter, and 300 pioneer troops reached the seat of Wenchuan at about 23:30 CST. By 12:17 CST, May 14, 2008, communication in the seat of Wenchuan was partly revived. On the afternoon of May 14, 15 Special Operations Troops, along with relief supplies and communications gear, parachuted into inaccessible Mao County, northeast of Wenchuan.By May 15, Premier Wen Jiabao ordered the deployment of an additional 90 helicopters, of which 60 were to be provided by the PLAAF, and 30 were to be provided by the civil aviation industry, bringing the total of number of aircraft deployed in relief operations by the air force, army, and civil aviation to over 150, resulting in the largest non-combat airlifting operation in People\\'s Liberation Army history.Beijing accepted the aid of the Tzu Chi Foundation from Taiwan late on May 13. Tzu Chi was the first force from outside the People\\'s Republic of China to join the rescue effort. China stated it would gratefully accept international help to cope with the quake.A direct chartered cargo flight was made by China Airlines from Taiwan Taoyuan International Airport to Chengdu Shuangliu International Airport sending some 100 tons of relief supplies donated by the Tzu Chi Foundation and the Red Cross Society of Taiwan to the affected areas. Approval from mainland Chinese authorities was sought, and the chartered flight departed Taipei at 17:00 CST, May 15 and arrived in Chengdu by 20:30 CST. A rescue team from the Red Cross in Taiwan was also scheduled to depart Taipei on a Mandarin Airlines direct chartered flight to Chengdu at 15:00 CST on May 16.On May 16, rescue groups from South Korea, Japan, Singapore, Russia and Taiwan arrived to join the rescue effort. The United States shared some of its satellite images of the quake-stricken areas with Chinese authorities. During the weekend, the US sent into China two U.S. Air Force C-17\\'s carrying supplies, which included tents and generators. Xinhua reported 135,000 Chinese troops and medics were involved in the rescue effort across 58 counties and cities.The Internet was extensively used for passing information to aid rescue and recovery efforts. For example, the official news agency Xinhua set up an online rescue request center in order to find the blind spots of disaster recovery. After knowing that rescue helicopters had trouble landing into the epicenter area in Wenchuan, a student proposed a landing spot online and it was chosen as the first touchdown place for the helicopters[not in citation given]. Volunteers also set up several websites to help store contact information for victims and evacuees. On May 31, a rescue helicopter carrying earthquake survivors and crew members crashed in fog and turbulence in Wenchuan county. No-one survived.On May 12, 2009, China marked the first anniversary of the quake with a moment of silence as people across the nation remembered the dead. The government also opened access to the sealed ruins of the Beichuan county seat for three days, after which it will be frozen in time as a state earthquake relic museum, to remind people of the terrible disaster. There were also several concerts across the country to raise money for the survivors of the quake.Following the earthquake, donations were made by people from all over mainland China, with booths set up in schools, at banks, and around gas stations. People also donated blood, resulting in according to Xinhua long line-ups in most major Chinese cities. Many donated through text messaging on mobile phones to accounts set up by China Unicom and China Mobile By May 16, the Chinese government had allocated a total of $772 million for earthquake relief so far, up sharply from $159 million from May 14.The Red Cross Society of China flew 557 tents and 2,500 quilts valued at 788,000 yuan (US$113,000) to Wenchuan County. The Amity Foundation already began relief work in the region and has earmarked US$143,000 for disaster relief. The Sichuan Ministry of Civil Affairs said that they have provided 30,000 tents for those left homeless.The central government estimates that over 7,000 inadequately engineered schoolrooms collapsed in the earthquake. Chinese citizens have since invented a catch phrase: \"tofu-dregs schoolhouses\" (Chinese: 豆腐渣校舍), to mock both the quality and the quantity of these inferior constructions that killed so many school children. Due to the one-child policy, many families lost their only child when schools in the region collapsed during the earthquake. Consequently, Sichuan provincial and local officials have lifted the restriction for families whose only child was either killed or severely injured in the disaster. So-called \"illegal children\" under 18 years of age may be registered as legal replacements for their dead siblings; if the dead child was illegal, no further outstanding fines would apply. Reimbursement would not, however, be offered for fines that were already levied.On the evening of May 18, CCTV-1 hosted a special four-hour program called The Giving of Love (simplified Chinese: 爱的奉献; traditional Chinese: 愛的奉獻), hosted by regulars from the CCTV New Year\\'s Gala and round-the-clock coverage anchor Bai Yansong. It was attended by a wide range of entertainment, literary, business and political figures from mainland China, Hong Kong, Singapore and Taiwan. Donations of the evening totalled 1.5 billion Chinese Yuan (~US$208 million). Of the donations, CCTV gave the biggest corporate contribution at ¥50 million. Almost at the same time in Taiwan, a similarly themed programme was on air hosted by the sitting president Ma Ying-jeou. In June, Hong Kong actor Jackie Chan, who donated $1.57 million to the victims, made a music video alongside other artists entitled \"Promise\"; the song was composed by Andy Lau. The Artistes 512 Fund Raising Campaign, an 8-hour fundraising marathon, was held on June 1 in Hong Kong; it was attended by some 200 Sinosphere musicians and celebrities. In Singapore, MediaCorp Channel 8 hosted a \\'live\\' programme 让爱川流不息 to raise funds for the victims.Rescue efforts performed by the Chinese government were praised by western media, especially in comparison with Myanmar\\'s blockage of foreign aid during Cyclone Nargis, as well as China\\'s previous performance during the 1976 Tangshan earthquake. China\\'s openness during the media coverage of the Sichuan earthquake led a professor at the Peking University to say, “This is the first time [that] the Chinese media has lived up to international standards”. Los Angeles Times praised China\\'s media coverage of the quake of being \"democratic\".As a result of the magnitude 7.9 earthquake and the many strong aftershocks, many rivers became blocked by large landslides, which resulted in the formation of \"quake lakes\" behind the blockages; these massive amounts of water were pooling up at a very high rate behind the natural landslide dams and it was feared that the blockages would eventually crumble under the weight of the ever-increasing water mass, potentially endangering the lives of millions of people living downstream. As of May 27, 2008, 34 lakes had formed due to earthquake debris blocking and damming rivers, and it was estimated that 28 of them were still of potential danger to the local people. Entire villages had to be evacuated because of the resultant flooding.The most precarious of these quake-lakes was the one located in the extremely difficult terrain at Mount Tangjia in Beichuan County, Sichuan, accessible only by foot or air; an Mi-26T heavy lift helicopter belonging to the China Flying Dragon Special Aviation Company was used to bring heavy earthmoving tractors to the affected location. This operation was coupled with the work done by PLAAF Mi-17 helicopters bringing in PLA engineering corps, explosive specialists and other personnel to join 1,200 soldiers who arrived on site by foot. Five tons of fuel to operate the machinery was airlifted to the site, where a sluice was constructed to allow the safe discharge of the bottlenecked water. Downstream, more than 200,000 people were evacuated from Mianyang by June 1 in anticipation of the dam bursting.The State Council declared a three-day period of national mourning for the quake victims starting from May 19, 2008; the PRC\\'s National Flag and Regional Flags of Hong Kong and Macau Special Administrative Regions flown at half mast. It was the first time that a national mourning period had been declared for something other than the death of a state leader, and many have called it the biggest display of mourning since the death of Mao Zedong. At 14:28 CST on May 19, 2008, a week after the earthquake, the Chinese public held a moment of silence. People stood silent for three minutes while air defense, police and fire sirens, and the horns of vehicles, vessels and trains sounded. Cars and trucks on Beijing\\'s roads also came to a halt. People spontaneously burst into cheering \"Zhongguo jiayou!\" (Let\\'s go, China!) and \"Sichuan jiayou\" (Let\\'s go, Sichuan!) afterwards.The Ningbo Organizing Committee of the Beijing Olympic torch relay announced that the relay, scheduled to take place in Ningbo during national morning, would be suspended for the duration of the mourning period. The route of the torch through the country was scaled down, and there was a minute of silence when the next leg started in city of Ruijin, Jiangxi on the Wednesday after the quake.Many websites converted their home page to black and white; Sina.com and Sohu, major internet portals, limited their homepages to news items and removed all advertisements. Chinese video sharing websites Youku and Tudou displayed a black background and placed multiple videos showing earthquake footage and news reports. The Chinese version of MSN, cn.msn.com, also displayed banner ads about the earthquake and the relief efforts. Other entertainment websites, including various gaming sites, such as the Chinese servers for World of Warcraft, had shut down altogether, or had corresponding links to earthquake donations. After the moments of silence, in Tiananmen Square, crowds spontaneously burst out cheering various slogans, including \"Long Live China\". Casinos in Macau closed down.Ye Zhiping, the principal of Sangzao Middle School in Sangzao, one of the largest in An County, has been credited with proactive action that spared the lives of all 2,323 pupils in attendance when the earthquake happened. During a three-year period that ended in 2007, he oversaw a major overhaul of his school. During that time he obtained more than 400,000 yuan (US$60,000) from the county education department, money used to widen and strengthen concrete pillars and the balcony railing of all four storeys of his school, as well as secure its concrete floors.However, Reuters reported in June that, to date, Chinese prosecutors have joined an official inquiry into ten collapsed schools during May\\'s devastating earthquake to gain first-hand material of construction quality at the collapsed schools, launch preliminary inquiries and prepare for possible investigations into professional crime. It was also reported that safety checks were to be carried out at schools across China after last month\\'s earthquake.The New York Times reported that \"government officials in Beijing and Sichuan have said they are investigating the collapses. In an acknowledgment of the weakness of building codes in the countryside, the National Development and Reform Commission said on May 27 that it had drafted an amendment to improve construction standards for primary and middle schools in rural areas. Experts are reviewing the draft, the commission said.\" To limit protests, officials pushed parents to sign a document, which forbade them from holding protests, in exchange of money, but some who refused to sign were threatened. The payment amounts varied from school to school but were approximately the same. In Hanwang, parents were offered a package valued at 8,800 USD in cash and a per-parent pension of nearly 5,600 USD. Furthermore, officials used other methods of silencing: riot police officers broke up protests by parents; the authorities set up cordons around the schools; and officials ordered the Chinese news media to stop reporting on school collapses.Besides parents, Liu Shaokun (刘绍坤), a Sichuan school teacher, was detained on June 25, 2008 for \"disseminating rumors and destroying social order\" about the Sichuan earthquake. Liu’s family was later told that he was being investigated on suspicion of the crime of inciting subversion. Liu had travelled to the Shifang, taken photos of collapsed school buildings, and put them online. He had also expressed his anger at “the shoddy tofu-dregs buildings” (豆腐渣工程) in a media interview. He was ordered to serve one year of re-education through labor (RTL). According to the organization Human Rights in China, Liu has been released to serve his RTL sentence outside of the labor camp.In January 2010, Hong Kong-based English newspaper The Standard reported that writer Tan Zuoren attempted to document shoddy construction that may have led to massive casualties in schools, was sentenced to in prison ostensibly for his writing an article in 2007 in support of the pro-democracy movement in 1989.Because of the magnitude of the quake, and the media attention on China, foreign nations and organizations immediately responded to the disaster by offering condolences and assistance. On May 14, UNICEF reported that China formally requested the support of the international community to respond to the needs of affected families.By May 14, the Ministry of Civil Affairs stated that 10.7 billion yuan (approximately US$1.5 billion) had been donated by the Chinese public. Houston Rockets center Yao Ming, one of the country\\'s most popular sports icons, gave $214,000 and $71,000 to the Red Cross Society of China. The association has also collected a total of $26 million in donations so far. Other multinational firms located in China have also announced large amounts of donations.Francis Marcus of the International Federation of the Red Cross praised the Chinese rescue effort as \"swift and very efficient\" in Beijing on Tuesday. But he added the scale of the disaster was such that \"we can\\'t expect that the government can do everything and handle every aspect of the needs\". The Economist noted that China reacted to the disaster \"rapidly and with uncharacteristic openness\", contrasting it with Burma\\'s secretive response to Cyclone Nargis, which devastated that country 10 days before the earthquake.All Mainland Chinese television stations (along with some stations in Hong Kong and expatriate communities) cancelled all regularly-scheduled programming, displayed their logo in grayscale, and replaced their cancelled programmes with live earthquake footage from CCTV-1 for multiple days after the quake. Even pay television channels (such as Channel V) had their programmes suspended.Although the Chinese government was initially praised for its response to the quake (especially in comparison to Myanmar\\'s ruling military junta\\'s blockade of aid during Cyclone Nargis), it then saw an erosion in confidence over the school construction scandal.On May 29, 2008, government officials began inspecting the ruins of thousands of schools that collapsed, searching for clues about why they crumbled. Thousands of parents around the province have accused local officials and builders of cutting corners in school construction, citing that after the quake other nearby buildings were little damaged. In the aftermath of the quake, many local governments promised to formally investigate the school collapses, but as of July 17, 2008 across Sichuan, parents of children lost in collapsed schools complained they had yet to receive any reports. Local officials urged them not to protest but the parents demonstrated and demanded an investigation. Furthermore, censors discouraged stories of poorly built schools from being published in the media and there was an incident where police drove the protestors away.The AP reported that \"The state-controlled media has largely ignored the issue, apparently under the propaganda bureau\\'s instructions. Parents and volunteers who have questioned authorities have been detained and threatened.\"On May 15, 2008 Geoffery York of the Globeandmail.com reported that the shoddily constructed buildings are commonly called \"tofu buildings\" because builders cut corners by replacing steel rods with thin iron wires for concrete re-inforcement; using inferior grade cement, if any at all; and using fewer bricks than they should. One local was quoted in the article as saying that \"the supervising agencies did not check to see if it met the national standards.\"However questions still remain, as some of the corrupt government officials have still not been brought to justice, while the many families who lost their only child, are still seeking compensation and justice to what had happened. According to the Times, many parents were warned by the government not to stage a protest under the threat of arrest.'"
      ]
     },
     "execution_count": 27,
     "metadata": {},
     "output_type": "execute_result"
    }
   ],
   "source": [
    "df_squad_train_new[df_squad_train_new['title']=='2008_Sichuan_earthquake'].context.sum()"
   ]
  },
  {
   "cell_type": "code",
   "execution_count": 28,
   "metadata": {
    "collapsed": false,
    "deletable": true,
    "editable": true
   },
   "outputs": [],
   "source": [
    "doc_data = []\n",
    "for i in doc_labels:\n",
    "    doc_data.append(df_squad_train_new[df_squad_train_new['title']==i].context.sum())"
   ]
  },
  {
   "cell_type": "code",
   "execution_count": 29,
   "metadata": {
    "collapsed": false,
    "deletable": true,
    "editable": true
   },
   "outputs": [
    {
     "data": {
      "text/plain": [
       "442"
      ]
     },
     "execution_count": 29,
     "metadata": {},
     "output_type": "execute_result"
    }
   ],
   "source": [
    "len(doc_data)"
   ]
  },
  {
   "cell_type": "code",
   "execution_count": 30,
   "metadata": {
    "collapsed": true,
    "deletable": true,
    "editable": true
   },
   "outputs": [],
   "source": [
    "# DocIterator is a class which yields the labeled set of document separated by words\n",
    "class DocIterator(object):\n",
    "    \n",
    "    def __init__(self, doc_list, labels_list):\n",
    "        self.labels_list = labels_list\n",
    "        self.doc_list = doc_list\n",
    "        \n",
    "    def __iter__(self):\n",
    "        for idx, doc in enumerate(self.doc_list):\n",
    "            yield doc2vec.LabeledSentence(words=doc.split(),tags=[self.labels_list[idx]])"
   ]
  },
  {
   "cell_type": "code",
   "execution_count": 31,
   "metadata": {
    "collapsed": false,
    "deletable": true,
    "editable": true
   },
   "outputs": [],
   "source": [
    "# getting the iterated documents and this iter documents consists of two simple lists(list of words and list of labels)\n",
    "iter_docs = DocIterator(doc_data, doc_labels)"
   ]
  },
  {
   "cell_type": "code",
   "execution_count": 32,
   "metadata": {
    "collapsed": false,
    "deletable": true,
    "editable": true
   },
   "outputs": [
    {
     "data": {
      "text/plain": [
       "__main__.DocIterator"
      ]
     },
     "execution_count": 32,
     "metadata": {},
     "output_type": "execute_result"
    }
   ],
   "source": [
    "type(iter_docs)"
   ]
  },
  {
   "cell_type": "code",
   "execution_count": 29,
   "metadata": {
    "collapsed": false,
    "deletable": true,
    "editable": true
   },
   "outputs": [],
   "source": [
    "model = doc2vec.Doc2Vec(documents=iter_docs,size=500, window=10, min_count=1, workers=11,alpha=0.025, min_alpha=0.025) # use fixed learning rate"
   ]
  },
  {
   "cell_type": "code",
   "execution_count": 30,
   "metadata": {
    "collapsed": false,
    "deletable": true,
    "editable": true
   },
   "outputs": [
    {
     "data": {
      "text/plain": [
       "[('Predation', 0.9089356064796448),\n",
       " ('Mammal', 0.9032152891159058),\n",
       " ('Clothing', 0.8979605436325073),\n",
       " ('Sexual_orientation', 0.8824354410171509),\n",
       " ('Asthma', 0.8785061836242676),\n",
       " ('Nutrition', 0.8689378499984741),\n",
       " ('Bird', 0.8688399195671082),\n",
       " ('Immunology', 0.8676098585128784),\n",
       " ('Infection', 0.8650223016738892),\n",
       " ('Pain', 0.8639243245124817)]"
      ]
     },
     "execution_count": 30,
     "metadata": {},
     "output_type": "execute_result"
    }
   ],
   "source": [
    "model.docvecs.most_similar(['Dog'])"
   ]
  },
  {
   "cell_type": "code",
   "execution_count": 31,
   "metadata": {
    "collapsed": true,
    "deletable": true,
    "editable": true
   },
   "outputs": [],
   "source": [
    "query = 'To whom did the Virgin Mary allegedly appear in 1858 in Lourdes France?'"
   ]
  },
  {
   "cell_type": "code",
   "execution_count": 32,
   "metadata": {
    "collapsed": true,
    "deletable": true,
    "editable": true
   },
   "outputs": [],
   "source": [
    "from nltk.tokenize import word_tokenize"
   ]
  },
  {
   "cell_type": "code",
   "execution_count": 33,
   "metadata": {
    "collapsed": true,
    "deletable": true,
    "editable": true
   },
   "outputs": [],
   "source": [
    "test_words = word_tokenize(query)"
   ]
  },
  {
   "cell_type": "code",
   "execution_count": 34,
   "metadata": {
    "collapsed": false,
    "deletable": true,
    "editable": true
   },
   "outputs": [],
   "source": [
    "new_doc_vec = model.infer_vector(test_words)"
   ]
  },
  {
   "cell_type": "code",
   "execution_count": 35,
   "metadata": {
    "collapsed": false,
    "deletable": true,
    "editable": true
   },
   "outputs": [
    {
     "data": {
      "text/plain": [
       "array([ -3.85934450e-02,  -4.19880003e-02,  -6.78244093e-03,\n",
       "        -1.78211257e-02,  -2.06747893e-02,  -1.27542531e-02,\n",
       "        -5.48308827e-02,   1.80494431e-02,  -2.86218654e-02,\n",
       "         4.14801575e-02,   2.02486049e-02,   1.05772642e-02,\n",
       "         9.61934961e-03,  -1.03572672e-02,   1.63555183e-02,\n",
       "         1.12591553e-02,  -5.00448160e-02,   2.66569725e-04,\n",
       "         1.11127393e-02,  -5.77856973e-02,   2.10598968e-02,\n",
       "        -1.43226739e-02,   4.25462164e-02,   6.93476386e-03,\n",
       "        -2.31826808e-02,   9.30795912e-04,  -2.19969433e-02,\n",
       "         5.98635636e-02,   1.89549271e-02,   5.84820099e-02,\n",
       "         2.28101537e-02,   1.70637481e-02,   4.51540900e-03,\n",
       "        -1.52582433e-02,  -2.92836931e-02,   4.88779508e-02,\n",
       "        -1.54226599e-02,  -6.79788589e-02,  -2.36718217e-03,\n",
       "         2.93902550e-02,  -2.19621304e-02,  -1.39990766e-02,\n",
       "         1.28445588e-02,  -8.92769545e-03,  -1.98267959e-02,\n",
       "         1.84232146e-02,  -2.70263217e-02,  -1.31391436e-02,\n",
       "        -2.00660359e-02,   3.04526761e-02,   5.66582242e-03,\n",
       "        -2.44036708e-02,  -1.09364437e-02,  -1.56755149e-02,\n",
       "        -2.25704387e-02,  -7.38671096e-03,   2.26728432e-02,\n",
       "         4.93544433e-03,  -1.81421600e-02,  -1.64715908e-02,\n",
       "         5.01342118e-02,   5.25325313e-02,  -7.41039822e-03,\n",
       "        -2.69897841e-03,   7.98994303e-03,   2.70547476e-02,\n",
       "        -1.35195497e-02,   1.43043548e-02,   5.80130098e-03,\n",
       "         4.13631201e-02,   2.33040340e-02,  -5.19630909e-02,\n",
       "        -7.18499869e-02,   6.36896417e-02,  -3.78183797e-02,\n",
       "         1.09583596e-02,  -2.00811662e-02,  -4.45129760e-02,\n",
       "         1.84643026e-02,  -4.56606671e-02,   3.45043093e-02,\n",
       "        -6.15403662e-03,  -3.91969411e-03,   1.36968177e-02,\n",
       "        -3.66555690e-03,   1.94220524e-02,  -9.06269811e-03,\n",
       "         6.39650170e-05,   4.38566655e-02,  -4.09286618e-02,\n",
       "         1.81005802e-02,   1.23437410e-02,   2.99363807e-02,\n",
       "        -3.76651343e-03,  -3.73998471e-02,  -9.68597457e-03,\n",
       "         1.44845508e-02,  -2.59427764e-02,  -3.55703942e-02,\n",
       "        -1.51000572e-02,  -4.27215733e-02,  -2.52869055e-02,\n",
       "        -3.37739028e-02,   6.86086947e-04,   9.23254900e-03,\n",
       "         5.47873648e-03,  -7.52976537e-02,   1.12426355e-01,\n",
       "        -1.21384654e-02,  -4.74533923e-02,   2.08703335e-02,\n",
       "        -3.13584842e-02,  -4.36598845e-02,  -5.14283851e-02,\n",
       "         1.30135566e-02,   1.06615173e-02,  -7.56835472e-03,\n",
       "        -4.93597565e-03,   5.85433170e-02,  -1.49529316e-02,\n",
       "        -5.20966854e-03,  -1.36481626e-02,  -3.32746021e-02,\n",
       "        -2.55838335e-02,   8.03610124e-03,   4.96757356e-03,\n",
       "         2.59632468e-02,   4.66709249e-02,   2.15016622e-02,\n",
       "        -2.62926444e-02,  -9.03285388e-03,  -2.13072821e-02,\n",
       "         1.54453395e-02,  -4.43008915e-02,  -3.38916155e-03,\n",
       "        -4.92226481e-02,   6.08602585e-03,  -1.14886807e-02,\n",
       "         3.90282795e-02,  -2.73243953e-02,   8.44840799e-03,\n",
       "         5.66746034e-02,   1.58409271e-02,  -1.80032133e-04,\n",
       "        -2.36497633e-02,   3.94537821e-02,   1.98137760e-02,\n",
       "        -4.18594889e-02,  -2.08639149e-02,   1.00573292e-03,\n",
       "         2.56674699e-02,   2.43699886e-02,  -4.03917348e-03,\n",
       "        -1.79398488e-02,   2.04867162e-02,   4.02360894e-02,\n",
       "         2.51521124e-03,   6.75274134e-02,   2.68922839e-02,\n",
       "         2.58336961e-02,   5.35649545e-02,  -4.07767072e-02,\n",
       "        -3.68750021e-02,   2.75682732e-02,  -2.37974524e-02,\n",
       "         3.07523855e-03,   1.27077149e-02,   3.83593999e-02,\n",
       "         4.68758168e-03,   3.18185799e-02,  -1.56212961e-02,\n",
       "         1.22730043e-02,   2.77487878e-02,  -1.73519216e-02,\n",
       "         5.64116612e-03,   1.21811242e-03,  -7.76309567e-03,\n",
       "        -4.45938557e-02,   1.24615869e-02,  -6.87710121e-02,\n",
       "        -6.51990846e-02,  -1.12799294e-02,  -3.53781134e-02,\n",
       "         4.08204123e-02,  -1.26970457e-02,   4.38006455e-03,\n",
       "        -8.02613329e-03,  -1.51922298e-03,   2.73286831e-02,\n",
       "        -9.27231554e-03,  -1.28085855e-02,  -2.23782677e-02,\n",
       "         1.86702386e-02,  -2.88056266e-02,  -2.18127109e-02,\n",
       "        -6.51570186e-02,   4.82554324e-02,  -9.01545957e-02,\n",
       "        -2.05097031e-02,  -3.06618959e-02,  -2.34198831e-02,\n",
       "        -1.37436632e-02,  -1.96084231e-02,   2.31297221e-02,\n",
       "         1.21825784e-02,  -2.09845230e-02,  -2.05917377e-02,\n",
       "         9.23131499e-03,  -2.55482993e-03,  -1.54544869e-02,\n",
       "        -4.03572712e-03,  -2.02087667e-02,  -5.77154011e-03,\n",
       "         1.58708729e-02,  -5.23854084e-02,   4.97385813e-03,\n",
       "         5.44497706e-02,  -2.59372201e-02,   1.45302992e-02,\n",
       "         1.83745213e-02,  -4.36330102e-02,  -2.54003759e-02,\n",
       "         1.95625145e-02,  -5.89395966e-03,  -2.57816780e-02,\n",
       "         1.65594183e-02,   2.88069788e-02,  -3.94870294e-03,\n",
       "         1.53665859e-02,   5.93560701e-03,   3.72905470e-02,\n",
       "        -2.57416703e-02,   2.61941906e-02,   2.51372997e-03,\n",
       "         3.14158238e-02,   1.08454032e-02,   2.45408863e-02,\n",
       "        -2.99240220e-02,   1.74648128e-02,   2.47355495e-02,\n",
       "        -2.12395005e-02,   1.31765781e-02,  -4.00720313e-02,\n",
       "        -1.09436428e-02,  -3.61777619e-02,  -2.33337805e-02,\n",
       "         2.87778284e-02,   3.73893627e-03,   4.55656052e-02,\n",
       "         3.02033257e-02,  -4.98602819e-03,   7.12908385e-03,\n",
       "        -4.12901826e-02,  -4.26851735e-02,  -4.60233390e-02,\n",
       "         1.93617865e-02,  -8.39385483e-03,   1.76054463e-02,\n",
       "         2.79534026e-04,   1.53389871e-02,   1.92993153e-02,\n",
       "         3.96129899e-02,  -3.32772098e-02,  -2.83922050e-02,\n",
       "        -2.50781281e-03,  -5.17498888e-02,  -2.27605123e-02,\n",
       "        -1.28945950e-02,   1.14353728e-02,  -3.96119840e-02,\n",
       "        -1.28543964e-02,   1.51657667e-02,  -3.06778122e-02,\n",
       "        -4.76628914e-02,   2.51628328e-02,   1.18052857e-02,\n",
       "        -6.44290354e-03,   2.32246332e-02,  -9.02006403e-03,\n",
       "         2.11503152e-02,   2.30333209e-02,   3.61240353e-03,\n",
       "         3.01807281e-02,  -6.95687383e-02,   4.92097214e-02,\n",
       "        -4.56579924e-02,   3.92195433e-02,   2.53989752e-02,\n",
       "        -7.10884063e-03,   1.64694141e-03,   2.66588777e-02,\n",
       "        -3.49105038e-02,  -1.43980747e-03,   1.68979056e-02,\n",
       "        -1.28575033e-02,   2.81312712e-03,   2.12538913e-02,\n",
       "        -3.44614009e-03,  -1.52019951e-02,  -1.97314434e-02,\n",
       "        -7.72344647e-03,   2.28631198e-02,  -2.80163866e-02,\n",
       "         3.68854555e-04,  -3.26265842e-02,  -1.39074621e-03,\n",
       "         5.30255474e-02,   9.58474912e-03,   1.51605634e-02,\n",
       "         1.33900391e-02,  -2.30820961e-02,  -1.48827508e-02,\n",
       "         2.28503328e-02,  -1.03344843e-02,  -1.49244787e-02,\n",
       "        -7.34393112e-03,  -7.69766746e-03,   1.36303324e-02,\n",
       "        -2.86577828e-02,   5.15340418e-02,   1.67923551e-02,\n",
       "        -1.22403074e-02,   1.78169515e-02,   1.33854942e-02,\n",
       "        -1.45163024e-02,  -5.56663610e-04,   2.61894558e-02,\n",
       "        -2.35323049e-03,  -4.44765314e-02,  -3.91418040e-02,\n",
       "         4.93449019e-03,   9.94001981e-03,   1.55931339e-02,\n",
       "        -1.09042861e-02,  -2.16285549e-02,   5.66171389e-03,\n",
       "        -2.80791372e-02,   3.44005264e-02,  -2.81481445e-02,\n",
       "         6.54895231e-03,  -1.36476513e-02,  -1.90003961e-02,\n",
       "        -6.76032621e-03,   1.87183563e-02,   1.70325581e-02,\n",
       "        -2.16173343e-04,  -4.92670108e-03,   2.03686841e-02,\n",
       "         1.47014335e-02,  -1.54295601e-02,  -4.58056945e-03,\n",
       "        -2.37252973e-02,   1.45282904e-02,  -5.14984317e-02,\n",
       "         5.70868589e-02,  -8.85247346e-03,  -4.82882969e-02,\n",
       "         7.29646301e-03,   4.09083068e-02,   1.98607631e-02,\n",
       "         6.99652592e-04,   1.07191140e-02,   3.47482152e-02,\n",
       "         2.59846244e-02,   1.06547205e-02,  -1.56196700e-02,\n",
       "        -4.42121588e-02,  -9.42344218e-03,  -8.44991580e-03,\n",
       "        -3.02958656e-02,  -2.53416114e-02,   1.34631041e-02,\n",
       "        -2.21628621e-02,   1.32566337e-02,   2.70189866e-02,\n",
       "        -6.83708629e-03,   1.05718998e-02,  -1.35253444e-01,\n",
       "         9.99949872e-03,  -5.51361367e-02,  -4.12767194e-02,\n",
       "        -1.17143176e-01,  -1.99240018e-02,   1.46245910e-02,\n",
       "         3.29922289e-02,  -1.30392835e-01,  -5.61304428e-02,\n",
       "        -5.08226864e-02,   1.83856636e-02,  -2.53075995e-02,\n",
       "        -3.46759660e-03,   8.87552369e-03,  -3.60352434e-02,\n",
       "         2.73937490e-02,   7.24087656e-02,   4.06282283e-02,\n",
       "         7.59460703e-02,  -3.24097760e-02,  -3.09504685e-03,\n",
       "         8.54036361e-02,  -1.53807783e-02,   3.70849743e-02,\n",
       "         6.56070653e-03,  -2.47752236e-04,  -2.36436184e-02,\n",
       "         1.20210722e-02,  -4.94001880e-02,   3.68273742e-02,\n",
       "        -8.65196518e-04,   3.00873592e-02,   6.37660250e-02,\n",
       "         7.50881154e-03,   8.35078955e-02,  -5.10122674e-03,\n",
       "        -1.35250941e-01,  -7.50939623e-02,  -2.26252470e-02,\n",
       "        -5.11317886e-02,   4.63947840e-02,   3.44454311e-02,\n",
       "        -1.33491289e-02,  -4.85461429e-02,   2.18557026e-02,\n",
       "         4.90203546e-03,   4.51087505e-02,   1.79558545e-02,\n",
       "         4.22160402e-02,   3.31324935e-02,   2.80611534e-02,\n",
       "        -2.41141068e-04,  -2.29128264e-02,   3.06617171e-02,\n",
       "        -2.37584766e-02,   2.06894707e-02,   1.01464493e-02,\n",
       "         5.09351119e-03,   4.65989532e-03,   1.79309752e-02,\n",
       "        -1.96671253e-03,   5.71337007e-02,  -9.90012754e-03,\n",
       "        -3.93432081e-02,  -2.39111297e-02,   2.34374516e-02,\n",
       "         1.69262420e-02,   2.20693033e-02,   5.08305095e-02,\n",
       "        -3.55443545e-02,  -2.57895142e-02,   3.88188437e-02,\n",
       "         5.00377715e-02,   2.83734463e-02,  -3.55424322e-02,\n",
       "        -1.05034318e-02,  -5.11254258e-02,   4.40217406e-02,\n",
       "         5.30230487e-03,  -5.43129351e-03,  -4.07836735e-02,\n",
       "        -2.09546331e-02,  -3.10141779e-02,   5.79912290e-02,\n",
       "        -3.98058072e-02,  -4.18616943e-02,   2.19728779e-02,\n",
       "        -7.44375959e-03,  -2.61646672e-03,   5.54615213e-03,\n",
       "         1.21211633e-02,   4.24806289e-02,   5.23945363e-03,\n",
       "         1.41081931e-02,   4.69653122e-03,   2.53294222e-02,\n",
       "        -2.85952439e-04,   6.83688466e-03,   1.02903722e-02,\n",
       "         6.27245940e-03,   1.92072596e-02,  -6.02849647e-02,\n",
       "         2.25644577e-02,   3.65816616e-02,   4.23680246e-02,\n",
       "        -4.37531658e-02,   2.27612117e-03,   3.28329131e-02,\n",
       "         2.70310361e-02,   7.47465417e-02,  -2.02031527e-02,\n",
       "        -8.35675932e-03,   6.43656636e-03,  -4.83401539e-03,\n",
       "         3.73898260e-02,  -2.62805689e-02,  -3.78987789e-02,\n",
       "         3.42601016e-02,   2.97142789e-02,   4.35932539e-03,\n",
       "        -1.34573244e-02,  -3.62999067e-02], dtype=float32)"
      ]
     },
     "execution_count": 35,
     "metadata": {},
     "output_type": "execute_result"
    }
   ],
   "source": [
    "new_doc_vec"
   ]
  },
  {
   "cell_type": "code",
   "execution_count": 36,
   "metadata": {
    "collapsed": false,
    "deletable": true,
    "editable": true
   },
   "outputs": [
    {
     "data": {
      "text/plain": [
       "[('Yale_University', 0.47264623641967773),\n",
       " ('To_Kill_a_Mockingbird', 0.4688105583190918),\n",
       " ('Mary_(mother_of_Jesus)', 0.4543362259864807),\n",
       " ('Elizabeth_II', 0.43803682923316956),\n",
       " ('George_VI', 0.43785709142684937),\n",
       " ('Frédéric_Chopin', 0.41669750213623047),\n",
       " ('University_of_Notre_Dame', 0.40956512093544006),\n",
       " ('Eton_College', 0.40926796197891235),\n",
       " ('Carnival', 0.4067879617214203),\n",
       " ('Freemasonry', 0.4048232138156891)]"
      ]
     },
     "execution_count": 36,
     "metadata": {},
     "output_type": "execute_result"
    }
   ],
   "source": [
    "model.docvecs.most_similar([new_doc_vec])"
   ]
  },
  {
   "cell_type": "code",
   "execution_count": 37,
   "metadata": {
    "collapsed": false,
    "deletable": true,
    "editable": true
   },
   "outputs": [],
   "source": [
    "avg_sentence = np.zeros((500))\n",
    "count = 0\n",
    "for word in test_words:\n",
    "    if word in model.wv.vocab:\n",
    "        avg_sentence += model[word]\n",
    "        count += 1\n",
    "avg_sentence = avg_sentence / count"
   ]
  },
  {
   "cell_type": "code",
   "execution_count": 38,
   "metadata": {
    "collapsed": false,
    "deletable": true,
    "editable": true
   },
   "outputs": [
    {
     "data": {
      "text/plain": [
       "[('Pope_John_XXIII', 0.736782968044281),\n",
       " ('Edmund_Burke', 0.7187445759773254),\n",
       " ('Cardinal_(Catholicism)', 0.7158167958259583),\n",
       " ('Pope_Paul_VI', 0.713584303855896),\n",
       " ('Freemasonry', 0.7003039121627808),\n",
       " ('George_VI', 0.69888836145401),\n",
       " ('Baptists', 0.6941968202590942),\n",
       " ('England_national_football_team', 0.6846250891685486),\n",
       " ('Gregorian_calendar', 0.676995038986206),\n",
       " ('Athanasius_of_Alexandria', 0.6764561533927917)]"
      ]
     },
     "execution_count": 38,
     "metadata": {},
     "output_type": "execute_result"
    }
   ],
   "source": [
    "model.docvecs.most_similar([avg_sentence])"
   ]
  },
  {
   "cell_type": "code",
   "execution_count": null,
   "metadata": {
    "collapsed": true,
    "deletable": true,
    "editable": true
   },
   "outputs": [],
   "source": []
  },
  {
   "cell_type": "code",
   "execution_count": null,
   "metadata": {
    "collapsed": true,
    "deletable": true,
    "editable": true
   },
   "outputs": [],
   "source": []
  }
 ],
 "metadata": {
  "kernelspec": {
   "display_name": "Python 3",
   "language": "python",
   "name": "python3"
  },
  "language_info": {
   "codemirror_mode": {
    "name": "ipython",
    "version": 3
   },
   "file_extension": ".py",
   "mimetype": "text/x-python",
   "name": "python",
   "nbconvert_exporter": "python",
   "pygments_lexer": "ipython3",
   "version": "3.5.2"
  }
 },
 "nbformat": 4,
 "nbformat_minor": 2
}
