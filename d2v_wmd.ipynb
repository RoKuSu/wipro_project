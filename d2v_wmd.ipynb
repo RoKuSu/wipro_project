{
 "cells": [
  {
   "cell_type": "markdown",
   "metadata": {
    "deletable": true,
    "editable": true
   },
   "source": [
    "# DOCUMENT SIMILARITY: DOC2VEC"
   ]
  },
  {
   "cell_type": "markdown",
   "metadata": {
    "deletable": true,
    "editable": true
   },
   "source": [
    "### Importing Packages"
   ]
  },
  {
   "cell_type": "code",
   "execution_count": 1,
   "metadata": {
    "collapsed": true,
    "deletable": true,
    "editable": true
   },
   "outputs": [],
   "source": [
    "#Importing Various packages --\n",
    "import pandas as pd\n",
    "import numpy as np\n",
    "import matplotlib.pyplot as pl\n",
    "import json\n",
    "from pandas.io.json import json_normalize\n",
    "\n",
    "# --- NLTK PACKAGE ---\n",
    "import nltk\n",
    "# Tokenizers\n",
    "from nltk.tokenize import word_tokenize, sent_tokenize, PunktSentenceTokenizer, RegexpTokenizer\n",
    "# Stemming and Lemmatizing\n",
    "from nltk.stem import PorterStemmer, WordNetLemmatizer\n",
    "# Stopwords\n",
    "from nltk.corpus import stopwords, state_union, brown, movie_reviews, treebank\n",
    "\n",
    "# --- GENSIM PACKAGE ---\n",
    "import gensim, logging\n",
    "from gensim.models import Word2Vec, doc2vec, Doc2Vec\n",
    "\n",
    "\n",
    "%matplotlib inline"
   ]
  },
  {
   "cell_type": "markdown",
   "metadata": {
    "deletable": true,
    "editable": true
   },
   "source": [
    "### Loading Datasets"
   ]
  },
  {
   "cell_type": "code",
   "execution_count": 2,
   "metadata": {
    "collapsed": true,
    "deletable": true,
    "editable": true
   },
   "outputs": [],
   "source": [
    "train_v1 = pd.read_json('../data/train-v1.1.json')\n",
    "test_v1 = pd.read_json('../data/dev-v1.1.json')\n",
    "squad_train = pd.read_json('../data/squad_train_doc.json')\n",
    "squad_test = pd.read_json('../data/squad_dev_doc.json')"
   ]
  },
  {
   "cell_type": "code",
   "execution_count": 3,
   "metadata": {
    "collapsed": true,
    "deletable": true,
    "editable": true
   },
   "outputs": [],
   "source": [
    "data_train = squad_train"
   ]
  },
  {
   "cell_type": "code",
   "execution_count": 4,
   "metadata": {
    "collapsed": true,
    "deletable": true,
    "editable": true
   },
   "outputs": [],
   "source": [
    "data_train.rename(columns={'passages': 'documents'}, inplace=True)"
   ]
  },
  {
   "cell_type": "code",
   "execution_count": 5,
   "metadata": {
    "collapsed": false,
    "deletable": true,
    "editable": true
   },
   "outputs": [
    {
     "data": {
      "text/html": [
       "<div>\n",
       "<table border=\"1\" class=\"dataframe\">\n",
       "  <thead>\n",
       "    <tr style=\"text-align: right;\">\n",
       "      <th></th>\n",
       "      <th>documents</th>\n",
       "      <th>title</th>\n",
       "    </tr>\n",
       "  </thead>\n",
       "  <tbody>\n",
       "    <tr>\n",
       "      <th>0</th>\n",
       "      <td>[{'context': 'Architecturally, the school has ...</td>\n",
       "      <td>University_of_Notre_Dame</td>\n",
       "    </tr>\n",
       "    <tr>\n",
       "      <th>1</th>\n",
       "      <td>[{'context': 'Beyoncé Giselle Knowles-Carter (...</td>\n",
       "      <td>Beyoncé</td>\n",
       "    </tr>\n",
       "    <tr>\n",
       "      <th>2</th>\n",
       "      <td>[{'context': 'Montana i/mɒnˈtænə/ is a state i...</td>\n",
       "      <td>Montana</td>\n",
       "    </tr>\n",
       "    <tr>\n",
       "      <th>3</th>\n",
       "      <td>[{'context': 'The phrase \"in whole or in part\"...</td>\n",
       "      <td>Genocide</td>\n",
       "    </tr>\n",
       "    <tr>\n",
       "      <th>4</th>\n",
       "      <td>[{'context': 'The emergence of resistance of b...</td>\n",
       "      <td>Antibiotics</td>\n",
       "    </tr>\n",
       "  </tbody>\n",
       "</table>\n",
       "</div>"
      ],
      "text/plain": [
       "                                           documents                     title\n",
       "0  [{'context': 'Architecturally, the school has ...  University_of_Notre_Dame\n",
       "1  [{'context': 'Beyoncé Giselle Knowles-Carter (...                   Beyoncé\n",
       "2  [{'context': 'Montana i/mɒnˈtænə/ is a state i...                   Montana\n",
       "3  [{'context': 'The phrase \"in whole or in part\"...                  Genocide\n",
       "4  [{'context': 'The emergence of resistance of b...               Antibiotics"
      ]
     },
     "execution_count": 5,
     "metadata": {},
     "output_type": "execute_result"
    }
   ],
   "source": [
    "data_train.head()"
   ]
  },
  {
   "cell_type": "markdown",
   "metadata": {
    "deletable": true,
    "editable": true
   },
   "source": [
    "### Documents List"
   ]
  },
  {
   "cell_type": "code",
   "execution_count": 6,
   "metadata": {
    "collapsed": true,
    "deletable": true,
    "editable": true
   },
   "outputs": [],
   "source": [
    "title_list = [data_train.title[i] for i in range(data_train.shape[0])]"
   ]
  },
  {
   "cell_type": "markdown",
   "metadata": {
    "deletable": true,
    "editable": true
   },
   "source": [
    "### Segregating Dataframe"
   ]
  },
  {
   "cell_type": "code",
   "execution_count": 7,
   "metadata": {
    "collapsed": true,
    "deletable": true,
    "editable": true
   },
   "outputs": [],
   "source": [
    "## Returns list of all context and list of all question sets\n",
    "\n",
    "def get_compact_dataframe():\n",
    "    context_list = []\n",
    "    question_list = []\n",
    "    \n",
    "    for doc in data_train.documents:\n",
    "        context_list.append(get_each_context_each_questionSet(doc)[0])\n",
    "        question_list.append(get_each_context_each_questionSet(doc)[1])\n",
    "    \n",
    "    return context_list, question_list"
   ]
  },
  {
   "cell_type": "code",
   "execution_count": 8,
   "metadata": {
    "collapsed": true,
    "deletable": true,
    "editable": true
   },
   "outputs": [],
   "source": [
    "## Pass a document and it returns list of context and list of set of questions\n",
    "\n",
    "def get_each_context_each_questionSet(document):\n",
    "    each_doc_context_list = [document[i]['context'] for i in range(len(document))]\n",
    "    each_doc_question_list = [document[i]['questions'] for i in range(len(document))]\n",
    "    return  each_doc_context_list, each_doc_question_list"
   ]
  },
  {
   "cell_type": "code",
   "execution_count": 9,
   "metadata": {
    "collapsed": true,
    "deletable": true,
    "editable": true
   },
   "outputs": [],
   "source": [
    "context_list, question_list = get_compact_dataframe()[0], get_compact_dataframe()[1]\n",
    "compact_dataframe = pd.DataFrame({'title':title_list, 'context':context_list, 'questions': question_list})"
   ]
  },
  {
   "cell_type": "markdown",
   "metadata": {
    "deletable": true,
    "editable": true
   },
   "source": [
    "## DATAFRAME"
   ]
  },
  {
   "cell_type": "code",
   "execution_count": 10,
   "metadata": {
    "collapsed": false,
    "deletable": true,
    "editable": true,
    "scrolled": true
   },
   "outputs": [
    {
     "data": {
      "text/html": [
       "<div>\n",
       "<table border=\"1\" class=\"dataframe\">\n",
       "  <thead>\n",
       "    <tr style=\"text-align: right;\">\n",
       "      <th></th>\n",
       "      <th>context</th>\n",
       "      <th>questions</th>\n",
       "      <th>title</th>\n",
       "    </tr>\n",
       "  </thead>\n",
       "  <tbody>\n",
       "    <tr>\n",
       "      <th>0</th>\n",
       "      <td>[Architecturally, the school has a Catholic ch...</td>\n",
       "      <td>[[What is the Grotto at Notre Dame?, To whom d...</td>\n",
       "      <td>University_of_Notre_Dame</td>\n",
       "    </tr>\n",
       "    <tr>\n",
       "      <th>1</th>\n",
       "      <td>[Beyoncé Giselle Knowles-Carter (/biːˈjɒnseɪ/ ...</td>\n",
       "      <td>[[In what city and state did Beyonce  grow up?...</td>\n",
       "      <td>Beyoncé</td>\n",
       "    </tr>\n",
       "    <tr>\n",
       "      <th>2</th>\n",
       "      <td>[Montana i/mɒnˈtænə/ is a state in the Western...</td>\n",
       "      <td>[[What is its rank in popularion?, What is the...</td>\n",
       "      <td>Montana</td>\n",
       "    </tr>\n",
       "    <tr>\n",
       "      <th>3</th>\n",
       "      <td>[The phrase \"in whole or in part\" has been sub...</td>\n",
       "      <td>[[Which phrase is especially contentious withi...</td>\n",
       "      <td>Genocide</td>\n",
       "    </tr>\n",
       "    <tr>\n",
       "      <th>4</th>\n",
       "      <td>[The emergence of resistance of bacteria to an...</td>\n",
       "      <td>[[What is the purpose of antibiotic treatment?...</td>\n",
       "      <td>Antibiotics</td>\n",
       "    </tr>\n",
       "  </tbody>\n",
       "</table>\n",
       "</div>"
      ],
      "text/plain": [
       "                                             context  \\\n",
       "0  [Architecturally, the school has a Catholic ch...   \n",
       "1  [Beyoncé Giselle Knowles-Carter (/biːˈjɒnseɪ/ ...   \n",
       "2  [Montana i/mɒnˈtænə/ is a state in the Western...   \n",
       "3  [The phrase \"in whole or in part\" has been sub...   \n",
       "4  [The emergence of resistance of bacteria to an...   \n",
       "\n",
       "                                           questions                     title  \n",
       "0  [[What is the Grotto at Notre Dame?, To whom d...  University_of_Notre_Dame  \n",
       "1  [[In what city and state did Beyonce  grow up?...                   Beyoncé  \n",
       "2  [[What is its rank in popularion?, What is the...                   Montana  \n",
       "3  [[Which phrase is especially contentious withi...                  Genocide  \n",
       "4  [[What is the purpose of antibiotic treatment?...               Antibiotics  "
      ]
     },
     "execution_count": 10,
     "metadata": {},
     "output_type": "execute_result"
    }
   ],
   "source": [
    "compact_dataframe.head()"
   ]
  },
  {
   "cell_type": "code",
   "execution_count": 11,
   "metadata": {
    "collapsed": false,
    "deletable": true,
    "editable": true
   },
   "outputs": [
    {
     "data": {
      "text/html": [
       "<div>\n",
       "<table border=\"1\" class=\"dataframe\">\n",
       "  <thead>\n",
       "    <tr style=\"text-align: right;\">\n",
       "      <th></th>\n",
       "      <th>context</th>\n",
       "      <th>questions</th>\n",
       "      <th>title</th>\n",
       "    </tr>\n",
       "  </thead>\n",
       "  <tbody>\n",
       "    <tr>\n",
       "      <th>10</th>\n",
       "      <td>[The 2008 Sichuan earthquake or the Great Sich...</td>\n",
       "      <td>[[What time of the day did the quake happen?, ...</td>\n",
       "      <td>2008_Sichuan_earthquake</td>\n",
       "    </tr>\n",
       "  </tbody>\n",
       "</table>\n",
       "</div>"
      ],
      "text/plain": [
       "                                              context  \\\n",
       "10  [The 2008 Sichuan earthquake or the Great Sich...   \n",
       "\n",
       "                                            questions                    title  \n",
       "10  [[What time of the day did the quake happen?, ...  2008_Sichuan_earthquake  "
      ]
     },
     "execution_count": 11,
     "metadata": {},
     "output_type": "execute_result"
    }
   ],
   "source": [
    "compact_dataframe[compact_dataframe.title == '2008_Sichuan_earthquake']"
   ]
  },
  {
   "cell_type": "markdown",
   "metadata": {
    "deletable": true,
    "editable": true
   },
   "source": [
    "#### TOTAL QUESTIONS"
   ]
  },
  {
   "cell_type": "code",
   "execution_count": 12,
   "metadata": {
    "collapsed": true,
    "deletable": true,
    "editable": true
   },
   "outputs": [],
   "source": [
    "list_questions_perDOC = []\n",
    "count = 0\n",
    "\n",
    "for each_doc_question in compact_dataframe.questions:\n",
    "\n",
    "    Doc_questions = []\n",
    "    for each_Set in each_doc_question:\n",
    "        for each_question in each_Set:\n",
    "            Doc_questions.append(each_question)\n",
    "            count +=1\n",
    "    \n",
    "    list_questions_perDOC.append(Doc_questions)"
   ]
  },
  {
   "cell_type": "code",
   "execution_count": 13,
   "metadata": {
    "collapsed": false,
    "deletable": true,
    "editable": true,
    "scrolled": true
   },
   "outputs": [
    {
     "name": "stdout",
     "output_type": "stream",
     "text": [
      "Total Questions =  87433\n"
     ]
    }
   ],
   "source": [
    "print(\"Total Questions = \", count)"
   ]
  },
  {
   "cell_type": "code",
   "execution_count": 14,
   "metadata": {
    "collapsed": true,
    "deletable": true,
    "editable": true,
    "scrolled": true
   },
   "outputs": [],
   "source": [
    "c = [len(list_questions_perDOC[i]) for i in range(10,11)]"
   ]
  },
  {
   "cell_type": "code",
   "execution_count": 15,
   "metadata": {
    "collapsed": false,
    "deletable": true,
    "editable": true
   },
   "outputs": [
    {
     "data": {
      "text/plain": [
       "518"
      ]
     },
     "execution_count": 15,
     "metadata": {},
     "output_type": "execute_result"
    }
   ],
   "source": [
    "sum(c)"
   ]
  },
  {
   "cell_type": "markdown",
   "metadata": {
    "deletable": true,
    "editable": true
   },
   "source": [
    "----"
   ]
  },
  {
   "cell_type": "markdown",
   "metadata": {
    "deletable": true,
    "editable": true
   },
   "source": [
    "### Implementing Gensim "
   ]
  },
  {
   "cell_type": "code",
   "execution_count": 16,
   "metadata": {
    "collapsed": true,
    "deletable": true,
    "editable": true
   },
   "outputs": [],
   "source": [
    "class DocIterator(object):\n",
    "    \n",
    "    ## Initailizes document's list(doc1,doc2...) and its label's list('Book_1','Book_2',...)\n",
    "    def __init__(self, doc_list, labels_list):\n",
    "        self.doc_list = doc_list\n",
    "        self.labels_list = labels_list\n",
    "    \n",
    "    ## Assigns label1 to a list of all words in doc1, label2 to all words in doc2, etc.\n",
    "    def __iter__(self):\n",
    "        \n",
    "        for idx, doc in enumerate(self.doc_list):\n",
    "            yield doc2vec.LabeledSentence(words=doc.split(), tags=[self.labels_list[idx]])"
   ]
  },
  {
   "cell_type": "code",
   "execution_count": 17,
   "metadata": {
    "collapsed": true,
    "deletable": true,
    "editable": true
   },
   "outputs": [],
   "source": [
    "## Contains the whole data\n",
    "\n",
    "data = []\n",
    "docLabels = title_list\n",
    "\n",
    "for i in docLabels:\n",
    "    x = compact_dataframe[compact_dataframe.title == i].context.sum()\n",
    "    y = ' '.join(x)\n",
    "    data.append(y)"
   ]
  },
  {
   "cell_type": "code",
   "execution_count": 18,
   "metadata": {
    "collapsed": true,
    "deletable": true,
    "editable": true
   },
   "outputs": [],
   "source": [
    "iter_docs = DocIterator(data, docLabels)"
   ]
  },
  {
   "cell_type": "markdown",
   "metadata": {
    "deletable": true,
    "editable": true
   },
   "source": [
    "##### Model"
   ]
  },
  {
   "cell_type": "code",
   "execution_count": 32,
   "metadata": {
    "collapsed": true,
    "deletable": true,
    "editable": true
   },
   "outputs": [],
   "source": [
    "model = Doc2Vec(iter_docs, size=200, window=50, min_count=1, workers=11, alpha=0.025, min_alpha=0.025, dbow_words = 1, iter = 20)"
   ]
  },
  {
   "cell_type": "markdown",
   "metadata": {
    "deletable": true,
    "editable": true
   },
   "source": [
    "----"
   ]
  },
  {
   "cell_type": "markdown",
   "metadata": {
    "deletable": true,
    "editable": true
   },
   "source": [
    "## TESTING"
   ]
  },
  {
   "cell_type": "code",
   "execution_count": 33,
   "metadata": {
    "collapsed": true,
    "deletable": true,
    "editable": true
   },
   "outputs": [],
   "source": [
    "test = 'What is the Grotto at Notre Dame?'\n",
    "words = word_tokenize(test)"
   ]
  },
  {
   "cell_type": "markdown",
   "metadata": {
    "deletable": true,
    "editable": true
   },
   "source": [
    "##### INFER"
   ]
  },
  {
   "cell_type": "code",
   "execution_count": 34,
   "metadata": {
    "collapsed": false,
    "deletable": true,
    "editable": true
   },
   "outputs": [
    {
     "data": {
      "text/plain": [
       "[('Southern_Europe', 0.5372093915939331),\n",
       " ('Liberia', 0.5241061449050903),\n",
       " ('Armenians', 0.5228872895240784),\n",
       " ('Geography_of_the_United_States', 0.519429087638855),\n",
       " ('Canon_law', 0.5191516280174255),\n",
       " ('Mali', 0.5170228481292725),\n",
       " ('Heresy', 0.5160000920295715),\n",
       " ('Crucifixion_of_Jesus', 0.5029048919677734),\n",
       " ('Christian', 0.4957031309604645),\n",
       " ('Mary_(mother_of_Jesus)', 0.4951178729534149)]"
      ]
     },
     "execution_count": 34,
     "metadata": {},
     "output_type": "execute_result"
    }
   ],
   "source": [
    "new_doc_vec = model.infer_vector(words)\n",
    "model.docvecs.most_similar([new_doc_vec], topn=10)"
   ]
  },
  {
   "cell_type": "markdown",
   "metadata": {
    "deletable": true,
    "editable": true
   },
   "source": [
    "##### CENTROID"
   ]
  },
  {
   "cell_type": "code",
   "execution_count": 37,
   "metadata": {
    "collapsed": false,
    "deletable": true,
    "editable": true
   },
   "outputs": [
    {
     "data": {
      "text/plain": [
       "[('University_of_Notre_Dame', 0.5920661687850952),\n",
       " ('Yale_University', 0.31637150049209595),\n",
       " ('Order_of_the_British_Empire', 0.3118094205856323),\n",
       " ('Freemasonry', 0.3073330521583557),\n",
       " ('University_of_Kansas', 0.30294978618621826),\n",
       " ('Northwestern_University', 0.29932448267936707),\n",
       " ('Washington_University_in_St._Louis', 0.2948078513145447),\n",
       " ('Pitch_(music)', 0.29364120960235596),\n",
       " ('Brigham_Young_University', 0.2860960066318512),\n",
       " ('List_of_numbered_streets_in_Manhattan', 0.28540152311325073)]"
      ]
     },
     "execution_count": 37,
     "metadata": {},
     "output_type": "execute_result"
    }
   ],
   "source": [
    "avg_sentence = np.zeros((200))\n",
    "count = 0\n",
    "for word in words:\n",
    "    if word in model.wv.vocab:\n",
    "        avg_sentence += model[word]\n",
    "        count+=1\n",
    "avg_sentence = avg_sentence / count\n",
    "\n",
    "model.docvecs.most_similar([avg_sentence], topn=10)"
   ]
  },
  {
   "cell_type": "markdown",
   "metadata": {
    "deletable": true,
    "editable": true
   },
   "source": [
    "### TOTAL ACCURACY CHECK"
   ]
  },
  {
   "cell_type": "code",
   "execution_count": 39,
   "metadata": {
    "collapsed": true,
    "deletable": true,
    "editable": true,
    "scrolled": true
   },
   "outputs": [],
   "source": [
    "## Accuracy Check:\n",
    "\n",
    "total_questions1 = []\n",
    "total_questions2 = []\n",
    "cent_questions = []\n",
    "infer_questions = []\n",
    "\n",
    "for index in range(50):\n",
    "    \n",
    "    simi_CENT = similarity_question(list_questions_perDOC[index])[0]\n",
    "    simi_INFER = similarity_question(list_questions_perDOC[index])[1] \n",
    "    \n",
    "    count1 = 0\n",
    "    total_count1 = 0\n",
    "\n",
    "    \n",
    "    for i in simi_CENT:\n",
    "        total_count1+=1\n",
    "        for each_doc in i:\n",
    "            if each_doc[0] == title_list[index]:\n",
    "                count1+=1\n",
    "    \n",
    "    total_questions1.append(total_count1)\n",
    "    cent_questions.append(count1)\n",
    "    \n",
    "    count2 = 0\n",
    "    total_count2 = 0\n",
    "\n",
    "    for i in simi_INFER:\n",
    "\n",
    "        total_count2+=1\n",
    "        for each_doc in i:\n",
    "            if each_doc[0] == title_list[index]:\n",
    "                count2+=1\n",
    "                \n",
    "    total_questions2.append(total_count2)\n",
    "    infer_questions.append(count2)"
   ]
  },
  {
   "cell_type": "markdown",
   "metadata": {
    "deletable": true,
    "editable": true
   },
   "source": [
    "#### Question - Document Similarity Check"
   ]
  },
  {
   "cell_type": "code",
   "execution_count": 38,
   "metadata": {
    "collapsed": true,
    "deletable": true,
    "editable": true
   },
   "outputs": [],
   "source": [
    "def similarity_question(doc):\n",
    "    \n",
    "    similarity_matrix_CENTROID = []\n",
    "    similarity_matrix_INFER = []\n",
    "    \n",
    "    for each_question in doc:\n",
    "\n",
    "        # CENTROID METHOD\n",
    "        avg_sentence = np.zeros((200))\n",
    "        count = 0\n",
    "        for word in word_tokenize(each_question):\n",
    "            if word in model.wv.vocab:\n",
    "                avg_sentence += model[word]\n",
    "                count+=1\n",
    "        avg_sentence = avg_sentence / count\n",
    "        similarity_matrix_CENTROID.append(model.docvecs.most_similar([avg_sentence], topn=5))\n",
    "            \n",
    "        # INFER METHOD\n",
    "        new_doc_vec = model.infer_vector(word_tokenize(each_question))\n",
    "        similarity_matrix_INFER.append(model.docvecs.most_similar([new_doc_vec], topn=5))\n",
    "    \n",
    "    \n",
    "    return similarity_matrix_CENTROID, similarity_matrix_INFER"
   ]
  },
  {
   "cell_type": "code",
   "execution_count": 41,
   "metadata": {
    "collapsed": false,
    "deletable": true,
    "editable": true,
    "scrolled": false
   },
   "outputs": [
    {
     "data": {
      "image/png": "[encoded data removed]",
      "text/plain": [
       "<matplotlib.figure.Figure at 0x7f00948da550>"
      ]
     },
     "metadata": {},
     "output_type": "display_data"
    }
   ],
   "source": [
    "doc_size = [i for i in range(50)]\n",
    "\n",
    "pl.figure(figsize=(20,5))\n",
    "pl.plot(doc_size, total_questions1, marker='x', label='Actual Prediction')\n",
    "pl.plot(doc_size, cent_questions, marker='o', linestyle='--', label='Centroid Predicted Questions')\n",
    "pl.plot(doc_size, infer_questions, marker='.', linestyle='--', color='r', label='InferVectors Predicted Questions')\n",
    "pl.xlabel('No of Docs')\n",
    "pl.ylabel('Accurate Predictions')\n",
    "pl.legend()\n",
    "pl.show()"
   ]
  },
  {
   "cell_type": "markdown",
   "metadata": {
    "deletable": true,
    "editable": true
   },
   "source": [
    "#### ACCURACY"
   ]
  },
  {
   "cell_type": "code",
   "execution_count": 42,
   "metadata": {
    "collapsed": false,
    "deletable": true,
    "editable": true
   },
   "outputs": [
    {
     "data": {
      "text/plain": [
       "54.449201488581174"
      ]
     },
     "execution_count": 42,
     "metadata": {},
     "output_type": "execute_result"
    }
   ],
   "source": [
    "## OVERALL ACC\n",
    "np.mean([cent/total*100 for cent,total in zip(cent_questions, total_questions1)])"
   ]
  },
  {
   "cell_type": "code",
   "execution_count": 43,
   "metadata": {
    "collapsed": false,
    "deletable": true,
    "editable": true
   },
   "outputs": [
    {
     "data": {
      "text/plain": [
       "18.542393616739773"
      ]
     },
     "execution_count": 43,
     "metadata": {},
     "output_type": "execute_result"
    }
   ],
   "source": [
    "np.mean([infer/total*100 for infer,total in zip(infer_questions, total_questions1)])"
   ]
  },
  {
   "cell_type": "code",
   "execution_count": 44,
   "metadata": {
    "collapsed": false,
    "deletable": true,
    "editable": true
   },
   "outputs": [
    {
     "data": {
      "text/plain": [
       "54.449201488581174"
      ]
     },
     "execution_count": 44,
     "metadata": {},
     "output_type": "execute_result"
    }
   ],
   "source": [
    "## ACC\n",
    "np.mean([cent/total*100 for cent,total in zip(cent_questions, total_questions1)])"
   ]
  },
  {
   "cell_type": "code",
   "execution_count": 45,
   "metadata": {
    "collapsed": false,
    "deletable": true,
    "editable": true,
    "scrolled": true
   },
   "outputs": [
    {
     "data": {
      "text/plain": [
       "18.542393616739773"
      ]
     },
     "execution_count": 45,
     "metadata": {},
     "output_type": "execute_result"
    }
   ],
   "source": [
    "np.mean([infer/total*100 for infer,total in zip(infer_questions, total_questions1)])"
   ]
  },
  {
   "cell_type": "markdown",
   "metadata": {
    "deletable": true,
    "editable": true
   },
   "source": [
    "-----"
   ]
  },
  {
   "cell_type": "markdown",
   "metadata": {
    "deletable": true,
    "editable": true
   },
   "source": [
    "----"
   ]
  },
  {
   "cell_type": "markdown",
   "metadata": {
    "deletable": true,
    "editable": true
   },
   "source": [
    "# WMD"
   ]
  },
  {
   "cell_type": "code",
   "execution_count": 57,
   "metadata": {
    "collapsed": true,
    "deletable": true,
    "editable": true
   },
   "outputs": [],
   "source": [
    "from gensim.models import KeyedVectors"
   ]
  },
  {
   "cell_type": "code",
   "execution_count": 58,
   "metadata": {
    "collapsed": true,
    "deletable": true,
    "editable": true
   },
   "outputs": [],
   "source": [
    "model_Google = KeyedVectors.load_word2vec_format('GoogleNews-vectors-negative300.bin.gz', binary=True)"
   ]
  },
  {
   "cell_type": "code",
   "execution_count": 123,
   "metadata": {
    "collapsed": true,
    "deletable": true,
    "editable": true
   },
   "outputs": [],
   "source": [
    "dd = word_tokenize(' '.join(compact_dataframe.context[1]))"
   ]
  },
  {
   "cell_type": "code",
   "execution_count": 126,
   "metadata": {
    "collapsed": false,
    "deletable": true,
    "editable": true
   },
   "outputs": [
    {
     "data": {
      "text/plain": [
       "['What', 'is', 'Grotto', 'at', 'Norte', 'Dame', '?']"
      ]
     },
     "execution_count": 126,
     "metadata": {},
     "output_type": "execute_result"
    }
   ],
   "source": [
    "sent = word_tokenize('What is Grotto at Norte Dame?')\n",
    "sent"
   ]
  },
  {
   "cell_type": "code",
   "execution_count": 128,
   "metadata": {
    "collapsed": false,
    "deletable": true,
    "editable": true,
    "scrolled": true
   },
   "outputs": [
    {
     "data": {
      "text/plain": [
       "3.257375125384118"
      ]
     },
     "execution_count": 128,
     "metadata": {},
     "output_type": "execute_result"
    }
   ],
   "source": [
    "answer_value = model_Google.wmdistance(sentt, word_tokenize(' '.join(compact_dataframe.context[0])))\n",
    "answer_value"
   ]
  },
  {
   "cell_type": "code",
   "execution_count": 129,
   "metadata": {
    "collapsed": true,
    "deletable": true,
    "editable": true
   },
   "outputs": [],
   "source": [
    "for i in range(100):\n",
    "    \n",
    "    context_words = word_tokenize(' '.join(compact_dataframe.context[i]))\n",
    "    dist = model_Google.wmdistance(sent, context_words)\n",
    "    \n",
    "    if dist < answer_value:\n",
    "        answer_value = dist"
   ]
  },
  {
   "cell_type": "code",
   "execution_count": 130,
   "metadata": {
    "collapsed": false,
    "deletable": true,
    "editable": true
   },
   "outputs": [
    {
     "data": {
      "text/plain": [
       "3.213526215918507"
      ]
     },
     "execution_count": 130,
     "metadata": {},
     "output_type": "execute_result"
    }
   ],
   "source": [
    "answer_value"
   ]
  },
  {
   "cell_type": "code",
   "execution_count": 136,
   "metadata": {
    "collapsed": false,
    "deletable": true,
    "editable": true
   },
   "outputs": [
    {
     "data": {
      "text/plain": [
       "'What is the Grotto at Notre Dame?'"
      ]
     },
     "execution_count": 136,
     "metadata": {},
     "output_type": "execute_result"
    }
   ],
   "source": [
    "d = list_questions_perDOC[0]\n",
    "d[0]"
   ]
  },
  {
   "cell_type": "code",
   "execution_count": 138,
   "metadata": {
    "collapsed": true,
    "deletable": true,
    "editable": true
   },
   "outputs": [
    {
     "name": "stdout",
     "output_type": "stream",
     "text": [
      "What is the Grotto at Notre Dame?\n",
      "To whom did the Virgin Mary allegedly appear in 1858 in Lourdes France?\n",
      "What sits on top of the Main Building at Notre Dame?\n",
      "The Basilica of the Sacred heart at Notre Dame is beside to which structure?\n",
      "What is in front of the Notre Dame Main Building?\n",
      "What is the daily student paper at Notre Dame called?\n",
      "In what year did the student paper Common Sense begin publication at Notre Dame?\n",
      "When did the Scholastic Magazine of Notre dame begin publishing?\n",
      "How many student news papers are found at Notre Dame?\n",
      "How often is Notre Dame's the Juggler published?\n",
      "What is the oldest structure at Notre Dame?\n",
      "What individuals live at Fatima House at Notre Dame?\n",
      "What is the primary seminary of the Congregation of the Holy Cross?\n",
      "Which prize did Frederick Buechner create?\n",
      "Where is the headquarters of the Congregation of the Holy Cross?\n",
      "How many BS level degrees are offered in the College of Engineering at Notre Dame?\n",
      "In what year was the College of Engineering at Notre Dame formed?\n",
      "Before the creation of the College of Engineering similar studies were carried out at which Notre Dame college?\n",
      "The College of Science began to offer civil engineering courses beginning at what time at Notre Dame?\n",
      "How many departments are within the Stinson-Remick Hall of Engineering?\n",
      "How many colleges for undergraduates are at Notre Dame?\n",
      "Which organization declared the First Year of Studies program at Notre Dame \"outstanding?\"\n",
      "What entity provides help with the management of time for new students at Notre Dame?\n",
      "What was created at Notre Dame in 1962 to assist first year students?\n",
      "In what year was a Master of Arts course first offered at Notre Dame?\n",
      "Which program at Notre Dame offers a Master of Education degree?\n",
      "Which department at Notre Dame is the only one to not offer a PhD program?\n",
      "The granting of Doctorate degrees first occurred in what year at Notre Dame?\n",
      "What type of degree is an M.Div.?\n",
      "What is the title of Notre Dame's Theodore Hesburgh?\n",
      "To whom was John B. Kroc married?\n",
      "What institute at Notre Dame studies  the reasons for violent conflict?\n",
      "In what year was the Joan B. Kroc Institute for International Peace Studies founded?\n",
      "What company did Ray Kroc own?\n",
      "In what year was the Theodore M. Hesburgh Library at Notre Dame finished?\n",
      "How many stories tall is the main library at Notre Dame?\n",
      "What is a common name to reference the mural created by Millard Sheets at Notre Dame?\n",
      "Which artist created the mural on the Theodore M. Hesburgh Library?\n",
      "What is the name of the main library at Notre Dame?\n",
      "How many miles does the average student at Notre Dame travel to study there?\n",
      "What percentage of students at Notre Dame participated in the Early Action program?\n",
      "What percentage of students were admitted to Notre Dame in fall 2015?\n",
      "How many incoming students did Notre Dame admit in fall 2015?\n",
      "Where does Notre Dame rank in terms of academic profile among research universities in the US?\n",
      "The undergrad school at the Mendoza College of Business was ranked where according to BusinessWeek?\n",
      "Forbes.com placed Notre Dame at what position compared to other US research universities?\n",
      "Where did U.S. News & World Report rank Notre Dame in its 2015-2016 university rankings?\n",
      "In 2014 what entity named Notre Dame 10th best of all American universities?\n",
      "What percentage of Notre Dame students decide to study abroad?\n",
      "What professorship did Father Josh Carrier hold at Notre Dame?\n",
      "What person was the Director of the Science Museum at Notre Dame in the late 19th century?\n",
      "What book did John Zahm write in 1896?\n",
      "What program did John Augustine Zahm come to co-direct at Nore Dame?\n",
      "What was the lifespan of John Augustine Zahm?\n",
      "In what year did Jerome Green send his first wireless message?\n",
      "What did the brother of John Zahm construct at Notre Dame?\n",
      "In what year did Albert Zahm begin comparing aeronatical models at Notre Dame?\n",
      "Which professor sent the first wireless message in the USA?\n",
      "Which individual worked on projects at Notre Dame that eventually created neoprene?\n",
      "Around what time did Lobund of Notre Dame become independent?\n",
      "The Lobund Institute was merged into the Department of Biology at Notre Dame in what year?\n",
      "In what year did Lobund at Notre Dame become an Institute?\n",
      "When did study of a germ-free-life begin at Notre Dame?\n",
      "Work on a germ-free-life ended up in the creation of which Notre Dame institute?\n",
      "Thomas Stritch was an editor of which publican from Notre Dame?\n",
      "Over how many years did Gurian edit the Review of Politics at Notre Dame?\n",
      "What was the Review of Politics inspired by?\n",
      "Gurian created what in 1939 at Notre Dame?\n",
      "The Kellogg Institute for International Studies is part of which university?\n",
      "Who was the president of Notre Dame in 2012?\n",
      "In what year did Notre Dame begin to host the Global Adaptation Index?\n",
      "What threat does the Global Adaptation Index study?\n",
      "What does the Kroc Institute at Notre Dame focus on?\n",
      "How many students in total were at Notre Dame in 2014?\n",
      "What percentage of students at Notre Dame are the children of former Notre Dame students?\n",
      "For what cause is money raised at the Bengal Bouts tournament at Notre Dame?\n",
      "How many teams participate in the Notre Dame Bookstore Basketball tournament?\n",
      "How many undergrads were attending Notre Dame in 2014?\n",
      "What percentage of undergrads live on the Notre Dame campus?\n",
      "There are how many dorms for females at Notre Dame?\n",
      "How many dorms for males are on the Notre Dame campus?\n",
      "What amount of the graduate student body at Notre Dame live on the campus?\n",
      "How many student housing areas are reserved for Notre Dame's graduate students?\n",
      "What amount of the student body of Notre Dame identifies as Catholic?\n",
      "How often is Catholic mass held at Notre Dame in a week?\n",
      "What is Congregation of Holy Cross in Latin?\n",
      "What percentage of Notre Dame students feel they are Christian?\n",
      "How many chapels are on the Notre Dame campus?\n",
      "In what year was the Main Building at Notre Dame razed in a fire?\n",
      "What was the music hall at Notre Dame called?\n",
      "On what date was the rebuilding of The Main Building begun at Notre Dame after the fire that claimed the previous?\n",
      "What did the Science Hall at Notre Dame come to be known as?\n",
      "Who was the president of Notre Dame in 1879?\n",
      "Which college did Notre Dame add in 1921?\n",
      "Over how many years did the change to national standards undertaken at Notre Dame in the early 20th century take place?\n",
      "In 1919 a new president of Notre Dame was named, who was it?\n",
      "What type of education was pushed at Notre Dame before its embracing of national standards?\n",
      "Those who attended a Jesuit college may have been forbidden from joining which Law School due to the curricula at the Jesuit institution?\n",
      "How many years was Knute Rockne head coach at Notre Dame?\n",
      "What was the amount of wins Knute Rockne attained at Notre Dame while head coach?\n",
      "How many national titles were won when Knute Rockne coached at Notre Dame?\n",
      "The Notre Dame football team got a new head coach in 1918, who was it?\n",
      "In what year did the team lead by Knute Rockne win the Rose Bowl?\n",
      "Where did Notre Dame students and the KKK have their encounter?\n",
      "Catholic people identified with Notre Dame, what religious group did people feel Yale represented?\n",
      "Which college president of Notre Dame is credited with preventing more confrontations between students and the KKK?\n",
      "What type of event did the Klan intend to have at Notre Dame in March of 1924?\n",
      "Notre Dame students had a showdown in 1924 with which anti-catholic group?\n",
      "For whos glory did Father O'Hara believed that the Notre Dame football team played?\n",
      "Which year was the Laetare Medal first given out at Notre Dame?\n",
      "Irvin Abell was given what award by Notre Dame?\n",
      "Who was the president of Notre Dame in 1934?\n",
      "Which person became vice-president of Notre Dame in 1933?\n",
      "Which institute involving animal life did Cavanaugh create at Notre Dame?\n",
      "Around the time that Rev. Cavanaugh became president of Notre Dame by how much did the undergrad student body of Notre Dame increase?\n",
      "What is O'Shaughnessy Hall of Notre Dame formerly known as?\n",
      "Outside of an institute studying animals, what other institute did Cavanugh create at Notre Dame?\n",
      "Which president did Notre Dame have in 1947?\n",
      "How many faculty members were at Notre Dame when Hesburgh left the role of president?\n",
      "What was the size of the Notre Dame endowment when Theodore Hesburgh became president?\n",
      "During what years was Theodor Hesburgh president of Notre Dame?\n",
      "In the time that Hesburgh was president of Notre Dame by what factor did the operating budget increase?\n",
      "What was the lifespan of Theodore Hesburgh?\n",
      "Which role did Charles Sheedy have at Notre Dame?\n",
      "What type of educational institute is Hesburgh given credit for creating at Notre Dame?\n",
      "What title did Thomas Blantz have at Notre Dame?\n",
      "With what institute did Notre Dame agree to an exchange program in the 1960s?\n",
      "In what year did Notre Dame have its earliest undergraduate that was female?\n",
      "The amount of professors at Notre Dame increased by what amount under Malloy?\n",
      "During what years was Edward Malloy president of Notre Dame?\n",
      "When Malloy reached the end of his time as president how much annuals funding for research did Notre Dame have?\n",
      "What was the SAT score, on average, at Notre Dame when Edward Malloy became president?\n",
      "When Malloy became president of Notre Dame what was the size of the endowment?\n",
      "When did John Jenkins become the president of Notre Dame?\n",
      "Which arena was constructed under Jenkins at Notre Dame?\n",
      "In terms of the amount of presidents Notre Dame has had, where is John Jenkins on the list?\n",
      "Who was the Notre Dame president that preceded John Jenkins?\n",
      "How much money was spent on enhancing Notre Dame Stadium under John Jenkins?\n",
      "Which congregation is in charge of the Old College at Notre Dame?\n",
      "In what year was the Grotto of Our Lady of Lourdes at Notre Dame constructed?\n",
      "What structure is found on the location of the original church of Father Sorin at Notre Dame?\n",
      "Which individual painted the inside of the Basilica of the Sacred Heart at Notre Dame?\n",
      "In which architectural style is the Basilica of the Sacred Heart at Notre Dame made?\n",
      "After which individual was the LaFortune Center Notre Dame named?\n",
      "In what year did the student union building at Notre Dame get renamed to LaFortune Center?\n",
      "What is the annual budget of Notre Dame's LaFortune Center?\n",
      "Which person oversaw the creation of a science hall at Notre Dame in 1883?\n",
      "How large in square feet is the LaFortune Center at Notre Dame?\n",
      "How many halls are at Notre Dame that house students?\n",
      "Construction for which hall started on March 8th 2007 at Notre Dame?\n",
      "Which baseball stadium is found at Notre Dame?\n",
      "Which library was built at Notre Dame in 1963?\n",
      "How many books are housed at the Theodore Hesburgh Library?\n",
      "Gustavo Gutierrez is faculty of which institute?\n",
      "Notre Dame got a \"B\" for its sustainability practices from which entity?\n",
      "In what year did Notre Dame create the Office of Sustainability?\n",
      "What percentage of the food served at Notre Dame is locally grown?\n",
      "In what year did Notre Dame first have a facility in England?\n",
      "At which location is the London Center operated by Notre Dame found?\n",
      "Notre Dame has a center in Beijing, what is it referred to as?\n",
      "In what year did the Suffolk Street location start to house a Notre Dame facility?\n",
      "On which university did Notre Dame base its curriculum on?\n",
      "In what year did the College of Arts and Letters at Notre Dame grant its first degree?\n",
      "What was Notre Dame's first college?\n",
      "In what year was the The College of Arts and Letters at Notre Dame created?\n",
      "How many BA majors does the College of Arts and Letters at Notre Dame offer?\n",
      "Which hall at Notre Dame contains the current College of Science?\n",
      "Which president at Notre Dame created the College of Science?\n",
      "In what year was the Notre Dame College of Science formed?\n",
      "How many years long was a scientific course under Patrick Dillon at Notre Dame?\n",
      "How many undergrad students attend the College of Science at Notre Dame today?\n",
      "In 1899 Notre Dame formed which college?\n",
      "In what building is the current School of Architecture housed at Notre Dame?\n",
      "Which prestigious prize does the School of Architecture at Notre Dame give out?\n",
      "What length is the course of study at the Notre Dame School of Architecture?\n",
      "In which location do students of the School of Architecture of Notre Dame spend their 3rd year?\n",
      "How many books are held by the Notre Dame libraries?\n",
      "In what year did the opening of a theology library at Notre Dame occur?\n",
      "Where is the theology library at Notre Dame?\n",
      "Currently where does Notre Dame's library rank in the nation?\n",
      "Who did Waldemar Gurian receive his tutelage under while seeking his doctorate?\n",
      "What was Ivan Meštrović known for being?\n",
      "What field of study did Anton-Hermann Chroust specialize in?\n",
      "From where did Anton-Hermann Chroust come to reach Notre Dame?\n",
      "What caused many intellectual Catholics to leave europe in the 1930s?\n",
      "The school known as Notre Dame is known by a more lengthy name, what is it?\n",
      "The French words Notre Dame du Lac translate to what in English?\n",
      "How large is Notre Dame in acres?\n",
      "Who is the patron saint of Notre Dame?\n",
      "What type of institution is the Notre Dame?\n",
      "There were multiple students from Notre Dame who entered the Pro Football Hall of Fame, how many?\n",
      "How many students at Notre Dame received the Heisman Trophy?\n",
      "Which athletic association are the student athletes at Notre Dame a part of?\n",
      "What caused Notre Dame to become notable in the early 20th century?\n",
      "Which 20th century Notre Dame football coach is most notable?\n",
      "Where among US universities does Notre Dame rank?\n",
      "How many individual colleges are part of Notre Dame?\n",
      "Which prize does the Architecture School at Notre Dame give out?\n",
      "Which art museum does Notre Dame administer?\n",
      "How many doctorate and masters programs are available at Notre Dame?\n",
      "Which church was Father Edward Sorin representing?\n",
      "On what date did brothers from Holy Cross arrive at the future location of Notre Dame?\n",
      "Which individual offered land to Father Edward Sorin?\n",
      "In what year was Father Edward Sorin given two years to create a college?\n",
      "Which structure was the first used for the purposes of the college?\n",
      "In what year did the original Sorin built Main Building get replaced?\n",
      "Which individual began a library at Notre Dame?\n",
      "In what year did the initial degrees get handed out at Notre Dame?\n",
      "In what year was the library at Notre Dame started?\n",
      "In what year had the library at Notre Dame reach 10,000 books?\n",
      "Which internet radio station of Notre Dame is served as an internet stream?\n",
      "Which television station finds its home at Notre Dame?\n",
      "Which radio station provides radio to the students of Notre Dame at 88.9 FM?\n",
      "How many programs did NDtv feature in 2002?\n",
      "There were protested as a part of the construction at Eddy Street Commons, they came due tot he hiring of whom?\n",
      "Who is the developer of Eddy Street Commons?\n",
      "Which entity did Notre Dame hire to build a parking structure outside of Eddy Street Commons?\n",
      "When was ground broke on the Eddy Street Commons Project of Notre Dame?\n",
      "How much is Eddy Street Commons at Notre Dame expected to cost?\n",
      "There is a conference that the male hockey team of Notre Dame competes in, what is it?\n",
      "In what conference did the Fighting Irish take part in in 2012?\n",
      "Which league did Notre Dame Fighting Irish teams participate in in 1982?\n",
      "What when conference do the Notre Dame fencing teams take part in?\n",
      "What does the acronym NCAA stand for?\n",
      "Where did the Fighting Irish hockey team compete prior to a move to Hockey East, in terms of conference?\n",
      "What type of mascot do the Notre Dame sport teams have?\n",
      "How many teams in each season do the Fighting Irish commit to play against ACC opponents?\n",
      "To what conference did the Fighting Irish go after the Big East?\n",
      "What colors are the official ones used by Notre Dame in sport competition?\n",
      "What is notable about the Notre Dame marching band?\n",
      "When did the Notre Dame marching band form?\n",
      "What is the value of the contract between Under Armour and Notre Dame?\n",
      "Who currently provides uniforms to Notre Dame sport teams?\n",
      "What is the Notre Dame fight song?\n",
      "What university is Notre Dame tied with in terms of most Heisman Trophy winners?\n",
      "Against which team does Notre Dame compete for the Jeweled Shillelagh?\n",
      "In terms of Notre Dame students in the College Football Hall of Fame the amount of students named is what ?\n",
      "In what year did Notre Dame football begin?\n",
      "Which team did Notre Dame's football team find inspiration from?\n",
      "How many seats are in Notre Dame Stadium?\n",
      "Which person portrayed Knute Rockne in the 1940 movie \"Knute Rockne?\"\n",
      "Against which opponent did Knute Rockne tell his team to \"win one for the Gipper?\"\n",
      "Ronald Reagan played the role of whom in 1940's \"Knute Rockne?\"\n",
      "What notable football player played at Notre Dame from 1916 to 1920?\n",
      "From where does the Band of the Fighting Irish lead a march to the Notre Dame Stadium for football home games?\n",
      "What occurs at midnight preceding a football home game at Notre Dame?\n",
      "On what day do Notre Dame home football games occur?\n",
      "What is displayed at Zahm House for football home games at Notre Dame?\n",
      "What songs does the trumpet section of the Band of the Fighting Irish play preceding home football games?\n",
      "How many wins does the Notre Dame men's basketball team have?\n",
      "Which Notre Dame men's basketball player has the record for more points in one game?\n",
      "Who was the Notre Dame men's basketball coach in 2014?\n",
      "How many schools have a similar men's basketball record to Notre Dame in terms of wins?\n",
      "How many NCAA tournaments did the Notre Dame men's basketball team take part in?\n",
      "Who wrote the original lyrics to the Notre Dame Victory March?\n",
      "In what year did Michael J. Shea graduate from Notre Dame?\n",
      "Who is responsible for writing the music for \"Notre Dame Victory March?\"\n",
      "In what year did \"Notre Dame Victory March\" get copyrighted?\n",
      "To where are the loyal sons in \"Notre Dame Fight Song\" marching?\n",
      "Ronald Reagan had a nickname, what was it?\n",
      "Which person was a former comrade to Ted Striker in the film Airplane!?\n",
      "Who starred as Daniel Ruettiger in the film Rudy?\n",
      "Pat O'Brien portrayed which person in the film Knute Rockne?\n",
      "In what film did a parody of the \"Win one for the Gipper\" speech appear?\n",
      "Which Secretary of State attended Notre Dame?\n",
      "Who is the current president of Notre Dame?\n",
      "Mariel Zagunis is notable for winning what?\n",
      "Which Notre Dame alum from the College of Science won a Nobel Prize?\n",
      "Which notable astronaut is known to have attended Notre Dame?\n"
     ]
    }
   ],
   "source": [
    "for index in range(1):\n",
    "    \n",
    "    for each_question in list_questions_perDOC[index]:\n",
    "        \n",
    "        sentence1 = word_tokenize(each_question)\n",
    "        sentence2 = word_tokenize(' '.join(compact_dataframe.context[index]))\n",
    "        \n",
    "        answer_value = model_Google.wmdistance(sentence1, )        \n",
    "        "
   ]
  },
  {
   "cell_type": "code",
   "execution_count": null,
   "metadata": {
    "collapsed": true,
    "deletable": true,
    "editable": true
   },
   "outputs": [],
   "source": []
  }
 ],
 "metadata": {
  "kernelspec": {
   "display_name": "Python 3",
   "language": "python",
   "name": "python3"
  },
  "language_info": {
   "codemirror_mode": {
    "name": "ipython",
    "version": 3
   },
   "file_extension": ".py",
   "mimetype": "text/x-python",
   "name": "python",
   "nbconvert_exporter": "python",
   "pygments_lexer": "ipython3",
   "version": "3.5.2"
  }
 },
 "nbformat": 4,
 "nbformat_minor": 2
}
