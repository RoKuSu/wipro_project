{
 "cells": [
  {
   "cell_type": "code",
   "execution_count": 450,
   "metadata": {
    "collapsed": false
   },
   "outputs": [],
   "source": [
    "# import statements\n",
    "import numpy as np\n",
    "import matplotlib.pyplot as plt\n",
    "import math\n",
    "from sklearn import cross_validation\n",
    "import plotly.plotly as py\n",
    "import plotly.graph_objs as go\n",
    "from plotly.offline import plot    \n",
    "import plotly.graph_objs as go\n",
    "import pandas as pd\n",
    "from keras.models import Sequential\n",
    "from keras.layers import Dense, Dropout, Flatten\n",
    "from keras.optimizers import RMSprop\n",
    "from sklearn.cross_validation import train_test_split\n",
    "import keras\n",
    "from random import randint\n",
    "\n",
    "import random\n",
    "\n",
    "# --- GENSIM PACKAGE ---\n",
    "import gensim, logging\n",
    "from gensim.models import Word2Vec, doc2vec, Doc2Vec\n",
    "\n",
    "from gensim.models import doc2vec\n",
    "from collections import namedtuple\n",
    "\n",
    "\n",
    "%matplotlib inline"
   ]
  },
  {
   "cell_type": "markdown",
   "metadata": {},
   "source": [
    "\n",
    "### function to get doc2vec"
   ]
  },
  {
   "cell_type": "code",
   "execution_count": 175,
   "metadata": {
    "collapsed": true
   },
   "outputs": [],
   "source": [
    "def doc_to_vec(doc):\n",
    "    doc1 = []\n",
    "    doc1.append(doc)\n",
    "    docs = []\n",
    "    analyzedDocument = namedtuple('AnalyzedDocument', 'words tags')\n",
    "    for i, text in enumerate(doc1):\n",
    "        words = text.lower().split()\n",
    "        tags = [i]\n",
    "        docs.append(analyzedDocument(words, tags))\n",
    "\n",
    "    # Train model (set min_count = 1, if you want the model to work with the provided example data set)\n",
    "\n",
    "    model = doc2vec.Doc2Vec(docs, size = 200, window = 300, min_count = 1, workers = 4)\n",
    "\n",
    "    # Get the vectors\n",
    "\n",
    "    s = model.docvecs\n",
    "    return s"
   ]
  },
  {
   "cell_type": "markdown",
   "metadata": {},
   "source": [
    "### loading data"
   ]
  },
  {
   "cell_type": "code",
   "execution_count": 22,
   "metadata": {
    "collapsed": true
   },
   "outputs": [],
   "source": [
    "train_v1 = pd.read_json('../data/train-v1.1.json')\n",
    "test_v1 = pd.read_json('../data/dev-v1.1.json')\n",
    "squad_train = pd.read_json('../data/squad_train_doc.json')\n",
    "squad_test = pd.read_json('../data/squad_dev_doc.json')"
   ]
  },
  {
   "cell_type": "code",
   "execution_count": 24,
   "metadata": {
    "collapsed": true
   },
   "outputs": [],
   "source": [
    "data_train = squad_train\n",
    "data_train.rename(columns={'passages': 'documents'}, inplace=True)\n"
   ]
  },
  {
   "cell_type": "code",
   "execution_count": 25,
   "metadata": {
    "collapsed": false
   },
   "outputs": [
    {
     "data": {
      "text/html": [
       "<div>\n",
       "<table border=\"1\" class=\"dataframe\">\n",
       "  <thead>\n",
       "    <tr style=\"text-align: right;\">\n",
       "      <th></th>\n",
       "      <th>documents</th>\n",
       "      <th>title</th>\n",
       "    </tr>\n",
       "  </thead>\n",
       "  <tbody>\n",
       "    <tr>\n",
       "      <th>0</th>\n",
       "      <td>[{'questions': ['To whom did the Virgin Mary a...</td>\n",
       "      <td>University_of_Notre_Dame</td>\n",
       "    </tr>\n",
       "    <tr>\n",
       "      <th>1</th>\n",
       "      <td>[{'questions': ['In what city did Beyonce grow...</td>\n",
       "      <td>Beyoncé</td>\n",
       "    </tr>\n",
       "    <tr>\n",
       "      <th>2</th>\n",
       "      <td>[{'questions': ['How many ranges are part of t...</td>\n",
       "      <td>Montana</td>\n",
       "    </tr>\n",
       "    <tr>\n",
       "      <th>3</th>\n",
       "      <td>[{'questions': ['What 2001 case was declared g...</td>\n",
       "      <td>Genocide</td>\n",
       "    </tr>\n",
       "    <tr>\n",
       "      <th>4</th>\n",
       "      <td>[{'questions': ['What does emergence of resist...</td>\n",
       "      <td>Antibiotics</td>\n",
       "    </tr>\n",
       "  </tbody>\n",
       "</table>\n",
       "</div>"
      ],
      "text/plain": [
       "                                           documents                     title\n",
       "0  [{'questions': ['To whom did the Virgin Mary a...  University_of_Notre_Dame\n",
       "1  [{'questions': ['In what city did Beyonce grow...                   Beyoncé\n",
       "2  [{'questions': ['How many ranges are part of t...                   Montana\n",
       "3  [{'questions': ['What 2001 case was declared g...                  Genocide\n",
       "4  [{'questions': ['What does emergence of resist...               Antibiotics"
      ]
     },
     "execution_count": 25,
     "metadata": {},
     "output_type": "execute_result"
    }
   ],
   "source": [
    "data_train.head()"
   ]
  },
  {
   "cell_type": "markdown",
   "metadata": {},
   "source": [
    "### Document list"
   ]
  },
  {
   "cell_type": "code",
   "execution_count": 26,
   "metadata": {
    "collapsed": true
   },
   "outputs": [],
   "source": [
    "title_list = [data_train.title[i] for i in range(data_train.shape[0])]"
   ]
  },
  {
   "cell_type": "markdown",
   "metadata": {},
   "source": [
    "### Segregating Dataframe"
   ]
  },
  {
   "cell_type": "code",
   "execution_count": 27,
   "metadata": {
    "collapsed": true
   },
   "outputs": [],
   "source": [
    "## Returns list of all context and list of all question sets\n",
    "\n",
    "def get_compact_dataframe():\n",
    "    context_list = []\n",
    "    question_list = []\n",
    "    \n",
    "    for doc in data_train.documents:\n",
    "        context_list.append(get_each_context_each_questionSet(doc)[0])\n",
    "        question_list.append(get_each_context_each_questionSet(doc)[1])\n",
    "    \n",
    "    return context_list, question_list"
   ]
  },
  {
   "cell_type": "code",
   "execution_count": 28,
   "metadata": {
    "collapsed": true
   },
   "outputs": [],
   "source": [
    "## Pass a document and it returns list of context and list of set of questions\n",
    "\n",
    "def get_each_context_each_questionSet(document):\n",
    "    each_doc_context_list = [document[i]['context'] for i in range(len(document))]\n",
    "    each_doc_question_list = [document[i]['questions'] for i in range(len(document))]\n",
    "    return  each_doc_context_list, each_doc_question_list"
   ]
  },
  {
   "cell_type": "code",
   "execution_count": 29,
   "metadata": {
    "collapsed": true
   },
   "outputs": [],
   "source": [
    "context_list, question_list = get_compact_dataframe()[0], get_compact_dataframe()[1]\n",
    "compact_dataframe = pd.DataFrame({'title':title_list, 'context':context_list, 'questions': question_list})"
   ]
  },
  {
   "cell_type": "markdown",
   "metadata": {},
   "source": [
    "## DATAFRAME"
   ]
  },
  {
   "cell_type": "code",
   "execution_count": 30,
   "metadata": {
    "collapsed": false
   },
   "outputs": [
    {
     "data": {
      "text/html": [
       "<div>\n",
       "<table border=\"1\" class=\"dataframe\">\n",
       "  <thead>\n",
       "    <tr style=\"text-align: right;\">\n",
       "      <th></th>\n",
       "      <th>context</th>\n",
       "      <th>questions</th>\n",
       "      <th>title</th>\n",
       "    </tr>\n",
       "  </thead>\n",
       "  <tbody>\n",
       "    <tr>\n",
       "      <th>0</th>\n",
       "      <td>[Architecturally, the school has a Catholic ch...</td>\n",
       "      <td>[[To whom did the Virgin Mary allegedly appear...</td>\n",
       "      <td>University_of_Notre_Dame</td>\n",
       "    </tr>\n",
       "    <tr>\n",
       "      <th>1</th>\n",
       "      <td>[Beyoncé Giselle Knowles-Carter (/biːˈjɒnseɪ/ ...</td>\n",
       "      <td>[[In what city did Beyonce grow up?, In what R...</td>\n",
       "      <td>Beyoncé</td>\n",
       "    </tr>\n",
       "    <tr>\n",
       "      <th>2</th>\n",
       "      <td>[Montana i/mɒnˈtænə/ is a state in the Western...</td>\n",
       "      <td>[[How many ranges are part of the Rocky Mounta...</td>\n",
       "      <td>Montana</td>\n",
       "    </tr>\n",
       "    <tr>\n",
       "      <th>3</th>\n",
       "      <td>[The phrase \"in whole or in part\" has been sub...</td>\n",
       "      <td>[[What 2001 case was declared genocide by the ...</td>\n",
       "      <td>Genocide</td>\n",
       "    </tr>\n",
       "    <tr>\n",
       "      <th>4</th>\n",
       "      <td>[The emergence of resistance of bacteria to an...</td>\n",
       "      <td>[[What does emergence of resistance reflect?, ...</td>\n",
       "      <td>Antibiotics</td>\n",
       "    </tr>\n",
       "  </tbody>\n",
       "</table>\n",
       "</div>"
      ],
      "text/plain": [
       "                                             context  \\\n",
       "0  [Architecturally, the school has a Catholic ch...   \n",
       "1  [Beyoncé Giselle Knowles-Carter (/biːˈjɒnseɪ/ ...   \n",
       "2  [Montana i/mɒnˈtænə/ is a state in the Western...   \n",
       "3  [The phrase \"in whole or in part\" has been sub...   \n",
       "4  [The emergence of resistance of bacteria to an...   \n",
       "\n",
       "                                           questions                     title  \n",
       "0  [[To whom did the Virgin Mary allegedly appear...  University_of_Notre_Dame  \n",
       "1  [[In what city did Beyonce grow up?, In what R...                   Beyoncé  \n",
       "2  [[How many ranges are part of the Rocky Mounta...                   Montana  \n",
       "3  [[What 2001 case was declared genocide by the ...                  Genocide  \n",
       "4  [[What does emergence of resistance reflect?, ...               Antibiotics  "
      ]
     },
     "execution_count": 30,
     "metadata": {},
     "output_type": "execute_result"
    }
   ],
   "source": [
    "compact_dataframe.head()"
   ]
  },
  {
   "cell_type": "code",
   "execution_count": 31,
   "metadata": {
    "collapsed": false
   },
   "outputs": [
    {
     "data": {
      "text/html": [
       "<div>\n",
       "<table border=\"1\" class=\"dataframe\">\n",
       "  <thead>\n",
       "    <tr style=\"text-align: right;\">\n",
       "      <th></th>\n",
       "      <th>context</th>\n",
       "      <th>questions</th>\n",
       "      <th>title</th>\n",
       "    </tr>\n",
       "  </thead>\n",
       "  <tbody>\n",
       "    <tr>\n",
       "      <th>10</th>\n",
       "      <td>[The 2008 Sichuan earthquake or the Great Sich...</td>\n",
       "      <td>[[What was the earthquake named?, What did the...</td>\n",
       "      <td>2008_Sichuan_earthquake</td>\n",
       "    </tr>\n",
       "  </tbody>\n",
       "</table>\n",
       "</div>"
      ],
      "text/plain": [
       "                                              context  \\\n",
       "10  [The 2008 Sichuan earthquake or the Great Sich...   \n",
       "\n",
       "                                            questions                    title  \n",
       "10  [[What was the earthquake named?, What did the...  2008_Sichuan_earthquake  "
      ]
     },
     "execution_count": 31,
     "metadata": {},
     "output_type": "execute_result"
    }
   ],
   "source": [
    "compact_dataframe[compact_dataframe.title == '2008_Sichuan_earthquake']"
   ]
  },
  {
   "cell_type": "markdown",
   "metadata": {},
   "source": [
    "### Total questions"
   ]
  },
  {
   "cell_type": "code",
   "execution_count": 32,
   "metadata": {
    "collapsed": true
   },
   "outputs": [],
   "source": [
    "list_questions_perDOC = []\n",
    "count = 0\n",
    "\n",
    "for each_doc_question in compact_dataframe.questions:\n",
    "\n",
    "    Doc_questions = []\n",
    "    for each_Set in each_doc_question:\n",
    "        for each_question in each_Set:\n",
    "            Doc_questions.append(each_question)\n",
    "            count +=1\n",
    "    \n",
    "    list_questions_perDOC.append(Doc_questions)"
   ]
  },
  {
   "cell_type": "markdown",
   "metadata": {},
   "source": [
    "### Implementing Gensim "
   ]
  },
  {
   "cell_type": "code",
   "execution_count": 35,
   "metadata": {
    "collapsed": true
   },
   "outputs": [],
   "source": [
    "class DocIterator(object):\n",
    "    \n",
    "    ## Initailizes document's list(doc1,doc2...) and its label's list('Book_1','Book_2',...)\n",
    "    def __init__(self, doc_list, labels_list):\n",
    "        self.doc_list = doc_list\n",
    "        self.labels_list = labels_list\n",
    "    \n",
    "    ## Assigns label1 to a list of all words in doc1, label2 to all words in doc2, etc.\n",
    "    def __iter__(self):\n",
    "        \n",
    "        for idx, doc in enumerate(self.doc_list):\n",
    "            yield doc2vec.LabeledSentence(words=doc.split(), tags=[self.labels_list[idx]])"
   ]
  },
  {
   "cell_type": "code",
   "execution_count": 36,
   "metadata": {
    "collapsed": true
   },
   "outputs": [],
   "source": [
    "## Contains the whole data\n",
    "\n",
    "data = []\n",
    "docLabels = title_list\n",
    "\n",
    "for i in docLabels:\n",
    "    x = compact_dataframe[compact_dataframe.title == i].context.sum()\n",
    "    y = ' '.join(x)\n",
    "    data.append(y)"
   ]
  },
  {
   "cell_type": "code",
   "execution_count": 37,
   "metadata": {
    "collapsed": true
   },
   "outputs": [],
   "source": [
    "iter_docs = DocIterator(data, docLabels)"
   ]
  },
  {
   "cell_type": "markdown",
   "metadata": {},
   "source": [
    "### Model"
   ]
  },
  {
   "cell_type": "code",
   "execution_count": 38,
   "metadata": {
    "collapsed": true
   },
   "outputs": [],
   "source": [
    "model = Doc2Vec(iter_docs, size=200, window=50, min_count=1, workers=11, alpha=0.025, min_alpha=0.025, dbow_words = 1, iter = 20)"
   ]
  },
  {
   "cell_type": "markdown",
   "metadata": {},
   "source": [
    "### creating dummy dataframe using five questions from 5 documents"
   ]
  },
  {
   "cell_type": "code",
   "execution_count": 44,
   "metadata": {
    "collapsed": true
   },
   "outputs": [],
   "source": [
    "questions_list = ['To whom did the Virgin Mary allegedly appear in 1858 in Lourdes France?','In what city did Beyonce grow up?',\n",
    "                 'How many ranges are part of the Rocky Mountains?',\n",
    "                  'What 2001 case was declared genocide by the International Criminal Tribune for the Former Yugoslavia (ICTY)?',\n",
    "                 'What does emergence of resistance reflect?']"
   ]
  },
  {
   "cell_type": "code",
   "execution_count": 64,
   "metadata": {
    "collapsed": false
   },
   "outputs": [],
   "source": [
    "documents_doc2vec = []\n",
    "for i in range(5):\n",
    "    documents_doc2vec.append(model.docvecs[i])\n"
   ]
  },
  {
   "cell_type": "code",
   "execution_count": 123,
   "metadata": {
    "collapsed": false
   },
   "outputs": [],
   "source": [
    "data_d = []\n",
    "for i in range(5):\n",
    "    for j in range(5):\n",
    "        data_d.append(title_list[j])  "
   ]
  },
  {
   "cell_type": "code",
   "execution_count": 124,
   "metadata": {
    "collapsed": true
   },
   "outputs": [],
   "source": [
    "data_q = []\n",
    "for i in range(5):\n",
    "    for j in range(5):\n",
    "        data_q.append(questions_list[i])"
   ]
  },
  {
   "cell_type": "code",
   "execution_count": 125,
   "metadata": {
    "collapsed": false
   },
   "outputs": [],
   "source": [
    "def scores():\n",
    "    scores = []\n",
    "    for i in range(25):\n",
    "        scores.append(random.random())\n",
    "    return scores    "
   ]
  },
  {
   "cell_type": "code",
   "execution_count": 126,
   "metadata": {
    "collapsed": false
   },
   "outputs": [],
   "source": [
    "s1 = scores()\n",
    "s2 = scores()\n",
    "s3 = scores()\n",
    "s4 = scores()"
   ]
  },
  {
   "cell_type": "code",
   "execution_count": 127,
   "metadata": {
    "collapsed": false
   },
   "outputs": [
    {
     "name": "stdout",
     "output_type": "stream",
     "text": [
      "20\n"
     ]
    }
   ],
   "source": [
    "print(randint(2,25))"
   ]
  },
  {
   "cell_type": "code",
   "execution_count": 139,
   "metadata": {
    "collapsed": false
   },
   "outputs": [
    {
     "data": {
      "text/plain": [
       "[2]"
      ]
     },
     "execution_count": 139,
     "metadata": {},
     "output_type": "execute_result"
    }
   ],
   "source": [
    "random.sample(range(5), 1)"
   ]
  },
  {
   "cell_type": "code",
   "execution_count": 157,
   "metadata": {
    "collapsed": false
   },
   "outputs": [
    {
     "data": {
      "text/plain": [
       "[1, 2, 3, 4, 5, 2, 1, 3, 4, 5, 2, 3, 1, 4, 5, 2, 3, 4, 1, 5, 2, 3, 4, 5, 1]"
      ]
     },
     "execution_count": 157,
     "metadata": {},
     "output_type": "execute_result"
    }
   ],
   "source": [
    "y =[]\n",
    "rank = []\n",
    "for i in range(5):\n",
    "    k = 2\n",
    "    for j in range(5):\n",
    "        if(i==j):\n",
    "            y.append(1)\n",
    "            rank.append(1)\n",
    "        else:\n",
    "            y.append(0)\n",
    "            rank.append(k)\n",
    "            k += 1\n",
    "rank"
   ]
  },
  {
   "cell_type": "code",
   "execution_count": 158,
   "metadata": {
    "collapsed": false
   },
   "outputs": [],
   "source": [
    "q_vs_d = pd.DataFrame(\n",
    "    {'questions': data_q,\n",
    "     'documents': data_d,\n",
    "     's1': s1,\n",
    "     's2': s2,\n",
    "     's3': s3,\n",
    "     's4': s4,\n",
    "     'y': y,\n",
    "     'rank':rank\n",
    "    })"
   ]
  },
  {
   "cell_type": "code",
   "execution_count": null,
   "metadata": {
    "collapsed": true
   },
   "outputs": [],
   "source": [
    "q_vs_d"
   ]
  },
  {
   "cell_type": "code",
   "execution_count": 308,
   "metadata": {
    "collapsed": false
   },
   "outputs": [
    {
     "data": {
      "text/html": [
       "<div>\n",
       "<table border=\"1\" class=\"dataframe\">\n",
       "  <thead>\n",
       "    <tr style=\"text-align: right;\">\n",
       "      <th></th>\n",
       "      <th>documents</th>\n",
       "      <th>questions</th>\n",
       "      <th>rank</th>\n",
       "      <th>s1</th>\n",
       "      <th>s2</th>\n",
       "      <th>s3</th>\n",
       "      <th>s4</th>\n",
       "      <th>y</th>\n",
       "    </tr>\n",
       "  </thead>\n",
       "  <tbody>\n",
       "    <tr>\n",
       "      <th>0</th>\n",
       "      <td>University_of_Notre_Dame</td>\n",
       "      <td>To whom did the Virgin Mary allegedly appear i...</td>\n",
       "      <td>1</td>\n",
       "      <td>0.033688</td>\n",
       "      <td>0.980017</td>\n",
       "      <td>0.732910</td>\n",
       "      <td>0.344520</td>\n",
       "      <td>1</td>\n",
       "    </tr>\n",
       "    <tr>\n",
       "      <th>1</th>\n",
       "      <td>Beyoncé</td>\n",
       "      <td>To whom did the Virgin Mary allegedly appear i...</td>\n",
       "      <td>2</td>\n",
       "      <td>0.034995</td>\n",
       "      <td>0.053208</td>\n",
       "      <td>0.037961</td>\n",
       "      <td>0.349009</td>\n",
       "      <td>0</td>\n",
       "    </tr>\n",
       "    <tr>\n",
       "      <th>2</th>\n",
       "      <td>Montana</td>\n",
       "      <td>To whom did the Virgin Mary allegedly appear i...</td>\n",
       "      <td>3</td>\n",
       "      <td>0.229629</td>\n",
       "      <td>0.199111</td>\n",
       "      <td>0.524838</td>\n",
       "      <td>0.636342</td>\n",
       "      <td>0</td>\n",
       "    </tr>\n",
       "    <tr>\n",
       "      <th>3</th>\n",
       "      <td>Genocide</td>\n",
       "      <td>To whom did the Virgin Mary allegedly appear i...</td>\n",
       "      <td>4</td>\n",
       "      <td>0.023771</td>\n",
       "      <td>0.383044</td>\n",
       "      <td>0.529787</td>\n",
       "      <td>0.272755</td>\n",
       "      <td>0</td>\n",
       "    </tr>\n",
       "    <tr>\n",
       "      <th>4</th>\n",
       "      <td>Antibiotics</td>\n",
       "      <td>To whom did the Virgin Mary allegedly appear i...</td>\n",
       "      <td>5</td>\n",
       "      <td>0.883591</td>\n",
       "      <td>0.318003</td>\n",
       "      <td>0.605177</td>\n",
       "      <td>0.360128</td>\n",
       "      <td>0</td>\n",
       "    </tr>\n",
       "    <tr>\n",
       "      <th>5</th>\n",
       "      <td>University_of_Notre_Dame</td>\n",
       "      <td>In what city did Beyonce grow up?</td>\n",
       "      <td>2</td>\n",
       "      <td>0.667515</td>\n",
       "      <td>0.212016</td>\n",
       "      <td>0.827821</td>\n",
       "      <td>0.241444</td>\n",
       "      <td>0</td>\n",
       "    </tr>\n",
       "    <tr>\n",
       "      <th>6</th>\n",
       "      <td>Beyoncé</td>\n",
       "      <td>In what city did Beyonce grow up?</td>\n",
       "      <td>1</td>\n",
       "      <td>0.556341</td>\n",
       "      <td>0.300489</td>\n",
       "      <td>0.902925</td>\n",
       "      <td>0.569973</td>\n",
       "      <td>1</td>\n",
       "    </tr>\n",
       "    <tr>\n",
       "      <th>7</th>\n",
       "      <td>Montana</td>\n",
       "      <td>In what city did Beyonce grow up?</td>\n",
       "      <td>3</td>\n",
       "      <td>0.429982</td>\n",
       "      <td>0.200030</td>\n",
       "      <td>0.642687</td>\n",
       "      <td>0.640343</td>\n",
       "      <td>0</td>\n",
       "    </tr>\n",
       "    <tr>\n",
       "      <th>8</th>\n",
       "      <td>Genocide</td>\n",
       "      <td>In what city did Beyonce grow up?</td>\n",
       "      <td>4</td>\n",
       "      <td>0.685385</td>\n",
       "      <td>0.221075</td>\n",
       "      <td>0.569412</td>\n",
       "      <td>0.731313</td>\n",
       "      <td>0</td>\n",
       "    </tr>\n",
       "    <tr>\n",
       "      <th>9</th>\n",
       "      <td>Antibiotics</td>\n",
       "      <td>In what city did Beyonce grow up?</td>\n",
       "      <td>5</td>\n",
       "      <td>0.581354</td>\n",
       "      <td>0.655563</td>\n",
       "      <td>0.129616</td>\n",
       "      <td>0.863337</td>\n",
       "      <td>0</td>\n",
       "    </tr>\n",
       "    <tr>\n",
       "      <th>10</th>\n",
       "      <td>University_of_Notre_Dame</td>\n",
       "      <td>How many ranges are part of the Rocky Mountains?</td>\n",
       "      <td>2</td>\n",
       "      <td>0.935098</td>\n",
       "      <td>0.102153</td>\n",
       "      <td>0.652779</td>\n",
       "      <td>0.883868</td>\n",
       "      <td>0</td>\n",
       "    </tr>\n",
       "    <tr>\n",
       "      <th>11</th>\n",
       "      <td>Beyoncé</td>\n",
       "      <td>How many ranges are part of the Rocky Mountains?</td>\n",
       "      <td>3</td>\n",
       "      <td>0.842565</td>\n",
       "      <td>0.463998</td>\n",
       "      <td>0.658940</td>\n",
       "      <td>0.057870</td>\n",
       "      <td>0</td>\n",
       "    </tr>\n",
       "    <tr>\n",
       "      <th>12</th>\n",
       "      <td>Montana</td>\n",
       "      <td>How many ranges are part of the Rocky Mountains?</td>\n",
       "      <td>1</td>\n",
       "      <td>0.127861</td>\n",
       "      <td>0.715412</td>\n",
       "      <td>0.382585</td>\n",
       "      <td>0.160138</td>\n",
       "      <td>1</td>\n",
       "    </tr>\n",
       "    <tr>\n",
       "      <th>13</th>\n",
       "      <td>Genocide</td>\n",
       "      <td>How many ranges are part of the Rocky Mountains?</td>\n",
       "      <td>4</td>\n",
       "      <td>0.816258</td>\n",
       "      <td>0.211182</td>\n",
       "      <td>0.620317</td>\n",
       "      <td>0.702787</td>\n",
       "      <td>0</td>\n",
       "    </tr>\n",
       "    <tr>\n",
       "      <th>14</th>\n",
       "      <td>Antibiotics</td>\n",
       "      <td>How many ranges are part of the Rocky Mountains?</td>\n",
       "      <td>5</td>\n",
       "      <td>0.703486</td>\n",
       "      <td>0.584716</td>\n",
       "      <td>0.383385</td>\n",
       "      <td>0.096926</td>\n",
       "      <td>0</td>\n",
       "    </tr>\n",
       "    <tr>\n",
       "      <th>15</th>\n",
       "      <td>University_of_Notre_Dame</td>\n",
       "      <td>What 2001 case was declared genocide by the In...</td>\n",
       "      <td>2</td>\n",
       "      <td>0.023536</td>\n",
       "      <td>0.581508</td>\n",
       "      <td>0.997404</td>\n",
       "      <td>0.581372</td>\n",
       "      <td>0</td>\n",
       "    </tr>\n",
       "    <tr>\n",
       "      <th>16</th>\n",
       "      <td>Beyoncé</td>\n",
       "      <td>What 2001 case was declared genocide by the In...</td>\n",
       "      <td>3</td>\n",
       "      <td>0.061691</td>\n",
       "      <td>0.309216</td>\n",
       "      <td>0.417231</td>\n",
       "      <td>0.265530</td>\n",
       "      <td>0</td>\n",
       "    </tr>\n",
       "    <tr>\n",
       "      <th>17</th>\n",
       "      <td>Montana</td>\n",
       "      <td>What 2001 case was declared genocide by the In...</td>\n",
       "      <td>4</td>\n",
       "      <td>0.163416</td>\n",
       "      <td>0.532838</td>\n",
       "      <td>0.525486</td>\n",
       "      <td>0.512215</td>\n",
       "      <td>0</td>\n",
       "    </tr>\n",
       "    <tr>\n",
       "      <th>18</th>\n",
       "      <td>Genocide</td>\n",
       "      <td>What 2001 case was declared genocide by the In...</td>\n",
       "      <td>1</td>\n",
       "      <td>0.034830</td>\n",
       "      <td>0.014235</td>\n",
       "      <td>0.244161</td>\n",
       "      <td>0.137888</td>\n",
       "      <td>1</td>\n",
       "    </tr>\n",
       "    <tr>\n",
       "      <th>19</th>\n",
       "      <td>Antibiotics</td>\n",
       "      <td>What 2001 case was declared genocide by the In...</td>\n",
       "      <td>5</td>\n",
       "      <td>0.304153</td>\n",
       "      <td>0.315711</td>\n",
       "      <td>0.255719</td>\n",
       "      <td>0.591854</td>\n",
       "      <td>0</td>\n",
       "    </tr>\n",
       "    <tr>\n",
       "      <th>20</th>\n",
       "      <td>University_of_Notre_Dame</td>\n",
       "      <td>What does emergence of resistance reflect?</td>\n",
       "      <td>2</td>\n",
       "      <td>0.428275</td>\n",
       "      <td>0.754307</td>\n",
       "      <td>0.101633</td>\n",
       "      <td>0.986525</td>\n",
       "      <td>0</td>\n",
       "    </tr>\n",
       "    <tr>\n",
       "      <th>21</th>\n",
       "      <td>Beyoncé</td>\n",
       "      <td>What does emergence of resistance reflect?</td>\n",
       "      <td>3</td>\n",
       "      <td>0.721546</td>\n",
       "      <td>0.249716</td>\n",
       "      <td>0.943430</td>\n",
       "      <td>0.787036</td>\n",
       "      <td>0</td>\n",
       "    </tr>\n",
       "    <tr>\n",
       "      <th>22</th>\n",
       "      <td>Montana</td>\n",
       "      <td>What does emergence of resistance reflect?</td>\n",
       "      <td>4</td>\n",
       "      <td>0.968670</td>\n",
       "      <td>0.124906</td>\n",
       "      <td>0.244041</td>\n",
       "      <td>0.004466</td>\n",
       "      <td>0</td>\n",
       "    </tr>\n",
       "    <tr>\n",
       "      <th>23</th>\n",
       "      <td>Genocide</td>\n",
       "      <td>What does emergence of resistance reflect?</td>\n",
       "      <td>5</td>\n",
       "      <td>0.111640</td>\n",
       "      <td>0.693933</td>\n",
       "      <td>0.331318</td>\n",
       "      <td>0.213845</td>\n",
       "      <td>0</td>\n",
       "    </tr>\n",
       "    <tr>\n",
       "      <th>24</th>\n",
       "      <td>Antibiotics</td>\n",
       "      <td>What does emergence of resistance reflect?</td>\n",
       "      <td>1</td>\n",
       "      <td>0.647088</td>\n",
       "      <td>0.187690</td>\n",
       "      <td>0.357581</td>\n",
       "      <td>0.913120</td>\n",
       "      <td>1</td>\n",
       "    </tr>\n",
       "  </tbody>\n",
       "</table>\n",
       "</div>"
      ],
      "text/plain": [
       "                   documents  \\\n",
       "0   University_of_Notre_Dame   \n",
       "1                    Beyoncé   \n",
       "2                    Montana   \n",
       "3                   Genocide   \n",
       "4                Antibiotics   \n",
       "5   University_of_Notre_Dame   \n",
       "6                    Beyoncé   \n",
       "7                    Montana   \n",
       "8                   Genocide   \n",
       "9                Antibiotics   \n",
       "10  University_of_Notre_Dame   \n",
       "11                   Beyoncé   \n",
       "12                   Montana   \n",
       "13                  Genocide   \n",
       "14               Antibiotics   \n",
       "15  University_of_Notre_Dame   \n",
       "16                   Beyoncé   \n",
       "17                   Montana   \n",
       "18                  Genocide   \n",
       "19               Antibiotics   \n",
       "20  University_of_Notre_Dame   \n",
       "21                   Beyoncé   \n",
       "22                   Montana   \n",
       "23                  Genocide   \n",
       "24               Antibiotics   \n",
       "\n",
       "                                            questions  rank        s1  \\\n",
       "0   To whom did the Virgin Mary allegedly appear i...     1  0.033688   \n",
       "1   To whom did the Virgin Mary allegedly appear i...     2  0.034995   \n",
       "2   To whom did the Virgin Mary allegedly appear i...     3  0.229629   \n",
       "3   To whom did the Virgin Mary allegedly appear i...     4  0.023771   \n",
       "4   To whom did the Virgin Mary allegedly appear i...     5  0.883591   \n",
       "5                   In what city did Beyonce grow up?     2  0.667515   \n",
       "6                   In what city did Beyonce grow up?     1  0.556341   \n",
       "7                   In what city did Beyonce grow up?     3  0.429982   \n",
       "8                   In what city did Beyonce grow up?     4  0.685385   \n",
       "9                   In what city did Beyonce grow up?     5  0.581354   \n",
       "10   How many ranges are part of the Rocky Mountains?     2  0.935098   \n",
       "11   How many ranges are part of the Rocky Mountains?     3  0.842565   \n",
       "12   How many ranges are part of the Rocky Mountains?     1  0.127861   \n",
       "13   How many ranges are part of the Rocky Mountains?     4  0.816258   \n",
       "14   How many ranges are part of the Rocky Mountains?     5  0.703486   \n",
       "15  What 2001 case was declared genocide by the In...     2  0.023536   \n",
       "16  What 2001 case was declared genocide by the In...     3  0.061691   \n",
       "17  What 2001 case was declared genocide by the In...     4  0.163416   \n",
       "18  What 2001 case was declared genocide by the In...     1  0.034830   \n",
       "19  What 2001 case was declared genocide by the In...     5  0.304153   \n",
       "20         What does emergence of resistance reflect?     2  0.428275   \n",
       "21         What does emergence of resistance reflect?     3  0.721546   \n",
       "22         What does emergence of resistance reflect?     4  0.968670   \n",
       "23         What does emergence of resistance reflect?     5  0.111640   \n",
       "24         What does emergence of resistance reflect?     1  0.647088   \n",
       "\n",
       "          s2        s3        s4  y  \n",
       "0   0.980017  0.732910  0.344520  1  \n",
       "1   0.053208  0.037961  0.349009  0  \n",
       "2   0.199111  0.524838  0.636342  0  \n",
       "3   0.383044  0.529787  0.272755  0  \n",
       "4   0.318003  0.605177  0.360128  0  \n",
       "5   0.212016  0.827821  0.241444  0  \n",
       "6   0.300489  0.902925  0.569973  1  \n",
       "7   0.200030  0.642687  0.640343  0  \n",
       "8   0.221075  0.569412  0.731313  0  \n",
       "9   0.655563  0.129616  0.863337  0  \n",
       "10  0.102153  0.652779  0.883868  0  \n",
       "11  0.463998  0.658940  0.057870  0  \n",
       "12  0.715412  0.382585  0.160138  1  \n",
       "13  0.211182  0.620317  0.702787  0  \n",
       "14  0.584716  0.383385  0.096926  0  \n",
       "15  0.581508  0.997404  0.581372  0  \n",
       "16  0.309216  0.417231  0.265530  0  \n",
       "17  0.532838  0.525486  0.512215  0  \n",
       "18  0.014235  0.244161  0.137888  1  \n",
       "19  0.315711  0.255719  0.591854  0  \n",
       "20  0.754307  0.101633  0.986525  0  \n",
       "21  0.249716  0.943430  0.787036  0  \n",
       "22  0.124906  0.244041  0.004466  0  \n",
       "23  0.693933  0.331318  0.213845  0  \n",
       "24  0.187690  0.357581  0.913120  1  "
      ]
     },
     "execution_count": 308,
     "metadata": {},
     "output_type": "execute_result"
    }
   ],
   "source": [
    "q_vs_d"
   ]
  },
  {
   "cell_type": "code",
   "execution_count": 314,
   "metadata": {
    "collapsed": false
   },
   "outputs": [],
   "source": [
    "def input(question):\n",
    "    df1 = q_vs_d[((q_vs_d['questions'] == question)& (q_vs_d['rank'] == 1))]\n",
    "    df2 = q_vs_d[((q_vs_d['questions'] == question)& (q_vs_d['rank'] == max(rank)))]  \n",
    "    df3 = q_vs_d[((q_vs_d['questions'] == question)& (q_vs_d['rank'] == randint(2,4)))] \n",
    "    new_df = df1.append(df2, ignore_index=True)\n",
    "    new_df2 =new_df.append(df3, ignore_index=True)\n",
    "    for i in range(3):\n",
    "        new_df2['questions'][i] = doc_to_vec(question)[0]\n",
    "        new_df2['documents'][i] = model.docvecs[title_list.index(new_df2['documents'][i])]\n",
    "    y_train = new_df2['y']\n",
    "    x_train2 = new_df2[['s1','s2','s3','s4']] \n",
    "    new_df2.drop(['y','rank','s1','s2','s3','s4'],axis = 1, inplace = True)\n",
    "    x_train = new_df2\n",
    "    return x_train,y_train,x_train2\n",
    "    "
   ]
  },
  {
   "cell_type": "code",
   "execution_count": 408,
   "metadata": {
    "collapsed": false
   },
   "outputs": [
    {
     "name": "stderr",
     "output_type": "stream",
     "text": [
      "/home/user/classification/lib/python3.5/site-packages/ipykernel/__main__.py:8: SettingWithCopyWarning:\n",
      "\n",
      "\n",
      "A value is trying to be set on a copy of a slice from a DataFrame\n",
      "\n",
      "See the caveats in the documentation: http://pandas.pydata.org/pandas-docs/stable/indexing.html#indexing-view-versus-copy\n",
      "\n",
      "/home/user/classification/lib/python3.5/site-packages/ipykernel/__main__.py:9: SettingWithCopyWarning:\n",
      "\n",
      "\n",
      "A value is trying to be set on a copy of a slice from a DataFrame\n",
      "\n",
      "See the caveats in the documentation: http://pandas.pydata.org/pandas-docs/stable/indexing.html#indexing-view-versus-copy\n",
      "\n"
     ]
    }
   ],
   "source": [
    "x_train,y_train,x_train2 = input('To whom did the Virgin Mary allegedly appear in 1858 in Lourdes France?')"
   ]
  },
  {
   "cell_type": "code",
   "execution_count": 409,
   "metadata": {
    "collapsed": false
   },
   "outputs": [
    {
     "data": {
      "text/html": [
       "<div>\n",
       "<table border=\"1\" class=\"dataframe\">\n",
       "  <thead>\n",
       "    <tr style=\"text-align: right;\">\n",
       "      <th></th>\n",
       "      <th>documents</th>\n",
       "      <th>questions</th>\n",
       "    </tr>\n",
       "  </thead>\n",
       "  <tbody>\n",
       "    <tr>\n",
       "      <th>0</th>\n",
       "      <td>[6.17416, -2.46013, -4.98347, -0.958448, -10.4...</td>\n",
       "      <td>[-0.000606836, -0.00185484, 0.000355614, 0.001...</td>\n",
       "    </tr>\n",
       "    <tr>\n",
       "      <th>1</th>\n",
       "      <td>[-0.744325, 1.94375, -9.40504, -8.04373, -6.64...</td>\n",
       "      <td>[-0.000606836, -0.00185484, 0.000355614, 0.001...</td>\n",
       "    </tr>\n",
       "    <tr>\n",
       "      <th>2</th>\n",
       "      <td>[-2.57714, 2.51253, -2.02251, -4.12971, -4.442...</td>\n",
       "      <td>[-0.000606836, -0.00185484, 0.000355614, 0.001...</td>\n",
       "    </tr>\n",
       "  </tbody>\n",
       "</table>\n",
       "</div>"
      ],
      "text/plain": [
       "                                           documents  \\\n",
       "0  [6.17416, -2.46013, -4.98347, -0.958448, -10.4...   \n",
       "1  [-0.744325, 1.94375, -9.40504, -8.04373, -6.64...   \n",
       "2  [-2.57714, 2.51253, -2.02251, -4.12971, -4.442...   \n",
       "\n",
       "                                           questions  \n",
       "0  [-0.000606836, -0.00185484, 0.000355614, 0.001...  \n",
       "1  [-0.000606836, -0.00185484, 0.000355614, 0.001...  \n",
       "2  [-0.000606836, -0.00185484, 0.000355614, 0.001...  "
      ]
     },
     "execution_count": 409,
     "metadata": {},
     "output_type": "execute_result"
    }
   ],
   "source": [
    "x_train"
   ]
  },
  {
   "cell_type": "code",
   "execution_count": 410,
   "metadata": {
    "collapsed": false
   },
   "outputs": [
    {
     "data": {
      "text/html": [
       "<div>\n",
       "<table border=\"1\" class=\"dataframe\">\n",
       "  <thead>\n",
       "    <tr style=\"text-align: right;\">\n",
       "      <th></th>\n",
       "      <th>s1</th>\n",
       "      <th>s2</th>\n",
       "      <th>s3</th>\n",
       "      <th>s4</th>\n",
       "    </tr>\n",
       "  </thead>\n",
       "  <tbody>\n",
       "    <tr>\n",
       "      <th>0</th>\n",
       "      <td>0.033688</td>\n",
       "      <td>0.980017</td>\n",
       "      <td>0.732910</td>\n",
       "      <td>0.344520</td>\n",
       "    </tr>\n",
       "    <tr>\n",
       "      <th>1</th>\n",
       "      <td>0.883591</td>\n",
       "      <td>0.318003</td>\n",
       "      <td>0.605177</td>\n",
       "      <td>0.360128</td>\n",
       "    </tr>\n",
       "    <tr>\n",
       "      <th>2</th>\n",
       "      <td>0.023771</td>\n",
       "      <td>0.383044</td>\n",
       "      <td>0.529787</td>\n",
       "      <td>0.272755</td>\n",
       "    </tr>\n",
       "  </tbody>\n",
       "</table>\n",
       "</div>"
      ],
      "text/plain": [
       "         s1        s2        s3        s4\n",
       "0  0.033688  0.980017  0.732910  0.344520\n",
       "1  0.883591  0.318003  0.605177  0.360128\n",
       "2  0.023771  0.383044  0.529787  0.272755"
      ]
     },
     "execution_count": 410,
     "metadata": {},
     "output_type": "execute_result"
    }
   ],
   "source": [
    "x_train2"
   ]
  },
  {
   "cell_type": "code",
   "execution_count": 411,
   "metadata": {
    "collapsed": false
   },
   "outputs": [],
   "source": [
    "ytrain = y_train.values.tolist()\n",
    "ytrain = keras.utils.to_categorical(ytrain, 2)\n",
    "\n"
   ]
  },
  {
   "cell_type": "code",
   "execution_count": 474,
   "metadata": {
    "collapsed": false
   },
   "outputs": [
    {
     "data": {
      "text/plain": [
       "(3, 2)"
      ]
     },
     "execution_count": 474,
     "metadata": {},
     "output_type": "execute_result"
    }
   ],
   "source": [
    "xtrain.shape"
   ]
  },
  {
   "cell_type": "code",
   "execution_count": 413,
   "metadata": {
    "collapsed": false
   },
   "outputs": [],
   "source": [
    "xtrain = np.array(x_train)\n",
    "xtrain2 = np.array(x_train2)"
   ]
  },
  {
   "cell_type": "code",
   "execution_count": 465,
   "metadata": {
    "collapsed": false
   },
   "outputs": [
    {
     "data": {
      "text/plain": [
       "numpy.ndarray"
      ]
     },
     "execution_count": 465,
     "metadata": {},
     "output_type": "execute_result"
    }
   ],
   "source": [
    "type(xtrain)"
   ]
  },
  {
   "cell_type": "code",
   "execution_count": 471,
   "metadata": {
    "collapsed": false
   },
   "outputs": [
    {
     "data": {
      "text/plain": [
       "array([[[ array([  6.17415524,  -2.46012878,  -4.98346853,  -0.95844787,\n",
       "       -10.43505573,   0.02398554,  -0.04041549,   5.43331194,\n",
       "         0.80976433,   1.66731644,  -3.58818197,  12.64922047,\n",
       "        -1.46409917,  -4.81541252,   3.89282322,   5.08968496,\n",
       "        -2.61389136,  -2.98656678,   4.45836926,   0.66334504,\n",
       "         6.33978271,  -0.61466283,  -3.68178821,   0.61297858,\n",
       "        -2.49723768,  -1.33421552,  -3.54099441,   3.41979456,\n",
       "        -1.341295  ,  -0.12873079,  -3.2723403 ,  -9.25423813,\n",
       "        -4.56694841,   2.47581601,   3.91783619,   0.8956762 ,\n",
       "        -2.31236815,   3.89663887,   4.43468714,   1.80397689,\n",
       "        -0.80405617,   2.29086709,   0.04693424,   4.26663113,\n",
       "         4.814116  ,   2.2953918 ,   1.19473279,   3.20432758,\n",
       "        -1.38736439,   1.27813399,   0.86190182,  -1.52637827,\n",
       "        -2.03194523,   2.14347076,   5.57339954,   0.54350883,\n",
       "         3.38212085,   2.14371037,   2.55167127,  -2.74619317,\n",
       "        -6.00193787,  -1.24737966,  -2.7338686 ,   1.4775039 ,\n",
       "        -2.09661484,  -2.66530204,  -0.0127518 ,   3.94410777,\n",
       "         3.08347559,   6.62359762,  -0.93010604,  -2.02403545,\n",
       "        -3.35064483,  -1.71124828,  -1.55265093,   2.66529751,\n",
       "        -0.50209385,   3.72584057,   2.19934392,   0.39077944,\n",
       "         3.0225718 ,  -1.00043237,  -6.15432549,  -1.39379787,\n",
       "        -4.48678017,   1.24504507,  -1.83887756,  -0.54484147,\n",
       "        -0.0815078 ,   2.83928418,  -1.24402893,   1.98035991,\n",
       "        -0.10973003,   1.25684607,  -1.38424146,   0.92592919,\n",
       "         0.23044832,  -0.75452793,  -6.49491882,  -2.10582733,\n",
       "         6.47157049,   1.88393092,  -1.1576519 ,   0.36458862,\n",
       "        -0.81628186,   2.98171902,  -4.13971281,   1.68107533,\n",
       "         1.15980744,   4.26614666,  10.00058937,   1.21928477,\n",
       "         2.06766701,   2.37549663,  -2.06193805,   4.54522181,\n",
       "        -3.47901249,   8.74268246,  -4.32175875,   2.22321796,\n",
       "        -5.08943892,  -2.14375854,  -5.78717184,   1.11704028,\n",
       "         2.97904348,  -0.36951804,   6.25011826,  -4.25029945,\n",
       "         1.30992579,   1.9296695 ,   3.85389543,   1.29794276,\n",
       "         4.61605978,  -1.22018158,  -1.65331268,  -0.38899937,\n",
       "         2.13224053,   6.34941483,  -2.09051943,  -4.5320735 ,\n",
       "        -3.67255044,  -3.09155512,   1.62420106,   1.97841775,\n",
       "         3.61363053,   1.44852877,   3.93052649,  -1.24825919,\n",
       "        -3.37122798,  -2.03985691,   3.18880177,  -2.02281475,\n",
       "         4.01824999,   0.73255688,   2.20565557,  -4.15599966,\n",
       "         3.6962297 ,   1.90812898,   5.34808636,   2.90895748,\n",
       "        -4.02374554,   0.69902849,  -3.95970964,   5.03411007,\n",
       "         0.60032713,  -0.39339352,  -0.59803855,  -4.3367157 ,\n",
       "        -3.35269785,   0.98282248,   1.58481646,   4.9550457 ,\n",
       "         2.05052757,   0.12621737,  -0.0240019 ,   1.94339836,\n",
       "         3.00916362,   5.43236876,   0.24951465,  -2.35413289,\n",
       "        -3.79064918,   3.07153034,   1.82199657,   2.40291929,\n",
       "         2.26306009,  -2.06772375,  -2.10140753,  -8.30470181,\n",
       "         4.27435303,  -0.15698066,  -1.36119056,   3.85102248,\n",
       "         1.47260296,  -0.20174219,  -2.08398676,   1.66857648,\n",
       "        -0.02673231,  -5.43323946,   0.50247812,  -3.33412313], dtype=float32)],\n",
       "        [ array([ -6.06836344e-04,  -1.85483624e-03,   3.55614087e-04,\n",
       "         1.34406774e-03,   7.31339562e-04,  -3.42994317e-05,\n",
       "         2.48489575e-03,   1.85258326e-03,   8.52584199e-04,\n",
       "         3.48747300e-04,  -2.33575795e-03,   2.71355384e-04,\n",
       "         1.39997189e-03,   1.46223768e-03,   1.38489968e-05,\n",
       "        -1.96222914e-03,  -7.05967075e-04,  -1.08671736e-03,\n",
       "         2.43378896e-03,   1.28349103e-03,   1.94460724e-03,\n",
       "        -1.23828871e-03,  -6.46726752e-04,  -1.87407143e-03,\n",
       "         4.19422984e-04,  -2.15675076e-03,  -3.81392048e-04,\n",
       "         1.22803031e-03,   3.17480706e-04,  -3.22219654e-04,\n",
       "        -1.25425588e-03,  -6.74379757e-04,   2.36784178e-03,\n",
       "        -1.91301748e-03,   3.24421562e-05,  -6.73171307e-05,\n",
       "         2.07985309e-03,  -1.42287312e-03,   1.78282161e-03,\n",
       "        -9.86911822e-04,  -1.15422218e-03,   9.92307323e-04,\n",
       "        -1.61948672e-03,  -1.87410065e-03,   1.20801770e-03,\n",
       "         1.96493391e-04,   2.29565054e-03,  -5.33651328e-04,\n",
       "        -2.20713043e-03,  -1.14413095e-03,   7.85208133e-04,\n",
       "        -1.15589285e-03,   1.21778809e-03,   1.44342366e-05,\n",
       "        -1.68708258e-03,  -2.20929901e-03,  -6.68944849e-04,\n",
       "        -1.45159231e-03,  -1.89789280e-03,  -1.04777492e-03,\n",
       "        -9.72697220e-04,   1.49320567e-03,  -1.39223831e-03,\n",
       "        -1.19498267e-03,   2.25816993e-03,   1.11606694e-03,\n",
       "        -1.44794723e-03,   4.02903563e-04,   7.84560340e-04,\n",
       "         2.24279636e-03,   2.41487534e-04,   1.35076221e-03,\n",
       "        -2.34804538e-04,  -4.96781082e-04,  -1.66410615e-03,\n",
       "        -6.86531537e-04,   5.72592951e-04,  -1.21401693e-03,\n",
       "         1.76254613e-03,   1.10761425e-03,   9.96707706e-04,\n",
       "         2.05271738e-03,   1.60477692e-04,   5.98460727e-04,\n",
       "        -2.92373821e-04,   6.02176005e-04,  -1.48112734e-03,\n",
       "         3.21143772e-04,  -2.34537735e-03,  -1.29868975e-03,\n",
       "        -6.78707787e-04,  -7.21340708e-04,  -3.11967509e-04,\n",
       "         5.40041248e-04,  -8.92819895e-04,   2.06851168e-03,\n",
       "         2.20659445e-03,   3.57739511e-04,   5.52720914e-04,\n",
       "         7.48632243e-04,   1.90609950e-03,  -8.48361873e-04,\n",
       "         4.11074507e-05,  -9.67455679e-04,   1.60379708e-03,\n",
       "         7.36091926e-04,  -2.02021166e-03,   2.17120419e-03,\n",
       "        -1.37551595e-03,  -2.19440460e-03,  -1.02401956e-03,\n",
       "         2.07288307e-03,   1.89483329e-03,   2.23549036e-03,\n",
       "        -2.36122427e-03,  -1.72554480e-03,  -1.03399728e-03,\n",
       "        -1.74016494e-03,   6.12526608e-04,  -1.83070032e-03,\n",
       "        -6.68933557e-04,   4.47099184e-04,  -1.52154826e-04,\n",
       "        -1.93945132e-03,  -8.67032271e-04,  -1.94807968e-03,\n",
       "        -8.51112884e-04,   3.14440316e-04,  -9.71727597e-04,\n",
       "         1.23169646e-03,   1.87780999e-03,  -1.52593898e-03,\n",
       "        -2.02351512e-04,   1.04891986e-03,   8.62475310e-04,\n",
       "         1.27428176e-03,  -1.66911294e-03,  -1.03491161e-03,\n",
       "        -1.90974865e-03,   8.22056318e-05,  -1.57871365e-03,\n",
       "         3.31762916e-04,   1.43038546e-04,  -8.88087437e-04,\n",
       "         1.53187010e-03,  -1.54962519e-03,   2.29654438e-03,\n",
       "        -1.90080551e-03,  -1.58473398e-04,  -1.72805961e-03,\n",
       "         1.74906023e-03,  -1.44292961e-03,  -9.28751600e-04,\n",
       "         8.27821321e-04,  -1.35028572e-03,  -2.10323767e-03,\n",
       "         1.95056759e-03,   2.27216212e-03,  -8.97339778e-04,\n",
       "         1.41427375e-03,  -2.20364286e-03,  -7.48747494e-04,\n",
       "         1.68016448e-03,  -1.80355855e-03,  -1.82124856e-03,\n",
       "         1.85025099e-03,   1.60649640e-03,  -3.66751483e-04,\n",
       "        -1.73516700e-03,  -1.71283551e-04,   1.78673724e-03,\n",
       "        -1.09326385e-03,   1.72597019e-03,   3.82903308e-05,\n",
       "         2.14098394e-03,  -2.67784169e-04,  -1.26116606e-03,\n",
       "        -1.68960413e-03,  -1.81817741e-03,   1.66950782e-03,\n",
       "        -8.43339600e-04,  -2.20310013e-03,  -1.99511345e-03,\n",
       "         1.01444277e-03,  -2.53702194e-04,  -2.24313955e-03,\n",
       "        -6.36671393e-05,  -2.63562251e-04,   1.00664981e-03,\n",
       "        -1.84138375e-03,   1.88751996e-03,  -1.29533221e-03,\n",
       "         2.37102294e-03,   2.07400066e-03,  -1.76240504e-03,\n",
       "         1.75745215e-03,   4.19687683e-04,   4.11945715e-04,\n",
       "         1.91506546e-03,  -1.28502387e-03], dtype=float32)]],\n",
       "\n",
       "       [[ array([-0.74432456,  1.94375193, -9.40504456, -8.04372597, -6.64665699,\n",
       "       -0.17149827,  0.69088954, -0.85017598,  2.12437344,  3.30253005,\n",
       "        0.75303763,  1.47800243,  2.21877766,  0.53114432,  7.63321495,\n",
       "       -1.92724454,  0.34192634,  4.4224081 , -2.30734921, -4.0279088 ,\n",
       "       -0.59413022, -2.78695631, -2.30910802,  1.38295734,  0.19862793,\n",
       "        0.74628359,  1.02356923,  1.29362643, -1.56726527, -3.08040524,\n",
       "        2.62243795,  0.66991007,  2.54814196, -4.85628939,  3.5406723 ,\n",
       "        3.24811506,  0.64869201,  3.51479721,  3.01062846,  4.76352358,\n",
       "       -1.84959173,  3.74837136, -3.21437287,  2.04810548,  6.36541462,\n",
       "        3.00033951,  0.40519518, -1.97600913,  2.01860452, -1.17448318,\n",
       "       -5.67149115, -0.08802013, -2.87334943,  2.86998558,  4.33220911,\n",
       "        1.77740896, -0.01053151, -2.2000463 , -0.40878671,  1.46671891,\n",
       "       -0.52563345,  1.83117712, -1.03666377, -0.57543212, -0.8860327 ,\n",
       "       -1.09653747,  1.86864483,  1.67062461,  6.62107372,  3.43605065,\n",
       "        4.44146681,  1.06688094, -0.86660212, -0.60247606,  0.51929152,\n",
       "        0.89631563, -2.41210413,  4.36225414,  0.31145021,  0.15181729,\n",
       "       -0.64422846,  1.13781369,  2.8770256 ,  5.58031845, -2.43853879,\n",
       "       -1.11602724, -1.45058453,  2.07003999, -1.69319105,  1.3040216 ,\n",
       "        6.95150328, -1.75501025,  5.46619368,  3.64086819, -1.23340273,\n",
       "        2.30290723, -1.52541423,  2.61977243, -0.54541326, -3.48293042,\n",
       "        0.18197268,  1.76006806, -1.01711881, -2.4622612 ,  3.11814308,\n",
       "        1.21535993, -1.67423773,  3.95961571, -0.29439706,  4.40245152,\n",
       "        4.69058037,  0.05725293,  2.35380697, -4.50631332, -2.02280402,\n",
       "        3.50447083, -5.42244053,  8.85528278, -2.91799831,  0.46061292,\n",
       "       -1.26169157, -2.31885076, -0.80859357,  0.46616396, -0.49827334,\n",
       "       -3.96697259,  1.44227397, -6.9058795 ,  1.20763409,  1.25537574,\n",
       "       -2.88228059,  0.84475213,  0.95930105, -1.48786938, -2.31980205,\n",
       "       -7.10740614, -1.83008575, -1.20170689, -1.08120954,  0.6402629 ,\n",
       "        1.96448362, -4.53783655, -1.80680108, -3.4450109 ,  4.14079905,\n",
       "        0.17751659, -1.58612895, -0.3305977 ,  0.82032669,  1.72242796,\n",
       "       -0.95989561,  1.31780863,  0.52592021,  1.08681798, -0.21998879,\n",
       "       -2.36524796, -0.06493526, -3.04122424,  0.11699137,  4.36281967,\n",
       "        1.02380097, -2.30752015,  0.68265057,  2.42333865, -4.17558289,\n",
       "        2.68480754,  1.61689675, -1.33899951,  0.17096011, -3.03973436,\n",
       "        1.91919696,  1.64526832,  0.42777252,  1.13273335,  2.31026268,\n",
       "        3.04010367, -1.78618765,  1.12636375,  0.35814655,  5.54305077,\n",
       "        0.95748192, -1.422086  ,  2.94422174, -0.33899191,  1.34577799,\n",
       "        1.55553746, -1.55169868, -2.89985442,  2.87082195,  1.78718972,\n",
       "        1.4771843 ,  3.83646059,  2.38699651,  2.56301928, -5.36242247,\n",
       "       -1.05008233, -0.8452788 ,  0.72325951, -5.7025938 , -3.26478696], dtype=float32)],\n",
       "        [ array([ -6.06836344e-04,  -1.85483624e-03,   3.55614087e-04,\n",
       "         1.34406774e-03,   7.31339562e-04,  -3.42994317e-05,\n",
       "         2.48489575e-03,   1.85258326e-03,   8.52584199e-04,\n",
       "         3.48747300e-04,  -2.33575795e-03,   2.71355384e-04,\n",
       "         1.39997189e-03,   1.46223768e-03,   1.38489968e-05,\n",
       "        -1.96222914e-03,  -7.05967075e-04,  -1.08671736e-03,\n",
       "         2.43378896e-03,   1.28349103e-03,   1.94460724e-03,\n",
       "        -1.23828871e-03,  -6.46726752e-04,  -1.87407143e-03,\n",
       "         4.19422984e-04,  -2.15675076e-03,  -3.81392048e-04,\n",
       "         1.22803031e-03,   3.17480706e-04,  -3.22219654e-04,\n",
       "        -1.25425588e-03,  -6.74379757e-04,   2.36784178e-03,\n",
       "        -1.91301748e-03,   3.24421562e-05,  -6.73171307e-05,\n",
       "         2.07985309e-03,  -1.42287312e-03,   1.78282161e-03,\n",
       "        -9.86911822e-04,  -1.15422218e-03,   9.92307323e-04,\n",
       "        -1.61948672e-03,  -1.87410065e-03,   1.20801770e-03,\n",
       "         1.96493391e-04,   2.29565054e-03,  -5.33651328e-04,\n",
       "        -2.20713043e-03,  -1.14413095e-03,   7.85208133e-04,\n",
       "        -1.15589285e-03,   1.21778809e-03,   1.44342366e-05,\n",
       "        -1.68708258e-03,  -2.20929901e-03,  -6.68944849e-04,\n",
       "        -1.45159231e-03,  -1.89789280e-03,  -1.04777492e-03,\n",
       "        -9.72697220e-04,   1.49320567e-03,  -1.39223831e-03,\n",
       "        -1.19498267e-03,   2.25816993e-03,   1.11606694e-03,\n",
       "        -1.44794723e-03,   4.02903563e-04,   7.84560340e-04,\n",
       "         2.24279636e-03,   2.41487534e-04,   1.35076221e-03,\n",
       "        -2.34804538e-04,  -4.96781082e-04,  -1.66410615e-03,\n",
       "        -6.86531537e-04,   5.72592951e-04,  -1.21401693e-03,\n",
       "         1.76254613e-03,   1.10761425e-03,   9.96707706e-04,\n",
       "         2.05271738e-03,   1.60477692e-04,   5.98460727e-04,\n",
       "        -2.92373821e-04,   6.02176005e-04,  -1.48112734e-03,\n",
       "         3.21143772e-04,  -2.34537735e-03,  -1.29868975e-03,\n",
       "        -6.78707787e-04,  -7.21340708e-04,  -3.11967509e-04,\n",
       "         5.40041248e-04,  -8.92819895e-04,   2.06851168e-03,\n",
       "         2.20659445e-03,   3.57739511e-04,   5.52720914e-04,\n",
       "         7.48632243e-04,   1.90609950e-03,  -8.48361873e-04,\n",
       "         4.11074507e-05,  -9.67455679e-04,   1.60379708e-03,\n",
       "         7.36091926e-04,  -2.02021166e-03,   2.17120419e-03,\n",
       "        -1.37551595e-03,  -2.19440460e-03,  -1.02401956e-03,\n",
       "         2.07288307e-03,   1.89483329e-03,   2.23549036e-03,\n",
       "        -2.36122427e-03,  -1.72554480e-03,  -1.03399728e-03,\n",
       "        -1.74016494e-03,   6.12526608e-04,  -1.83070032e-03,\n",
       "        -6.68933557e-04,   4.47099184e-04,  -1.52154826e-04,\n",
       "        -1.93945132e-03,  -8.67032271e-04,  -1.94807968e-03,\n",
       "        -8.51112884e-04,   3.14440316e-04,  -9.71727597e-04,\n",
       "         1.23169646e-03,   1.87780999e-03,  -1.52593898e-03,\n",
       "        -2.02351512e-04,   1.04891986e-03,   8.62475310e-04,\n",
       "         1.27428176e-03,  -1.66911294e-03,  -1.03491161e-03,\n",
       "        -1.90974865e-03,   8.22056318e-05,  -1.57871365e-03,\n",
       "         3.31762916e-04,   1.43038546e-04,  -8.88087437e-04,\n",
       "         1.53187010e-03,  -1.54962519e-03,   2.29654438e-03,\n",
       "        -1.90080551e-03,  -1.58473398e-04,  -1.72805961e-03,\n",
       "         1.74906023e-03,  -1.44292961e-03,  -9.28751600e-04,\n",
       "         8.27821321e-04,  -1.35028572e-03,  -2.10323767e-03,\n",
       "         1.95056759e-03,   2.27216212e-03,  -8.97339778e-04,\n",
       "         1.41427375e-03,  -2.20364286e-03,  -7.48747494e-04,\n",
       "         1.68016448e-03,  -1.80355855e-03,  -1.82124856e-03,\n",
       "         1.85025099e-03,   1.60649640e-03,  -3.66751483e-04,\n",
       "        -1.73516700e-03,  -1.71283551e-04,   1.78673724e-03,\n",
       "        -1.09326385e-03,   1.72597019e-03,   3.82903308e-05,\n",
       "         2.14098394e-03,  -2.67784169e-04,  -1.26116606e-03,\n",
       "        -1.68960413e-03,  -1.81817741e-03,   1.66950782e-03,\n",
       "        -8.43339600e-04,  -2.20310013e-03,  -1.99511345e-03,\n",
       "         1.01444277e-03,  -2.53702194e-04,  -2.24313955e-03,\n",
       "        -6.36671393e-05,  -2.63562251e-04,   1.00664981e-03,\n",
       "        -1.84138375e-03,   1.88751996e-03,  -1.29533221e-03,\n",
       "         2.37102294e-03,   2.07400066e-03,  -1.76240504e-03,\n",
       "         1.75745215e-03,   4.19687683e-04,   4.11945715e-04,\n",
       "         1.91506546e-03,  -1.28502387e-03], dtype=float32)]],\n",
       "\n",
       "       [[ array([-2.57713604,  2.51252532, -2.02250695, -4.12970781, -4.44209433,\n",
       "       -1.03682387,  1.45604372, -4.02955723, -1.50595403, -2.59019661,\n",
       "       -0.17798145,  5.72873545, -1.37095118, -1.60319269,  2.42226505,\n",
       "       -1.37578928,  0.3876912 ,  1.41418052,  6.95211506, -2.89216566,\n",
       "        1.81710958,  1.70493293,  0.99581158,  1.77337503,  0.73382097,\n",
       "       -0.5457232 ,  5.74197483,  0.03161688, -1.68544948, -1.89831805,\n",
       "       -0.89654911, -6.66097784,  1.4267298 , -4.12807322,  1.05937529,\n",
       "        2.17649627,  0.83240688,  2.99882197,  2.09623241, -1.79720736,\n",
       "       -1.24939251,  3.81738925, -1.56639564,  3.9029665 ,  7.35444403,\n",
       "        2.48960018,  1.39143252, -3.0899682 ,  3.37102556,  1.581828  ,\n",
       "       -3.43435621, -0.51542342, -2.39735889,  3.69499135, -1.80537951,\n",
       "        3.76677442,  8.51203918, -1.86974525,  0.63546163, -0.62253821,\n",
       "       -1.64196002,  4.81939602,  0.54643154,  2.17502093, -0.66696376,\n",
       "       -0.56659585, -0.46540394,  2.96238041,  8.3623476 ,  6.77140045,\n",
       "        2.04713392,  3.77893019,  2.70859003,  2.01448011,  1.45526469,\n",
       "       -0.04821683,  0.1555768 , -0.28311804, -3.25276184,  0.71678287,\n",
       "       -3.42416906,  1.46869171,  1.87781799,  5.39109087,  1.18638515,\n",
       "       -1.68655825, -4.09547949,  3.42394471, -2.1471951 ,  1.6062187 ,\n",
       "        1.81095314, -1.36174798,  1.98470926,  4.50989866, -2.78571033,\n",
       "       -1.43106389, -1.72903061, -1.18203974,  1.75115478, -0.17345211,\n",
       "       -0.3183184 ,  2.87187147,  0.20648946, -7.39170313,  2.48695374,\n",
       "        3.45158362, -1.73339927, -1.08014023, -0.44121161,  0.64969438,\n",
       "        3.0603888 ,  2.27176499,  4.29829121, -4.59429264, -1.19283342,\n",
       "        4.88423204, -4.16011095,  1.27680504, -1.29728866, -1.74634719,\n",
       "       -0.75591534,  0.60935295,  1.04419923,  1.74458122,  0.7167176 ,\n",
       "       -0.57855892,  3.17582846, -3.59361339,  0.31048149,  2.45040584,\n",
       "       -4.61320925, -0.37306103, -2.20809174,  1.84391379, -0.48417962,\n",
       "        0.07718956,  0.3712998 , -1.00350964,  1.32606339,  0.19420266,\n",
       "       -0.82901514, -1.09080482,  0.16782913, -1.68106329,  5.02008247,\n",
       "       -3.40632176, -1.57135236, -0.05081967,  0.14359899,  0.75720966,\n",
       "       -2.24966335, -0.75691116, -0.97886008,  0.55139804,  0.55550283,\n",
       "       -0.74063593, -2.96856976,  0.88406378, -0.45928484,  4.23294687,\n",
       "       -0.65225905, -2.46986628,  1.90770161,  2.13032246, -2.93508935,\n",
       "       -1.77548134,  2.03934121, -1.97400689, -0.15975726, -3.14910078,\n",
       "        0.1044118 , -0.3742792 ,  0.81047416,  4.431777  , -1.74144173,\n",
       "        5.9676156 , -2.56880593, -4.30191135, -2.23140597,  2.23807383,\n",
       "        3.07494473,  0.13360721,  0.1475381 , -3.10527539,  1.55457079,\n",
       "        0.77754766, -0.47030258, -0.26462203,  4.35949421,  2.61797786,\n",
       "        2.48290086,  4.34152603,  1.29983914, -1.24883103, -3.22640395,\n",
       "       -0.14396952, -2.56826973,  3.01343417, -7.58811522, -1.71968544], dtype=float32)],\n",
       "        [ array([ -6.06836344e-04,  -1.85483624e-03,   3.55614087e-04,\n",
       "         1.34406774e-03,   7.31339562e-04,  -3.42994317e-05,\n",
       "         2.48489575e-03,   1.85258326e-03,   8.52584199e-04,\n",
       "         3.48747300e-04,  -2.33575795e-03,   2.71355384e-04,\n",
       "         1.39997189e-03,   1.46223768e-03,   1.38489968e-05,\n",
       "        -1.96222914e-03,  -7.05967075e-04,  -1.08671736e-03,\n",
       "         2.43378896e-03,   1.28349103e-03,   1.94460724e-03,\n",
       "        -1.23828871e-03,  -6.46726752e-04,  -1.87407143e-03,\n",
       "         4.19422984e-04,  -2.15675076e-03,  -3.81392048e-04,\n",
       "         1.22803031e-03,   3.17480706e-04,  -3.22219654e-04,\n",
       "        -1.25425588e-03,  -6.74379757e-04,   2.36784178e-03,\n",
       "        -1.91301748e-03,   3.24421562e-05,  -6.73171307e-05,\n",
       "         2.07985309e-03,  -1.42287312e-03,   1.78282161e-03,\n",
       "        -9.86911822e-04,  -1.15422218e-03,   9.92307323e-04,\n",
       "        -1.61948672e-03,  -1.87410065e-03,   1.20801770e-03,\n",
       "         1.96493391e-04,   2.29565054e-03,  -5.33651328e-04,\n",
       "        -2.20713043e-03,  -1.14413095e-03,   7.85208133e-04,\n",
       "        -1.15589285e-03,   1.21778809e-03,   1.44342366e-05,\n",
       "        -1.68708258e-03,  -2.20929901e-03,  -6.68944849e-04,\n",
       "        -1.45159231e-03,  -1.89789280e-03,  -1.04777492e-03,\n",
       "        -9.72697220e-04,   1.49320567e-03,  -1.39223831e-03,\n",
       "        -1.19498267e-03,   2.25816993e-03,   1.11606694e-03,\n",
       "        -1.44794723e-03,   4.02903563e-04,   7.84560340e-04,\n",
       "         2.24279636e-03,   2.41487534e-04,   1.35076221e-03,\n",
       "        -2.34804538e-04,  -4.96781082e-04,  -1.66410615e-03,\n",
       "        -6.86531537e-04,   5.72592951e-04,  -1.21401693e-03,\n",
       "         1.76254613e-03,   1.10761425e-03,   9.96707706e-04,\n",
       "         2.05271738e-03,   1.60477692e-04,   5.98460727e-04,\n",
       "        -2.92373821e-04,   6.02176005e-04,  -1.48112734e-03,\n",
       "         3.21143772e-04,  -2.34537735e-03,  -1.29868975e-03,\n",
       "        -6.78707787e-04,  -7.21340708e-04,  -3.11967509e-04,\n",
       "         5.40041248e-04,  -8.92819895e-04,   2.06851168e-03,\n",
       "         2.20659445e-03,   3.57739511e-04,   5.52720914e-04,\n",
       "         7.48632243e-04,   1.90609950e-03,  -8.48361873e-04,\n",
       "         4.11074507e-05,  -9.67455679e-04,   1.60379708e-03,\n",
       "         7.36091926e-04,  -2.02021166e-03,   2.17120419e-03,\n",
       "        -1.37551595e-03,  -2.19440460e-03,  -1.02401956e-03,\n",
       "         2.07288307e-03,   1.89483329e-03,   2.23549036e-03,\n",
       "        -2.36122427e-03,  -1.72554480e-03,  -1.03399728e-03,\n",
       "        -1.74016494e-03,   6.12526608e-04,  -1.83070032e-03,\n",
       "        -6.68933557e-04,   4.47099184e-04,  -1.52154826e-04,\n",
       "        -1.93945132e-03,  -8.67032271e-04,  -1.94807968e-03,\n",
       "        -8.51112884e-04,   3.14440316e-04,  -9.71727597e-04,\n",
       "         1.23169646e-03,   1.87780999e-03,  -1.52593898e-03,\n",
       "        -2.02351512e-04,   1.04891986e-03,   8.62475310e-04,\n",
       "         1.27428176e-03,  -1.66911294e-03,  -1.03491161e-03,\n",
       "        -1.90974865e-03,   8.22056318e-05,  -1.57871365e-03,\n",
       "         3.31762916e-04,   1.43038546e-04,  -8.88087437e-04,\n",
       "         1.53187010e-03,  -1.54962519e-03,   2.29654438e-03,\n",
       "        -1.90080551e-03,  -1.58473398e-04,  -1.72805961e-03,\n",
       "         1.74906023e-03,  -1.44292961e-03,  -9.28751600e-04,\n",
       "         8.27821321e-04,  -1.35028572e-03,  -2.10323767e-03,\n",
       "         1.95056759e-03,   2.27216212e-03,  -8.97339778e-04,\n",
       "         1.41427375e-03,  -2.20364286e-03,  -7.48747494e-04,\n",
       "         1.68016448e-03,  -1.80355855e-03,  -1.82124856e-03,\n",
       "         1.85025099e-03,   1.60649640e-03,  -3.66751483e-04,\n",
       "        -1.73516700e-03,  -1.71283551e-04,   1.78673724e-03,\n",
       "        -1.09326385e-03,   1.72597019e-03,   3.82903308e-05,\n",
       "         2.14098394e-03,  -2.67784169e-04,  -1.26116606e-03,\n",
       "        -1.68960413e-03,  -1.81817741e-03,   1.66950782e-03,\n",
       "        -8.43339600e-04,  -2.20310013e-03,  -1.99511345e-03,\n",
       "         1.01444277e-03,  -2.53702194e-04,  -2.24313955e-03,\n",
       "        -6.36671393e-05,  -2.63562251e-04,   1.00664981e-03,\n",
       "        -1.84138375e-03,   1.88751996e-03,  -1.29533221e-03,\n",
       "         2.37102294e-03,   2.07400066e-03,  -1.76240504e-03,\n",
       "         1.75745215e-03,   4.19687683e-04,   4.11945715e-04,\n",
       "         1.91506546e-03,  -1.28502387e-03], dtype=float32)]]], dtype=object)"
      ]
     },
     "execution_count": 471,
     "metadata": {},
     "output_type": "execute_result"
    }
   ],
   "source": [
    "xtrain.reshape(3,2,1)"
   ]
  },
  {
   "cell_type": "code",
   "execution_count": 472,
   "metadata": {
    "collapsed": false
   },
   "outputs": [
    {
     "data": {
      "text/plain": [
       "(3, 2)"
      ]
     },
     "execution_count": 472,
     "metadata": {},
     "output_type": "execute_result"
    }
   ],
   "source": [
    "xtrain.shape"
   ]
  },
  {
   "cell_type": "code",
   "execution_count": 436,
   "metadata": {
    "collapsed": false
   },
   "outputs": [],
   "source": [
    "l = []\n",
    "for i in range(3):\n",
    "    l1 = []\n",
    "    for j in range(2):\n",
    "        for k in xtrain[i][j]:\n",
    "            l1.append(k)\n",
    "    l.append(l1)\n",
    "            "
   ]
  },
  {
   "cell_type": "code",
   "execution_count": 441,
   "metadata": {
    "collapsed": false
   },
   "outputs": [],
   "source": [
    "qd_array = np.array(l)"
   ]
  },
  {
   "cell_type": "code",
   "execution_count": 443,
   "metadata": {
    "collapsed": false
   },
   "outputs": [
    {
     "data": {
      "text/plain": [
       "400"
      ]
     },
     "execution_count": 443,
     "metadata": {},
     "output_type": "execute_result"
    }
   ],
   "source": [
    "qd_array.shape[1]"
   ]
  },
  {
   "cell_type": "code",
   "execution_count": null,
   "metadata": {
    "collapsed": false
   },
   "outputs": [],
   "source": []
  },
  {
   "cell_type": "code",
   "execution_count": null,
   "metadata": {
    "collapsed": false
   },
   "outputs": [],
   "source": []
  },
  {
   "cell_type": "code",
   "execution_count": null,
   "metadata": {
    "collapsed": false
   },
   "outputs": [],
   "source": []
  },
  {
   "cell_type": "code",
   "execution_count": 480,
   "metadata": {
    "collapsed": false
   },
   "outputs": [
    {
     "data": {
      "text/plain": [
       "200"
      ]
     },
     "execution_count": 480,
     "metadata": {},
     "output_type": "execute_result"
    }
   ],
   "source": []
  },
  {
   "cell_type": "code",
   "execution_count": 483,
   "metadata": {
    "collapsed": false
   },
   "outputs": [
    {
     "ename": "ValueError",
     "evalue": "Error when checking model input: expected dense_118_input to have 3 dimensions, but got array with shape (3, 2)",
     "output_type": "error",
     "traceback": [
      "\u001b[0;31m---------------------------------------------------------------------------\u001b[0m",
      "\u001b[0;31mValueError\u001b[0m                                Traceback (most recent call last)",
      "\u001b[0;32m<ipython-input-483-fad33bd75a5f>\u001b[0m in \u001b[0;36m<module>\u001b[0;34m()\u001b[0m\n\u001b[1;32m      5\u001b[0m \u001b[0mmodel_scores\u001b[0m\u001b[0;34m.\u001b[0m\u001b[0madd\u001b[0m\u001b[0;34m(\u001b[0m\u001b[0mDense\u001b[0m\u001b[0;34m(\u001b[0m\u001b[0mytrain\u001b[0m\u001b[0;34m.\u001b[0m\u001b[0mshape\u001b[0m\u001b[0;34m[\u001b[0m\u001b[0;36m1\u001b[0m\u001b[0;34m]\u001b[0m\u001b[0;34m,\u001b[0m \u001b[0mactivation\u001b[0m\u001b[0;34m=\u001b[0m\u001b[0;34m'softmax'\u001b[0m\u001b[0;34m)\u001b[0m\u001b[0;34m)\u001b[0m\u001b[0;34m\u001b[0m\u001b[0m\n\u001b[1;32m      6\u001b[0m \u001b[0mmodel_scores\u001b[0m\u001b[0;34m.\u001b[0m\u001b[0mcompile\u001b[0m\u001b[0;34m(\u001b[0m\u001b[0moptimizer\u001b[0m\u001b[0;34m=\u001b[0m\u001b[0mRMSprop\u001b[0m\u001b[0;34m(\u001b[0m\u001b[0;34m)\u001b[0m\u001b[0;34m,\u001b[0m\u001b[0mloss\u001b[0m\u001b[0;34m=\u001b[0m\u001b[0;34m'categorical_crossentropy'\u001b[0m\u001b[0;34m,\u001b[0m\u001b[0mmetrics\u001b[0m \u001b[0;34m=\u001b[0m \u001b[0;34m[\u001b[0m\u001b[0;34m'accuracy'\u001b[0m\u001b[0;34m]\u001b[0m\u001b[0;34m)\u001b[0m\u001b[0;34m\u001b[0m\u001b[0m\n\u001b[0;32m----> 7\u001b[0;31m \u001b[0mmodel_scores\u001b[0m \u001b[0;34m=\u001b[0m \u001b[0mmodel_scores\u001b[0m\u001b[0;34m.\u001b[0m\u001b[0mfit\u001b[0m\u001b[0;34m(\u001b[0m\u001b[0mxtrain\u001b[0m\u001b[0;34m,\u001b[0m \u001b[0mytrain\u001b[0m\u001b[0;34m,\u001b[0m \u001b[0mbatch_size\u001b[0m\u001b[0;34m=\u001b[0m\u001b[0;36m1\u001b[0m\u001b[0;34m,\u001b[0m \u001b[0mepochs\u001b[0m\u001b[0;34m=\u001b[0m\u001b[0;36m5\u001b[0m\u001b[0;34m,\u001b[0m \u001b[0mvalidation_split\u001b[0m \u001b[0;34m=\u001b[0m \u001b[0;36m.2\u001b[0m\u001b[0;34m,\u001b[0m \u001b[0mverbose\u001b[0m\u001b[0;34m=\u001b[0m\u001b[0;36m2\u001b[0m\u001b[0;34m)\u001b[0m\u001b[0;34m\u001b[0m\u001b[0m\n\u001b[0m",
      "\u001b[0;32m/home/user/classification/lib/python3.5/site-packages/keras/models.py\u001b[0m in \u001b[0;36mfit\u001b[0;34m(self, x, y, batch_size, epochs, verbose, callbacks, validation_split, validation_data, shuffle, class_weight, sample_weight, initial_epoch, **kwargs)\u001b[0m\n\u001b[1;32m    851\u001b[0m                               \u001b[0mclass_weight\u001b[0m\u001b[0;34m=\u001b[0m\u001b[0mclass_weight\u001b[0m\u001b[0;34m,\u001b[0m\u001b[0;34m\u001b[0m\u001b[0m\n\u001b[1;32m    852\u001b[0m                               \u001b[0msample_weight\u001b[0m\u001b[0;34m=\u001b[0m\u001b[0msample_weight\u001b[0m\u001b[0;34m,\u001b[0m\u001b[0;34m\u001b[0m\u001b[0m\n\u001b[0;32m--> 853\u001b[0;31m                               initial_epoch=initial_epoch)\n\u001b[0m\u001b[1;32m    854\u001b[0m \u001b[0;34m\u001b[0m\u001b[0m\n\u001b[1;32m    855\u001b[0m     def evaluate(self, x, y, batch_size=32, verbose=1,\n",
      "\u001b[0;32m/home/user/classification/lib/python3.5/site-packages/keras/engine/training.py\u001b[0m in \u001b[0;36mfit\u001b[0;34m(self, x, y, batch_size, epochs, verbose, callbacks, validation_split, validation_data, shuffle, class_weight, sample_weight, initial_epoch, **kwargs)\u001b[0m\n\u001b[1;32m   1404\u001b[0m             \u001b[0mclass_weight\u001b[0m\u001b[0;34m=\u001b[0m\u001b[0mclass_weight\u001b[0m\u001b[0;34m,\u001b[0m\u001b[0;34m\u001b[0m\u001b[0m\n\u001b[1;32m   1405\u001b[0m             \u001b[0mcheck_batch_axis\u001b[0m\u001b[0;34m=\u001b[0m\u001b[0;32mFalse\u001b[0m\u001b[0;34m,\u001b[0m\u001b[0;34m\u001b[0m\u001b[0m\n\u001b[0;32m-> 1406\u001b[0;31m             batch_size=batch_size)\n\u001b[0m\u001b[1;32m   1407\u001b[0m         \u001b[0;31m# prepare validation data\u001b[0m\u001b[0;34m\u001b[0m\u001b[0;34m\u001b[0m\u001b[0m\n\u001b[1;32m   1408\u001b[0m         \u001b[0;32mif\u001b[0m \u001b[0mvalidation_data\u001b[0m\u001b[0;34m:\u001b[0m\u001b[0;34m\u001b[0m\u001b[0m\n",
      "\u001b[0;32m/home/user/classification/lib/python3.5/site-packages/keras/engine/training.py\u001b[0m in \u001b[0;36m_standardize_user_data\u001b[0;34m(self, x, y, sample_weight, class_weight, check_batch_axis, batch_size)\u001b[0m\n\u001b[1;32m   1294\u001b[0m                                     \u001b[0mself\u001b[0m\u001b[0;34m.\u001b[0m\u001b[0m_feed_input_shapes\u001b[0m\u001b[0;34m,\u001b[0m\u001b[0;34m\u001b[0m\u001b[0m\n\u001b[1;32m   1295\u001b[0m                                     \u001b[0mcheck_batch_axis\u001b[0m\u001b[0;34m=\u001b[0m\u001b[0;32mFalse\u001b[0m\u001b[0;34m,\u001b[0m\u001b[0;34m\u001b[0m\u001b[0m\n\u001b[0;32m-> 1296\u001b[0;31m                                     exception_prefix='model input')\n\u001b[0m\u001b[1;32m   1297\u001b[0m         y = _standardize_input_data(y, self._feed_output_names,\n\u001b[1;32m   1298\u001b[0m                                     \u001b[0moutput_shapes\u001b[0m\u001b[0;34m,\u001b[0m\u001b[0;34m\u001b[0m\u001b[0m\n",
      "\u001b[0;32m/home/user/classification/lib/python3.5/site-packages/keras/engine/training.py\u001b[0m in \u001b[0;36m_standardize_input_data\u001b[0;34m(data, names, shapes, check_batch_axis, exception_prefix)\u001b[0m\n\u001b[1;32m    119\u001b[0m                                  \u001b[0;34m' to have '\u001b[0m \u001b[0;34m+\u001b[0m \u001b[0mstr\u001b[0m\u001b[0;34m(\u001b[0m\u001b[0mlen\u001b[0m\u001b[0;34m(\u001b[0m\u001b[0mshapes\u001b[0m\u001b[0;34m[\u001b[0m\u001b[0mi\u001b[0m\u001b[0;34m]\u001b[0m\u001b[0;34m)\u001b[0m\u001b[0;34m)\u001b[0m \u001b[0;34m+\u001b[0m\u001b[0;34m\u001b[0m\u001b[0m\n\u001b[1;32m    120\u001b[0m                                  \u001b[0;34m' dimensions, but got array with shape '\u001b[0m \u001b[0;34m+\u001b[0m\u001b[0;34m\u001b[0m\u001b[0m\n\u001b[0;32m--> 121\u001b[0;31m                                  str(array.shape))\n\u001b[0m\u001b[1;32m    122\u001b[0m             \u001b[0;32mfor\u001b[0m \u001b[0mj\u001b[0m\u001b[0;34m,\u001b[0m \u001b[0;34m(\u001b[0m\u001b[0mdim\u001b[0m\u001b[0;34m,\u001b[0m \u001b[0mref_dim\u001b[0m\u001b[0;34m)\u001b[0m \u001b[0;32min\u001b[0m \u001b[0menumerate\u001b[0m\u001b[0;34m(\u001b[0m\u001b[0mzip\u001b[0m\u001b[0;34m(\u001b[0m\u001b[0marray\u001b[0m\u001b[0;34m.\u001b[0m\u001b[0mshape\u001b[0m\u001b[0;34m,\u001b[0m \u001b[0mshapes\u001b[0m\u001b[0;34m[\u001b[0m\u001b[0mi\u001b[0m\u001b[0;34m]\u001b[0m\u001b[0;34m)\u001b[0m\u001b[0;34m)\u001b[0m\u001b[0;34m:\u001b[0m\u001b[0;34m\u001b[0m\u001b[0m\n\u001b[1;32m    123\u001b[0m                 \u001b[0;32mif\u001b[0m \u001b[0;32mnot\u001b[0m \u001b[0mj\u001b[0m \u001b[0;32mand\u001b[0m \u001b[0;32mnot\u001b[0m \u001b[0mcheck_batch_axis\u001b[0m\u001b[0;34m:\u001b[0m\u001b[0;34m\u001b[0m\u001b[0m\n",
      "\u001b[0;31mValueError\u001b[0m: Error when checking model input: expected dense_118_input to have 3 dimensions, but got array with shape (3, 2)"
     ]
    }
   ],
   "source": [
    "model_scores = Sequential()\n",
    "model_scores.add(Dense(600, activation='relu', input_shape=(200,3)))\n",
    "model_scores.add(Dense(500, activation='relu'))\n",
    "\n",
    "model_scores.add(Dense(ytrain.shape[1], activation='softmax'))\n",
    "model_scores.compile(optimizer=RMSprop(),loss='categorical_crossentropy',metrics = ['accuracy'])\n",
    "model_scores = model_scores.fit(xtrain, ytrain, batch_size=1, epochs=5, validation_split = .2, verbose=2)"
   ]
  },
  {
   "cell_type": "code",
   "execution_count": null,
   "metadata": {
    "collapsed": true
   },
   "outputs": [],
   "source": []
  }
 ],
 "metadata": {
  "kernelspec": {
   "display_name": "Python 3",
   "language": "python",
   "name": "python3"
  },
  "language_info": {
   "codemirror_mode": {
    "name": "ipython",
    "version": 3
   },
   "file_extension": ".py",
   "mimetype": "text/x-python",
   "name": "python",
   "nbconvert_exporter": "python",
   "pygments_lexer": "ipython3",
   "version": "3.5.2"
  }
 },
 "nbformat": 4,
 "nbformat_minor": 2
}
