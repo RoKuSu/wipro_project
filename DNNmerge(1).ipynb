{
 "cells": [
  {
   "cell_type": "code",
   "execution_count": 5,
   "metadata": {
    "collapsed": false,
    "deletable": true,
    "editable": true
   },
   "outputs": [],
   "source": [
    "# import statements\n",
    "import numpy as np\n",
    "import matplotlib.pyplot as plt\n",
    "import math\n",
    "from sklearn import cross_validation\n",
    "import plotly.plotly as py\n",
    "import plotly.graph_objs as go\n",
    "from plotly.offline import plot    \n",
    "import plotly.graph_objs as go\n",
    "import pandas as pd\n",
    "from keras.models import Sequential\n",
    "from keras.layers import Dense, Dropout, Flatten\n",
    "from keras.optimizers import RMSprop\n",
    "from sklearn.cross_validation import train_test_split\n",
    "import keras\n",
    "from random import randint\n",
    "\n",
    "import random\n",
    "\n",
    "# --- GENSIM PACKAGE ---\n",
    "import gensim, logging\n",
    "from gensim.models import Word2Vec, doc2vec, Doc2Vec\n",
    "\n",
    "from gensim.models import doc2vec\n",
    "from collections import namedtuple\n",
    "\n",
    "\n",
    "%matplotlib inline"
   ]
  },
  {
   "cell_type": "markdown",
   "metadata": {
    "deletable": true,
    "editable": true
   },
   "source": [
    "\n",
    "### function to get doc2vec"
   ]
  },
  {
   "cell_type": "code",
   "execution_count": 6,
   "metadata": {
    "collapsed": true,
    "deletable": true,
    "editable": true
   },
   "outputs": [],
   "source": [
    "def doc_to_vec(doc):\n",
    "    doc1 = []\n",
    "    doc1.append(doc)\n",
    "    docs = []\n",
    "    analyzedDocument = namedtuple('AnalyzedDocument', 'words tags')\n",
    "    for i, text in enumerate(doc1):\n",
    "        words = text.lower().split()\n",
    "        tags = [i]\n",
    "        docs.append(analyzedDocument(words, tags))\n",
    "\n",
    "    # Train model (set min_count = 1, if you want the model to work with the provided example data set)\n",
    "\n",
    "    model = doc2vec.Doc2Vec(docs, size = 200, window = 300, min_count = 1, workers = 4)\n",
    "\n",
    "    # Get the vectors\n",
    "\n",
    "    s = model.docvecs\n",
    "    return s"
   ]
  },
  {
   "cell_type": "markdown",
   "metadata": {
    "deletable": true,
    "editable": true
   },
   "source": [
    "### loading data"
   ]
  },
  {
   "cell_type": "code",
   "execution_count": 8,
   "metadata": {
    "collapsed": false,
    "deletable": true,
    "editable": true
   },
   "outputs": [],
   "source": [
    "train_v1 = pd.read_json('./data/train-v1.1.json')\n",
    "test_v1 = pd.read_json('./data/dev-v1.1.json')\n",
    "squad_train = pd.read_json('./data/squad_train_doc.json')\n",
    "squad_test = pd.read_json('./data/squad_dev_doc.json')"
   ]
  },
  {
   "cell_type": "code",
   "execution_count": 9,
   "metadata": {
    "collapsed": true,
    "deletable": true,
    "editable": true
   },
   "outputs": [],
   "source": [
    "data_train = squad_train\n",
    "data_train.rename(columns={'passages': 'documents'}, inplace=True)\n"
   ]
  },
  {
   "cell_type": "code",
   "execution_count": 10,
   "metadata": {
    "collapsed": false,
    "deletable": true,
    "editable": true
   },
   "outputs": [
    {
     "data": {
      "text/html": [
       "<div>\n",
       "<table border=\"1\" class=\"dataframe\">\n",
       "  <thead>\n",
       "    <tr style=\"text-align: right;\">\n",
       "      <th></th>\n",
       "      <th>documents</th>\n",
       "      <th>title</th>\n",
       "    </tr>\n",
       "  </thead>\n",
       "  <tbody>\n",
       "    <tr>\n",
       "      <th>0</th>\n",
       "      <td>[{'context': 'Architecturally, the school has ...</td>\n",
       "      <td>University_of_Notre_Dame</td>\n",
       "    </tr>\n",
       "    <tr>\n",
       "      <th>1</th>\n",
       "      <td>[{'context': 'Beyoncé Giselle Knowles-Carter (...</td>\n",
       "      <td>Beyoncé</td>\n",
       "    </tr>\n",
       "    <tr>\n",
       "      <th>2</th>\n",
       "      <td>[{'context': 'Montana i/mɒnˈtænə/ is a state i...</td>\n",
       "      <td>Montana</td>\n",
       "    </tr>\n",
       "    <tr>\n",
       "      <th>3</th>\n",
       "      <td>[{'context': 'The phrase \"in whole or in part\"...</td>\n",
       "      <td>Genocide</td>\n",
       "    </tr>\n",
       "    <tr>\n",
       "      <th>4</th>\n",
       "      <td>[{'context': 'The emergence of resistance of b...</td>\n",
       "      <td>Antibiotics</td>\n",
       "    </tr>\n",
       "  </tbody>\n",
       "</table>\n",
       "</div>"
      ],
      "text/plain": [
       "                                           documents                     title\n",
       "0  [{'context': 'Architecturally, the school has ...  University_of_Notre_Dame\n",
       "1  [{'context': 'Beyoncé Giselle Knowles-Carter (...                   Beyoncé\n",
       "2  [{'context': 'Montana i/mɒnˈtænə/ is a state i...                   Montana\n",
       "3  [{'context': 'The phrase \"in whole or in part\"...                  Genocide\n",
       "4  [{'context': 'The emergence of resistance of b...               Antibiotics"
      ]
     },
     "execution_count": 10,
     "metadata": {},
     "output_type": "execute_result"
    }
   ],
   "source": [
    "data_train.head()"
   ]
  },
  {
   "cell_type": "markdown",
   "metadata": {
    "deletable": true,
    "editable": true
   },
   "source": [
    "### Document list"
   ]
  },
  {
   "cell_type": "code",
   "execution_count": 11,
   "metadata": {
    "collapsed": true,
    "deletable": true,
    "editable": true
   },
   "outputs": [],
   "source": [
    "title_list = [data_train.title[i] for i in range(data_train.shape[0])]"
   ]
  },
  {
   "cell_type": "markdown",
   "metadata": {
    "deletable": true,
    "editable": true
   },
   "source": [
    "### Segregating Dataframe"
   ]
  },
  {
   "cell_type": "code",
   "execution_count": 12,
   "metadata": {
    "collapsed": true,
    "deletable": true,
    "editable": true
   },
   "outputs": [],
   "source": [
    "## Returns list of all context and list of all question sets\n",
    "\n",
    "def get_compact_dataframe():\n",
    "    context_list = []\n",
    "    question_list = []\n",
    "    \n",
    "    for doc in data_train.documents:\n",
    "        context_list.append(get_each_context_each_questionSet(doc)[0])\n",
    "        question_list.append(get_each_context_each_questionSet(doc)[1])\n",
    "    \n",
    "    return context_list, question_list"
   ]
  },
  {
   "cell_type": "code",
   "execution_count": 13,
   "metadata": {
    "collapsed": true,
    "deletable": true,
    "editable": true
   },
   "outputs": [],
   "source": [
    "## Pass a document and it returns list of context and list of set of questions\n",
    "\n",
    "def get_each_context_each_questionSet(document):\n",
    "    each_doc_context_list = [document[i]['context'] for i in range(len(document))]\n",
    "    each_doc_question_list = [document[i]['questions'] for i in range(len(document))]\n",
    "    return  each_doc_context_list, each_doc_question_list"
   ]
  },
  {
   "cell_type": "code",
   "execution_count": 14,
   "metadata": {
    "collapsed": true,
    "deletable": true,
    "editable": true
   },
   "outputs": [],
   "source": [
    "context_list, question_list = get_compact_dataframe()[0], get_compact_dataframe()[1]\n",
    "compact_dataframe = pd.DataFrame({'title':title_list, 'context':context_list, 'questions': question_list})"
   ]
  },
  {
   "cell_type": "markdown",
   "metadata": {
    "deletable": true,
    "editable": true
   },
   "source": [
    "## DATAFRAME"
   ]
  },
  {
   "cell_type": "code",
   "execution_count": 15,
   "metadata": {
    "collapsed": false,
    "deletable": true,
    "editable": true
   },
   "outputs": [
    {
     "data": {
      "text/html": [
       "<div>\n",
       "<table border=\"1\" class=\"dataframe\">\n",
       "  <thead>\n",
       "    <tr style=\"text-align: right;\">\n",
       "      <th></th>\n",
       "      <th>context</th>\n",
       "      <th>questions</th>\n",
       "      <th>title</th>\n",
       "    </tr>\n",
       "  </thead>\n",
       "  <tbody>\n",
       "    <tr>\n",
       "      <th>0</th>\n",
       "      <td>[Architecturally, the school has a Catholic ch...</td>\n",
       "      <td>[[What sits on top of the Main Building at Not...</td>\n",
       "      <td>University_of_Notre_Dame</td>\n",
       "    </tr>\n",
       "    <tr>\n",
       "      <th>1</th>\n",
       "      <td>[Beyoncé Giselle Knowles-Carter (/biːˈjɒnseɪ/ ...</td>\n",
       "      <td>[[What was Beyoncé's role in Destiny's Child?,...</td>\n",
       "      <td>Beyoncé</td>\n",
       "    </tr>\n",
       "    <tr>\n",
       "      <th>2</th>\n",
       "      <td>[Montana i/mɒnˈtænə/ is a state in the Western...</td>\n",
       "      <td>[[Where does the state's name come from?, What...</td>\n",
       "      <td>Montana</td>\n",
       "    </tr>\n",
       "    <tr>\n",
       "      <th>3</th>\n",
       "      <td>[The phrase \"in whole or in part\" has been sub...</td>\n",
       "      <td>[[Which phrase is especially contentious withi...</td>\n",
       "      <td>Genocide</td>\n",
       "    </tr>\n",
       "    <tr>\n",
       "      <th>4</th>\n",
       "      <td>[The emergence of resistance of bacteria to an...</td>\n",
       "      <td>[[What does emergence of resistance reflect?, ...</td>\n",
       "      <td>Antibiotics</td>\n",
       "    </tr>\n",
       "  </tbody>\n",
       "</table>\n",
       "</div>"
      ],
      "text/plain": [
       "                                             context  \\\n",
       "0  [Architecturally, the school has a Catholic ch...   \n",
       "1  [Beyoncé Giselle Knowles-Carter (/biːˈjɒnseɪ/ ...   \n",
       "2  [Montana i/mɒnˈtænə/ is a state in the Western...   \n",
       "3  [The phrase \"in whole or in part\" has been sub...   \n",
       "4  [The emergence of resistance of bacteria to an...   \n",
       "\n",
       "                                           questions                     title  \n",
       "0  [[What sits on top of the Main Building at Not...  University_of_Notre_Dame  \n",
       "1  [[What was Beyoncé's role in Destiny's Child?,...                   Beyoncé  \n",
       "2  [[Where does the state's name come from?, What...                   Montana  \n",
       "3  [[Which phrase is especially contentious withi...                  Genocide  \n",
       "4  [[What does emergence of resistance reflect?, ...               Antibiotics  "
      ]
     },
     "execution_count": 15,
     "metadata": {},
     "output_type": "execute_result"
    }
   ],
   "source": [
    "compact_dataframe.head()"
   ]
  },
  {
   "cell_type": "code",
   "execution_count": 16,
   "metadata": {
    "collapsed": false,
    "deletable": true,
    "editable": true
   },
   "outputs": [
    {
     "data": {
      "text/html": [
       "<div>\n",
       "<table border=\"1\" class=\"dataframe\">\n",
       "  <thead>\n",
       "    <tr style=\"text-align: right;\">\n",
       "      <th></th>\n",
       "      <th>context</th>\n",
       "      <th>questions</th>\n",
       "      <th>title</th>\n",
       "    </tr>\n",
       "  </thead>\n",
       "  <tbody>\n",
       "    <tr>\n",
       "      <th>10</th>\n",
       "      <td>[The 2008 Sichuan earthquake or the Great Sich...</td>\n",
       "      <td>[[In what year did the earthquake in Sichuan o...</td>\n",
       "      <td>2008_Sichuan_earthquake</td>\n",
       "    </tr>\n",
       "  </tbody>\n",
       "</table>\n",
       "</div>"
      ],
      "text/plain": [
       "                                              context  \\\n",
       "10  [The 2008 Sichuan earthquake or the Great Sich...   \n",
       "\n",
       "                                            questions                    title  \n",
       "10  [[In what year did the earthquake in Sichuan o...  2008_Sichuan_earthquake  "
      ]
     },
     "execution_count": 16,
     "metadata": {},
     "output_type": "execute_result"
    }
   ],
   "source": [
    "compact_dataframe[compact_dataframe.title == '2008_Sichuan_earthquake']"
   ]
  },
  {
   "cell_type": "markdown",
   "metadata": {
    "deletable": true,
    "editable": true
   },
   "source": [
    "### Total questions"
   ]
  },
  {
   "cell_type": "code",
   "execution_count": 17,
   "metadata": {
    "collapsed": true,
    "deletable": true,
    "editable": true
   },
   "outputs": [],
   "source": [
    "list_questions_perDOC = []\n",
    "count = 0\n",
    "\n",
    "for each_doc_question in compact_dataframe.questions:\n",
    "\n",
    "    Doc_questions = []\n",
    "    for each_Set in each_doc_question:\n",
    "        for each_question in each_Set:\n",
    "            Doc_questions.append(each_question)\n",
    "            count +=1\n",
    "    \n",
    "    list_questions_perDOC.append(Doc_questions)"
   ]
  },
  {
   "cell_type": "markdown",
   "metadata": {
    "deletable": true,
    "editable": true
   },
   "source": [
    "### Implementing Gensim "
   ]
  },
  {
   "cell_type": "code",
   "execution_count": 18,
   "metadata": {
    "collapsed": true,
    "deletable": true,
    "editable": true
   },
   "outputs": [],
   "source": [
    "class DocIterator(object):\n",
    "    \n",
    "    ## Initailizes document's list(doc1,doc2...) and its label's list('Book_1','Book_2',...)\n",
    "    def __init__(self, doc_list, labels_list):\n",
    "        self.doc_list = doc_list\n",
    "        self.labels_list = labels_list\n",
    "    \n",
    "    ## Assigns label1 to a list of all words in doc1, label2 to all words in doc2, etc.\n",
    "    def __iter__(self):\n",
    "        \n",
    "        for idx, doc in enumerate(self.doc_list):\n",
    "            yield doc2vec.LabeledSentence(words=doc.split(), tags=[self.labels_list[idx]])"
   ]
  },
  {
   "cell_type": "code",
   "execution_count": 19,
   "metadata": {
    "collapsed": true,
    "deletable": true,
    "editable": true
   },
   "outputs": [],
   "source": [
    "## Contains the whole data\n",
    "\n",
    "data = []\n",
    "docLabels = title_list\n",
    "\n",
    "for i in docLabels:\n",
    "    x = compact_dataframe[compact_dataframe.title == i].context.sum()\n",
    "    y = ' '.join(x)\n",
    "    data.append(y)"
   ]
  },
  {
   "cell_type": "code",
   "execution_count": 20,
   "metadata": {
    "collapsed": true,
    "deletable": true,
    "editable": true
   },
   "outputs": [],
   "source": [
    "iter_docs = DocIterator(data, docLabels)"
   ]
  },
  {
   "cell_type": "markdown",
   "metadata": {
    "deletable": true,
    "editable": true
   },
   "source": [
    "### Model"
   ]
  },
  {
   "cell_type": "code",
   "execution_count": 21,
   "metadata": {
    "collapsed": true,
    "deletable": true,
    "editable": true
   },
   "outputs": [],
   "source": [
    "model = Doc2Vec(iter_docs, size=200, window=50, min_count=1, workers=11, alpha=0.025, min_alpha=0.025, dbow_words = 1, iter = 20)"
   ]
  },
  {
   "cell_type": "markdown",
   "metadata": {
    "deletable": true,
    "editable": true
   },
   "source": [
    "### creating dummy dataframe using five questions from 5 documents"
   ]
  },
  {
   "cell_type": "code",
   "execution_count": 22,
   "metadata": {
    "collapsed": true,
    "deletable": true,
    "editable": true
   },
   "outputs": [],
   "source": [
    "questions_list = ['To whom did the Virgin Mary allegedly appear in 1858 in Lourdes France?','In what city did Beyonce grow up?',\n",
    "                 'How many ranges are part of the Rocky Mountains?',\n",
    "                  'What 2001 case was declared genocide by the International Criminal Tribune for the Former Yugoslavia (ICTY)?',\n",
    "                 'What does emergence of resistance reflect?']"
   ]
  },
  {
   "cell_type": "code",
   "execution_count": 23,
   "metadata": {
    "collapsed": false,
    "deletable": true,
    "editable": true
   },
   "outputs": [],
   "source": [
    "documents_doc2vec = []\n",
    "for i in range(5):\n",
    "    documents_doc2vec.append(model.docvecs[i])\n"
   ]
  },
  {
   "cell_type": "code",
   "execution_count": 24,
   "metadata": {
    "collapsed": false,
    "deletable": true,
    "editable": true
   },
   "outputs": [],
   "source": [
    "data_d = []\n",
    "for i in range(5):\n",
    "    for j in range(5):\n",
    "        data_d.append(title_list[j])  "
   ]
  },
  {
   "cell_type": "code",
   "execution_count": 25,
   "metadata": {
    "collapsed": true,
    "deletable": true,
    "editable": true
   },
   "outputs": [],
   "source": [
    "data_q = []\n",
    "for i in range(5):\n",
    "    for j in range(5):\n",
    "        data_q.append(questions_list[i])"
   ]
  },
  {
   "cell_type": "code",
   "execution_count": 26,
   "metadata": {
    "collapsed": false,
    "deletable": true,
    "editable": true
   },
   "outputs": [],
   "source": [
    "def scores():\n",
    "    scores = []\n",
    "    for i in range(25):\n",
    "        scores.append(random.random())\n",
    "    return scores    "
   ]
  },
  {
   "cell_type": "code",
   "execution_count": 27,
   "metadata": {
    "collapsed": false,
    "deletable": true,
    "editable": true
   },
   "outputs": [],
   "source": [
    "s1 = scores()\n",
    "s2 = scores()\n",
    "s3 = scores()\n",
    "s4 = scores()"
   ]
  },
  {
   "cell_type": "code",
   "execution_count": 28,
   "metadata": {
    "collapsed": false,
    "deletable": true,
    "editable": true
   },
   "outputs": [
    {
     "name": "stdout",
     "output_type": "stream",
     "text": [
      "21\n"
     ]
    }
   ],
   "source": [
    "print(randint(2,25))"
   ]
  },
  {
   "cell_type": "code",
   "execution_count": 29,
   "metadata": {
    "collapsed": false,
    "deletable": true,
    "editable": true
   },
   "outputs": [
    {
     "data": {
      "text/plain": [
       "[1]"
      ]
     },
     "execution_count": 29,
     "metadata": {},
     "output_type": "execute_result"
    }
   ],
   "source": [
    "random.sample(range(5), 1)"
   ]
  },
  {
   "cell_type": "code",
   "execution_count": 30,
   "metadata": {
    "collapsed": false,
    "deletable": true,
    "editable": true
   },
   "outputs": [
    {
     "data": {
      "text/plain": [
       "[1, 2, 3, 4, 5, 2, 1, 3, 4, 5, 2, 3, 1, 4, 5, 2, 3, 4, 1, 5, 2, 3, 4, 5, 1]"
      ]
     },
     "execution_count": 30,
     "metadata": {},
     "output_type": "execute_result"
    }
   ],
   "source": [
    "y =[]\n",
    "rank = []\n",
    "for i in range(5):\n",
    "    k = 2\n",
    "    for j in range(5):\n",
    "        if(i==j):\n",
    "            y.append(1)\n",
    "            rank.append(1)\n",
    "        else:\n",
    "            y.append(0)\n",
    "            rank.append(k)\n",
    "            k += 1\n",
    "rank"
   ]
  },
  {
   "cell_type": "code",
   "execution_count": 31,
   "metadata": {
    "collapsed": false,
    "deletable": true,
    "editable": true
   },
   "outputs": [],
   "source": [
    "q_vs_d = pd.DataFrame(\n",
    "    {'questions': data_q,\n",
    "     'documents': data_d,\n",
    "     's1': s1,\n",
    "     's2': s2,\n",
    "     's3': s3,\n",
    "     's4': s4,\n",
    "     'y': y,\n",
    "     'rank':rank\n",
    "    })"
   ]
  },
  {
   "cell_type": "code",
   "execution_count": 32,
   "metadata": {
    "collapsed": false,
    "deletable": true,
    "editable": true
   },
   "outputs": [
    {
     "data": {
      "text/html": [
       "<div>\n",
       "<table border=\"1\" class=\"dataframe\">\n",
       "  <thead>\n",
       "    <tr style=\"text-align: right;\">\n",
       "      <th></th>\n",
       "      <th>documents</th>\n",
       "      <th>questions</th>\n",
       "      <th>rank</th>\n",
       "      <th>s1</th>\n",
       "      <th>s2</th>\n",
       "      <th>s3</th>\n",
       "      <th>s4</th>\n",
       "      <th>y</th>\n",
       "    </tr>\n",
       "  </thead>\n",
       "  <tbody>\n",
       "    <tr>\n",
       "      <th>0</th>\n",
       "      <td>University_of_Notre_Dame</td>\n",
       "      <td>To whom did the Virgin Mary allegedly appear i...</td>\n",
       "      <td>1</td>\n",
       "      <td>0.292092</td>\n",
       "      <td>0.097499</td>\n",
       "      <td>0.192597</td>\n",
       "      <td>0.736611</td>\n",
       "      <td>1</td>\n",
       "    </tr>\n",
       "    <tr>\n",
       "      <th>1</th>\n",
       "      <td>Beyoncé</td>\n",
       "      <td>To whom did the Virgin Mary allegedly appear i...</td>\n",
       "      <td>2</td>\n",
       "      <td>0.788528</td>\n",
       "      <td>0.678500</td>\n",
       "      <td>0.768750</td>\n",
       "      <td>0.947541</td>\n",
       "      <td>0</td>\n",
       "    </tr>\n",
       "    <tr>\n",
       "      <th>2</th>\n",
       "      <td>Montana</td>\n",
       "      <td>To whom did the Virgin Mary allegedly appear i...</td>\n",
       "      <td>3</td>\n",
       "      <td>0.273200</td>\n",
       "      <td>0.439731</td>\n",
       "      <td>0.083541</td>\n",
       "      <td>0.228149</td>\n",
       "      <td>0</td>\n",
       "    </tr>\n",
       "    <tr>\n",
       "      <th>3</th>\n",
       "      <td>Genocide</td>\n",
       "      <td>To whom did the Virgin Mary allegedly appear i...</td>\n",
       "      <td>4</td>\n",
       "      <td>0.740361</td>\n",
       "      <td>0.111123</td>\n",
       "      <td>0.720138</td>\n",
       "      <td>0.327966</td>\n",
       "      <td>0</td>\n",
       "    </tr>\n",
       "    <tr>\n",
       "      <th>4</th>\n",
       "      <td>Antibiotics</td>\n",
       "      <td>To whom did the Virgin Mary allegedly appear i...</td>\n",
       "      <td>5</td>\n",
       "      <td>0.679090</td>\n",
       "      <td>0.627296</td>\n",
       "      <td>0.268764</td>\n",
       "      <td>0.190431</td>\n",
       "      <td>0</td>\n",
       "    </tr>\n",
       "    <tr>\n",
       "      <th>5</th>\n",
       "      <td>University_of_Notre_Dame</td>\n",
       "      <td>In what city did Beyonce grow up?</td>\n",
       "      <td>2</td>\n",
       "      <td>0.692027</td>\n",
       "      <td>0.595484</td>\n",
       "      <td>0.565558</td>\n",
       "      <td>0.727373</td>\n",
       "      <td>0</td>\n",
       "    </tr>\n",
       "    <tr>\n",
       "      <th>6</th>\n",
       "      <td>Beyoncé</td>\n",
       "      <td>In what city did Beyonce grow up?</td>\n",
       "      <td>1</td>\n",
       "      <td>0.243540</td>\n",
       "      <td>0.216696</td>\n",
       "      <td>0.319605</td>\n",
       "      <td>0.638034</td>\n",
       "      <td>1</td>\n",
       "    </tr>\n",
       "    <tr>\n",
       "      <th>7</th>\n",
       "      <td>Montana</td>\n",
       "      <td>In what city did Beyonce grow up?</td>\n",
       "      <td>3</td>\n",
       "      <td>0.722053</td>\n",
       "      <td>0.639608</td>\n",
       "      <td>0.550363</td>\n",
       "      <td>0.829222</td>\n",
       "      <td>0</td>\n",
       "    </tr>\n",
       "    <tr>\n",
       "      <th>8</th>\n",
       "      <td>Genocide</td>\n",
       "      <td>In what city did Beyonce grow up?</td>\n",
       "      <td>4</td>\n",
       "      <td>0.835313</td>\n",
       "      <td>0.312631</td>\n",
       "      <td>0.553184</td>\n",
       "      <td>0.373930</td>\n",
       "      <td>0</td>\n",
       "    </tr>\n",
       "    <tr>\n",
       "      <th>9</th>\n",
       "      <td>Antibiotics</td>\n",
       "      <td>In what city did Beyonce grow up?</td>\n",
       "      <td>5</td>\n",
       "      <td>0.385470</td>\n",
       "      <td>0.335298</td>\n",
       "      <td>0.578177</td>\n",
       "      <td>0.316151</td>\n",
       "      <td>0</td>\n",
       "    </tr>\n",
       "    <tr>\n",
       "      <th>10</th>\n",
       "      <td>University_of_Notre_Dame</td>\n",
       "      <td>How many ranges are part of the Rocky Mountains?</td>\n",
       "      <td>2</td>\n",
       "      <td>0.205050</td>\n",
       "      <td>0.237516</td>\n",
       "      <td>0.805853</td>\n",
       "      <td>0.736271</td>\n",
       "      <td>0</td>\n",
       "    </tr>\n",
       "    <tr>\n",
       "      <th>11</th>\n",
       "      <td>Beyoncé</td>\n",
       "      <td>How many ranges are part of the Rocky Mountains?</td>\n",
       "      <td>3</td>\n",
       "      <td>0.760773</td>\n",
       "      <td>0.408512</td>\n",
       "      <td>0.067442</td>\n",
       "      <td>0.924966</td>\n",
       "      <td>0</td>\n",
       "    </tr>\n",
       "    <tr>\n",
       "      <th>12</th>\n",
       "      <td>Montana</td>\n",
       "      <td>How many ranges are part of the Rocky Mountains?</td>\n",
       "      <td>1</td>\n",
       "      <td>0.526727</td>\n",
       "      <td>0.294533</td>\n",
       "      <td>0.489409</td>\n",
       "      <td>0.412726</td>\n",
       "      <td>1</td>\n",
       "    </tr>\n",
       "    <tr>\n",
       "      <th>13</th>\n",
       "      <td>Genocide</td>\n",
       "      <td>How many ranges are part of the Rocky Mountains?</td>\n",
       "      <td>4</td>\n",
       "      <td>0.648025</td>\n",
       "      <td>0.586580</td>\n",
       "      <td>0.845282</td>\n",
       "      <td>0.266120</td>\n",
       "      <td>0</td>\n",
       "    </tr>\n",
       "    <tr>\n",
       "      <th>14</th>\n",
       "      <td>Antibiotics</td>\n",
       "      <td>How many ranges are part of the Rocky Mountains?</td>\n",
       "      <td>5</td>\n",
       "      <td>0.406270</td>\n",
       "      <td>0.579511</td>\n",
       "      <td>0.855130</td>\n",
       "      <td>0.675811</td>\n",
       "      <td>0</td>\n",
       "    </tr>\n",
       "    <tr>\n",
       "      <th>15</th>\n",
       "      <td>University_of_Notre_Dame</td>\n",
       "      <td>What 2001 case was declared genocide by the In...</td>\n",
       "      <td>2</td>\n",
       "      <td>0.227474</td>\n",
       "      <td>0.946865</td>\n",
       "      <td>0.223225</td>\n",
       "      <td>0.022103</td>\n",
       "      <td>0</td>\n",
       "    </tr>\n",
       "    <tr>\n",
       "      <th>16</th>\n",
       "      <td>Beyoncé</td>\n",
       "      <td>What 2001 case was declared genocide by the In...</td>\n",
       "      <td>3</td>\n",
       "      <td>0.948468</td>\n",
       "      <td>0.174212</td>\n",
       "      <td>0.382994</td>\n",
       "      <td>0.325418</td>\n",
       "      <td>0</td>\n",
       "    </tr>\n",
       "    <tr>\n",
       "      <th>17</th>\n",
       "      <td>Montana</td>\n",
       "      <td>What 2001 case was declared genocide by the In...</td>\n",
       "      <td>4</td>\n",
       "      <td>0.522488</td>\n",
       "      <td>0.359786</td>\n",
       "      <td>0.171323</td>\n",
       "      <td>0.150662</td>\n",
       "      <td>0</td>\n",
       "    </tr>\n",
       "    <tr>\n",
       "      <th>18</th>\n",
       "      <td>Genocide</td>\n",
       "      <td>What 2001 case was declared genocide by the In...</td>\n",
       "      <td>1</td>\n",
       "      <td>0.523745</td>\n",
       "      <td>0.410259</td>\n",
       "      <td>0.040439</td>\n",
       "      <td>0.428737</td>\n",
       "      <td>1</td>\n",
       "    </tr>\n",
       "    <tr>\n",
       "      <th>19</th>\n",
       "      <td>Antibiotics</td>\n",
       "      <td>What 2001 case was declared genocide by the In...</td>\n",
       "      <td>5</td>\n",
       "      <td>0.703873</td>\n",
       "      <td>0.054887</td>\n",
       "      <td>0.106620</td>\n",
       "      <td>0.664442</td>\n",
       "      <td>0</td>\n",
       "    </tr>\n",
       "    <tr>\n",
       "      <th>20</th>\n",
       "      <td>University_of_Notre_Dame</td>\n",
       "      <td>What does emergence of resistance reflect?</td>\n",
       "      <td>2</td>\n",
       "      <td>0.920098</td>\n",
       "      <td>0.638059</td>\n",
       "      <td>0.222169</td>\n",
       "      <td>0.969180</td>\n",
       "      <td>0</td>\n",
       "    </tr>\n",
       "    <tr>\n",
       "      <th>21</th>\n",
       "      <td>Beyoncé</td>\n",
       "      <td>What does emergence of resistance reflect?</td>\n",
       "      <td>3</td>\n",
       "      <td>0.324101</td>\n",
       "      <td>0.012382</td>\n",
       "      <td>0.673801</td>\n",
       "      <td>0.240277</td>\n",
       "      <td>0</td>\n",
       "    </tr>\n",
       "    <tr>\n",
       "      <th>22</th>\n",
       "      <td>Montana</td>\n",
       "      <td>What does emergence of resistance reflect?</td>\n",
       "      <td>4</td>\n",
       "      <td>0.812533</td>\n",
       "      <td>0.167652</td>\n",
       "      <td>0.538065</td>\n",
       "      <td>0.638688</td>\n",
       "      <td>0</td>\n",
       "    </tr>\n",
       "    <tr>\n",
       "      <th>23</th>\n",
       "      <td>Genocide</td>\n",
       "      <td>What does emergence of resistance reflect?</td>\n",
       "      <td>5</td>\n",
       "      <td>0.905985</td>\n",
       "      <td>0.629907</td>\n",
       "      <td>0.730900</td>\n",
       "      <td>0.333311</td>\n",
       "      <td>0</td>\n",
       "    </tr>\n",
       "    <tr>\n",
       "      <th>24</th>\n",
       "      <td>Antibiotics</td>\n",
       "      <td>What does emergence of resistance reflect?</td>\n",
       "      <td>1</td>\n",
       "      <td>0.739881</td>\n",
       "      <td>0.834947</td>\n",
       "      <td>0.507852</td>\n",
       "      <td>0.443320</td>\n",
       "      <td>1</td>\n",
       "    </tr>\n",
       "  </tbody>\n",
       "</table>\n",
       "</div>"
      ],
      "text/plain": [
       "                   documents  \\\n",
       "0   University_of_Notre_Dame   \n",
       "1                    Beyoncé   \n",
       "2                    Montana   \n",
       "3                   Genocide   \n",
       "4                Antibiotics   \n",
       "5   University_of_Notre_Dame   \n",
       "6                    Beyoncé   \n",
       "7                    Montana   \n",
       "8                   Genocide   \n",
       "9                Antibiotics   \n",
       "10  University_of_Notre_Dame   \n",
       "11                   Beyoncé   \n",
       "12                   Montana   \n",
       "13                  Genocide   \n",
       "14               Antibiotics   \n",
       "15  University_of_Notre_Dame   \n",
       "16                   Beyoncé   \n",
       "17                   Montana   \n",
       "18                  Genocide   \n",
       "19               Antibiotics   \n",
       "20  University_of_Notre_Dame   \n",
       "21                   Beyoncé   \n",
       "22                   Montana   \n",
       "23                  Genocide   \n",
       "24               Antibiotics   \n",
       "\n",
       "                                            questions  rank        s1  \\\n",
       "0   To whom did the Virgin Mary allegedly appear i...     1  0.292092   \n",
       "1   To whom did the Virgin Mary allegedly appear i...     2  0.788528   \n",
       "2   To whom did the Virgin Mary allegedly appear i...     3  0.273200   \n",
       "3   To whom did the Virgin Mary allegedly appear i...     4  0.740361   \n",
       "4   To whom did the Virgin Mary allegedly appear i...     5  0.679090   \n",
       "5                   In what city did Beyonce grow up?     2  0.692027   \n",
       "6                   In what city did Beyonce grow up?     1  0.243540   \n",
       "7                   In what city did Beyonce grow up?     3  0.722053   \n",
       "8                   In what city did Beyonce grow up?     4  0.835313   \n",
       "9                   In what city did Beyonce grow up?     5  0.385470   \n",
       "10   How many ranges are part of the Rocky Mountains?     2  0.205050   \n",
       "11   How many ranges are part of the Rocky Mountains?     3  0.760773   \n",
       "12   How many ranges are part of the Rocky Mountains?     1  0.526727   \n",
       "13   How many ranges are part of the Rocky Mountains?     4  0.648025   \n",
       "14   How many ranges are part of the Rocky Mountains?     5  0.406270   \n",
       "15  What 2001 case was declared genocide by the In...     2  0.227474   \n",
       "16  What 2001 case was declared genocide by the In...     3  0.948468   \n",
       "17  What 2001 case was declared genocide by the In...     4  0.522488   \n",
       "18  What 2001 case was declared genocide by the In...     1  0.523745   \n",
       "19  What 2001 case was declared genocide by the In...     5  0.703873   \n",
       "20         What does emergence of resistance reflect?     2  0.920098   \n",
       "21         What does emergence of resistance reflect?     3  0.324101   \n",
       "22         What does emergence of resistance reflect?     4  0.812533   \n",
       "23         What does emergence of resistance reflect?     5  0.905985   \n",
       "24         What does emergence of resistance reflect?     1  0.739881   \n",
       "\n",
       "          s2        s3        s4  y  \n",
       "0   0.097499  0.192597  0.736611  1  \n",
       "1   0.678500  0.768750  0.947541  0  \n",
       "2   0.439731  0.083541  0.228149  0  \n",
       "3   0.111123  0.720138  0.327966  0  \n",
       "4   0.627296  0.268764  0.190431  0  \n",
       "5   0.595484  0.565558  0.727373  0  \n",
       "6   0.216696  0.319605  0.638034  1  \n",
       "7   0.639608  0.550363  0.829222  0  \n",
       "8   0.312631  0.553184  0.373930  0  \n",
       "9   0.335298  0.578177  0.316151  0  \n",
       "10  0.237516  0.805853  0.736271  0  \n",
       "11  0.408512  0.067442  0.924966  0  \n",
       "12  0.294533  0.489409  0.412726  1  \n",
       "13  0.586580  0.845282  0.266120  0  \n",
       "14  0.579511  0.855130  0.675811  0  \n",
       "15  0.946865  0.223225  0.022103  0  \n",
       "16  0.174212  0.382994  0.325418  0  \n",
       "17  0.359786  0.171323  0.150662  0  \n",
       "18  0.410259  0.040439  0.428737  1  \n",
       "19  0.054887  0.106620  0.664442  0  \n",
       "20  0.638059  0.222169  0.969180  0  \n",
       "21  0.012382  0.673801  0.240277  0  \n",
       "22  0.167652  0.538065  0.638688  0  \n",
       "23  0.629907  0.730900  0.333311  0  \n",
       "24  0.834947  0.507852  0.443320  1  "
      ]
     },
     "execution_count": 32,
     "metadata": {},
     "output_type": "execute_result"
    }
   ],
   "source": [
    "q_vs_d"
   ]
  },
  {
   "cell_type": "code",
   "execution_count": 33,
   "metadata": {
    "collapsed": false,
    "deletable": true,
    "editable": true
   },
   "outputs": [],
   "source": [
    "def inputq(question):\n",
    "    df1 = q_vs_d[((q_vs_d['questions'] == question)& (q_vs_d['rank'] == 1))]\n",
    "    df2 = q_vs_d[((q_vs_d['questions'] == question)& (q_vs_d['rank'] == max(rank)))]  \n",
    "    df3 = q_vs_d[((q_vs_d['questions'] == question)& (q_vs_d['rank'] == randint(2,4)))] \n",
    "    new_df = df1.append(df2, ignore_index=True)\n",
    "    new_df2 =new_df.append(df3, ignore_index=True)\n",
    "    for i in range(3):\n",
    "        new_df2['questions'][i] = doc_to_vec(question)[0]\n",
    "        new_df2['documents'][i] = model.docvecs[title_list.index(new_df2['documents'][i])]\n",
    "    y_train = new_df2['y']\n",
    "    x_train2 = new_df2[['s1','s2','s3','s4']] \n",
    "    new_df2.drop(['y','rank','s1','s2','s3','s4'],axis = 1, inplace = True)\n",
    "    x_train = new_df2\n",
    "    return x_train,y_train,x_train2\n",
    "    "
   ]
  },
  {
   "cell_type": "code",
   "execution_count": 35,
   "metadata": {
    "collapsed": false,
    "deletable": true,
    "editable": true
   },
   "outputs": [
    {
     "name": "stderr",
     "output_type": "stream",
     "text": [
      "/home/user/anaconda3/lib/python3.6/site-packages/ipykernel/__main__.py:8: SettingWithCopyWarning:\n",
      "\n",
      "\n",
      "A value is trying to be set on a copy of a slice from a DataFrame\n",
      "\n",
      "See the caveats in the documentation: http://pandas.pydata.org/pandas-docs/stable/indexing.html#indexing-view-versus-copy\n",
      "\n",
      "/home/user/anaconda3/lib/python3.6/site-packages/ipykernel/__main__.py:9: SettingWithCopyWarning:\n",
      "\n",
      "\n",
      "A value is trying to be set on a copy of a slice from a DataFrame\n",
      "\n",
      "See the caveats in the documentation: http://pandas.pydata.org/pandas-docs/stable/indexing.html#indexing-view-versus-copy\n",
      "\n"
     ]
    }
   ],
   "source": [
    "x_train,y_train,x_train2 = inputq('To whom did the Virgin Mary allegedly appear in 1858 in Lourdes France?')"
   ]
  },
  {
   "cell_type": "code",
   "execution_count": 92,
   "metadata": {
    "collapsed": false,
    "deletable": true,
    "editable": true
   },
   "outputs": [
    {
     "data": {
      "text/plain": [
       "(2,)"
      ]
     },
     "execution_count": 92,
     "metadata": {},
     "output_type": "execute_result"
    }
   ],
   "source": [
    "xtrain =xtrain.reshape()"
   ]
  },
  {
   "cell_type": "code",
   "execution_count": 120,
   "metadata": {
    "collapsed": false,
    "deletable": true,
    "editable": true
   },
   "outputs": [],
   "source": [
    "train_x_array = []\n",
    "for each in x_train.as_matrix():\n",
    "    for nested in each:\n",
    "        train_x_array.append(nested)\n",
    "\n",
    "train_x_array = np.array(train_x_array)"
   ]
  },
  {
   "cell_type": "code",
   "execution_count": 124,
   "metadata": {
    "collapsed": false,
    "deletable": true,
    "editable": true
   },
   "outputs": [],
   "source": [
    "train_x_array = train_x_array.reshape(3,2,200)"
   ]
  },
  {
   "cell_type": "code",
   "execution_count": 126,
   "metadata": {
    "collapsed": false,
    "deletable": true,
    "editable": true
   },
   "outputs": [
    {
     "data": {
      "text/plain": [
       "(3, 2, 200)"
      ]
     },
     "execution_count": 126,
     "metadata": {},
     "output_type": "execute_result"
    }
   ],
   "source": [
    "train_x_array.shape"
   ]
  },
  {
   "cell_type": "code",
   "execution_count": 136,
   "metadata": {
    "collapsed": false,
    "deletable": true,
    "editable": true
   },
   "outputs": [],
   "source": [
    "y_train = np.array(y_train)"
   ]
  },
  {
   "cell_type": "code",
   "execution_count": 137,
   "metadata": {
    "collapsed": false,
    "deletable": true,
    "editable": true
   },
   "outputs": [
    {
     "data": {
      "text/plain": [
       "array([1, 0, 0])"
      ]
     },
     "execution_count": 137,
     "metadata": {},
     "output_type": "execute_result"
    }
   ],
   "source": [
    "y_train"
   ]
  },
  {
   "cell_type": "code",
   "execution_count": 127,
   "metadata": {
    "collapsed": true,
    "deletable": true,
    "editable": true
   },
   "outputs": [],
   "source": [
    "model = Sequential()"
   ]
  },
  {
   "cell_type": "code",
   "execution_count": 128,
   "metadata": {
    "collapsed": false,
    "deletable": true,
    "editable": true
   },
   "outputs": [],
   "source": [
    "model.add(Dense(500, input_shape=(2,200)))\n",
    "model.add(Dense(600, activation='relu'))\n",
    "model.add(Flatten())\n",
    "model.add(Dense(1))"
   ]
  },
  {
   "cell_type": "code",
   "execution_count": 139,
   "metadata": {
    "collapsed": true,
    "deletable": true,
    "editable": true
   },
   "outputs": [],
   "source": [
    "model.compile(optimizer=RMSprop(),loss='binary_crossentropy',metrics = ['accuracy'])"
   ]
  },
  {
   "cell_type": "code",
   "execution_count": 140,
   "metadata": {
    "collapsed": false,
    "deletable": true,
    "editable": true
   },
   "outputs": [
    {
     "name": "stdout",
     "output_type": "stream",
     "text": [
      "Train on 2 samples, validate on 1 samples\n",
      "Epoch 1/5\n",
      "0s - loss: 8.0590 - acc: 0.0000e+00 - val_loss: 1.0000e-07 - val_acc: 0.0000e+00\n",
      "Epoch 2/5\n",
      "0s - loss: 8.0590 - acc: 0.0000e+00 - val_loss: 1.0000e-07 - val_acc: 0.0000e+00\n",
      "Epoch 3/5\n",
      "0s - loss: 8.0590 - acc: 0.0000e+00 - val_loss: 1.0000e-07 - val_acc: 0.0000e+00\n",
      "Epoch 4/5\n",
      "0s - loss: 8.0590 - acc: 0.0000e+00 - val_loss: 1.0000e-07 - val_acc: 0.0000e+00\n",
      "Epoch 5/5\n",
      "0s - loss: 8.0590 - acc: 0.0000e+00 - val_loss: 1.0000e-07 - val_acc: 0.0000e+00\n"
     ]
    },
    {
     "data": {
      "text/plain": [
       "<keras.callbacks.History at 0x7f10fb588e80>"
      ]
     },
     "execution_count": 140,
     "metadata": {},
     "output_type": "execute_result"
    }
   ],
   "source": [
    "model.fit(train_x_array, y_train, batch_size=1, epochs=5, validation_split = .2, verbose=2)"
   ]
  },
  {
   "cell_type": "code",
   "execution_count": 134,
   "metadata": {
    "collapsed": false,
    "deletable": true,
    "editable": true
   },
   "outputs": [
    {
     "name": "stdout",
     "output_type": "stream",
     "text": [
      "_________________________________________________________________\n",
      "Layer (type)                 Output Shape              Param #   \n",
      "=================================================================\n",
      "dense_24 (Dense)             (None, 2, 500)            100500    \n",
      "_________________________________________________________________\n",
      "dense_25 (Dense)             (None, 2, 600)            300600    \n",
      "_________________________________________________________________\n",
      "flatten_8 (Flatten)          (None, 1200)              0         \n",
      "_________________________________________________________________\n",
      "dense_26 (Dense)             (None, 1)                 1201      \n",
      "=================================================================\n",
      "Total params: 402,301\n",
      "Trainable params: 402,301\n",
      "Non-trainable params: 0\n",
      "_________________________________________________________________\n"
     ]
    }
   ],
   "source": [
    "model.summary()"
   ]
  },
  {
   "cell_type": "code",
   "execution_count": 132,
   "metadata": {
    "collapsed": false,
    "deletable": true,
    "editable": true
   },
   "outputs": [
    {
     "data": {
      "text/html": [
       "<div>\n",
       "<table border=\"1\" class=\"dataframe\">\n",
       "  <thead>\n",
       "    <tr style=\"text-align: right;\">\n",
       "      <th></th>\n",
       "      <th>s1</th>\n",
       "      <th>s2</th>\n",
       "      <th>s3</th>\n",
       "      <th>s4</th>\n",
       "    </tr>\n",
       "  </thead>\n",
       "  <tbody>\n",
       "    <tr>\n",
       "      <th>0</th>\n",
       "      <td>0.292092</td>\n",
       "      <td>0.097499</td>\n",
       "      <td>0.192597</td>\n",
       "      <td>0.736611</td>\n",
       "    </tr>\n",
       "    <tr>\n",
       "      <th>1</th>\n",
       "      <td>0.679090</td>\n",
       "      <td>0.627296</td>\n",
       "      <td>0.268764</td>\n",
       "      <td>0.190431</td>\n",
       "    </tr>\n",
       "    <tr>\n",
       "      <th>2</th>\n",
       "      <td>0.273200</td>\n",
       "      <td>0.439731</td>\n",
       "      <td>0.083541</td>\n",
       "      <td>0.228149</td>\n",
       "    </tr>\n",
       "  </tbody>\n",
       "</table>\n",
       "</div>"
      ],
      "text/plain": [
       "         s1        s2        s3        s4\n",
       "0  0.292092  0.097499  0.192597  0.736611\n",
       "1  0.679090  0.627296  0.268764  0.190431\n",
       "2  0.273200  0.439731  0.083541  0.228149"
      ]
     },
     "execution_count": 132,
     "metadata": {},
     "output_type": "execute_result"
    }
   ],
   "source": [
    "x_train2"
   ]
  },
  {
   "cell_type": "code",
   "execution_count": 38,
   "metadata": {
    "collapsed": false,
    "deletable": true,
    "editable": true
   },
   "outputs": [],
   "source": [
    "ytrain = y_train.values.tolist()\n",
    "ytrain = keras.utils.to_categorical(ytrain, 2)\n",
    "\n",
    "z= []\n"
   ]
  },
  {
   "cell_type": "code",
   "execution_count": 40,
   "metadata": {
    "collapsed": false,
    "deletable": true,
    "editable": true
   },
   "outputs": [
    {
     "data": {
      "text/plain": [
       "(3, 2)"
      ]
     },
     "execution_count": 40,
     "metadata": {},
     "output_type": "execute_result"
    }
   ],
   "source": [
    "x_train.shape"
   ]
  },
  {
   "cell_type": "code",
   "execution_count": 45,
   "metadata": {
    "collapsed": false,
    "deletable": true,
    "editable": true
   },
   "outputs": [
    {
     "data": {
      "text/plain": [
       "array([[ 0.29209162,  0.09749882,  0.19259699,  0.7366112 ],\n",
       "       [ 0.6790903 ,  0.6272955 ,  0.26876447,  0.19043088],\n",
       "       [ 0.27320041,  0.43973055,  0.08354065,  0.22814886]])"
      ]
     },
     "execution_count": 45,
     "metadata": {},
     "output_type": "execute_result"
    }
   ],
   "source": [
    "xtrain = np.array(x_train)\n",
    "xtrain2 = np.array(x_train2)\n",
    "xtrain2"
   ]
  },
  {
   "cell_type": "code",
   "execution_count": 43,
   "metadata": {
    "collapsed": false,
    "deletable": true,
    "editable": true
   },
   "outputs": [
    {
     "data": {
      "text/plain": [
       "array([[ array([ 2.01394415,  0.03585275,  1.3813417 ,  7.96615076,  7.35949659,\n",
       "        0.91579366,  2.17811036, -6.35143614, -2.52540374, -3.50507188,\n",
       "        0.55032665, -1.11314905,  1.92313516,  0.56830662, -0.28139034,\n",
       "        1.84442759, -7.77372408, -6.94920301,  4.10894537,  0.99260843,\n",
       "       -2.8056128 ,  6.80880165, -0.59066927,  0.56344479, -6.87310028,\n",
       "       -1.51675236,  2.84560275, -4.27219439,  1.5247618 ,  3.08890057,\n",
       "       -3.30584073,  1.06405914, -2.98729897, -3.33614278,  3.06652236,\n",
       "        0.58145165, -6.27639866,  0.74633253, -3.8253634 , -1.54233944,\n",
       "       -3.94853854,  2.96002793, -0.240844  , -4.73850727,  1.42409801,\n",
       "       -4.9074235 ,  5.15057898,  0.54581958,  1.21229005,  3.86014795,\n",
       "        5.2014122 , -1.81772888, -1.57212996, -1.61680365, -0.17548494,\n",
       "        3.0380187 , -2.1900959 ,  3.40655947,  2.22727418,  1.08796191,\n",
       "       -0.5415169 , -1.1212703 ,  0.31352213,  0.07798663, -6.45791388,\n",
       "       -3.90841269, -7.1050539 ,  5.8700695 ,  0.59667403, -0.62036294,\n",
       "       -2.86418414, -3.5762651 , -1.33326232,  3.02712488,  5.77842951,\n",
       "       -9.01909924,  2.19102263,  0.01849309, -3.7581923 , -4.75101662,\n",
       "        2.10265255,  0.37839314, -1.14448333,  2.18595076, -0.3742964 ,\n",
       "        3.28165483, -1.24593353,  1.84749615, -2.76434827,  4.67982292,\n",
       "       -7.14783287, -1.74562061, -0.61026138,  4.52597332, -4.46226597,\n",
       "       -1.84366965, -0.97637969,  2.793293  , -3.77883673,  2.42836785,\n",
       "        1.79742193,  4.74284792,  7.86947155,  0.25722021, -0.69634998,\n",
       "       -3.39496469, -2.74790668,  1.78473866, -1.0243485 ,  6.10774279,\n",
       "       -4.91997814, -5.0316391 , -0.32782131,  1.73365664, -1.65099001,\n",
       "        2.57846212,  1.82019627,  2.35684347, -1.28946638, -3.04630399,\n",
       "       -1.66390097,  3.70061278,  1.26102972,  3.59733081,  4.68241549,\n",
       "       -5.25082779, -2.11008453, -2.1657443 , -3.67211771, -3.21503282,\n",
       "        8.18831158, -6.57321072, -2.0291872 ,  1.35363138, -1.99001634,\n",
       "       -4.9427104 ,  6.55047512,  2.83172083, -8.1806097 ,  1.59602833,\n",
       "        2.99300504, -2.37648368,  0.86464268, -1.58066046,  2.21379781,\n",
       "       -2.94629669, -4.18217087,  1.61976719,  1.68325031, -1.91886926,\n",
       "       -4.06429052,  4.39409304,  4.55364132, -4.37282133, -4.46104622,\n",
       "       -0.36822116, -0.32040051, -5.91622162, -2.88684106, -4.50711441,\n",
       "        0.68825066, -0.56042856,  1.82326901, -2.55951047,  0.67821044,\n",
       "       -1.06672609, -2.40289402,  1.41290796, -0.29132026, -1.40591109,\n",
       "       -3.69633293, -0.30047292,  4.33985138,  0.87692982, -1.63653982,\n",
       "       -0.3527512 , -1.73022246, -5.76600885,  0.70819688,  1.57447875,\n",
       "        3.06502652, -0.25058946,  0.05332101, -4.14755201,  4.15300941,\n",
       "       -2.33609438,  5.00107718,  1.27140188, -8.21267796,  4.27129364,\n",
       "        0.71950972,  6.09363985,  1.44584823,  1.90425539, -1.65837824,\n",
       "        0.27168193, -7.15701866, -0.41561624,  2.13112211,  1.02707493], dtype=float32),\n",
       "        array([ -1.14494783e-03,  -2.31495476e-03,   1.18373008e-03,\n",
       "        -1.23641061e-04,   2.03201990e-03,  -2.19024578e-03,\n",
       "        -6.31255331e-04,   2.04280688e-04,  -2.23590946e-03,\n",
       "        -1.46257505e-03,  -8.22090078e-04,   1.41908415e-03,\n",
       "         8.92740965e-04,  -2.25502043e-03,   8.02498602e-04,\n",
       "        -2.17303424e-03,  -5.13901818e-04,   1.43278914e-03,\n",
       "         5.70016447e-04,  -1.28978270e-03,   6.30424111e-05,\n",
       "         8.00774258e-04,  -3.45297332e-04,  -1.16811530e-03,\n",
       "        -2.07685423e-03,  -2.46794475e-03,  -1.29624887e-03,\n",
       "         1.57553866e-03,   6.60456368e-04,   9.97495721e-04,\n",
       "         9.23092128e-04,  -2.13006092e-03,   1.31811306e-03,\n",
       "        -1.39581191e-03,   2.26222305e-03,  -1.02492340e-03,\n",
       "        -2.41976790e-03,  -1.41592191e-05,  -1.81451242e-03,\n",
       "        -1.13908097e-03,  -2.23728456e-03,  -1.49856438e-03,\n",
       "        -5.23475814e-04,  -1.81953888e-03,  -3.03012144e-04,\n",
       "        -1.84024437e-04,  -1.78730581e-03,   8.29270983e-04,\n",
       "        -1.25954673e-03,  -1.58240134e-03,   1.15021408e-04,\n",
       "        -1.78286270e-03,  -1.01996341e-03,   1.72557100e-03,\n",
       "        -1.02922332e-03,  -1.12785376e-03,   2.43765477e-04,\n",
       "        -1.17147749e-03,   5.63340960e-04,   1.33252982e-03,\n",
       "         1.19248789e-03,  -2.14191549e-03,  -9.41055303e-04,\n",
       "         1.46936171e-03,   5.47089207e-04,   2.45361985e-03,\n",
       "         5.23374998e-04,  -1.26584084e-03,  -3.01205553e-04,\n",
       "        -5.99508989e-04,  -2.12898827e-03,  -2.37756263e-04,\n",
       "         2.21743528e-03,   1.87104553e-04,  -2.81652552e-04,\n",
       "         2.01219390e-03,  -1.88757468e-03,   2.25109397e-03,\n",
       "         1.62142958e-03,  -2.17260397e-03,   1.32860173e-03,\n",
       "        -1.99594814e-03,   5.98701590e-04,  -9.09078983e-04,\n",
       "         6.15222161e-05,   8.59305204e-04,   4.79501730e-04,\n",
       "         1.82038709e-03,   1.04413857e-03,   1.25197461e-04,\n",
       "         2.16099760e-03,  -2.04337575e-03,   1.39415602e-03,\n",
       "         2.92349723e-04,   1.98467984e-03,  -2.19653873e-03,\n",
       "        -2.07694201e-03,   1.05819490e-03,   2.34180503e-03,\n",
       "        -1.82684544e-05,  -1.53582590e-03,  -1.90559193e-04,\n",
       "         1.42859470e-03,   4.36635106e-04,   1.58813980e-03,\n",
       "        -1.20726682e-03,   1.72882661e-04,  -5.62726927e-04,\n",
       "        -1.90698565e-03,  -4.52347216e-04,  -7.26272759e-04,\n",
       "        -2.41553714e-03,   2.23539025e-03,  -2.00263807e-03,\n",
       "        -8.66537564e-04,   1.00025104e-03,  -1.50265580e-03,\n",
       "        -3.81856808e-04,  -8.69430893e-04,  -2.32419348e-03,\n",
       "        -2.09774962e-03,  -1.51415414e-04,  -3.04601766e-04,\n",
       "         1.46293093e-03,  -9.86515661e-04,   1.27296650e-03,\n",
       "         2.45110458e-03,  -1.16879796e-03,  -4.07386804e-04,\n",
       "         2.17073038e-03,   1.46280241e-03,   5.03132760e-04,\n",
       "         1.08779967e-03,  -1.68708456e-03,   1.33314659e-03,\n",
       "         1.93306652e-03,   2.29143258e-03,   2.06415867e-03,\n",
       "         1.26845227e-03,  -5.47881005e-04,   2.46456964e-03,\n",
       "         4.31839959e-04,  -1.48092466e-03,  -1.41735165e-03,\n",
       "        -1.91038160e-03,   1.91799400e-03,  -1.65139942e-03,\n",
       "        -1.86032860e-03,   2.32229172e-03,  -2.16818252e-03,\n",
       "         2.33829208e-03,   1.47318398e-03,  -1.99224940e-03,\n",
       "        -1.30528258e-03,  -1.28953450e-03,  -1.39483949e-04,\n",
       "         1.05510000e-03,  -2.46109697e-03,  -4.25271835e-04,\n",
       "        -1.21915049e-03,  -1.94038393e-03,   1.08916929e-03,\n",
       "         4.12889785e-04,   1.04353542e-03,   1.55887974e-03,\n",
       "         9.18361300e-04,   5.38469001e-04,   1.01489376e-03,\n",
       "         4.36426519e-04,   4.24668688e-05,  -2.61394860e-04,\n",
       "         2.39046826e-03,   9.65669984e-04,  -7.67886406e-04,\n",
       "         1.99335002e-04,  -1.86949049e-03,   2.41708267e-03,\n",
       "        -6.33134216e-04,   3.46637942e-04,   1.69946207e-03,\n",
       "        -1.10504823e-03,  -2.20319838e-03,   5.04899945e-04,\n",
       "         1.24984363e-04,   1.63849280e-03,   3.68423898e-05,\n",
       "        -1.01875502e-03,  -7.52484950e-04,  -2.42343033e-03,\n",
       "         4.51929896e-04,   2.36685807e-03,  -7.13002868e-04,\n",
       "        -5.51681675e-04,  -2.06966000e-03,  -2.32616463e-03,\n",
       "        -1.75740104e-03,   1.36487058e-03,   1.08889001e-03,\n",
       "        -2.18812493e-03,   2.37976783e-03], dtype=float32)],\n",
       "       [ array([  5.57748556e+00,  -9.54872429e-01,   4.85673285e+00,\n",
       "         9.44278049e+00,   1.22054327e+00,  -7.06132174e-01,\n",
       "         9.14681077e-01,  -3.73400474e+00,   5.59725666e+00,\n",
       "        -1.40215129e-01,  -5.44207859e+00,   8.37201178e-01,\n",
       "         2.88044858e+00,  -2.36833072e+00,  -5.71368575e-01,\n",
       "         2.65462065e+00,  -2.43949866e+00,  -3.48050022e+00,\n",
       "        -1.80597532e+00,   1.08506286e+00,  -1.37030745e+00,\n",
       "         2.10450959e+00,  -1.32502178e-02,  -2.26762342e+00,\n",
       "         1.66259658e+00,   3.62898445e+00,   7.27562571e+00,\n",
       "        -1.82266498e+00,  -1.56933856e+00,  -1.93564975e+00,\n",
       "        -2.17995739e+00,   5.47089863e+00,  -8.76947463e-01,\n",
       "         2.45816931e-01,   2.02308130e+00,  -3.31439710e+00,\n",
       "        -3.35513783e+00,  -2.24388742e+00,  -3.85599518e+00,\n",
       "         3.28831220e+00,  -5.25286293e+00,  -1.09496772e+00,\n",
       "        -4.58992338e+00,  -5.47154367e-01,  -3.72080386e-01,\n",
       "         1.00154363e-01,  -2.29487449e-01,   1.10524046e+00,\n",
       "         2.16577268e+00,  -4.52428865e+00,   2.05087972e+00,\n",
       "        -2.76207304e+00,  -2.46083140e+00,  -1.50889432e+00,\n",
       "         2.38302565e+00,   2.76683593e+00,  -1.07188714e+00,\n",
       "        -9.72267807e-01,   6.73152924e-01,  -2.93180913e-01,\n",
       "        -1.66843688e+00,   8.43450949e-02,  -2.10213494e+00,\n",
       "         2.46901631e+00,   4.37552422e-01,  -2.78778315e+00,\n",
       "        -1.50722957e+00,   2.73340011e+00,  -1.11265671e+00,\n",
       "         6.29487157e-01,  -1.12329388e+00,   2.29530543e-01,\n",
       "        -4.54996526e-01,  -1.46149206e+00,  -2.69364774e-01,\n",
       "         2.01103926e+00,   8.86273265e-01,   4.83291745e-01,\n",
       "        -1.18280077e+00,  -1.82801914e+00,   1.37127519e-01,\n",
       "        -7.04278946e-01,   1.54298282e+00,   5.72140217e+00,\n",
       "        -3.75926876e+00,  -2.38710316e-03,   3.29413086e-01,\n",
       "        -1.73564839e+00,  -1.17009416e-01,  -2.61445212e+00,\n",
       "        -1.96048760e+00,   2.36134267e+00,   2.08281803e+00,\n",
       "         1.44713295e+00,  -2.71271253e+00,   5.52849114e-01,\n",
       "         9.81662750e-01,   2.21536487e-01,  -1.72488248e+00,\n",
       "         4.43292236e+00,   3.84445453e+00,   1.77501106e+00,\n",
       "         2.86481309e+00,  -8.14745605e-01,   1.98132634e+00,\n",
       "        -7.07519865e+00,  -5.99732780e+00,   1.99612594e+00,\n",
       "        -1.07714379e+00,   2.46214199e+00,   6.89602196e-01,\n",
       "        -2.33170867e+00,  -1.65966594e+00,   7.86522329e-01,\n",
       "        -2.45685235e-01,   6.67235076e-01,   9.69764113e-01,\n",
       "         2.28803301e+00,   8.56634378e-02,  -3.64125800e+00,\n",
       "         2.04390097e+00,   1.27712333e+00,   1.78957105e+00,\n",
       "         3.37325835e+00,   3.30854249e+00,   8.60352457e-01,\n",
       "         3.53625774e-01,   3.58095789e+00,  -4.15893888e+00,\n",
       "        -8.57406139e-01,   6.20675898e+00,  -4.42846394e+00,\n",
       "         1.83109748e+00,   7.14263797e-01,   8.94255519e-01,\n",
       "        -2.22406998e-01,  -2.19374323e+00,   7.69199789e-01,\n",
       "         6.47264481e-01,  -4.39626408e+00,   1.23423100e+00,\n",
       "        -4.99962628e-01,   3.11524844e+00,  -2.51346040e+00,\n",
       "         3.11650681e+00,  -5.31762362e-01,  -5.83933771e-01,\n",
       "        -2.78515363e+00,  -2.28713083e+00,  -1.69865859e+00,\n",
       "         1.31604338e+00,   1.06102896e+00,   4.68150854e+00,\n",
       "        -2.08369708e+00,  -7.44341910e-01,  -1.40085578e+00,\n",
       "        -2.69175458e+00,  -4.12409872e-01,  -5.56600332e+00,\n",
       "        -4.17038059e+00,  -1.76423490e+00,   9.87293625e+00,\n",
       "        -8.34669888e-01,   9.04323006e+00,  -2.46847916e+00,\n",
       "         3.78356671e+00,   5.83321154e-01,   1.97192538e+00,\n",
       "         2.65028358e+00,  -9.02321219e-01,   2.73784852e+00,\n",
       "         4.79367018e-01,  -3.66397858e+00,   5.20286739e-01,\n",
       "         3.61157417e+00,  -1.36681640e+00,   3.30798221e+00,\n",
       "         1.01236081e+00,   1.63200581e+00,  -4.26555538e+00,\n",
       "        -6.86031282e-02,  -3.87826872e+00,   8.26590824e+00,\n",
       "         5.22935772e+00,  -1.42933309e+00,   1.40412831e+00,\n",
       "        -1.18916202e+00,  -9.28282559e-01,   2.18711543e+00,\n",
       "         5.91100752e-01,   1.80106267e-01,  -8.91639650e-01,\n",
       "         2.64582467e+00,   1.50336772e-01,  -1.67003131e+00,\n",
       "        -2.16199493e+00,  -1.35088325e-01,   2.08632731e+00,\n",
       "         4.31740952e+00,   5.13962388e-01], dtype=float32),\n",
       "        array([ -1.14494783e-03,  -2.31495476e-03,   1.18373008e-03,\n",
       "        -1.23641061e-04,   2.03201990e-03,  -2.19024578e-03,\n",
       "        -6.31255331e-04,   2.04280688e-04,  -2.23590946e-03,\n",
       "        -1.46257505e-03,  -8.22090078e-04,   1.41908415e-03,\n",
       "         8.92740965e-04,  -2.25502043e-03,   8.02498602e-04,\n",
       "        -2.17303424e-03,  -5.13901818e-04,   1.43278914e-03,\n",
       "         5.70016447e-04,  -1.28978270e-03,   6.30424111e-05,\n",
       "         8.00774258e-04,  -3.45297332e-04,  -1.16811530e-03,\n",
       "        -2.07685423e-03,  -2.46794475e-03,  -1.29624887e-03,\n",
       "         1.57553866e-03,   6.60456368e-04,   9.97495721e-04,\n",
       "         9.23092128e-04,  -2.13006092e-03,   1.31811306e-03,\n",
       "        -1.39581191e-03,   2.26222305e-03,  -1.02492340e-03,\n",
       "        -2.41976790e-03,  -1.41592191e-05,  -1.81451242e-03,\n",
       "        -1.13908097e-03,  -2.23728456e-03,  -1.49856438e-03,\n",
       "        -5.23475814e-04,  -1.81953888e-03,  -3.03012144e-04,\n",
       "        -1.84024437e-04,  -1.78730581e-03,   8.29270983e-04,\n",
       "        -1.25954673e-03,  -1.58240134e-03,   1.15021408e-04,\n",
       "        -1.78286270e-03,  -1.01996341e-03,   1.72557100e-03,\n",
       "        -1.02922332e-03,  -1.12785376e-03,   2.43765477e-04,\n",
       "        -1.17147749e-03,   5.63340960e-04,   1.33252982e-03,\n",
       "         1.19248789e-03,  -2.14191549e-03,  -9.41055303e-04,\n",
       "         1.46936171e-03,   5.47089207e-04,   2.45361985e-03,\n",
       "         5.23374998e-04,  -1.26584084e-03,  -3.01205553e-04,\n",
       "        -5.99508989e-04,  -2.12898827e-03,  -2.37756263e-04,\n",
       "         2.21743528e-03,   1.87104553e-04,  -2.81652552e-04,\n",
       "         2.01219390e-03,  -1.88757468e-03,   2.25109397e-03,\n",
       "         1.62142958e-03,  -2.17260397e-03,   1.32860173e-03,\n",
       "        -1.99594814e-03,   5.98701590e-04,  -9.09078983e-04,\n",
       "         6.15222161e-05,   8.59305204e-04,   4.79501730e-04,\n",
       "         1.82038709e-03,   1.04413857e-03,   1.25197461e-04,\n",
       "         2.16099760e-03,  -2.04337575e-03,   1.39415602e-03,\n",
       "         2.92349723e-04,   1.98467984e-03,  -2.19653873e-03,\n",
       "        -2.07694201e-03,   1.05819490e-03,   2.34180503e-03,\n",
       "        -1.82684544e-05,  -1.53582590e-03,  -1.90559193e-04,\n",
       "         1.42859470e-03,   4.36635106e-04,   1.58813980e-03,\n",
       "        -1.20726682e-03,   1.72882661e-04,  -5.62726927e-04,\n",
       "        -1.90698565e-03,  -4.52347216e-04,  -7.26272759e-04,\n",
       "        -2.41553714e-03,   2.23539025e-03,  -2.00263807e-03,\n",
       "        -8.66537564e-04,   1.00025104e-03,  -1.50265580e-03,\n",
       "        -3.81856808e-04,  -8.69430893e-04,  -2.32419348e-03,\n",
       "        -2.09774962e-03,  -1.51415414e-04,  -3.04601766e-04,\n",
       "         1.46293093e-03,  -9.86515661e-04,   1.27296650e-03,\n",
       "         2.45110458e-03,  -1.16879796e-03,  -4.07386804e-04,\n",
       "         2.17073038e-03,   1.46280241e-03,   5.03132760e-04,\n",
       "         1.08779967e-03,  -1.68708456e-03,   1.33314659e-03,\n",
       "         1.93306652e-03,   2.29143258e-03,   2.06415867e-03,\n",
       "         1.26845227e-03,  -5.47881005e-04,   2.46456964e-03,\n",
       "         4.31839959e-04,  -1.48092466e-03,  -1.41735165e-03,\n",
       "        -1.91038160e-03,   1.91799400e-03,  -1.65139942e-03,\n",
       "        -1.86032860e-03,   2.32229172e-03,  -2.16818252e-03,\n",
       "         2.33829208e-03,   1.47318398e-03,  -1.99224940e-03,\n",
       "        -1.30528258e-03,  -1.28953450e-03,  -1.39483949e-04,\n",
       "         1.05510000e-03,  -2.46109697e-03,  -4.25271835e-04,\n",
       "        -1.21915049e-03,  -1.94038393e-03,   1.08916929e-03,\n",
       "         4.12889785e-04,   1.04353542e-03,   1.55887974e-03,\n",
       "         9.18361300e-04,   5.38469001e-04,   1.01489376e-03,\n",
       "         4.36426519e-04,   4.24668688e-05,  -2.61394860e-04,\n",
       "         2.39046826e-03,   9.65669984e-04,  -7.67886406e-04,\n",
       "         1.99335002e-04,  -1.86949049e-03,   2.41708267e-03,\n",
       "        -6.33134216e-04,   3.46637942e-04,   1.69946207e-03,\n",
       "        -1.10504823e-03,  -2.20319838e-03,   5.04899945e-04,\n",
       "         1.24984363e-04,   1.63849280e-03,   3.68423898e-05,\n",
       "        -1.01875502e-03,  -7.52484950e-04,  -2.42343033e-03,\n",
       "         4.51929896e-04,   2.36685807e-03,  -7.13002868e-04,\n",
       "        -5.51681675e-04,  -2.06966000e-03,  -2.32616463e-03,\n",
       "        -1.75740104e-03,   1.36487058e-03,   1.08889001e-03,\n",
       "        -2.18812493e-03,   2.37976783e-03], dtype=float32)],\n",
       "       [ array([  6.28488255e+00,  -3.99085760e-01,   2.69272017e+00,\n",
       "         9.42462254e+00,   4.02782011e+00,  -2.00566244e+00,\n",
       "         4.17004776e+00,  -2.67977738e+00,  -1.50322664e+00,\n",
       "         3.09725016e-01,   5.87942410e+00,   4.68914986e+00,\n",
       "        -1.97191525e+00,   1.72464359e+00,   1.61753559e+00,\n",
       "         6.67722642e-01,   5.89542389e-01,  -1.06885302e+00,\n",
       "        -1.73863542e+00,   1.94576466e+00,   9.91290152e-01,\n",
       "         1.48341787e+00,  -5.03239572e-01,  -1.74653220e+00,\n",
       "        -5.97796082e-01,   4.62127812e-02,   6.16133630e-01,\n",
       "        -2.07885480e+00,  -1.96030295e+00,   6.30018055e-01,\n",
       "        -2.35036063e+00,   9.96280670e+00,   2.54709482e+00,\n",
       "        -4.07928824e-01,  -1.65932333e+00,   2.36125207e+00,\n",
       "        -1.38138199e+00,  -5.26658952e-01,   1.29158807e+00,\n",
       "         1.56422353e+00,  -1.55961549e+00,   1.22954965e+00,\n",
       "        -2.77407765e+00,   3.88578701e+00,  -4.80246156e-01,\n",
       "         1.71913981e+00,  -2.46229029e+00,   3.94519377e+00,\n",
       "         9.02588129e-01,   8.23523402e-01,   7.53978312e-01,\n",
       "        -1.70195913e+00,  -3.56858635e+00,  -1.19639230e+00,\n",
       "         5.99862385e+00,   6.32505512e+00,   3.27254677e+00,\n",
       "        -4.84725618e+00,   1.81786335e+00,  -1.75184775e-02,\n",
       "        -1.48546791e+00,   2.22740865e+00,   9.18924034e-01,\n",
       "        -2.05519229e-01,  -6.81225538e-01,   8.55197683e-02,\n",
       "        -3.48559117e+00,   3.45080352e+00,  -5.09371519e+00,\n",
       "        -2.51339316e+00,  -1.18935429e-01,  -5.30275249e+00,\n",
       "         3.63712716e+00,   2.77339876e-01,   2.03137016e+00,\n",
       "        -5.74412918e+00,   1.73678362e+00,  -3.15376711e+00,\n",
       "         2.49099469e+00,  -6.62300348e+00,   5.78013229e+00,\n",
       "        -1.57919633e+00,   2.60584855e+00,   9.64963627e+00,\n",
       "        -7.54976225e+00,  -1.63225546e-01,   4.64200354e+00,\n",
       "        -1.07617581e+00,   1.71907976e-01,  -2.00704932e-01,\n",
       "        -7.09675121e+00,  -3.94362450e+00,  -1.02542472e+00,\n",
       "        -3.16892415e-01,  -7.65774488e+00,  -2.47625679e-01,\n",
       "         1.11871707e+00,  -6.44263983e-01,   3.11642265e+00,\n",
       "         3.67650747e+00,   1.19819379e+00,  -1.54471382e-01,\n",
       "         6.78794909e+00,   2.63194299e+00,  -1.99983406e+00,\n",
       "        -5.27457237e+00,  -3.36803794e+00,   1.94387770e+00,\n",
       "         1.41580915e+00,   3.98764396e+00,  -1.42539132e+00,\n",
       "        -5.86641884e+00,  -8.33033249e-02,  -1.10162306e+00,\n",
       "        -1.57554233e+00,   3.25048089e+00,   7.48074472e-01,\n",
       "        -2.12254763e+00,   5.45404577e+00,  -3.53895515e-01,\n",
       "         6.92558289e-01,   1.26779633e+01,   3.55049086e+00,\n",
       "         2.98691583e+00,   3.80795062e-01,  -1.85453331e+00,\n",
       "        -3.08848500e+00,   9.44285989e-01,  -2.16330624e+00,\n",
       "        -2.44431853e+00,   4.57304525e+00,  -1.41385972e+00,\n",
       "         4.92279673e+00,   3.05448008e+00,   3.96734095e+00,\n",
       "        -4.12667370e+00,   1.74500823e+00,   2.16734505e+00,\n",
       "        -3.68912506e+00,  -5.69267035e+00,   3.93719983e+00,\n",
       "         5.99697638e+00,  -3.72307420e+00,   2.22694278e+00,\n",
       "         1.96369576e+00,  -2.27682209e+00,  -3.83096623e+00,\n",
       "        -1.98095727e+00,  -3.88283163e-01,  -2.91479373e+00,\n",
       "        -3.98166084e+00,  -3.29828095e+00,  -4.62909751e-02,\n",
       "         1.62616205e+00,  -2.33766365e+00,   1.97678022e-02,\n",
       "        -1.72129607e+00,  -2.65230447e-01,   4.10105038e+00,\n",
       "        -1.19816649e+00,  -2.09166980e+00,   5.34883022e+00,\n",
       "         3.68721533e+00,   2.16785955e+00,   4.94751241e-03,\n",
       "         3.13937736e+00,  -1.42667747e+00,  -3.80114365e+00,\n",
       "         9.02391255e-01,  -1.81640267e+00,   1.21837306e+00,\n",
       "        -4.21025562e+00,  -6.97322011e-01,  -3.51192981e-01,\n",
       "        -2.19600010e+00,  -1.62449026e+00,  -5.84330201e-01,\n",
       "        -1.94151568e+00,   1.97133827e+00,  -2.15183663e+00,\n",
       "        -1.35436153e+00,   1.62792790e+00,   1.03480399e+00,\n",
       "        -3.56242895e+00,   3.28635067e-01,   1.30931020e+00,\n",
       "         1.45121300e+00,  -2.54917145e+00,  -4.95734072e+00,\n",
       "        -3.43284756e-01,   2.48835802e+00,  -4.67834568e+00,\n",
       "         1.58490431e+00,   2.58443928e+00,  -9.88795578e-01,\n",
       "        -7.13638067e-01,  -6.60611540e-02,   4.81595135e+00,\n",
       "         1.74822474e+00,  -1.32263839e+00], dtype=float32),\n",
       "        array([ -1.14494783e-03,  -2.31495476e-03,   1.18373008e-03,\n",
       "        -1.23641061e-04,   2.03201990e-03,  -2.19024578e-03,\n",
       "        -6.31255331e-04,   2.04280688e-04,  -2.23590946e-03,\n",
       "        -1.46257505e-03,  -8.22090078e-04,   1.41908415e-03,\n",
       "         8.92740965e-04,  -2.25502043e-03,   8.02498602e-04,\n",
       "        -2.17303424e-03,  -5.13901818e-04,   1.43278914e-03,\n",
       "         5.70016447e-04,  -1.28978270e-03,   6.30424111e-05,\n",
       "         8.00774258e-04,  -3.45297332e-04,  -1.16811530e-03,\n",
       "        -2.07685423e-03,  -2.46794475e-03,  -1.29624887e-03,\n",
       "         1.57553866e-03,   6.60456368e-04,   9.97495721e-04,\n",
       "         9.23092128e-04,  -2.13006092e-03,   1.31811306e-03,\n",
       "        -1.39581191e-03,   2.26222305e-03,  -1.02492340e-03,\n",
       "        -2.41976790e-03,  -1.41592191e-05,  -1.81451242e-03,\n",
       "        -1.13908097e-03,  -2.23728456e-03,  -1.49856438e-03,\n",
       "        -5.23475814e-04,  -1.81953888e-03,  -3.03012144e-04,\n",
       "        -1.84024437e-04,  -1.78730581e-03,   8.29270983e-04,\n",
       "        -1.25954673e-03,  -1.58240134e-03,   1.15021408e-04,\n",
       "        -1.78286270e-03,  -1.01996341e-03,   1.72557100e-03,\n",
       "        -1.02922332e-03,  -1.12785376e-03,   2.43765477e-04,\n",
       "        -1.17147749e-03,   5.63340960e-04,   1.33252982e-03,\n",
       "         1.19248789e-03,  -2.14191549e-03,  -9.41055303e-04,\n",
       "         1.46936171e-03,   5.47089207e-04,   2.45361985e-03,\n",
       "         5.23374998e-04,  -1.26584084e-03,  -3.01205553e-04,\n",
       "        -5.99508989e-04,  -2.12898827e-03,  -2.37756263e-04,\n",
       "         2.21743528e-03,   1.87104553e-04,  -2.81652552e-04,\n",
       "         2.01219390e-03,  -1.88757468e-03,   2.25109397e-03,\n",
       "         1.62142958e-03,  -2.17260397e-03,   1.32860173e-03,\n",
       "        -1.99594814e-03,   5.98701590e-04,  -9.09078983e-04,\n",
       "         6.15222161e-05,   8.59305204e-04,   4.79501730e-04,\n",
       "         1.82038709e-03,   1.04413857e-03,   1.25197461e-04,\n",
       "         2.16099760e-03,  -2.04337575e-03,   1.39415602e-03,\n",
       "         2.92349723e-04,   1.98467984e-03,  -2.19653873e-03,\n",
       "        -2.07694201e-03,   1.05819490e-03,   2.34180503e-03,\n",
       "        -1.82684544e-05,  -1.53582590e-03,  -1.90559193e-04,\n",
       "         1.42859470e-03,   4.36635106e-04,   1.58813980e-03,\n",
       "        -1.20726682e-03,   1.72882661e-04,  -5.62726927e-04,\n",
       "        -1.90698565e-03,  -4.52347216e-04,  -7.26272759e-04,\n",
       "        -2.41553714e-03,   2.23539025e-03,  -2.00263807e-03,\n",
       "        -8.66537564e-04,   1.00025104e-03,  -1.50265580e-03,\n",
       "        -3.81856808e-04,  -8.69430893e-04,  -2.32419348e-03,\n",
       "        -2.09774962e-03,  -1.51415414e-04,  -3.04601766e-04,\n",
       "         1.46293093e-03,  -9.86515661e-04,   1.27296650e-03,\n",
       "         2.45110458e-03,  -1.16879796e-03,  -4.07386804e-04,\n",
       "         2.17073038e-03,   1.46280241e-03,   5.03132760e-04,\n",
       "         1.08779967e-03,  -1.68708456e-03,   1.33314659e-03,\n",
       "         1.93306652e-03,   2.29143258e-03,   2.06415867e-03,\n",
       "         1.26845227e-03,  -5.47881005e-04,   2.46456964e-03,\n",
       "         4.31839959e-04,  -1.48092466e-03,  -1.41735165e-03,\n",
       "        -1.91038160e-03,   1.91799400e-03,  -1.65139942e-03,\n",
       "        -1.86032860e-03,   2.32229172e-03,  -2.16818252e-03,\n",
       "         2.33829208e-03,   1.47318398e-03,  -1.99224940e-03,\n",
       "        -1.30528258e-03,  -1.28953450e-03,  -1.39483949e-04,\n",
       "         1.05510000e-03,  -2.46109697e-03,  -4.25271835e-04,\n",
       "        -1.21915049e-03,  -1.94038393e-03,   1.08916929e-03,\n",
       "         4.12889785e-04,   1.04353542e-03,   1.55887974e-03,\n",
       "         9.18361300e-04,   5.38469001e-04,   1.01489376e-03,\n",
       "         4.36426519e-04,   4.24668688e-05,  -2.61394860e-04,\n",
       "         2.39046826e-03,   9.65669984e-04,  -7.67886406e-04,\n",
       "         1.99335002e-04,  -1.86949049e-03,   2.41708267e-03,\n",
       "        -6.33134216e-04,   3.46637942e-04,   1.69946207e-03,\n",
       "        -1.10504823e-03,  -2.20319838e-03,   5.04899945e-04,\n",
       "         1.24984363e-04,   1.63849280e-03,   3.68423898e-05,\n",
       "        -1.01875502e-03,  -7.52484950e-04,  -2.42343033e-03,\n",
       "         4.51929896e-04,   2.36685807e-03,  -7.13002868e-04,\n",
       "        -5.51681675e-04,  -2.06966000e-03,  -2.32616463e-03,\n",
       "        -1.75740104e-03,   1.36487058e-03,   1.08889001e-03,\n",
       "        -2.18812493e-03,   2.37976783e-03], dtype=float32)]], dtype=object)"
      ]
     },
     "execution_count": 43,
     "metadata": {},
     "output_type": "execute_result"
    }
   ],
   "source": [
    "xtrain"
   ]
  },
  {
   "cell_type": "code",
   "execution_count": 44,
   "metadata": {
    "collapsed": false,
    "deletable": true,
    "editable": true
   },
   "outputs": [
    {
     "data": {
      "text/plain": [
       "array([[[ array([ 2.01394415,  0.03585275,  1.3813417 ,  7.96615076,  7.35949659,\n",
       "        0.91579366,  2.17811036, -6.35143614, -2.52540374, -3.50507188,\n",
       "        0.55032665, -1.11314905,  1.92313516,  0.56830662, -0.28139034,\n",
       "        1.84442759, -7.77372408, -6.94920301,  4.10894537,  0.99260843,\n",
       "       -2.8056128 ,  6.80880165, -0.59066927,  0.56344479, -6.87310028,\n",
       "       -1.51675236,  2.84560275, -4.27219439,  1.5247618 ,  3.08890057,\n",
       "       -3.30584073,  1.06405914, -2.98729897, -3.33614278,  3.06652236,\n",
       "        0.58145165, -6.27639866,  0.74633253, -3.8253634 , -1.54233944,\n",
       "       -3.94853854,  2.96002793, -0.240844  , -4.73850727,  1.42409801,\n",
       "       -4.9074235 ,  5.15057898,  0.54581958,  1.21229005,  3.86014795,\n",
       "        5.2014122 , -1.81772888, -1.57212996, -1.61680365, -0.17548494,\n",
       "        3.0380187 , -2.1900959 ,  3.40655947,  2.22727418,  1.08796191,\n",
       "       -0.5415169 , -1.1212703 ,  0.31352213,  0.07798663, -6.45791388,\n",
       "       -3.90841269, -7.1050539 ,  5.8700695 ,  0.59667403, -0.62036294,\n",
       "       -2.86418414, -3.5762651 , -1.33326232,  3.02712488,  5.77842951,\n",
       "       -9.01909924,  2.19102263,  0.01849309, -3.7581923 , -4.75101662,\n",
       "        2.10265255,  0.37839314, -1.14448333,  2.18595076, -0.3742964 ,\n",
       "        3.28165483, -1.24593353,  1.84749615, -2.76434827,  4.67982292,\n",
       "       -7.14783287, -1.74562061, -0.61026138,  4.52597332, -4.46226597,\n",
       "       -1.84366965, -0.97637969,  2.793293  , -3.77883673,  2.42836785,\n",
       "        1.79742193,  4.74284792,  7.86947155,  0.25722021, -0.69634998,\n",
       "       -3.39496469, -2.74790668,  1.78473866, -1.0243485 ,  6.10774279,\n",
       "       -4.91997814, -5.0316391 , -0.32782131,  1.73365664, -1.65099001,\n",
       "        2.57846212,  1.82019627,  2.35684347, -1.28946638, -3.04630399,\n",
       "       -1.66390097,  3.70061278,  1.26102972,  3.59733081,  4.68241549,\n",
       "       -5.25082779, -2.11008453, -2.1657443 , -3.67211771, -3.21503282,\n",
       "        8.18831158, -6.57321072, -2.0291872 ,  1.35363138, -1.99001634,\n",
       "       -4.9427104 ,  6.55047512,  2.83172083, -8.1806097 ,  1.59602833,\n",
       "        2.99300504, -2.37648368,  0.86464268, -1.58066046,  2.21379781,\n",
       "       -2.94629669, -4.18217087,  1.61976719,  1.68325031, -1.91886926,\n",
       "       -4.06429052,  4.39409304,  4.55364132, -4.37282133, -4.46104622,\n",
       "       -0.36822116, -0.32040051, -5.91622162, -2.88684106, -4.50711441,\n",
       "        0.68825066, -0.56042856,  1.82326901, -2.55951047,  0.67821044,\n",
       "       -1.06672609, -2.40289402,  1.41290796, -0.29132026, -1.40591109,\n",
       "       -3.69633293, -0.30047292,  4.33985138,  0.87692982, -1.63653982,\n",
       "       -0.3527512 , -1.73022246, -5.76600885,  0.70819688,  1.57447875,\n",
       "        3.06502652, -0.25058946,  0.05332101, -4.14755201,  4.15300941,\n",
       "       -2.33609438,  5.00107718,  1.27140188, -8.21267796,  4.27129364,\n",
       "        0.71950972,  6.09363985,  1.44584823,  1.90425539, -1.65837824,\n",
       "        0.27168193, -7.15701866, -0.41561624,  2.13112211,  1.02707493], dtype=float32)],\n",
       "        [ array([ -1.14494783e-03,  -2.31495476e-03,   1.18373008e-03,\n",
       "        -1.23641061e-04,   2.03201990e-03,  -2.19024578e-03,\n",
       "        -6.31255331e-04,   2.04280688e-04,  -2.23590946e-03,\n",
       "        -1.46257505e-03,  -8.22090078e-04,   1.41908415e-03,\n",
       "         8.92740965e-04,  -2.25502043e-03,   8.02498602e-04,\n",
       "        -2.17303424e-03,  -5.13901818e-04,   1.43278914e-03,\n",
       "         5.70016447e-04,  -1.28978270e-03,   6.30424111e-05,\n",
       "         8.00774258e-04,  -3.45297332e-04,  -1.16811530e-03,\n",
       "        -2.07685423e-03,  -2.46794475e-03,  -1.29624887e-03,\n",
       "         1.57553866e-03,   6.60456368e-04,   9.97495721e-04,\n",
       "         9.23092128e-04,  -2.13006092e-03,   1.31811306e-03,\n",
       "        -1.39581191e-03,   2.26222305e-03,  -1.02492340e-03,\n",
       "        -2.41976790e-03,  -1.41592191e-05,  -1.81451242e-03,\n",
       "        -1.13908097e-03,  -2.23728456e-03,  -1.49856438e-03,\n",
       "        -5.23475814e-04,  -1.81953888e-03,  -3.03012144e-04,\n",
       "        -1.84024437e-04,  -1.78730581e-03,   8.29270983e-04,\n",
       "        -1.25954673e-03,  -1.58240134e-03,   1.15021408e-04,\n",
       "        -1.78286270e-03,  -1.01996341e-03,   1.72557100e-03,\n",
       "        -1.02922332e-03,  -1.12785376e-03,   2.43765477e-04,\n",
       "        -1.17147749e-03,   5.63340960e-04,   1.33252982e-03,\n",
       "         1.19248789e-03,  -2.14191549e-03,  -9.41055303e-04,\n",
       "         1.46936171e-03,   5.47089207e-04,   2.45361985e-03,\n",
       "         5.23374998e-04,  -1.26584084e-03,  -3.01205553e-04,\n",
       "        -5.99508989e-04,  -2.12898827e-03,  -2.37756263e-04,\n",
       "         2.21743528e-03,   1.87104553e-04,  -2.81652552e-04,\n",
       "         2.01219390e-03,  -1.88757468e-03,   2.25109397e-03,\n",
       "         1.62142958e-03,  -2.17260397e-03,   1.32860173e-03,\n",
       "        -1.99594814e-03,   5.98701590e-04,  -9.09078983e-04,\n",
       "         6.15222161e-05,   8.59305204e-04,   4.79501730e-04,\n",
       "         1.82038709e-03,   1.04413857e-03,   1.25197461e-04,\n",
       "         2.16099760e-03,  -2.04337575e-03,   1.39415602e-03,\n",
       "         2.92349723e-04,   1.98467984e-03,  -2.19653873e-03,\n",
       "        -2.07694201e-03,   1.05819490e-03,   2.34180503e-03,\n",
       "        -1.82684544e-05,  -1.53582590e-03,  -1.90559193e-04,\n",
       "         1.42859470e-03,   4.36635106e-04,   1.58813980e-03,\n",
       "        -1.20726682e-03,   1.72882661e-04,  -5.62726927e-04,\n",
       "        -1.90698565e-03,  -4.52347216e-04,  -7.26272759e-04,\n",
       "        -2.41553714e-03,   2.23539025e-03,  -2.00263807e-03,\n",
       "        -8.66537564e-04,   1.00025104e-03,  -1.50265580e-03,\n",
       "        -3.81856808e-04,  -8.69430893e-04,  -2.32419348e-03,\n",
       "        -2.09774962e-03,  -1.51415414e-04,  -3.04601766e-04,\n",
       "         1.46293093e-03,  -9.86515661e-04,   1.27296650e-03,\n",
       "         2.45110458e-03,  -1.16879796e-03,  -4.07386804e-04,\n",
       "         2.17073038e-03,   1.46280241e-03,   5.03132760e-04,\n",
       "         1.08779967e-03,  -1.68708456e-03,   1.33314659e-03,\n",
       "         1.93306652e-03,   2.29143258e-03,   2.06415867e-03,\n",
       "         1.26845227e-03,  -5.47881005e-04,   2.46456964e-03,\n",
       "         4.31839959e-04,  -1.48092466e-03,  -1.41735165e-03,\n",
       "        -1.91038160e-03,   1.91799400e-03,  -1.65139942e-03,\n",
       "        -1.86032860e-03,   2.32229172e-03,  -2.16818252e-03,\n",
       "         2.33829208e-03,   1.47318398e-03,  -1.99224940e-03,\n",
       "        -1.30528258e-03,  -1.28953450e-03,  -1.39483949e-04,\n",
       "         1.05510000e-03,  -2.46109697e-03,  -4.25271835e-04,\n",
       "        -1.21915049e-03,  -1.94038393e-03,   1.08916929e-03,\n",
       "         4.12889785e-04,   1.04353542e-03,   1.55887974e-03,\n",
       "         9.18361300e-04,   5.38469001e-04,   1.01489376e-03,\n",
       "         4.36426519e-04,   4.24668688e-05,  -2.61394860e-04,\n",
       "         2.39046826e-03,   9.65669984e-04,  -7.67886406e-04,\n",
       "         1.99335002e-04,  -1.86949049e-03,   2.41708267e-03,\n",
       "        -6.33134216e-04,   3.46637942e-04,   1.69946207e-03,\n",
       "        -1.10504823e-03,  -2.20319838e-03,   5.04899945e-04,\n",
       "         1.24984363e-04,   1.63849280e-03,   3.68423898e-05,\n",
       "        -1.01875502e-03,  -7.52484950e-04,  -2.42343033e-03,\n",
       "         4.51929896e-04,   2.36685807e-03,  -7.13002868e-04,\n",
       "        -5.51681675e-04,  -2.06966000e-03,  -2.32616463e-03,\n",
       "        -1.75740104e-03,   1.36487058e-03,   1.08889001e-03,\n",
       "        -2.18812493e-03,   2.37976783e-03], dtype=float32)]],\n",
       "\n",
       "       [[ array([  5.57748556e+00,  -9.54872429e-01,   4.85673285e+00,\n",
       "         9.44278049e+00,   1.22054327e+00,  -7.06132174e-01,\n",
       "         9.14681077e-01,  -3.73400474e+00,   5.59725666e+00,\n",
       "        -1.40215129e-01,  -5.44207859e+00,   8.37201178e-01,\n",
       "         2.88044858e+00,  -2.36833072e+00,  -5.71368575e-01,\n",
       "         2.65462065e+00,  -2.43949866e+00,  -3.48050022e+00,\n",
       "        -1.80597532e+00,   1.08506286e+00,  -1.37030745e+00,\n",
       "         2.10450959e+00,  -1.32502178e-02,  -2.26762342e+00,\n",
       "         1.66259658e+00,   3.62898445e+00,   7.27562571e+00,\n",
       "        -1.82266498e+00,  -1.56933856e+00,  -1.93564975e+00,\n",
       "        -2.17995739e+00,   5.47089863e+00,  -8.76947463e-01,\n",
       "         2.45816931e-01,   2.02308130e+00,  -3.31439710e+00,\n",
       "        -3.35513783e+00,  -2.24388742e+00,  -3.85599518e+00,\n",
       "         3.28831220e+00,  -5.25286293e+00,  -1.09496772e+00,\n",
       "        -4.58992338e+00,  -5.47154367e-01,  -3.72080386e-01,\n",
       "         1.00154363e-01,  -2.29487449e-01,   1.10524046e+00,\n",
       "         2.16577268e+00,  -4.52428865e+00,   2.05087972e+00,\n",
       "        -2.76207304e+00,  -2.46083140e+00,  -1.50889432e+00,\n",
       "         2.38302565e+00,   2.76683593e+00,  -1.07188714e+00,\n",
       "        -9.72267807e-01,   6.73152924e-01,  -2.93180913e-01,\n",
       "        -1.66843688e+00,   8.43450949e-02,  -2.10213494e+00,\n",
       "         2.46901631e+00,   4.37552422e-01,  -2.78778315e+00,\n",
       "        -1.50722957e+00,   2.73340011e+00,  -1.11265671e+00,\n",
       "         6.29487157e-01,  -1.12329388e+00,   2.29530543e-01,\n",
       "        -4.54996526e-01,  -1.46149206e+00,  -2.69364774e-01,\n",
       "         2.01103926e+00,   8.86273265e-01,   4.83291745e-01,\n",
       "        -1.18280077e+00,  -1.82801914e+00,   1.37127519e-01,\n",
       "        -7.04278946e-01,   1.54298282e+00,   5.72140217e+00,\n",
       "        -3.75926876e+00,  -2.38710316e-03,   3.29413086e-01,\n",
       "        -1.73564839e+00,  -1.17009416e-01,  -2.61445212e+00,\n",
       "        -1.96048760e+00,   2.36134267e+00,   2.08281803e+00,\n",
       "         1.44713295e+00,  -2.71271253e+00,   5.52849114e-01,\n",
       "         9.81662750e-01,   2.21536487e-01,  -1.72488248e+00,\n",
       "         4.43292236e+00,   3.84445453e+00,   1.77501106e+00,\n",
       "         2.86481309e+00,  -8.14745605e-01,   1.98132634e+00,\n",
       "        -7.07519865e+00,  -5.99732780e+00,   1.99612594e+00,\n",
       "        -1.07714379e+00,   2.46214199e+00,   6.89602196e-01,\n",
       "        -2.33170867e+00,  -1.65966594e+00,   7.86522329e-01,\n",
       "        -2.45685235e-01,   6.67235076e-01,   9.69764113e-01,\n",
       "         2.28803301e+00,   8.56634378e-02,  -3.64125800e+00,\n",
       "         2.04390097e+00,   1.27712333e+00,   1.78957105e+00,\n",
       "         3.37325835e+00,   3.30854249e+00,   8.60352457e-01,\n",
       "         3.53625774e-01,   3.58095789e+00,  -4.15893888e+00,\n",
       "        -8.57406139e-01,   6.20675898e+00,  -4.42846394e+00,\n",
       "         1.83109748e+00,   7.14263797e-01,   8.94255519e-01,\n",
       "        -2.22406998e-01,  -2.19374323e+00,   7.69199789e-01,\n",
       "         6.47264481e-01,  -4.39626408e+00,   1.23423100e+00,\n",
       "        -4.99962628e-01,   3.11524844e+00,  -2.51346040e+00,\n",
       "         3.11650681e+00,  -5.31762362e-01,  -5.83933771e-01,\n",
       "        -2.78515363e+00,  -2.28713083e+00,  -1.69865859e+00,\n",
       "         1.31604338e+00,   1.06102896e+00,   4.68150854e+00,\n",
       "        -2.08369708e+00,  -7.44341910e-01,  -1.40085578e+00,\n",
       "        -2.69175458e+00,  -4.12409872e-01,  -5.56600332e+00,\n",
       "        -4.17038059e+00,  -1.76423490e+00,   9.87293625e+00,\n",
       "        -8.34669888e-01,   9.04323006e+00,  -2.46847916e+00,\n",
       "         3.78356671e+00,   5.83321154e-01,   1.97192538e+00,\n",
       "         2.65028358e+00,  -9.02321219e-01,   2.73784852e+00,\n",
       "         4.79367018e-01,  -3.66397858e+00,   5.20286739e-01,\n",
       "         3.61157417e+00,  -1.36681640e+00,   3.30798221e+00,\n",
       "         1.01236081e+00,   1.63200581e+00,  -4.26555538e+00,\n",
       "        -6.86031282e-02,  -3.87826872e+00,   8.26590824e+00,\n",
       "         5.22935772e+00,  -1.42933309e+00,   1.40412831e+00,\n",
       "        -1.18916202e+00,  -9.28282559e-01,   2.18711543e+00,\n",
       "         5.91100752e-01,   1.80106267e-01,  -8.91639650e-01,\n",
       "         2.64582467e+00,   1.50336772e-01,  -1.67003131e+00,\n",
       "        -2.16199493e+00,  -1.35088325e-01,   2.08632731e+00,\n",
       "         4.31740952e+00,   5.13962388e-01], dtype=float32)],\n",
       "        [ array([ -1.14494783e-03,  -2.31495476e-03,   1.18373008e-03,\n",
       "        -1.23641061e-04,   2.03201990e-03,  -2.19024578e-03,\n",
       "        -6.31255331e-04,   2.04280688e-04,  -2.23590946e-03,\n",
       "        -1.46257505e-03,  -8.22090078e-04,   1.41908415e-03,\n",
       "         8.92740965e-04,  -2.25502043e-03,   8.02498602e-04,\n",
       "        -2.17303424e-03,  -5.13901818e-04,   1.43278914e-03,\n",
       "         5.70016447e-04,  -1.28978270e-03,   6.30424111e-05,\n",
       "         8.00774258e-04,  -3.45297332e-04,  -1.16811530e-03,\n",
       "        -2.07685423e-03,  -2.46794475e-03,  -1.29624887e-03,\n",
       "         1.57553866e-03,   6.60456368e-04,   9.97495721e-04,\n",
       "         9.23092128e-04,  -2.13006092e-03,   1.31811306e-03,\n",
       "        -1.39581191e-03,   2.26222305e-03,  -1.02492340e-03,\n",
       "        -2.41976790e-03,  -1.41592191e-05,  -1.81451242e-03,\n",
       "        -1.13908097e-03,  -2.23728456e-03,  -1.49856438e-03,\n",
       "        -5.23475814e-04,  -1.81953888e-03,  -3.03012144e-04,\n",
       "        -1.84024437e-04,  -1.78730581e-03,   8.29270983e-04,\n",
       "        -1.25954673e-03,  -1.58240134e-03,   1.15021408e-04,\n",
       "        -1.78286270e-03,  -1.01996341e-03,   1.72557100e-03,\n",
       "        -1.02922332e-03,  -1.12785376e-03,   2.43765477e-04,\n",
       "        -1.17147749e-03,   5.63340960e-04,   1.33252982e-03,\n",
       "         1.19248789e-03,  -2.14191549e-03,  -9.41055303e-04,\n",
       "         1.46936171e-03,   5.47089207e-04,   2.45361985e-03,\n",
       "         5.23374998e-04,  -1.26584084e-03,  -3.01205553e-04,\n",
       "        -5.99508989e-04,  -2.12898827e-03,  -2.37756263e-04,\n",
       "         2.21743528e-03,   1.87104553e-04,  -2.81652552e-04,\n",
       "         2.01219390e-03,  -1.88757468e-03,   2.25109397e-03,\n",
       "         1.62142958e-03,  -2.17260397e-03,   1.32860173e-03,\n",
       "        -1.99594814e-03,   5.98701590e-04,  -9.09078983e-04,\n",
       "         6.15222161e-05,   8.59305204e-04,   4.79501730e-04,\n",
       "         1.82038709e-03,   1.04413857e-03,   1.25197461e-04,\n",
       "         2.16099760e-03,  -2.04337575e-03,   1.39415602e-03,\n",
       "         2.92349723e-04,   1.98467984e-03,  -2.19653873e-03,\n",
       "        -2.07694201e-03,   1.05819490e-03,   2.34180503e-03,\n",
       "        -1.82684544e-05,  -1.53582590e-03,  -1.90559193e-04,\n",
       "         1.42859470e-03,   4.36635106e-04,   1.58813980e-03,\n",
       "        -1.20726682e-03,   1.72882661e-04,  -5.62726927e-04,\n",
       "        -1.90698565e-03,  -4.52347216e-04,  -7.26272759e-04,\n",
       "        -2.41553714e-03,   2.23539025e-03,  -2.00263807e-03,\n",
       "        -8.66537564e-04,   1.00025104e-03,  -1.50265580e-03,\n",
       "        -3.81856808e-04,  -8.69430893e-04,  -2.32419348e-03,\n",
       "        -2.09774962e-03,  -1.51415414e-04,  -3.04601766e-04,\n",
       "         1.46293093e-03,  -9.86515661e-04,   1.27296650e-03,\n",
       "         2.45110458e-03,  -1.16879796e-03,  -4.07386804e-04,\n",
       "         2.17073038e-03,   1.46280241e-03,   5.03132760e-04,\n",
       "         1.08779967e-03,  -1.68708456e-03,   1.33314659e-03,\n",
       "         1.93306652e-03,   2.29143258e-03,   2.06415867e-03,\n",
       "         1.26845227e-03,  -5.47881005e-04,   2.46456964e-03,\n",
       "         4.31839959e-04,  -1.48092466e-03,  -1.41735165e-03,\n",
       "        -1.91038160e-03,   1.91799400e-03,  -1.65139942e-03,\n",
       "        -1.86032860e-03,   2.32229172e-03,  -2.16818252e-03,\n",
       "         2.33829208e-03,   1.47318398e-03,  -1.99224940e-03,\n",
       "        -1.30528258e-03,  -1.28953450e-03,  -1.39483949e-04,\n",
       "         1.05510000e-03,  -2.46109697e-03,  -4.25271835e-04,\n",
       "        -1.21915049e-03,  -1.94038393e-03,   1.08916929e-03,\n",
       "         4.12889785e-04,   1.04353542e-03,   1.55887974e-03,\n",
       "         9.18361300e-04,   5.38469001e-04,   1.01489376e-03,\n",
       "         4.36426519e-04,   4.24668688e-05,  -2.61394860e-04,\n",
       "         2.39046826e-03,   9.65669984e-04,  -7.67886406e-04,\n",
       "         1.99335002e-04,  -1.86949049e-03,   2.41708267e-03,\n",
       "        -6.33134216e-04,   3.46637942e-04,   1.69946207e-03,\n",
       "        -1.10504823e-03,  -2.20319838e-03,   5.04899945e-04,\n",
       "         1.24984363e-04,   1.63849280e-03,   3.68423898e-05,\n",
       "        -1.01875502e-03,  -7.52484950e-04,  -2.42343033e-03,\n",
       "         4.51929896e-04,   2.36685807e-03,  -7.13002868e-04,\n",
       "        -5.51681675e-04,  -2.06966000e-03,  -2.32616463e-03,\n",
       "        -1.75740104e-03,   1.36487058e-03,   1.08889001e-03,\n",
       "        -2.18812493e-03,   2.37976783e-03], dtype=float32)]],\n",
       "\n",
       "       [[ array([  6.28488255e+00,  -3.99085760e-01,   2.69272017e+00,\n",
       "         9.42462254e+00,   4.02782011e+00,  -2.00566244e+00,\n",
       "         4.17004776e+00,  -2.67977738e+00,  -1.50322664e+00,\n",
       "         3.09725016e-01,   5.87942410e+00,   4.68914986e+00,\n",
       "        -1.97191525e+00,   1.72464359e+00,   1.61753559e+00,\n",
       "         6.67722642e-01,   5.89542389e-01,  -1.06885302e+00,\n",
       "        -1.73863542e+00,   1.94576466e+00,   9.91290152e-01,\n",
       "         1.48341787e+00,  -5.03239572e-01,  -1.74653220e+00,\n",
       "        -5.97796082e-01,   4.62127812e-02,   6.16133630e-01,\n",
       "        -2.07885480e+00,  -1.96030295e+00,   6.30018055e-01,\n",
       "        -2.35036063e+00,   9.96280670e+00,   2.54709482e+00,\n",
       "        -4.07928824e-01,  -1.65932333e+00,   2.36125207e+00,\n",
       "        -1.38138199e+00,  -5.26658952e-01,   1.29158807e+00,\n",
       "         1.56422353e+00,  -1.55961549e+00,   1.22954965e+00,\n",
       "        -2.77407765e+00,   3.88578701e+00,  -4.80246156e-01,\n",
       "         1.71913981e+00,  -2.46229029e+00,   3.94519377e+00,\n",
       "         9.02588129e-01,   8.23523402e-01,   7.53978312e-01,\n",
       "        -1.70195913e+00,  -3.56858635e+00,  -1.19639230e+00,\n",
       "         5.99862385e+00,   6.32505512e+00,   3.27254677e+00,\n",
       "        -4.84725618e+00,   1.81786335e+00,  -1.75184775e-02,\n",
       "        -1.48546791e+00,   2.22740865e+00,   9.18924034e-01,\n",
       "        -2.05519229e-01,  -6.81225538e-01,   8.55197683e-02,\n",
       "        -3.48559117e+00,   3.45080352e+00,  -5.09371519e+00,\n",
       "        -2.51339316e+00,  -1.18935429e-01,  -5.30275249e+00,\n",
       "         3.63712716e+00,   2.77339876e-01,   2.03137016e+00,\n",
       "        -5.74412918e+00,   1.73678362e+00,  -3.15376711e+00,\n",
       "         2.49099469e+00,  -6.62300348e+00,   5.78013229e+00,\n",
       "        -1.57919633e+00,   2.60584855e+00,   9.64963627e+00,\n",
       "        -7.54976225e+00,  -1.63225546e-01,   4.64200354e+00,\n",
       "        -1.07617581e+00,   1.71907976e-01,  -2.00704932e-01,\n",
       "        -7.09675121e+00,  -3.94362450e+00,  -1.02542472e+00,\n",
       "        -3.16892415e-01,  -7.65774488e+00,  -2.47625679e-01,\n",
       "         1.11871707e+00,  -6.44263983e-01,   3.11642265e+00,\n",
       "         3.67650747e+00,   1.19819379e+00,  -1.54471382e-01,\n",
       "         6.78794909e+00,   2.63194299e+00,  -1.99983406e+00,\n",
       "        -5.27457237e+00,  -3.36803794e+00,   1.94387770e+00,\n",
       "         1.41580915e+00,   3.98764396e+00,  -1.42539132e+00,\n",
       "        -5.86641884e+00,  -8.33033249e-02,  -1.10162306e+00,\n",
       "        -1.57554233e+00,   3.25048089e+00,   7.48074472e-01,\n",
       "        -2.12254763e+00,   5.45404577e+00,  -3.53895515e-01,\n",
       "         6.92558289e-01,   1.26779633e+01,   3.55049086e+00,\n",
       "         2.98691583e+00,   3.80795062e-01,  -1.85453331e+00,\n",
       "        -3.08848500e+00,   9.44285989e-01,  -2.16330624e+00,\n",
       "        -2.44431853e+00,   4.57304525e+00,  -1.41385972e+00,\n",
       "         4.92279673e+00,   3.05448008e+00,   3.96734095e+00,\n",
       "        -4.12667370e+00,   1.74500823e+00,   2.16734505e+00,\n",
       "        -3.68912506e+00,  -5.69267035e+00,   3.93719983e+00,\n",
       "         5.99697638e+00,  -3.72307420e+00,   2.22694278e+00,\n",
       "         1.96369576e+00,  -2.27682209e+00,  -3.83096623e+00,\n",
       "        -1.98095727e+00,  -3.88283163e-01,  -2.91479373e+00,\n",
       "        -3.98166084e+00,  -3.29828095e+00,  -4.62909751e-02,\n",
       "         1.62616205e+00,  -2.33766365e+00,   1.97678022e-02,\n",
       "        -1.72129607e+00,  -2.65230447e-01,   4.10105038e+00,\n",
       "        -1.19816649e+00,  -2.09166980e+00,   5.34883022e+00,\n",
       "         3.68721533e+00,   2.16785955e+00,   4.94751241e-03,\n",
       "         3.13937736e+00,  -1.42667747e+00,  -3.80114365e+00,\n",
       "         9.02391255e-01,  -1.81640267e+00,   1.21837306e+00,\n",
       "        -4.21025562e+00,  -6.97322011e-01,  -3.51192981e-01,\n",
       "        -2.19600010e+00,  -1.62449026e+00,  -5.84330201e-01,\n",
       "        -1.94151568e+00,   1.97133827e+00,  -2.15183663e+00,\n",
       "        -1.35436153e+00,   1.62792790e+00,   1.03480399e+00,\n",
       "        -3.56242895e+00,   3.28635067e-01,   1.30931020e+00,\n",
       "         1.45121300e+00,  -2.54917145e+00,  -4.95734072e+00,\n",
       "        -3.43284756e-01,   2.48835802e+00,  -4.67834568e+00,\n",
       "         1.58490431e+00,   2.58443928e+00,  -9.88795578e-01,\n",
       "        -7.13638067e-01,  -6.60611540e-02,   4.81595135e+00,\n",
       "         1.74822474e+00,  -1.32263839e+00], dtype=float32)],\n",
       "        [ array([ -1.14494783e-03,  -2.31495476e-03,   1.18373008e-03,\n",
       "        -1.23641061e-04,   2.03201990e-03,  -2.19024578e-03,\n",
       "        -6.31255331e-04,   2.04280688e-04,  -2.23590946e-03,\n",
       "        -1.46257505e-03,  -8.22090078e-04,   1.41908415e-03,\n",
       "         8.92740965e-04,  -2.25502043e-03,   8.02498602e-04,\n",
       "        -2.17303424e-03,  -5.13901818e-04,   1.43278914e-03,\n",
       "         5.70016447e-04,  -1.28978270e-03,   6.30424111e-05,\n",
       "         8.00774258e-04,  -3.45297332e-04,  -1.16811530e-03,\n",
       "        -2.07685423e-03,  -2.46794475e-03,  -1.29624887e-03,\n",
       "         1.57553866e-03,   6.60456368e-04,   9.97495721e-04,\n",
       "         9.23092128e-04,  -2.13006092e-03,   1.31811306e-03,\n",
       "        -1.39581191e-03,   2.26222305e-03,  -1.02492340e-03,\n",
       "        -2.41976790e-03,  -1.41592191e-05,  -1.81451242e-03,\n",
       "        -1.13908097e-03,  -2.23728456e-03,  -1.49856438e-03,\n",
       "        -5.23475814e-04,  -1.81953888e-03,  -3.03012144e-04,\n",
       "        -1.84024437e-04,  -1.78730581e-03,   8.29270983e-04,\n",
       "        -1.25954673e-03,  -1.58240134e-03,   1.15021408e-04,\n",
       "        -1.78286270e-03,  -1.01996341e-03,   1.72557100e-03,\n",
       "        -1.02922332e-03,  -1.12785376e-03,   2.43765477e-04,\n",
       "        -1.17147749e-03,   5.63340960e-04,   1.33252982e-03,\n",
       "         1.19248789e-03,  -2.14191549e-03,  -9.41055303e-04,\n",
       "         1.46936171e-03,   5.47089207e-04,   2.45361985e-03,\n",
       "         5.23374998e-04,  -1.26584084e-03,  -3.01205553e-04,\n",
       "        -5.99508989e-04,  -2.12898827e-03,  -2.37756263e-04,\n",
       "         2.21743528e-03,   1.87104553e-04,  -2.81652552e-04,\n",
       "         2.01219390e-03,  -1.88757468e-03,   2.25109397e-03,\n",
       "         1.62142958e-03,  -2.17260397e-03,   1.32860173e-03,\n",
       "        -1.99594814e-03,   5.98701590e-04,  -9.09078983e-04,\n",
       "         6.15222161e-05,   8.59305204e-04,   4.79501730e-04,\n",
       "         1.82038709e-03,   1.04413857e-03,   1.25197461e-04,\n",
       "         2.16099760e-03,  -2.04337575e-03,   1.39415602e-03,\n",
       "         2.92349723e-04,   1.98467984e-03,  -2.19653873e-03,\n",
       "        -2.07694201e-03,   1.05819490e-03,   2.34180503e-03,\n",
       "        -1.82684544e-05,  -1.53582590e-03,  -1.90559193e-04,\n",
       "         1.42859470e-03,   4.36635106e-04,   1.58813980e-03,\n",
       "        -1.20726682e-03,   1.72882661e-04,  -5.62726927e-04,\n",
       "        -1.90698565e-03,  -4.52347216e-04,  -7.26272759e-04,\n",
       "        -2.41553714e-03,   2.23539025e-03,  -2.00263807e-03,\n",
       "        -8.66537564e-04,   1.00025104e-03,  -1.50265580e-03,\n",
       "        -3.81856808e-04,  -8.69430893e-04,  -2.32419348e-03,\n",
       "        -2.09774962e-03,  -1.51415414e-04,  -3.04601766e-04,\n",
       "         1.46293093e-03,  -9.86515661e-04,   1.27296650e-03,\n",
       "         2.45110458e-03,  -1.16879796e-03,  -4.07386804e-04,\n",
       "         2.17073038e-03,   1.46280241e-03,   5.03132760e-04,\n",
       "         1.08779967e-03,  -1.68708456e-03,   1.33314659e-03,\n",
       "         1.93306652e-03,   2.29143258e-03,   2.06415867e-03,\n",
       "         1.26845227e-03,  -5.47881005e-04,   2.46456964e-03,\n",
       "         4.31839959e-04,  -1.48092466e-03,  -1.41735165e-03,\n",
       "        -1.91038160e-03,   1.91799400e-03,  -1.65139942e-03,\n",
       "        -1.86032860e-03,   2.32229172e-03,  -2.16818252e-03,\n",
       "         2.33829208e-03,   1.47318398e-03,  -1.99224940e-03,\n",
       "        -1.30528258e-03,  -1.28953450e-03,  -1.39483949e-04,\n",
       "         1.05510000e-03,  -2.46109697e-03,  -4.25271835e-04,\n",
       "        -1.21915049e-03,  -1.94038393e-03,   1.08916929e-03,\n",
       "         4.12889785e-04,   1.04353542e-03,   1.55887974e-03,\n",
       "         9.18361300e-04,   5.38469001e-04,   1.01489376e-03,\n",
       "         4.36426519e-04,   4.24668688e-05,  -2.61394860e-04,\n",
       "         2.39046826e-03,   9.65669984e-04,  -7.67886406e-04,\n",
       "         1.99335002e-04,  -1.86949049e-03,   2.41708267e-03,\n",
       "        -6.33134216e-04,   3.46637942e-04,   1.69946207e-03,\n",
       "        -1.10504823e-03,  -2.20319838e-03,   5.04899945e-04,\n",
       "         1.24984363e-04,   1.63849280e-03,   3.68423898e-05,\n",
       "        -1.01875502e-03,  -7.52484950e-04,  -2.42343033e-03,\n",
       "         4.51929896e-04,   2.36685807e-03,  -7.13002868e-04,\n",
       "        -5.51681675e-04,  -2.06966000e-03,  -2.32616463e-03,\n",
       "        -1.75740104e-03,   1.36487058e-03,   1.08889001e-03,\n",
       "        -2.18812493e-03,   2.37976783e-03], dtype=float32)]]], dtype=object)"
      ]
     },
     "execution_count": 44,
     "metadata": {},
     "output_type": "execute_result"
    }
   ],
   "source": [
    "xtrain.reshape(3,2,1)"
   ]
  },
  {
   "cell_type": "code",
   "execution_count": 472,
   "metadata": {
    "collapsed": false,
    "deletable": true,
    "editable": true
   },
   "outputs": [
    {
     "data": {
      "text/plain": [
       "(3, 2)"
      ]
     },
     "execution_count": 472,
     "metadata": {},
     "output_type": "execute_result"
    }
   ],
   "source": [
    "xtrain.shape"
   ]
  },
  {
   "cell_type": "code",
   "execution_count": 436,
   "metadata": {
    "collapsed": false,
    "deletable": true,
    "editable": true
   },
   "outputs": [],
   "source": [
    "l = []\n",
    "for i in range(3):\n",
    "    l1 = []\n",
    "    for j in range(2):\n",
    "        for k in xtrain[i][j]:\n",
    "            l1.append(k)\n",
    "    l.append(l1)\n",
    "            "
   ]
  },
  {
   "cell_type": "code",
   "execution_count": 441,
   "metadata": {
    "collapsed": false,
    "deletable": true,
    "editable": true
   },
   "outputs": [],
   "source": [
    "qd_array = np.array(l)"
   ]
  },
  {
   "cell_type": "code",
   "execution_count": 443,
   "metadata": {
    "collapsed": false,
    "deletable": true,
    "editable": true
   },
   "outputs": [
    {
     "data": {
      "text/plain": [
       "400"
      ]
     },
     "execution_count": 443,
     "metadata": {},
     "output_type": "execute_result"
    }
   ],
   "source": [
    "qd_array.shape[1]"
   ]
  },
  {
   "cell_type": "code",
   "execution_count": null,
   "metadata": {
    "collapsed": false,
    "deletable": true,
    "editable": true
   },
   "outputs": [],
   "source": []
  },
  {
   "cell_type": "code",
   "execution_count": null,
   "metadata": {
    "collapsed": false,
    "deletable": true,
    "editable": true
   },
   "outputs": [],
   "source": []
  },
  {
   "cell_type": "code",
   "execution_count": null,
   "metadata": {
    "collapsed": false,
    "deletable": true,
    "editable": true
   },
   "outputs": [],
   "source": []
  },
  {
   "cell_type": "code",
   "execution_count": 480,
   "metadata": {
    "collapsed": false,
    "deletable": true,
    "editable": true
   },
   "outputs": [
    {
     "data": {
      "text/plain": [
       "200"
      ]
     },
     "execution_count": 480,
     "metadata": {},
     "output_type": "execute_result"
    }
   ],
   "source": []
  },
  {
   "cell_type": "code",
   "execution_count": 483,
   "metadata": {
    "collapsed": false,
    "deletable": true,
    "editable": true
   },
   "outputs": [
    {
     "ename": "ValueError",
     "evalue": "Error when checking model input: expected dense_118_input to have 3 dimensions, but got array with shape (3, 2)",
     "output_type": "error",
     "traceback": [
      "\u001b[0;31m---------------------------------------------------------------------------\u001b[0m",
      "\u001b[0;31mValueError\u001b[0m                                Traceback (most recent call last)",
      "\u001b[0;32m<ipython-input-483-fad33bd75a5f>\u001b[0m in \u001b[0;36m<module>\u001b[0;34m()\u001b[0m\n\u001b[1;32m      5\u001b[0m \u001b[0mmodel_scores\u001b[0m\u001b[0;34m.\u001b[0m\u001b[0madd\u001b[0m\u001b[0;34m(\u001b[0m\u001b[0mDense\u001b[0m\u001b[0;34m(\u001b[0m\u001b[0mytrain\u001b[0m\u001b[0;34m.\u001b[0m\u001b[0mshape\u001b[0m\u001b[0;34m[\u001b[0m\u001b[0;36m1\u001b[0m\u001b[0;34m]\u001b[0m\u001b[0;34m,\u001b[0m \u001b[0mactivation\u001b[0m\u001b[0;34m=\u001b[0m\u001b[0;34m'softmax'\u001b[0m\u001b[0;34m)\u001b[0m\u001b[0;34m)\u001b[0m\u001b[0;34m\u001b[0m\u001b[0m\n\u001b[1;32m      6\u001b[0m \u001b[0mmodel_scores\u001b[0m\u001b[0;34m.\u001b[0m\u001b[0mcompile\u001b[0m\u001b[0;34m(\u001b[0m\u001b[0moptimizer\u001b[0m\u001b[0;34m=\u001b[0m\u001b[0mRMSprop\u001b[0m\u001b[0;34m(\u001b[0m\u001b[0;34m)\u001b[0m\u001b[0;34m,\u001b[0m\u001b[0mloss\u001b[0m\u001b[0;34m=\u001b[0m\u001b[0;34m'categorical_crossentropy'\u001b[0m\u001b[0;34m,\u001b[0m\u001b[0mmetrics\u001b[0m \u001b[0;34m=\u001b[0m \u001b[0;34m[\u001b[0m\u001b[0;34m'accuracy'\u001b[0m\u001b[0;34m]\u001b[0m\u001b[0;34m)\u001b[0m\u001b[0;34m\u001b[0m\u001b[0m\n\u001b[0;32m----> 7\u001b[0;31m \u001b[0mmodel_scores\u001b[0m \u001b[0;34m=\u001b[0m \u001b[0mmodel_scores\u001b[0m\u001b[0;34m.\u001b[0m\u001b[0mfit\u001b[0m\u001b[0;34m(\u001b[0m\u001b[0mxtrain\u001b[0m\u001b[0;34m,\u001b[0m \u001b[0mytrain\u001b[0m\u001b[0;34m,\u001b[0m \u001b[0mbatch_size\u001b[0m\u001b[0;34m=\u001b[0m\u001b[0;36m1\u001b[0m\u001b[0;34m,\u001b[0m \u001b[0mepochs\u001b[0m\u001b[0;34m=\u001b[0m\u001b[0;36m5\u001b[0m\u001b[0;34m,\u001b[0m \u001b[0mvalidation_split\u001b[0m \u001b[0;34m=\u001b[0m \u001b[0;36m.2\u001b[0m\u001b[0;34m,\u001b[0m \u001b[0mverbose\u001b[0m\u001b[0;34m=\u001b[0m\u001b[0;36m2\u001b[0m\u001b[0;34m)\u001b[0m\u001b[0;34m\u001b[0m\u001b[0m\n\u001b[0m",
      "\u001b[0;32m/home/user/classification/lib/python3.5/site-packages/keras/models.py\u001b[0m in \u001b[0;36mfit\u001b[0;34m(self, x, y, batch_size, epochs, verbose, callbacks, validation_split, validation_data, shuffle, class_weight, sample_weight, initial_epoch, **kwargs)\u001b[0m\n\u001b[1;32m    851\u001b[0m                               \u001b[0mclass_weight\u001b[0m\u001b[0;34m=\u001b[0m\u001b[0mclass_weight\u001b[0m\u001b[0;34m,\u001b[0m\u001b[0;34m\u001b[0m\u001b[0m\n\u001b[1;32m    852\u001b[0m                               \u001b[0msample_weight\u001b[0m\u001b[0;34m=\u001b[0m\u001b[0msample_weight\u001b[0m\u001b[0;34m,\u001b[0m\u001b[0;34m\u001b[0m\u001b[0m\n\u001b[0;32m--> 853\u001b[0;31m                               initial_epoch=initial_epoch)\n\u001b[0m\u001b[1;32m    854\u001b[0m \u001b[0;34m\u001b[0m\u001b[0m\n\u001b[1;32m    855\u001b[0m     def evaluate(self, x, y, batch_size=32, verbose=1,\n",
      "\u001b[0;32m/home/user/classification/lib/python3.5/site-packages/keras/engine/training.py\u001b[0m in \u001b[0;36mfit\u001b[0;34m(self, x, y, batch_size, epochs, verbose, callbacks, validation_split, validation_data, shuffle, class_weight, sample_weight, initial_epoch, **kwargs)\u001b[0m\n\u001b[1;32m   1404\u001b[0m             \u001b[0mclass_weight\u001b[0m\u001b[0;34m=\u001b[0m\u001b[0mclass_weight\u001b[0m\u001b[0;34m,\u001b[0m\u001b[0;34m\u001b[0m\u001b[0m\n\u001b[1;32m   1405\u001b[0m             \u001b[0mcheck_batch_axis\u001b[0m\u001b[0;34m=\u001b[0m\u001b[0;32mFalse\u001b[0m\u001b[0;34m,\u001b[0m\u001b[0;34m\u001b[0m\u001b[0m\n\u001b[0;32m-> 1406\u001b[0;31m             batch_size=batch_size)\n\u001b[0m\u001b[1;32m   1407\u001b[0m         \u001b[0;31m# prepare validation data\u001b[0m\u001b[0;34m\u001b[0m\u001b[0;34m\u001b[0m\u001b[0m\n\u001b[1;32m   1408\u001b[0m         \u001b[0;32mif\u001b[0m \u001b[0mvalidation_data\u001b[0m\u001b[0;34m:\u001b[0m\u001b[0;34m\u001b[0m\u001b[0m\n",
      "\u001b[0;32m/home/user/classification/lib/python3.5/site-packages/keras/engine/training.py\u001b[0m in \u001b[0;36m_standardize_user_data\u001b[0;34m(self, x, y, sample_weight, class_weight, check_batch_axis, batch_size)\u001b[0m\n\u001b[1;32m   1294\u001b[0m                                     \u001b[0mself\u001b[0m\u001b[0;34m.\u001b[0m\u001b[0m_feed_input_shapes\u001b[0m\u001b[0;34m,\u001b[0m\u001b[0;34m\u001b[0m\u001b[0m\n\u001b[1;32m   1295\u001b[0m                                     \u001b[0mcheck_batch_axis\u001b[0m\u001b[0;34m=\u001b[0m\u001b[0;32mFalse\u001b[0m\u001b[0;34m,\u001b[0m\u001b[0;34m\u001b[0m\u001b[0m\n\u001b[0;32m-> 1296\u001b[0;31m                                     exception_prefix='model input')\n\u001b[0m\u001b[1;32m   1297\u001b[0m         y = _standardize_input_data(y, self._feed_output_names,\n\u001b[1;32m   1298\u001b[0m                                     \u001b[0moutput_shapes\u001b[0m\u001b[0;34m,\u001b[0m\u001b[0;34m\u001b[0m\u001b[0m\n",
      "\u001b[0;32m/home/user/classification/lib/python3.5/site-packages/keras/engine/training.py\u001b[0m in \u001b[0;36m_standardize_input_data\u001b[0;34m(data, names, shapes, check_batch_axis, exception_prefix)\u001b[0m\n\u001b[1;32m    119\u001b[0m                                  \u001b[0;34m' to have '\u001b[0m \u001b[0;34m+\u001b[0m \u001b[0mstr\u001b[0m\u001b[0;34m(\u001b[0m\u001b[0mlen\u001b[0m\u001b[0;34m(\u001b[0m\u001b[0mshapes\u001b[0m\u001b[0;34m[\u001b[0m\u001b[0mi\u001b[0m\u001b[0;34m]\u001b[0m\u001b[0;34m)\u001b[0m\u001b[0;34m)\u001b[0m \u001b[0;34m+\u001b[0m\u001b[0;34m\u001b[0m\u001b[0m\n\u001b[1;32m    120\u001b[0m                                  \u001b[0;34m' dimensions, but got array with shape '\u001b[0m \u001b[0;34m+\u001b[0m\u001b[0;34m\u001b[0m\u001b[0m\n\u001b[0;32m--> 121\u001b[0;31m                                  str(array.shape))\n\u001b[0m\u001b[1;32m    122\u001b[0m             \u001b[0;32mfor\u001b[0m \u001b[0mj\u001b[0m\u001b[0;34m,\u001b[0m \u001b[0;34m(\u001b[0m\u001b[0mdim\u001b[0m\u001b[0;34m,\u001b[0m \u001b[0mref_dim\u001b[0m\u001b[0;34m)\u001b[0m \u001b[0;32min\u001b[0m \u001b[0menumerate\u001b[0m\u001b[0;34m(\u001b[0m\u001b[0mzip\u001b[0m\u001b[0;34m(\u001b[0m\u001b[0marray\u001b[0m\u001b[0;34m.\u001b[0m\u001b[0mshape\u001b[0m\u001b[0;34m,\u001b[0m \u001b[0mshapes\u001b[0m\u001b[0;34m[\u001b[0m\u001b[0mi\u001b[0m\u001b[0;34m]\u001b[0m\u001b[0;34m)\u001b[0m\u001b[0;34m)\u001b[0m\u001b[0;34m:\u001b[0m\u001b[0;34m\u001b[0m\u001b[0m\n\u001b[1;32m    123\u001b[0m                 \u001b[0;32mif\u001b[0m \u001b[0;32mnot\u001b[0m \u001b[0mj\u001b[0m \u001b[0;32mand\u001b[0m \u001b[0;32mnot\u001b[0m \u001b[0mcheck_batch_axis\u001b[0m\u001b[0;34m:\u001b[0m\u001b[0;34m\u001b[0m\u001b[0m\n",
      "\u001b[0;31mValueError\u001b[0m: Error when checking model input: expected dense_118_input to have 3 dimensions, but got array with shape (3, 2)"
     ]
    }
   ],
   "source": [
    "model_scores = Sequential()\n",
    "model_scores.add(Dense(600, activation='relu', input_shape=(200,3)))\n",
    "model_scores.add(Dense(500, activation='relu'))\n",
    "\n",
    "model_scores.add(Dense(ytrain.shape[1], activation='softmax'))\n",
    "model_scores.compile(optimizer=RMSprop(),loss='categorical_crossentropy',metrics = ['accuracy'])\n",
    "model_scores = model_scores.fit(xtrain, ytrain, batch_size=1, epochs=5, validation_split = .2, verbose=2)"
   ]
  },
  {
   "cell_type": "code",
   "execution_count": null,
   "metadata": {
    "collapsed": true,
    "deletable": true,
    "editable": true
   },
   "outputs": [],
   "source": []
  }
 ],
 "metadata": {
  "kernelspec": {
   "display_name": "Python 3",
   "language": "python",
   "name": "python3"
  },
  "language_info": {
   "codemirror_mode": {
    "name": "ipython",
    "version": 3
   },
   "file_extension": ".py",
   "mimetype": "text/x-python",
   "name": "python",
   "nbconvert_exporter": "python",
   "pygments_lexer": "ipython3",
   "version": "3.5.2"
  }
 },
 "nbformat": 4,
 "nbformat_minor": 2
}
