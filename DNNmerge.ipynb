{
 "cells": [
  {
   "cell_type": "code",
   "execution_count": 69,
   "metadata": {
    "collapsed": false,
    "deletable": true,
    "editable": true
   },
   "outputs": [],
   "source": [
    "# import statements\n",
    "import numpy as np\n",
    "import matplotlib.pyplot as plt\n",
    "import math\n",
    "from sklearn import cross_validation\n",
    "import plotly.plotly as py\n",
    "import plotly.graph_objs as go\n",
    "from plotly.offline import plot    \n",
    "import plotly.graph_objs as go\n",
    "import pandas as pd\n",
    "from keras.models import Sequential\n",
    "from keras.layers import Dense, Dropout, Flatten\n",
    "from keras.optimizers import RMSprop\n",
    "from sklearn.cross_validation import train_test_split\n",
    "import keras\n",
    "from random import randint\n",
    "\n",
    "import random\n",
    "\n",
    "# --- GENSIM PACKAGE ---\n",
    "import gensim, logging\n",
    "from gensim.models import Word2Vec, doc2vec, Doc2Vec\n",
    "\n",
    "from gensim.models import doc2vec\n",
    "from collections import namedtuple\n",
    "\n",
    "\n",
    "%matplotlib inline"
   ]
  },
  {
   "cell_type": "markdown",
   "metadata": {
    "deletable": true,
    "editable": true
   },
   "source": [
    "\n",
    "### function to get doc2vec"
   ]
  },
  {
   "cell_type": "code",
   "execution_count": 70,
   "metadata": {
    "collapsed": true,
    "deletable": true,
    "editable": true
   },
   "outputs": [],
   "source": [
    "def doc_to_vec(doc):\n",
    "    doc1 = []\n",
    "    doc1.append(doc)\n",
    "    docs = []\n",
    "    analyzedDocument = namedtuple('AnalyzedDocument', 'words tags')\n",
    "    for i, text in enumerate(doc1):\n",
    "        words = text.lower().split()\n",
    "        tags = [i]\n",
    "        docs.append(analyzedDocument(words, tags))\n",
    "\n",
    "    # Train model (set min_count = 1, if you want the model to work with the provided example data set)\n",
    "\n",
    "    model = doc2vec.Doc2Vec(docs, size = 200, window = 300, min_count = 1, workers = 4)\n",
    "\n",
    "    # Get the vectors\n",
    "\n",
    "    s = model.docvecs\n",
    "    return s"
   ]
  },
  {
   "cell_type": "markdown",
   "metadata": {
    "deletable": true,
    "editable": true
   },
   "source": [
    "### loading data"
   ]
  },
  {
   "cell_type": "code",
   "execution_count": 71,
   "metadata": {
    "collapsed": false,
    "deletable": true,
    "editable": true
   },
   "outputs": [],
   "source": [
    "train_v1 = pd.read_json('../data/train-v1.1.json')\n",
    "test_v1 = pd.read_json('../data/dev-v1.1.json')\n",
    "squad_train = pd.read_json('../data/squad_train_doc.json')\n",
    "squad_test = pd.read_json('../data/squad_dev_doc.json')"
   ]
  },
  {
   "cell_type": "code",
   "execution_count": 72,
   "metadata": {
    "collapsed": true,
    "deletable": true,
    "editable": true
   },
   "outputs": [],
   "source": [
    "data_train = squad_train\n",
    "data_train.rename(columns={'passages': 'documents'}, inplace=True)\n"
   ]
  },
  {
   "cell_type": "code",
   "execution_count": 73,
   "metadata": {
    "collapsed": false,
    "deletable": true,
    "editable": true
   },
   "outputs": [
    {
     "data": {
      "text/html": [
       "<div>\n",
       "<table border=\"1\" class=\"dataframe\">\n",
       "  <thead>\n",
       "    <tr style=\"text-align: right;\">\n",
       "      <th></th>\n",
       "      <th>documents</th>\n",
       "      <th>title</th>\n",
       "    </tr>\n",
       "  </thead>\n",
       "  <tbody>\n",
       "    <tr>\n",
       "      <th>0</th>\n",
       "      <td>[{'context': 'Architecturally, the school has ...</td>\n",
       "      <td>University_of_Notre_Dame</td>\n",
       "    </tr>\n",
       "    <tr>\n",
       "      <th>1</th>\n",
       "      <td>[{'context': 'Beyoncé Giselle Knowles-Carter (...</td>\n",
       "      <td>Beyoncé</td>\n",
       "    </tr>\n",
       "    <tr>\n",
       "      <th>2</th>\n",
       "      <td>[{'context': 'Montana i/mɒnˈtænə/ is a state i...</td>\n",
       "      <td>Montana</td>\n",
       "    </tr>\n",
       "    <tr>\n",
       "      <th>3</th>\n",
       "      <td>[{'context': 'The phrase \"in whole or in part\"...</td>\n",
       "      <td>Genocide</td>\n",
       "    </tr>\n",
       "    <tr>\n",
       "      <th>4</th>\n",
       "      <td>[{'context': 'The emergence of resistance of b...</td>\n",
       "      <td>Antibiotics</td>\n",
       "    </tr>\n",
       "  </tbody>\n",
       "</table>\n",
       "</div>"
      ],
      "text/plain": [
       "                                           documents                     title\n",
       "0  [{'context': 'Architecturally, the school has ...  University_of_Notre_Dame\n",
       "1  [{'context': 'Beyoncé Giselle Knowles-Carter (...                   Beyoncé\n",
       "2  [{'context': 'Montana i/mɒnˈtænə/ is a state i...                   Montana\n",
       "3  [{'context': 'The phrase \"in whole or in part\"...                  Genocide\n",
       "4  [{'context': 'The emergence of resistance of b...               Antibiotics"
      ]
     },
     "execution_count": 73,
     "metadata": {},
     "output_type": "execute_result"
    }
   ],
   "source": [
    "data_train.head()"
   ]
  },
  {
   "cell_type": "markdown",
   "metadata": {
    "deletable": true,
    "editable": true
   },
   "source": [
    "### Document list"
   ]
  },
  {
   "cell_type": "code",
   "execution_count": 74,
   "metadata": {
    "collapsed": true,
    "deletable": true,
    "editable": true
   },
   "outputs": [],
   "source": [
    "title_list = [data_train.title[i] for i in range(data_train.shape[0])]"
   ]
  },
  {
   "cell_type": "markdown",
   "metadata": {
    "deletable": true,
    "editable": true
   },
   "source": [
    "### Segregating Dataframe"
   ]
  },
  {
   "cell_type": "code",
   "execution_count": 75,
   "metadata": {
    "collapsed": true,
    "deletable": true,
    "editable": true
   },
   "outputs": [],
   "source": [
    "## Returns list of all context and list of all question sets\n",
    "\n",
    "def get_compact_dataframe():\n",
    "    context_list = []\n",
    "    question_list = []\n",
    "    \n",
    "    for doc in data_train.documents:\n",
    "        context_list.append(get_each_context_each_questionSet(doc)[0])\n",
    "        question_list.append(get_each_context_each_questionSet(doc)[1])\n",
    "    \n",
    "    return context_list, question_list"
   ]
  },
  {
   "cell_type": "code",
   "execution_count": 76,
   "metadata": {
    "collapsed": true,
    "deletable": true,
    "editable": true
   },
   "outputs": [],
   "source": [
    "## Pass a document and it returns list of context and list of set of questions\n",
    "\n",
    "def get_each_context_each_questionSet(document):\n",
    "    each_doc_context_list = [document[i]['context'] for i in range(len(document))]\n",
    "    each_doc_question_list = [document[i]['questions'] for i in range(len(document))]\n",
    "    return  each_doc_context_list, each_doc_question_list"
   ]
  },
  {
   "cell_type": "code",
   "execution_count": 77,
   "metadata": {
    "collapsed": true,
    "deletable": true,
    "editable": true
   },
   "outputs": [],
   "source": [
    "context_list, question_list = get_compact_dataframe()[0], get_compact_dataframe()[1]\n",
    "compact_dataframe = pd.DataFrame({'title':title_list, 'context':context_list, 'questions': question_list})"
   ]
  },
  {
   "cell_type": "markdown",
   "metadata": {
    "deletable": true,
    "editable": true
   },
   "source": [
    "## DATAFRAME"
   ]
  },
  {
   "cell_type": "code",
   "execution_count": 78,
   "metadata": {
    "collapsed": false,
    "deletable": true,
    "editable": true
   },
   "outputs": [
    {
     "data": {
      "text/html": [
       "<div>\n",
       "<table border=\"1\" class=\"dataframe\">\n",
       "  <thead>\n",
       "    <tr style=\"text-align: right;\">\n",
       "      <th></th>\n",
       "      <th>context</th>\n",
       "      <th>questions</th>\n",
       "      <th>title</th>\n",
       "    </tr>\n",
       "  </thead>\n",
       "  <tbody>\n",
       "    <tr>\n",
       "      <th>0</th>\n",
       "      <td>[Architecturally, the school has a Catholic ch...</td>\n",
       "      <td>[[To whom did the Virgin Mary allegedly appear...</td>\n",
       "      <td>University_of_Notre_Dame</td>\n",
       "    </tr>\n",
       "    <tr>\n",
       "      <th>1</th>\n",
       "      <td>[Beyoncé Giselle Knowles-Carter (/biːˈjɒnseɪ/ ...</td>\n",
       "      <td>[[In what city did Beyonce grow up?, In what R...</td>\n",
       "      <td>Beyoncé</td>\n",
       "    </tr>\n",
       "    <tr>\n",
       "      <th>2</th>\n",
       "      <td>[Montana i/mɒnˈtænə/ is a state in the Western...</td>\n",
       "      <td>[[How many ranges are part of the Rocky Mounta...</td>\n",
       "      <td>Montana</td>\n",
       "    </tr>\n",
       "    <tr>\n",
       "      <th>3</th>\n",
       "      <td>[The phrase \"in whole or in part\" has been sub...</td>\n",
       "      <td>[[What 2001 case was declared genocide by the ...</td>\n",
       "      <td>Genocide</td>\n",
       "    </tr>\n",
       "    <tr>\n",
       "      <th>4</th>\n",
       "      <td>[The emergence of resistance of bacteria to an...</td>\n",
       "      <td>[[What does emergence of resistance reflect?, ...</td>\n",
       "      <td>Antibiotics</td>\n",
       "    </tr>\n",
       "  </tbody>\n",
       "</table>\n",
       "</div>"
      ],
      "text/plain": [
       "                                             context  \\\n",
       "0  [Architecturally, the school has a Catholic ch...   \n",
       "1  [Beyoncé Giselle Knowles-Carter (/biːˈjɒnseɪ/ ...   \n",
       "2  [Montana i/mɒnˈtænə/ is a state in the Western...   \n",
       "3  [The phrase \"in whole or in part\" has been sub...   \n",
       "4  [The emergence of resistance of bacteria to an...   \n",
       "\n",
       "                                           questions                     title  \n",
       "0  [[To whom did the Virgin Mary allegedly appear...  University_of_Notre_Dame  \n",
       "1  [[In what city did Beyonce grow up?, In what R...                   Beyoncé  \n",
       "2  [[How many ranges are part of the Rocky Mounta...                   Montana  \n",
       "3  [[What 2001 case was declared genocide by the ...                  Genocide  \n",
       "4  [[What does emergence of resistance reflect?, ...               Antibiotics  "
      ]
     },
     "execution_count": 78,
     "metadata": {},
     "output_type": "execute_result"
    }
   ],
   "source": [
    "compact_dataframe.head()"
   ]
  },
  {
   "cell_type": "code",
   "execution_count": 79,
   "metadata": {
    "collapsed": false,
    "deletable": true,
    "editable": true
   },
   "outputs": [
    {
     "data": {
      "text/html": [
       "<div>\n",
       "<table border=\"1\" class=\"dataframe\">\n",
       "  <thead>\n",
       "    <tr style=\"text-align: right;\">\n",
       "      <th></th>\n",
       "      <th>context</th>\n",
       "      <th>questions</th>\n",
       "      <th>title</th>\n",
       "    </tr>\n",
       "  </thead>\n",
       "  <tbody>\n",
       "    <tr>\n",
       "      <th>10</th>\n",
       "      <td>[The 2008 Sichuan earthquake or the Great Sich...</td>\n",
       "      <td>[[What was the earthquake named?, What did the...</td>\n",
       "      <td>2008_Sichuan_earthquake</td>\n",
       "    </tr>\n",
       "  </tbody>\n",
       "</table>\n",
       "</div>"
      ],
      "text/plain": [
       "                                              context  \\\n",
       "10  [The 2008 Sichuan earthquake or the Great Sich...   \n",
       "\n",
       "                                            questions                    title  \n",
       "10  [[What was the earthquake named?, What did the...  2008_Sichuan_earthquake  "
      ]
     },
     "execution_count": 79,
     "metadata": {},
     "output_type": "execute_result"
    }
   ],
   "source": [
    "compact_dataframe[compact_dataframe.title == '2008_Sichuan_earthquake']"
   ]
  },
  {
   "cell_type": "markdown",
   "metadata": {
    "deletable": true,
    "editable": true
   },
   "source": [
    "### Total questions"
   ]
  },
  {
   "cell_type": "code",
   "execution_count": 80,
   "metadata": {
    "collapsed": true,
    "deletable": true,
    "editable": true
   },
   "outputs": [],
   "source": [
    "list_questions_perDOC = []\n",
    "count = 0\n",
    "\n",
    "for each_doc_question in compact_dataframe.questions:\n",
    "\n",
    "    Doc_questions = []\n",
    "    for each_Set in each_doc_question:\n",
    "        for each_question in each_Set:\n",
    "            Doc_questions.append(each_question)\n",
    "            count +=1\n",
    "    \n",
    "    list_questions_perDOC.append(Doc_questions)"
   ]
  },
  {
   "cell_type": "markdown",
   "metadata": {
    "deletable": true,
    "editable": true
   },
   "source": [
    "### Implementing Gensim "
   ]
  },
  {
   "cell_type": "code",
   "execution_count": 81,
   "metadata": {
    "collapsed": true,
    "deletable": true,
    "editable": true
   },
   "outputs": [],
   "source": [
    "class DocIterator(object):\n",
    "    \n",
    "    ## Initailizes document's list(doc1,doc2...) and its label's list('Book_1','Book_2',...)\n",
    "    def __init__(self, doc_list, labels_list):\n",
    "        self.doc_list = doc_list\n",
    "        self.labels_list = labels_list\n",
    "    \n",
    "    ## Assigns label1 to a list of all words in doc1, label2 to all words in doc2, etc.\n",
    "    def __iter__(self):\n",
    "        \n",
    "        for idx, doc in enumerate(self.doc_list):\n",
    "            yield doc2vec.LabeledSentence(words=doc.split(), tags=[self.labels_list[idx]])"
   ]
  },
  {
   "cell_type": "code",
   "execution_count": 82,
   "metadata": {
    "collapsed": true,
    "deletable": true,
    "editable": true
   },
   "outputs": [],
   "source": [
    "## Contains the whole data\n",
    "\n",
    "data = []\n",
    "docLabels = title_list\n",
    "\n",
    "for i in docLabels:\n",
    "    x = compact_dataframe[compact_dataframe.title == i].context.sum()\n",
    "    y = ' '.join(x)\n",
    "    data.append(y)"
   ]
  },
  {
   "cell_type": "code",
   "execution_count": 83,
   "metadata": {
    "collapsed": true,
    "deletable": true,
    "editable": true
   },
   "outputs": [],
   "source": [
    "iter_docs = DocIterator(data, docLabels)"
   ]
  },
  {
   "cell_type": "markdown",
   "metadata": {
    "deletable": true,
    "editable": true
   },
   "source": [
    "### Model"
   ]
  },
  {
   "cell_type": "code",
   "execution_count": 84,
   "metadata": {
    "collapsed": false,
    "deletable": true,
    "editable": true
   },
   "outputs": [],
   "source": [
    "model = Doc2Vec(iter_docs, size=200, window=50, min_count=1, workers=11, alpha=0.025, min_alpha=0.025, dbow_words = 1, iter = 20)"
   ]
  },
  {
   "cell_type": "code",
   "execution_count": 184,
   "metadata": {
    "collapsed": false
   },
   "outputs": [
    {
     "data": {
      "text/plain": [
       "array([-4.14300776,  3.66796184,  5.63129187,  2.55063319,  2.43406987,\n",
       "        2.73234034, -1.13330567, -2.64857841, -3.18167591, -3.83612204,\n",
       "        4.50962067, -4.69891834, -0.97023374,  0.18418452, -0.28791553,\n",
       "       -3.7861855 , -6.51898479, -4.95454741, -8.00101089,  4.75595617,\n",
       "       -3.6635735 ,  0.64372057,  2.45392919, -1.85304654,  7.06742477,\n",
       "       -2.61267376,  5.75118017,  1.56268179,  0.21649441, -1.66226172,\n",
       "        0.27283433, -3.52976537,  1.81762564, -3.68014979, -0.97476965,\n",
       "        4.36508322,  5.38206959, -5.33248806, -1.56811774, -0.35706735,\n",
       "       -1.18078005,  0.8236841 ,  0.88663453,  0.95708627,  5.61691999,\n",
       "        2.3893187 ,  0.82356215, -0.92819583, -2.15672278, -3.96543622,\n",
       "        0.36938497,  1.54507279,  0.86059797,  3.92167115, -1.16093707,\n",
       "        2.31430173, -5.10472679,  2.19292021,  2.58656931, -1.66382718,\n",
       "        3.60732961,  3.6866529 ,  0.4933086 , -0.22857243,  2.00314879,\n",
       "        2.55336642,  0.27661416,  2.70353341, -3.38253975,  4.27660322,\n",
       "       -2.52857947,  1.09448695, -0.78222114,  1.63032806, -0.81550199,\n",
       "       -0.09199697, -2.33247185, -1.93965876,  3.05491781,  1.43484044,\n",
       "       -8.01788521, -1.18548179,  3.67411375,  5.3124156 , -3.47890997,\n",
       "       -4.7031827 ,  1.62438142,  1.92374897,  0.769032  , -5.38858461,\n",
       "        2.21644139,  4.63180017,  5.25315428,  1.93201756,  0.01857499,\n",
       "       -0.30275342, -1.3573674 , -1.56799638,  2.10590911, -6.25316048,\n",
       "        4.51740408,  3.53951359,  0.09466711,  0.79241234, -2.15671754,\n",
       "        5.52671099,  5.03086948,  0.12330387,  0.86242431, -6.84533215,\n",
       "       -4.3202405 ,  4.46992302,  2.50942349, -4.92302561, -0.51006234,\n",
       "       -0.34540597, -6.15972805,  3.0181725 , -0.28852242, -3.44959807,\n",
       "        4.08819628,  5.30728626, -6.19634056, -4.93708611,  1.39653945,\n",
       "       -2.67915392, -3.56949925,  1.83553267,  0.38429379, -3.18319964,\n",
       "        3.91876531,  4.33842325, -0.81387699, -2.31892133, -6.95161772,\n",
       "        0.26461342, -2.32918429, -2.8046205 , -2.27120924,  0.38477898,\n",
       "        5.1412549 ,  3.46103692,  3.82950354, -1.08101213, -2.52451324,\n",
       "        0.06648899, -1.94631517,  4.50646782,  1.91132593, -2.93201089,\n",
       "        0.3493025 ,  0.72367954, -3.73284841,  8.31785774,  0.59941465,\n",
       "       -1.12140584, -5.34185123, -0.57096547, -0.0976046 ,  3.50332737,\n",
       "       -5.10121107, -1.28251076, -3.14078546,  2.98928976, -2.97129345,\n",
       "        1.61119986,  4.98931074, -2.6217289 ,  5.12278748, -2.94675565,\n",
       "        2.09973764, -1.77072167,  2.26075745,  4.46177006, -5.55700445,\n",
       "       -4.54811811,  0.34406194,  8.14016628,  2.54845119, -4.27741814,\n",
       "        3.63813257, -0.30143598, -7.01398468,  1.61493075, -4.85433054,\n",
       "        1.50815737,  2.52413416, -3.84645247, -2.37267637, -0.04422317,\n",
       "        2.04745626, -0.12351221,  4.60667324, -1.13601983, -0.95177835,\n",
       "        5.70411158, -3.33896923, -2.22702432, -6.87636614,  3.64837289], dtype=float32)"
      ]
     },
     "execution_count": 184,
     "metadata": {},
     "output_type": "execute_result"
    }
   ],
   "source": [
    "model.docvecs[0]"
   ]
  },
  {
   "cell_type": "markdown",
   "metadata": {
    "deletable": true,
    "editable": true
   },
   "source": [
    "### creating dummy dataframe using five questions from 5 documents"
   ]
  },
  {
   "cell_type": "code",
   "execution_count": 86,
   "metadata": {
    "collapsed": true,
    "deletable": true,
    "editable": true
   },
   "outputs": [],
   "source": [
    "questions_list = ['To whom did the Virgin Mary allegedly appear in 1858 in Lourdes France?','In what city did Beyonce grow up?',\n",
    "                 'How many ranges are part of the Rocky Mountains?',\n",
    "                  'What 2001 case was declared genocide by the International Criminal Tribune for the Former Yugoslavia (ICTY)?',\n",
    "                 'What does emergence of resistance reflect?']"
   ]
  },
  {
   "cell_type": "code",
   "execution_count": 87,
   "metadata": {
    "collapsed": false,
    "deletable": true,
    "editable": true
   },
   "outputs": [],
   "source": [
    "data_documents = []\n",
    "for i in range(5):\n",
    "    for j in range(5):\n",
    "        data_documents.append(title_list[j])  "
   ]
  },
  {
   "cell_type": "code",
   "execution_count": 88,
   "metadata": {
    "collapsed": true,
    "deletable": true,
    "editable": true
   },
   "outputs": [],
   "source": [
    "data_qusetions = []\n",
    "for i in range(5):\n",
    "    for j in range(5):\n",
    "        data_qusetions.append(questions_list[i])"
   ]
  },
  {
   "cell_type": "code",
   "execution_count": 89,
   "metadata": {
    "collapsed": false,
    "deletable": true,
    "editable": true
   },
   "outputs": [],
   "source": [
    "def scores():\n",
    "    scores = []\n",
    "    for i in range(25):\n",
    "        scores.append(random.random())\n",
    "    return scores    "
   ]
  },
  {
   "cell_type": "code",
   "execution_count": 90,
   "metadata": {
    "collapsed": false,
    "deletable": true,
    "editable": true
   },
   "outputs": [],
   "source": [
    "s1 = scores()\n",
    "s2 = scores()\n",
    "s3 = scores()"
   ]
  },
  {
   "cell_type": "code",
   "execution_count": 91,
   "metadata": {
    "collapsed": false,
    "deletable": true,
    "editable": true
   },
   "outputs": [
    {
     "data": {
      "text/plain": [
       "[1, 2, 3, 4, 5, 2, 1, 3, 4, 5, 2, 3, 1, 4, 5, 2, 3, 4, 1, 5, 2, 3, 4, 5, 1]"
      ]
     },
     "execution_count": 91,
     "metadata": {},
     "output_type": "execute_result"
    }
   ],
   "source": [
    "y =[]\n",
    "rank = []\n",
    "for i in range(5):\n",
    "    k = 2\n",
    "    for j in range(5):\n",
    "        if(i==j):\n",
    "            y.append(1)\n",
    "            rank.append(1)\n",
    "        else:\n",
    "            y.append(0)\n",
    "            rank.append(k)\n",
    "            k += 1\n",
    "rank"
   ]
  },
  {
   "cell_type": "code",
   "execution_count": 92,
   "metadata": {
    "collapsed": false,
    "deletable": true,
    "editable": true
   },
   "outputs": [],
   "source": [
    "questions_vs_documents = pd.DataFrame(\n",
    "    {'questions': data_qusetions,\n",
    "     'documents': data_documents,\n",
    "     's1': s1,\n",
    "     's2': s2,\n",
    "     's3': s3,\n",
    "     'y': y,\n",
    "     'rank':rank\n",
    "    })"
   ]
  },
  {
   "cell_type": "code",
   "execution_count": 93,
   "metadata": {
    "collapsed": false,
    "deletable": true,
    "editable": true
   },
   "outputs": [
    {
     "data": {
      "text/html": [
       "<div>\n",
       "<table border=\"1\" class=\"dataframe\">\n",
       "  <thead>\n",
       "    <tr style=\"text-align: right;\">\n",
       "      <th></th>\n",
       "      <th>documents</th>\n",
       "      <th>questions</th>\n",
       "      <th>rank</th>\n",
       "      <th>s1</th>\n",
       "      <th>s2</th>\n",
       "      <th>s3</th>\n",
       "      <th>y</th>\n",
       "    </tr>\n",
       "  </thead>\n",
       "  <tbody>\n",
       "    <tr>\n",
       "      <th>0</th>\n",
       "      <td>University_of_Notre_Dame</td>\n",
       "      <td>To whom did the Virgin Mary allegedly appear i...</td>\n",
       "      <td>1</td>\n",
       "      <td>0.367883</td>\n",
       "      <td>0.202304</td>\n",
       "      <td>0.061476</td>\n",
       "      <td>1</td>\n",
       "    </tr>\n",
       "    <tr>\n",
       "      <th>1</th>\n",
       "      <td>Beyoncé</td>\n",
       "      <td>To whom did the Virgin Mary allegedly appear i...</td>\n",
       "      <td>2</td>\n",
       "      <td>0.007341</td>\n",
       "      <td>0.244544</td>\n",
       "      <td>0.457042</td>\n",
       "      <td>0</td>\n",
       "    </tr>\n",
       "    <tr>\n",
       "      <th>2</th>\n",
       "      <td>Montana</td>\n",
       "      <td>To whom did the Virgin Mary allegedly appear i...</td>\n",
       "      <td>3</td>\n",
       "      <td>0.394381</td>\n",
       "      <td>0.058156</td>\n",
       "      <td>0.664137</td>\n",
       "      <td>0</td>\n",
       "    </tr>\n",
       "    <tr>\n",
       "      <th>3</th>\n",
       "      <td>Genocide</td>\n",
       "      <td>To whom did the Virgin Mary allegedly appear i...</td>\n",
       "      <td>4</td>\n",
       "      <td>0.086811</td>\n",
       "      <td>0.256104</td>\n",
       "      <td>0.751386</td>\n",
       "      <td>0</td>\n",
       "    </tr>\n",
       "    <tr>\n",
       "      <th>4</th>\n",
       "      <td>Antibiotics</td>\n",
       "      <td>To whom did the Virgin Mary allegedly appear i...</td>\n",
       "      <td>5</td>\n",
       "      <td>0.359495</td>\n",
       "      <td>0.461835</td>\n",
       "      <td>0.447536</td>\n",
       "      <td>0</td>\n",
       "    </tr>\n",
       "    <tr>\n",
       "      <th>5</th>\n",
       "      <td>University_of_Notre_Dame</td>\n",
       "      <td>In what city did Beyonce grow up?</td>\n",
       "      <td>2</td>\n",
       "      <td>0.788579</td>\n",
       "      <td>0.636348</td>\n",
       "      <td>0.556743</td>\n",
       "      <td>0</td>\n",
       "    </tr>\n",
       "    <tr>\n",
       "      <th>6</th>\n",
       "      <td>Beyoncé</td>\n",
       "      <td>In what city did Beyonce grow up?</td>\n",
       "      <td>1</td>\n",
       "      <td>0.375269</td>\n",
       "      <td>0.985254</td>\n",
       "      <td>0.345774</td>\n",
       "      <td>1</td>\n",
       "    </tr>\n",
       "    <tr>\n",
       "      <th>7</th>\n",
       "      <td>Montana</td>\n",
       "      <td>In what city did Beyonce grow up?</td>\n",
       "      <td>3</td>\n",
       "      <td>0.459289</td>\n",
       "      <td>0.404665</td>\n",
       "      <td>0.896401</td>\n",
       "      <td>0</td>\n",
       "    </tr>\n",
       "    <tr>\n",
       "      <th>8</th>\n",
       "      <td>Genocide</td>\n",
       "      <td>In what city did Beyonce grow up?</td>\n",
       "      <td>4</td>\n",
       "      <td>0.937288</td>\n",
       "      <td>0.429144</td>\n",
       "      <td>0.166462</td>\n",
       "      <td>0</td>\n",
       "    </tr>\n",
       "    <tr>\n",
       "      <th>9</th>\n",
       "      <td>Antibiotics</td>\n",
       "      <td>In what city did Beyonce grow up?</td>\n",
       "      <td>5</td>\n",
       "      <td>0.454147</td>\n",
       "      <td>0.755869</td>\n",
       "      <td>0.774915</td>\n",
       "      <td>0</td>\n",
       "    </tr>\n",
       "    <tr>\n",
       "      <th>10</th>\n",
       "      <td>University_of_Notre_Dame</td>\n",
       "      <td>How many ranges are part of the Rocky Mountains?</td>\n",
       "      <td>2</td>\n",
       "      <td>0.140705</td>\n",
       "      <td>0.008086</td>\n",
       "      <td>0.060539</td>\n",
       "      <td>0</td>\n",
       "    </tr>\n",
       "    <tr>\n",
       "      <th>11</th>\n",
       "      <td>Beyoncé</td>\n",
       "      <td>How many ranges are part of the Rocky Mountains?</td>\n",
       "      <td>3</td>\n",
       "      <td>0.272058</td>\n",
       "      <td>0.938905</td>\n",
       "      <td>0.910776</td>\n",
       "      <td>0</td>\n",
       "    </tr>\n",
       "    <tr>\n",
       "      <th>12</th>\n",
       "      <td>Montana</td>\n",
       "      <td>How many ranges are part of the Rocky Mountains?</td>\n",
       "      <td>1</td>\n",
       "      <td>0.448276</td>\n",
       "      <td>0.639598</td>\n",
       "      <td>0.471203</td>\n",
       "      <td>1</td>\n",
       "    </tr>\n",
       "    <tr>\n",
       "      <th>13</th>\n",
       "      <td>Genocide</td>\n",
       "      <td>How many ranges are part of the Rocky Mountains?</td>\n",
       "      <td>4</td>\n",
       "      <td>0.485214</td>\n",
       "      <td>0.232628</td>\n",
       "      <td>0.219445</td>\n",
       "      <td>0</td>\n",
       "    </tr>\n",
       "    <tr>\n",
       "      <th>14</th>\n",
       "      <td>Antibiotics</td>\n",
       "      <td>How many ranges are part of the Rocky Mountains?</td>\n",
       "      <td>5</td>\n",
       "      <td>0.634507</td>\n",
       "      <td>0.903361</td>\n",
       "      <td>0.703890</td>\n",
       "      <td>0</td>\n",
       "    </tr>\n",
       "    <tr>\n",
       "      <th>15</th>\n",
       "      <td>University_of_Notre_Dame</td>\n",
       "      <td>What 2001 case was declared genocide by the In...</td>\n",
       "      <td>2</td>\n",
       "      <td>0.340549</td>\n",
       "      <td>0.263828</td>\n",
       "      <td>0.853298</td>\n",
       "      <td>0</td>\n",
       "    </tr>\n",
       "    <tr>\n",
       "      <th>16</th>\n",
       "      <td>Beyoncé</td>\n",
       "      <td>What 2001 case was declared genocide by the In...</td>\n",
       "      <td>3</td>\n",
       "      <td>0.943524</td>\n",
       "      <td>0.320598</td>\n",
       "      <td>0.619615</td>\n",
       "      <td>0</td>\n",
       "    </tr>\n",
       "    <tr>\n",
       "      <th>17</th>\n",
       "      <td>Montana</td>\n",
       "      <td>What 2001 case was declared genocide by the In...</td>\n",
       "      <td>4</td>\n",
       "      <td>0.261492</td>\n",
       "      <td>0.768197</td>\n",
       "      <td>0.643960</td>\n",
       "      <td>0</td>\n",
       "    </tr>\n",
       "    <tr>\n",
       "      <th>18</th>\n",
       "      <td>Genocide</td>\n",
       "      <td>What 2001 case was declared genocide by the In...</td>\n",
       "      <td>1</td>\n",
       "      <td>0.497365</td>\n",
       "      <td>0.034258</td>\n",
       "      <td>0.234054</td>\n",
       "      <td>1</td>\n",
       "    </tr>\n",
       "    <tr>\n",
       "      <th>19</th>\n",
       "      <td>Antibiotics</td>\n",
       "      <td>What 2001 case was declared genocide by the In...</td>\n",
       "      <td>5</td>\n",
       "      <td>0.243276</td>\n",
       "      <td>0.730638</td>\n",
       "      <td>0.772907</td>\n",
       "      <td>0</td>\n",
       "    </tr>\n",
       "    <tr>\n",
       "      <th>20</th>\n",
       "      <td>University_of_Notre_Dame</td>\n",
       "      <td>What does emergence of resistance reflect?</td>\n",
       "      <td>2</td>\n",
       "      <td>0.407623</td>\n",
       "      <td>0.357182</td>\n",
       "      <td>0.303832</td>\n",
       "      <td>0</td>\n",
       "    </tr>\n",
       "    <tr>\n",
       "      <th>21</th>\n",
       "      <td>Beyoncé</td>\n",
       "      <td>What does emergence of resistance reflect?</td>\n",
       "      <td>3</td>\n",
       "      <td>0.194903</td>\n",
       "      <td>0.291189</td>\n",
       "      <td>0.665297</td>\n",
       "      <td>0</td>\n",
       "    </tr>\n",
       "    <tr>\n",
       "      <th>22</th>\n",
       "      <td>Montana</td>\n",
       "      <td>What does emergence of resistance reflect?</td>\n",
       "      <td>4</td>\n",
       "      <td>0.575408</td>\n",
       "      <td>0.124876</td>\n",
       "      <td>0.888175</td>\n",
       "      <td>0</td>\n",
       "    </tr>\n",
       "    <tr>\n",
       "      <th>23</th>\n",
       "      <td>Genocide</td>\n",
       "      <td>What does emergence of resistance reflect?</td>\n",
       "      <td>5</td>\n",
       "      <td>0.875225</td>\n",
       "      <td>0.219728</td>\n",
       "      <td>0.928229</td>\n",
       "      <td>0</td>\n",
       "    </tr>\n",
       "    <tr>\n",
       "      <th>24</th>\n",
       "      <td>Antibiotics</td>\n",
       "      <td>What does emergence of resistance reflect?</td>\n",
       "      <td>1</td>\n",
       "      <td>0.746670</td>\n",
       "      <td>0.284600</td>\n",
       "      <td>0.237806</td>\n",
       "      <td>1</td>\n",
       "    </tr>\n",
       "  </tbody>\n",
       "</table>\n",
       "</div>"
      ],
      "text/plain": [
       "                   documents  \\\n",
       "0   University_of_Notre_Dame   \n",
       "1                    Beyoncé   \n",
       "2                    Montana   \n",
       "3                   Genocide   \n",
       "4                Antibiotics   \n",
       "5   University_of_Notre_Dame   \n",
       "6                    Beyoncé   \n",
       "7                    Montana   \n",
       "8                   Genocide   \n",
       "9                Antibiotics   \n",
       "10  University_of_Notre_Dame   \n",
       "11                   Beyoncé   \n",
       "12                   Montana   \n",
       "13                  Genocide   \n",
       "14               Antibiotics   \n",
       "15  University_of_Notre_Dame   \n",
       "16                   Beyoncé   \n",
       "17                   Montana   \n",
       "18                  Genocide   \n",
       "19               Antibiotics   \n",
       "20  University_of_Notre_Dame   \n",
       "21                   Beyoncé   \n",
       "22                   Montana   \n",
       "23                  Genocide   \n",
       "24               Antibiotics   \n",
       "\n",
       "                                            questions  rank        s1  \\\n",
       "0   To whom did the Virgin Mary allegedly appear i...     1  0.367883   \n",
       "1   To whom did the Virgin Mary allegedly appear i...     2  0.007341   \n",
       "2   To whom did the Virgin Mary allegedly appear i...     3  0.394381   \n",
       "3   To whom did the Virgin Mary allegedly appear i...     4  0.086811   \n",
       "4   To whom did the Virgin Mary allegedly appear i...     5  0.359495   \n",
       "5                   In what city did Beyonce grow up?     2  0.788579   \n",
       "6                   In what city did Beyonce grow up?     1  0.375269   \n",
       "7                   In what city did Beyonce grow up?     3  0.459289   \n",
       "8                   In what city did Beyonce grow up?     4  0.937288   \n",
       "9                   In what city did Beyonce grow up?     5  0.454147   \n",
       "10   How many ranges are part of the Rocky Mountains?     2  0.140705   \n",
       "11   How many ranges are part of the Rocky Mountains?     3  0.272058   \n",
       "12   How many ranges are part of the Rocky Mountains?     1  0.448276   \n",
       "13   How many ranges are part of the Rocky Mountains?     4  0.485214   \n",
       "14   How many ranges are part of the Rocky Mountains?     5  0.634507   \n",
       "15  What 2001 case was declared genocide by the In...     2  0.340549   \n",
       "16  What 2001 case was declared genocide by the In...     3  0.943524   \n",
       "17  What 2001 case was declared genocide by the In...     4  0.261492   \n",
       "18  What 2001 case was declared genocide by the In...     1  0.497365   \n",
       "19  What 2001 case was declared genocide by the In...     5  0.243276   \n",
       "20         What does emergence of resistance reflect?     2  0.407623   \n",
       "21         What does emergence of resistance reflect?     3  0.194903   \n",
       "22         What does emergence of resistance reflect?     4  0.575408   \n",
       "23         What does emergence of resistance reflect?     5  0.875225   \n",
       "24         What does emergence of resistance reflect?     1  0.746670   \n",
       "\n",
       "          s2        s3  y  \n",
       "0   0.202304  0.061476  1  \n",
       "1   0.244544  0.457042  0  \n",
       "2   0.058156  0.664137  0  \n",
       "3   0.256104  0.751386  0  \n",
       "4   0.461835  0.447536  0  \n",
       "5   0.636348  0.556743  0  \n",
       "6   0.985254  0.345774  1  \n",
       "7   0.404665  0.896401  0  \n",
       "8   0.429144  0.166462  0  \n",
       "9   0.755869  0.774915  0  \n",
       "10  0.008086  0.060539  0  \n",
       "11  0.938905  0.910776  0  \n",
       "12  0.639598  0.471203  1  \n",
       "13  0.232628  0.219445  0  \n",
       "14  0.903361  0.703890  0  \n",
       "15  0.263828  0.853298  0  \n",
       "16  0.320598  0.619615  0  \n",
       "17  0.768197  0.643960  0  \n",
       "18  0.034258  0.234054  1  \n",
       "19  0.730638  0.772907  0  \n",
       "20  0.357182  0.303832  0  \n",
       "21  0.291189  0.665297  0  \n",
       "22  0.124876  0.888175  0  \n",
       "23  0.219728  0.928229  0  \n",
       "24  0.284600  0.237806  1  "
      ]
     },
     "execution_count": 93,
     "metadata": {},
     "output_type": "execute_result"
    }
   ],
   "source": [
    "questions_vs_documents"
   ]
  },
  {
   "cell_type": "code",
   "execution_count": null,
   "metadata": {
    "collapsed": false
   },
   "outputs": [],
   "source": []
  },
  {
   "cell_type": "code",
   "execution_count": 96,
   "metadata": {
    "collapsed": false,
    "deletable": true,
    "editable": true
   },
   "outputs": [],
   "source": [
    "def input_question(question):\n",
    "    df1 = questions_vs_documents[((questions_vs_documents['questions'] == question)& (questions_vs_documents['rank'] == 1))]\n",
    "    df2 = questions_vs_documents[((questions_vs_documents['questions'] == question)& (questions_vs_documents['rank'] == max(rank)))]  \n",
    "    df3 = questions_vs_documents[((questions_vs_documents['questions'] == question)& (questions_vs_documents['rank'] == randint(2,4)))] \n",
    "    new_df = df1.append(df2, ignore_index=True)\n",
    "    new_df2 =new_df.append(df3, ignore_index=True)\n",
    "    doc_vec_question = doc_to_vec(question)[0]\n",
    "    for i in range(3):\n",
    "        new_df2['questions'][i] = doc_vec_question\n",
    "        new_df2['documents'][i] = model.docvecs[title_list.index(new_df2['documents'][i])]\n",
    "    y_train = new_df2['y']\n",
    "    x_train_scores = new_df2[['s1','s2','s3']] \n",
    "    new_df2.drop(['y','rank','s1','s2','s3'],axis = 1, inplace = True)\n",
    "    x_train_questions = new_df2\n",
    "    return x_train_questions,y_train,x_train_scores\n"
   ]
  },
  {
   "cell_type": "code",
   "execution_count": 97,
   "metadata": {
    "collapsed": false
   },
   "outputs": [
    {
     "ename": "SyntaxError",
     "evalue": "unexpected EOF while parsing (<ipython-input-97-cf664fb156a8>, line 1)",
     "output_type": "error",
     "traceback": [
      "\u001b[0;36m  File \u001b[0;32m\"<ipython-input-97-cf664fb156a8>\"\u001b[0;36m, line \u001b[0;32m1\u001b[0m\n\u001b[0;31m    model.docvecs[title_list.index(new_df2['documents'][i]\u001b[0m\n\u001b[0m                                                          ^\u001b[0m\n\u001b[0;31mSyntaxError\u001b[0m\u001b[0;31m:\u001b[0m unexpected EOF while parsing\n"
     ]
    }
   ],
   "source": [
    "#model.docvecs[title_list.index(new_df2['documents'][i]"
   ]
  },
  {
   "cell_type": "code",
   "execution_count": 98,
   "metadata": {
    "collapsed": false,
    "deletable": true,
    "editable": true
   },
   "outputs": [
    {
     "ename": "ValueError",
     "evalue": "cannot set a row with mismatched columns",
     "output_type": "error",
     "traceback": [
      "\u001b[0;31m---------------------------------------------------------------------------\u001b[0m",
      "\u001b[0;31mValueError\u001b[0m                                Traceback (most recent call last)",
      "\u001b[0;32m<ipython-input-98-79d9a1c5bdf4>\u001b[0m in \u001b[0;36m<module>\u001b[0;34m()\u001b[0m\n\u001b[0;32m----> 1\u001b[0;31m \u001b[0mx_train_questions\u001b[0m\u001b[0;34m,\u001b[0m\u001b[0my_train\u001b[0m\u001b[0;34m,\u001b[0m\u001b[0mx_train_scores\u001b[0m \u001b[0;34m=\u001b[0m \u001b[0minput_question\u001b[0m\u001b[0;34m(\u001b[0m\u001b[0;34m'To whom did the Virgin Mary allegedly appear in 1858 in Lourdes France?'\u001b[0m\u001b[0;34m)\u001b[0m\u001b[0;34m\u001b[0m\u001b[0m\n\u001b[0m",
      "\u001b[0;32m<ipython-input-96-6861ed2ee04b>\u001b[0m in \u001b[0;36minput_question\u001b[0;34m(question)\u001b[0m\n\u001b[1;32m      6\u001b[0m     \u001b[0mnew_df2\u001b[0m \u001b[0;34m=\u001b[0m\u001b[0mnew_df\u001b[0m\u001b[0;34m.\u001b[0m\u001b[0mappend\u001b[0m\u001b[0;34m(\u001b[0m\u001b[0mdf3\u001b[0m\u001b[0;34m,\u001b[0m \u001b[0mignore_index\u001b[0m\u001b[0;34m=\u001b[0m\u001b[0;32mTrue\u001b[0m\u001b[0;34m)\u001b[0m\u001b[0;34m\u001b[0m\u001b[0m\n\u001b[1;32m      7\u001b[0m     \u001b[0mdoc_vec_question\u001b[0m \u001b[0;34m=\u001b[0m \u001b[0mdoc_to_vec\u001b[0m\u001b[0;34m(\u001b[0m\u001b[0mquestion\u001b[0m\u001b[0;34m)\u001b[0m\u001b[0;34m[\u001b[0m\u001b[0;36m0\u001b[0m\u001b[0;34m]\u001b[0m\u001b[0;34m\u001b[0m\u001b[0m\n\u001b[0;32m----> 8\u001b[0;31m     \u001b[0mnew_df2\u001b[0m\u001b[0;34m.\u001b[0m\u001b[0mloc\u001b[0m\u001b[0;34m[\u001b[0m\u001b[0;34m'questions'\u001b[0m\u001b[0;34m]\u001b[0m \u001b[0;34m=\u001b[0m \u001b[0mdoc_to_vec\u001b[0m\u001b[0;34m(\u001b[0m\u001b[0mquestion\u001b[0m\u001b[0;34m)\u001b[0m\u001b[0;34m[\u001b[0m\u001b[0;36m0\u001b[0m\u001b[0;34m]\u001b[0m\u001b[0;34m\u001b[0m\u001b[0m\n\u001b[0m\u001b[1;32m      9\u001b[0m     \u001b[0;32mfor\u001b[0m \u001b[0mi\u001b[0m \u001b[0;32min\u001b[0m \u001b[0mrange\u001b[0m\u001b[0;34m(\u001b[0m\u001b[0;36m3\u001b[0m\u001b[0;34m)\u001b[0m\u001b[0;34m:\u001b[0m\u001b[0;34m\u001b[0m\u001b[0m\n\u001b[1;32m     10\u001b[0m         \u001b[0;31m#new_df2['questions'][i] = doc_vec_question\u001b[0m\u001b[0;34m\u001b[0m\u001b[0;34m\u001b[0m\u001b[0m\n",
      "\u001b[0;32m/home/user/classification/lib/python3.5/site-packages/pandas/core/indexing.py\u001b[0m in \u001b[0;36m__setitem__\u001b[0;34m(self, key, value)\u001b[0m\n\u001b[1;32m    139\u001b[0m             \u001b[0mkey\u001b[0m \u001b[0;34m=\u001b[0m \u001b[0mcom\u001b[0m\u001b[0;34m.\u001b[0m\u001b[0m_apply_if_callable\u001b[0m\u001b[0;34m(\u001b[0m\u001b[0mkey\u001b[0m\u001b[0;34m,\u001b[0m \u001b[0mself\u001b[0m\u001b[0;34m.\u001b[0m\u001b[0mobj\u001b[0m\u001b[0;34m)\u001b[0m\u001b[0;34m\u001b[0m\u001b[0m\n\u001b[1;32m    140\u001b[0m         \u001b[0mindexer\u001b[0m \u001b[0;34m=\u001b[0m \u001b[0mself\u001b[0m\u001b[0;34m.\u001b[0m\u001b[0m_get_setitem_indexer\u001b[0m\u001b[0;34m(\u001b[0m\u001b[0mkey\u001b[0m\u001b[0;34m)\u001b[0m\u001b[0;34m\u001b[0m\u001b[0m\n\u001b[0;32m--> 141\u001b[0;31m         \u001b[0mself\u001b[0m\u001b[0;34m.\u001b[0m\u001b[0m_setitem_with_indexer\u001b[0m\u001b[0;34m(\u001b[0m\u001b[0mindexer\u001b[0m\u001b[0;34m,\u001b[0m \u001b[0mvalue\u001b[0m\u001b[0;34m)\u001b[0m\u001b[0;34m\u001b[0m\u001b[0m\n\u001b[0m\u001b[1;32m    142\u001b[0m \u001b[0;34m\u001b[0m\u001b[0m\n\u001b[1;32m    143\u001b[0m     \u001b[0;32mdef\u001b[0m \u001b[0m_has_valid_type\u001b[0m\u001b[0;34m(\u001b[0m\u001b[0mself\u001b[0m\u001b[0;34m,\u001b[0m \u001b[0mk\u001b[0m\u001b[0;34m,\u001b[0m \u001b[0maxis\u001b[0m\u001b[0;34m)\u001b[0m\u001b[0;34m:\u001b[0m\u001b[0;34m\u001b[0m\u001b[0m\n",
      "\u001b[0;32m/home/user/classification/lib/python3.5/site-packages/pandas/core/indexing.py\u001b[0m in \u001b[0;36m_setitem_with_indexer\u001b[0;34m(self, indexer, value)\u001b[0m\n\u001b[1;32m    377\u001b[0m                         \u001b[0;32mif\u001b[0m \u001b[0mis_list_like_indexer\u001b[0m\u001b[0;34m(\u001b[0m\u001b[0mvalue\u001b[0m\u001b[0;34m)\u001b[0m\u001b[0;34m:\u001b[0m\u001b[0;34m\u001b[0m\u001b[0m\n\u001b[1;32m    378\u001b[0m                             \u001b[0;32mif\u001b[0m \u001b[0mlen\u001b[0m\u001b[0;34m(\u001b[0m\u001b[0mvalue\u001b[0m\u001b[0;34m)\u001b[0m \u001b[0;34m!=\u001b[0m \u001b[0mlen\u001b[0m\u001b[0;34m(\u001b[0m\u001b[0mself\u001b[0m\u001b[0;34m.\u001b[0m\u001b[0mobj\u001b[0m\u001b[0;34m.\u001b[0m\u001b[0mcolumns\u001b[0m\u001b[0;34m)\u001b[0m\u001b[0;34m:\u001b[0m\u001b[0;34m\u001b[0m\u001b[0m\n\u001b[0;32m--> 379\u001b[0;31m                                 raise ValueError(\"cannot set a row with \"\n\u001b[0m\u001b[1;32m    380\u001b[0m                                                  \"mismatched columns\")\n\u001b[1;32m    381\u001b[0m \u001b[0;34m\u001b[0m\u001b[0m\n",
      "\u001b[0;31mValueError\u001b[0m: cannot set a row with mismatched columns"
     ]
    }
   ],
   "source": [
    "x_train_questions,y_train,x_train_scores = input_question('To whom did the Virgin Mary allegedly appear in 1858 in Lourdes France?')"
   ]
  },
  {
   "cell_type": "code",
   "execution_count": 64,
   "metadata": {
    "collapsed": false
   },
   "outputs": [
    {
     "data": {
      "text/plain": [
       "0    [-0.00149376, -0.00135826, 0.000248178, -0.001...\n",
       "1    [-0.00149376, -0.00135826, 0.000248178, -0.001...\n",
       "2    [-0.00149376, -0.00135826, 0.000248178, -0.001...\n",
       "Name: questions, dtype: object"
      ]
     },
     "execution_count": 64,
     "metadata": {},
     "output_type": "execute_result"
    }
   ],
   "source": [
    "row_index = 1\n",
    "x_train_questions['questions'] \n",
    "#x_train_questions"
   ]
  },
  {
   "cell_type": "code",
   "execution_count": 52,
   "metadata": {
    "collapsed": false
   },
   "outputs": [
    {
     "ename": "NameError",
     "evalue": "name 'question' is not defined",
     "output_type": "error",
     "traceback": [
      "\u001b[0;31m---------------------------------------------------------------------------\u001b[0m",
      "\u001b[0;31mNameError\u001b[0m                                 Traceback (most recent call last)",
      "\u001b[0;32m<ipython-input-52-90bbc47b2120>\u001b[0m in \u001b[0;36m<module>\u001b[0;34m()\u001b[0m\n\u001b[1;32m      1\u001b[0m \u001b[0;32mfor\u001b[0m \u001b[0mi\u001b[0m \u001b[0;32min\u001b[0m \u001b[0mrange\u001b[0m\u001b[0;34m(\u001b[0m\u001b[0;36m3\u001b[0m\u001b[0;34m)\u001b[0m\u001b[0;34m:\u001b[0m\u001b[0;34m\u001b[0m\u001b[0m\n\u001b[0;32m----> 2\u001b[0;31m     \u001b[0mx_train_questions\u001b[0m\u001b[0;34m[\u001b[0m\u001b[0;34m'questions'\u001b[0m\u001b[0;34m]\u001b[0m\u001b[0;34m[\u001b[0m\u001b[0mi\u001b[0m\u001b[0;34m]\u001b[0m \u001b[0;34m=\u001b[0m \u001b[0mdoc_to_vec\u001b[0m\u001b[0;34m(\u001b[0m\u001b[0mquestion\u001b[0m\u001b[0;34m)\u001b[0m\u001b[0;34m[\u001b[0m\u001b[0;36m0\u001b[0m\u001b[0;34m]\u001b[0m\u001b[0;34m\u001b[0m\u001b[0m\n\u001b[0m",
      "\u001b[0;31mNameError\u001b[0m: name 'question' is not defined"
     ]
    }
   ],
   "source": [
    "for i in range(3):\n",
    "    x_train_questions['questions'][i] = doc_to_vec(question)[0]"
   ]
  },
  {
   "cell_type": "code",
   "execution_count": 27,
   "metadata": {
    "collapsed": false,
    "deletable": true,
    "editable": true
   },
   "outputs": [],
   "source": [
    "train_x_array_questions = []\n",
    "for each in x_train_questions.as_matrix():\n",
    "    for nested in each:\n",
    "        train_x_array_questions.append(nested)\n",
    "\n",
    "train_x_array_questions = np.array(train_x_array_questions)"
   ]
  },
  {
   "cell_type": "code",
   "execution_count": 28,
   "metadata": {
    "collapsed": false,
    "deletable": true,
    "editable": true
   },
   "outputs": [],
   "source": [
    "train_x_array_question_docs = train_x_array_questions.reshape(3,2,200)"
   ]
  },
  {
   "cell_type": "code",
   "execution_count": 29,
   "metadata": {
    "collapsed": false,
    "deletable": true,
    "editable": true
   },
   "outputs": [
    {
     "data": {
      "text/plain": [
       "(3, 2, 200)"
      ]
     },
     "execution_count": 29,
     "metadata": {},
     "output_type": "execute_result"
    }
   ],
   "source": [
    "train_x_array_question_docs.shape"
   ]
  },
  {
   "cell_type": "code",
   "execution_count": 30,
   "metadata": {
    "collapsed": false,
    "deletable": true,
    "editable": true
   },
   "outputs": [],
   "source": [
    "train_y_train = np.array(y_train)"
   ]
  },
  {
   "cell_type": "code",
   "execution_count": 31,
   "metadata": {
    "collapsed": false,
    "deletable": true,
    "editable": true
   },
   "outputs": [
    {
     "data": {
      "text/plain": [
       "array([[[ -3.40906560e-01,   2.92871803e-01,  -5.39408147e-01, ...,\n",
       "          -4.39507389e+00,  -3.68476152e+00,  -1.70372546e+00],\n",
       "        [ -1.49376167e-03,  -1.35825737e-03,   2.48177908e-04, ...,\n",
       "          -1.82787026e-03,   1.84030843e-03,   1.03644165e-03]],\n",
       "\n",
       "       [[ -3.92986870e+00,   2.73946118e+00,   3.27372886e-02, ...,\n",
       "          -2.22616744e+00,  -4.55049467e+00,   3.15341711e+00],\n",
       "        [ -1.49376167e-03,  -1.35825737e-03,   2.48177908e-04, ...,\n",
       "          -1.82787026e-03,   1.84030843e-03,   1.03644165e-03]],\n",
       "\n",
       "       [[ -3.49512339e+00,  -3.37478042e-01,   2.22073987e-01, ...,\n",
       "          -9.11642265e+00,  -7.75338650e+00,  -9.48857784e-01],\n",
       "        [ -1.49376167e-03,  -1.35825737e-03,   2.48177908e-04, ...,\n",
       "          -1.82787026e-03,   1.84030843e-03,   1.03644165e-03]]], dtype=float32)"
      ]
     },
     "execution_count": 31,
     "metadata": {},
     "output_type": "execute_result"
    }
   ],
   "source": [
    "train_x_array_question_docs"
   ]
  },
  {
   "cell_type": "code",
   "execution_count": 32,
   "metadata": {
    "collapsed": true,
    "deletable": true,
    "editable": true
   },
   "outputs": [],
   "source": [
    "model_questions = Sequential()"
   ]
  },
  {
   "cell_type": "code",
   "execution_count": 33,
   "metadata": {
    "collapsed": false,
    "deletable": true,
    "editable": true
   },
   "outputs": [],
   "source": [
    "model_questions.add(Dense(500, input_shape=(2,200)))\n",
    "model_questions.add(Dense(600, activation='relu'))\n",
    "model_questions.add(Flatten())\n",
    "model_questions.add(Dense(1))"
   ]
  },
  {
   "cell_type": "code",
   "execution_count": 34,
   "metadata": {
    "collapsed": true,
    "deletable": true,
    "editable": true
   },
   "outputs": [],
   "source": [
    "model_questions.compile(optimizer=RMSprop(),loss='binary_crossentropy',metrics = ['accuracy'])"
   ]
  },
  {
   "cell_type": "code",
   "execution_count": 35,
   "metadata": {
    "collapsed": false,
    "deletable": true,
    "editable": true
   },
   "outputs": [
    {
     "name": "stdout",
     "output_type": "stream",
     "text": [
      "Train on 2 samples, validate on 1 samples\n",
      "Epoch 1/5\n",
      "0s - loss: 8.4867 - acc: 0.0000e+00 - val_loss: 1.0000e-07 - val_acc: 0.0000e+00\n",
      "Epoch 2/5\n",
      "0s - loss: 8.0590 - acc: 0.0000e+00 - val_loss: 1.0000e-07 - val_acc: 0.0000e+00\n",
      "Epoch 3/5\n",
      "0s - loss: 8.0590 - acc: 0.0000e+00 - val_loss: 1.0000e-07 - val_acc: 0.0000e+00\n",
      "Epoch 4/5\n",
      "0s - loss: 8.0590 - acc: 0.0000e+00 - val_loss: 1.0000e-07 - val_acc: 0.0000e+00\n",
      "Epoch 5/5\n",
      "0s - loss: 8.0590 - acc: 0.0000e+00 - val_loss: 1.0000e-07 - val_acc: 0.0000e+00\n"
     ]
    },
    {
     "data": {
      "text/plain": [
       "<keras.callbacks.History at 0x7f8f98325908>"
      ]
     },
     "execution_count": 35,
     "metadata": {},
     "output_type": "execute_result"
    }
   ],
   "source": [
    "model_questions.fit(train_x_array_question_docs, y_train, batch_size=1, epochs=5, validation_split = .2, verbose=2)"
   ]
  },
  {
   "cell_type": "code",
   "execution_count": 36,
   "metadata": {
    "collapsed": false,
    "deletable": true,
    "editable": true
   },
   "outputs": [
    {
     "name": "stdout",
     "output_type": "stream",
     "text": [
      "_________________________________________________________________\n",
      "Layer (type)                 Output Shape              Param #   \n",
      "=================================================================\n",
      "dense_1 (Dense)              (None, 2, 500)            100500    \n",
      "_________________________________________________________________\n",
      "dense_2 (Dense)              (None, 2, 600)            300600    \n",
      "_________________________________________________________________\n",
      "flatten_1 (Flatten)          (None, 1200)              0         \n",
      "_________________________________________________________________\n",
      "dense_3 (Dense)              (None, 1)                 1201      \n",
      "=================================================================\n",
      "Total params: 402,301\n",
      "Trainable params: 402,301\n",
      "Non-trainable params: 0\n",
      "_________________________________________________________________\n"
     ]
    }
   ],
   "source": [
    "model_questions.summary()"
   ]
  },
  {
   "cell_type": "code",
   "execution_count": 37,
   "metadata": {
    "collapsed": false,
    "deletable": true,
    "editable": true
   },
   "outputs": [
    {
     "data": {
      "text/html": [
       "<div>\n",
       "<table border=\"1\" class=\"dataframe\">\n",
       "  <thead>\n",
       "    <tr style=\"text-align: right;\">\n",
       "      <th></th>\n",
       "      <th>s1</th>\n",
       "      <th>s2</th>\n",
       "      <th>s3</th>\n",
       "    </tr>\n",
       "  </thead>\n",
       "  <tbody>\n",
       "    <tr>\n",
       "      <th>0</th>\n",
       "      <td>0.462008</td>\n",
       "      <td>0.370907</td>\n",
       "      <td>0.783126</td>\n",
       "    </tr>\n",
       "    <tr>\n",
       "      <th>1</th>\n",
       "      <td>0.634431</td>\n",
       "      <td>0.398488</td>\n",
       "      <td>0.242621</td>\n",
       "    </tr>\n",
       "    <tr>\n",
       "      <th>2</th>\n",
       "      <td>0.428439</td>\n",
       "      <td>0.554364</td>\n",
       "      <td>0.373254</td>\n",
       "    </tr>\n",
       "  </tbody>\n",
       "</table>\n",
       "</div>"
      ],
      "text/plain": [
       "         s1        s2        s3\n",
       "0  0.462008  0.370907  0.783126\n",
       "1  0.634431  0.398488  0.242621\n",
       "2  0.428439  0.554364  0.373254"
      ]
     },
     "execution_count": 37,
     "metadata": {},
     "output_type": "execute_result"
    }
   ],
   "source": [
    "x_train_scores"
   ]
  },
  {
   "cell_type": "code",
   "execution_count": 38,
   "metadata": {
    "collapsed": false,
    "deletable": true,
    "editable": true
   },
   "outputs": [],
   "source": [
    "train_x_train_scores = np.array(x_train_scores)"
   ]
  },
  {
   "cell_type": "code",
   "execution_count": 39,
   "metadata": {
    "collapsed": false,
    "deletable": true,
    "editable": true
   },
   "outputs": [
    {
     "data": {
      "text/plain": [
       "(3, 3)"
      ]
     },
     "execution_count": 39,
     "metadata": {},
     "output_type": "execute_result"
    }
   ],
   "source": [
    "train_x_train_scores.shape"
   ]
  },
  {
   "cell_type": "code",
   "execution_count": 40,
   "metadata": {
    "collapsed": false,
    "deletable": true,
    "editable": true
   },
   "outputs": [],
   "source": [
    "model_scores = Sequential()"
   ]
  },
  {
   "cell_type": "code",
   "execution_count": 41,
   "metadata": {
    "collapsed": false,
    "deletable": true,
    "editable": true
   },
   "outputs": [],
   "source": [
    "model_scores.add(Dense(500, input_shape=(3,)))\n",
    "model_scores.add(Dense(600, activation='relu'))\n",
    "model_scores.add(Dense(1))"
   ]
  },
  {
   "cell_type": "code",
   "execution_count": 42,
   "metadata": {
    "collapsed": false,
    "deletable": true,
    "editable": true
   },
   "outputs": [],
   "source": [
    "model_scores.compile(optimizer=RMSprop(),loss='binary_crossentropy',metrics = ['accuracy'])"
   ]
  },
  {
   "cell_type": "code",
   "execution_count": 43,
   "metadata": {
    "collapsed": false,
    "deletable": true,
    "editable": true
   },
   "outputs": [
    {
     "name": "stdout",
     "output_type": "stream",
     "text": [
      "Train on 2 samples, validate on 1 samples\n",
      "Epoch 1/5\n",
      "0s - loss: 8.0590 - acc: 0.5000 - val_loss: 1.0000e-07 - val_acc: 1.0000\n",
      "Epoch 2/5\n",
      "0s - loss: 8.0590 - acc: 0.5000 - val_loss: 1.0000e-07 - val_acc: 1.0000\n",
      "Epoch 3/5\n",
      "0s - loss: 8.0590 - acc: 0.5000 - val_loss: 1.0000e-07 - val_acc: 1.0000\n",
      "Epoch 4/5\n",
      "0s - loss: 8.0590 - acc: 0.5000 - val_loss: 1.0000e-07 - val_acc: 1.0000\n",
      "Epoch 5/5\n",
      "0s - loss: 8.0590 - acc: 0.5000 - val_loss: 1.0000e-07 - val_acc: 1.0000\n"
     ]
    },
    {
     "data": {
      "text/plain": [
       "<keras.callbacks.History at 0x7f8f98181fd0>"
      ]
     },
     "execution_count": 43,
     "metadata": {},
     "output_type": "execute_result"
    }
   ],
   "source": [
    "model_scores.fit(train_x_train_scores, y_train, batch_size=1, epochs=5, validation_split = .2, verbose=2)"
   ]
  },
  {
   "cell_type": "code",
   "execution_count": 44,
   "metadata": {
    "collapsed": false,
    "deletable": true,
    "editable": true
   },
   "outputs": [],
   "source": [
    "from keras.layers import Dense, merge"
   ]
  },
  {
   "cell_type": "code",
   "execution_count": 45,
   "metadata": {
    "collapsed": false,
    "deletable": true,
    "editable": true
   },
   "outputs": [
    {
     "name": "stderr",
     "output_type": "stream",
     "text": [
      "/home/user/classification/lib/python3.5/site-packages/ipykernel/__main__.py:2: UserWarning:\n",
      "\n",
      "The `merge` function is deprecated and will be removed after 08/2017. Use instead layers from `keras.layers.merge`, e.g. `add`, `concatenate`, etc.\n",
      "\n",
      "/home/user/classification/lib/python3.5/site-packages/keras/legacy/layers.py:469: UserWarning:\n",
      "\n",
      "The `Merge` layer is deprecated and will be removed after 08/2017. Use instead layers from `keras.layers.merge`, e.g. `add`, `concatenate`, etc.\n",
      "\n"
     ]
    },
    {
     "ename": "AttributeError",
     "evalue": "'Sequential' object has no attribute 'get_shape'",
     "output_type": "error",
     "traceback": [
      "\u001b[0;31m---------------------------------------------------------------------------\u001b[0m",
      "\u001b[0;31mAttributeError\u001b[0m                            Traceback (most recent call last)",
      "\u001b[0;32m<ipython-input-45-6d8f97f3478e>\u001b[0m in \u001b[0;36m<module>\u001b[0;34m()\u001b[0m\n\u001b[1;32m      1\u001b[0m \u001b[0mmodel_merge\u001b[0m \u001b[0;34m=\u001b[0m \u001b[0mSequential\u001b[0m\u001b[0;34m(\u001b[0m\u001b[0;34m)\u001b[0m\u001b[0;34m\u001b[0m\u001b[0m\n\u001b[0;32m----> 2\u001b[0;31m \u001b[0mmodel_merge\u001b[0m\u001b[0;34m.\u001b[0m\u001b[0madd\u001b[0m\u001b[0;34m(\u001b[0m\u001b[0mmerge\u001b[0m\u001b[0;34m(\u001b[0m\u001b[0;34m[\u001b[0m\u001b[0mmodel_questions\u001b[0m\u001b[0;34m,\u001b[0m\u001b[0mmodel_scores\u001b[0m\u001b[0;34m]\u001b[0m\u001b[0;34m,\u001b[0m \u001b[0mmode\u001b[0m \u001b[0;34m=\u001b[0m \u001b[0;34m'concat'\u001b[0m\u001b[0;34m)\u001b[0m\u001b[0;34m)\u001b[0m\u001b[0;34m\u001b[0m\u001b[0m\n\u001b[0m\u001b[1;32m      3\u001b[0m \u001b[0mmodel_merge\u001b[0m\u001b[0;34m.\u001b[0m\u001b[0madd\u001b[0m\u001b[0;34m(\u001b[0m\u001b[0mDense\u001b[0m\u001b[0;34m(\u001b[0m\u001b[0;36m1\u001b[0m\u001b[0;34m,\u001b[0m \u001b[0minit\u001b[0m \u001b[0;34m=\u001b[0m \u001b[0;34m'normal'\u001b[0m\u001b[0;34m,\u001b[0m \u001b[0mactivation\u001b[0m \u001b[0;34m=\u001b[0m \u001b[0;34m'relu'\u001b[0m\u001b[0;34m)\u001b[0m\u001b[0;34m)\u001b[0m\u001b[0;34m\u001b[0m\u001b[0m\n\u001b[1;32m      4\u001b[0m \u001b[0;31m#sgd = SGD(lr = 0.1, momentum = 0.9, decay = 0, nesterov = False)\u001b[0m\u001b[0;34m\u001b[0m\u001b[0;34m\u001b[0m\u001b[0m\n\u001b[1;32m      5\u001b[0m \u001b[0mmodel_merge\u001b[0m\u001b[0;34m.\u001b[0m\u001b[0mcompile\u001b[0m\u001b[0;34m(\u001b[0m\u001b[0mloss\u001b[0m \u001b[0;34m=\u001b[0m \u001b[0;34m'binary_crossentropy'\u001b[0m\u001b[0;34m,\u001b[0m \u001b[0moptimizer\u001b[0m \u001b[0;34m=\u001b[0m \u001b[0mRMSprop\u001b[0m\u001b[0;34m(\u001b[0m\u001b[0;34m)\u001b[0m\u001b[0;34m,\u001b[0m \u001b[0mmetrics\u001b[0m \u001b[0;34m=\u001b[0m \u001b[0;34m[\u001b[0m\u001b[0;34m'accuracy'\u001b[0m\u001b[0;34m]\u001b[0m\u001b[0;34m)\u001b[0m\u001b[0;34m\u001b[0m\u001b[0m\n",
      "\u001b[0;32m/home/user/classification/lib/python3.5/site-packages/keras/legacy/layers.py\u001b[0m in \u001b[0;36mmerge\u001b[0;34m(inputs, mode, concat_axis, dot_axes, output_shape, output_mask, arguments, name)\u001b[0m\n\u001b[1;32m    468\u001b[0m                             \u001b[0marguments\u001b[0m\u001b[0;34m=\u001b[0m\u001b[0marguments\u001b[0m\u001b[0;34m,\u001b[0m\u001b[0;34m\u001b[0m\u001b[0m\n\u001b[1;32m    469\u001b[0m                             name=name)\n\u001b[0;32m--> 470\u001b[0;31m         \u001b[0;32mreturn\u001b[0m \u001b[0mmerge_layer\u001b[0m\u001b[0;34m(\u001b[0m\u001b[0minputs\u001b[0m\u001b[0;34m)\u001b[0m\u001b[0;34m\u001b[0m\u001b[0m\n\u001b[0m\u001b[1;32m    471\u001b[0m \u001b[0;34m\u001b[0m\u001b[0m\n\u001b[1;32m    472\u001b[0m \u001b[0;34m\u001b[0m\u001b[0m\n",
      "\u001b[0;32m/home/user/classification/lib/python3.5/site-packages/keras/engine/topology.py\u001b[0m in \u001b[0;36m__call__\u001b[0;34m(self, inputs, **kwargs)\u001b[0m\n\u001b[1;32m    540\u001b[0m                         \u001b[0minput_shapes\u001b[0m\u001b[0;34m.\u001b[0m\u001b[0mappend\u001b[0m\u001b[0;34m(\u001b[0m\u001b[0mx_elem\u001b[0m\u001b[0;34m.\u001b[0m\u001b[0m_keras_shape\u001b[0m\u001b[0;34m)\u001b[0m\u001b[0;34m\u001b[0m\u001b[0m\n\u001b[1;32m    541\u001b[0m                     \u001b[0;32melif\u001b[0m \u001b[0mhasattr\u001b[0m\u001b[0;34m(\u001b[0m\u001b[0mK\u001b[0m\u001b[0;34m,\u001b[0m \u001b[0;34m'int_shape'\u001b[0m\u001b[0;34m)\u001b[0m\u001b[0;34m:\u001b[0m\u001b[0;34m\u001b[0m\u001b[0m\n\u001b[0;32m--> 542\u001b[0;31m                         \u001b[0minput_shapes\u001b[0m\u001b[0;34m.\u001b[0m\u001b[0mappend\u001b[0m\u001b[0;34m(\u001b[0m\u001b[0mK\u001b[0m\u001b[0;34m.\u001b[0m\u001b[0mint_shape\u001b[0m\u001b[0;34m(\u001b[0m\u001b[0mx_elem\u001b[0m\u001b[0;34m)\u001b[0m\u001b[0;34m)\u001b[0m\u001b[0;34m\u001b[0m\u001b[0m\n\u001b[0m\u001b[1;32m    543\u001b[0m                     \u001b[0;32melse\u001b[0m\u001b[0;34m:\u001b[0m\u001b[0;34m\u001b[0m\u001b[0m\n\u001b[1;32m    544\u001b[0m                         raise ValueError('You tried to call layer \"' + self.name +\n",
      "\u001b[0;32m/home/user/classification/lib/python3.5/site-packages/keras/backend/tensorflow_backend.py\u001b[0m in \u001b[0;36mint_shape\u001b[0;34m(x)\u001b[0m\n\u001b[1;32m    409\u001b[0m     \u001b[0;32mif\u001b[0m \u001b[0mhasattr\u001b[0m\u001b[0;34m(\u001b[0m\u001b[0mx\u001b[0m\u001b[0;34m,\u001b[0m \u001b[0;34m'_keras_shape'\u001b[0m\u001b[0;34m)\u001b[0m\u001b[0;34m:\u001b[0m\u001b[0;34m\u001b[0m\u001b[0m\n\u001b[1;32m    410\u001b[0m         \u001b[0;32mreturn\u001b[0m \u001b[0mx\u001b[0m\u001b[0;34m.\u001b[0m\u001b[0m_keras_shape\u001b[0m\u001b[0;34m\u001b[0m\u001b[0m\n\u001b[0;32m--> 411\u001b[0;31m     \u001b[0mshape\u001b[0m \u001b[0;34m=\u001b[0m \u001b[0mx\u001b[0m\u001b[0;34m.\u001b[0m\u001b[0mget_shape\u001b[0m\u001b[0;34m(\u001b[0m\u001b[0;34m)\u001b[0m\u001b[0;34m\u001b[0m\u001b[0m\n\u001b[0m\u001b[1;32m    412\u001b[0m     \u001b[0;32mtry\u001b[0m\u001b[0;34m:\u001b[0m\u001b[0;34m\u001b[0m\u001b[0m\n\u001b[1;32m    413\u001b[0m         \u001b[0;32mreturn\u001b[0m \u001b[0mtuple\u001b[0m\u001b[0;34m(\u001b[0m\u001b[0;34m[\u001b[0m\u001b[0mi\u001b[0m\u001b[0;34m.\u001b[0m\u001b[0m__int__\u001b[0m\u001b[0;34m(\u001b[0m\u001b[0;34m)\u001b[0m \u001b[0;32mfor\u001b[0m \u001b[0mi\u001b[0m \u001b[0;32min\u001b[0m \u001b[0mshape\u001b[0m\u001b[0;34m]\u001b[0m\u001b[0;34m)\u001b[0m\u001b[0;34m\u001b[0m\u001b[0m\n",
      "\u001b[0;31mAttributeError\u001b[0m: 'Sequential' object has no attribute 'get_shape'"
     ]
    }
   ],
   "source": [
    "model_merge = Sequential()\n",
    "model_merge.add(merge([model_questions,model_scores], mode = 'concat'))\n",
    "model_merge.add(Dense(1, init = 'normal', activation = 'relu'))\n",
    "#sgd = SGD(lr = 0.1, momentum = 0.9, decay = 0, nesterov = False)\n",
    "model_merge.compile(loss = 'binary_crossentropy', optimizer = RMSprop(), metrics = ['accuracy'])\n",
    "#seed(2017)\n",
    "model_merge.fit([train_x_array_question_docs, train_x_train_scores], y_train,batch_size=1, epochs=5, validation_split = .2, verbose=2)\n"
   ]
  },
  {
   "cell_type": "code",
   "execution_count": 149,
   "metadata": {
    "collapsed": true,
    "deletable": true,
    "editable": true
   },
   "outputs": [],
   "source": [
    "questions_vs_documents2 = pd.DataFrame(\n",
    "    {'questions': data_qusetions,\n",
    "     'documents': data_documents\n",
    "    })"
   ]
  },
  {
   "cell_type": "code",
   "execution_count": 150,
   "metadata": {
    "collapsed": false
   },
   "outputs": [
    {
     "data": {
      "text/plain": [
       "'To whom did the Virgin Mary allegedly appear in 1858 in Lourdes France?'"
      ]
     },
     "execution_count": 150,
     "metadata": {},
     "output_type": "execute_result"
    }
   ],
   "source": [
    "questions_vs_documents2['questions'][0]"
   ]
  },
  {
   "cell_type": "code",
   "execution_count": 151,
   "metadata": {
    "collapsed": false
   },
   "outputs": [],
   "source": [
    "questions_vs_documents3 = questions_vs_documents2[(questions_vs_documents['questions'] == 'To whom did the Virgin Mary allegedly appear in 1858 in Lourdes France?')]"
   ]
  },
  {
   "cell_type": "code",
   "execution_count": 152,
   "metadata": {
    "collapsed": false
   },
   "outputs": [
    {
     "data": {
      "text/html": [
       "<div>\n",
       "<table border=\"1\" class=\"dataframe\">\n",
       "  <thead>\n",
       "    <tr style=\"text-align: right;\">\n",
       "      <th></th>\n",
       "      <th>documents</th>\n",
       "      <th>questions</th>\n",
       "    </tr>\n",
       "  </thead>\n",
       "  <tbody>\n",
       "    <tr>\n",
       "      <th>0</th>\n",
       "      <td>University_of_Notre_Dame</td>\n",
       "      <td>To whom did the Virgin Mary allegedly appear i...</td>\n",
       "    </tr>\n",
       "    <tr>\n",
       "      <th>1</th>\n",
       "      <td>Beyoncé</td>\n",
       "      <td>To whom did the Virgin Mary allegedly appear i...</td>\n",
       "    </tr>\n",
       "    <tr>\n",
       "      <th>2</th>\n",
       "      <td>Montana</td>\n",
       "      <td>To whom did the Virgin Mary allegedly appear i...</td>\n",
       "    </tr>\n",
       "    <tr>\n",
       "      <th>3</th>\n",
       "      <td>Genocide</td>\n",
       "      <td>To whom did the Virgin Mary allegedly appear i...</td>\n",
       "    </tr>\n",
       "    <tr>\n",
       "      <th>4</th>\n",
       "      <td>Antibiotics</td>\n",
       "      <td>To whom did the Virgin Mary allegedly appear i...</td>\n",
       "    </tr>\n",
       "  </tbody>\n",
       "</table>\n",
       "</div>"
      ],
      "text/plain": [
       "                  documents                                          questions\n",
       "0  University_of_Notre_Dame  To whom did the Virgin Mary allegedly appear i...\n",
       "1                   Beyoncé  To whom did the Virgin Mary allegedly appear i...\n",
       "2                   Montana  To whom did the Virgin Mary allegedly appear i...\n",
       "3                  Genocide  To whom did the Virgin Mary allegedly appear i...\n",
       "4               Antibiotics  To whom did the Virgin Mary allegedly appear i..."
      ]
     },
     "execution_count": 152,
     "metadata": {},
     "output_type": "execute_result"
    }
   ],
   "source": [
    "questions_vs_documents3"
   ]
  },
  {
   "cell_type": "code",
   "execution_count": 153,
   "metadata": {
    "collapsed": false
   },
   "outputs": [],
   "source": [
    "pk = doc_to_vec('To whom did the Virgin Mary allegedly appear in 1858 in Lourdes France?')[0]"
   ]
  },
  {
   "cell_type": "code",
   "execution_count": 154,
   "metadata": {
    "collapsed": false
   },
   "outputs": [
    {
     "data": {
      "text/plain": [
       "array(['To whom did the Virgin Mary allegedly appear in 1858 in Lourdes France?',\n",
       "       'To whom did the Virgin Mary allegedly appear in 1858 in Lourdes France?',\n",
       "       'To whom did the Virgin Mary allegedly appear in 1858 in Lourdes France?',\n",
       "       'To whom did the Virgin Mary allegedly appear in 1858 in Lourdes France?',\n",
       "       'To whom did the Virgin Mary allegedly appear in 1858 in Lourdes France?'], dtype=object)"
      ]
     },
     "execution_count": 154,
     "metadata": {},
     "output_type": "execute_result"
    }
   ],
   "source": [
    "questions_vs_documents3.questions.values "
   ]
  },
  {
   "cell_type": "code",
   "execution_count": 160,
   "metadata": {
    "collapsed": false
   },
   "outputs": [
    {
     "name": "stderr",
     "output_type": "stream",
     "text": [
      "/home/user/classification/lib/python3.5/site-packages/ipykernel/__main__.py:1: SettingWithCopyWarning:\n",
      "\n",
      "\n",
      "A value is trying to be set on a copy of a slice from a DataFrame.\n",
      "Try using .loc[row_indexer,col_indexer] = value instead\n",
      "\n",
      "See the caveats in the documentation: http://pandas.pydata.org/pandas-docs/stable/indexing.html#indexing-view-versus-copy\n",
      "\n"
     ]
    }
   ],
   "source": [
    "questions_vs_documents3['questions'] = questions_vs_documents3.questions.replace(questions_vs_documents3.questions.values,[pk,pk,pk,pk,pk])"
   ]
  },
  {
   "cell_type": "code",
   "execution_count": 161,
   "metadata": {
    "collapsed": false
   },
   "outputs": [
    {
     "data": {
      "text/html": [
       "<div>\n",
       "<table border=\"1\" class=\"dataframe\">\n",
       "  <thead>\n",
       "    <tr style=\"text-align: right;\">\n",
       "      <th></th>\n",
       "      <th>documents</th>\n",
       "      <th>questions</th>\n",
       "    </tr>\n",
       "  </thead>\n",
       "  <tbody>\n",
       "    <tr>\n",
       "      <th>0</th>\n",
       "      <td>University_of_Notre_Dame</td>\n",
       "      <td>-0.001494</td>\n",
       "    </tr>\n",
       "    <tr>\n",
       "      <th>1</th>\n",
       "      <td>Beyoncé</td>\n",
       "      <td>-0.001358</td>\n",
       "    </tr>\n",
       "    <tr>\n",
       "      <th>2</th>\n",
       "      <td>Montana</td>\n",
       "      <td>0.000248</td>\n",
       "    </tr>\n",
       "    <tr>\n",
       "      <th>3</th>\n",
       "      <td>Genocide</td>\n",
       "      <td>-0.001865</td>\n",
       "    </tr>\n",
       "    <tr>\n",
       "      <th>4</th>\n",
       "      <td>Antibiotics</td>\n",
       "      <td>-0.001031</td>\n",
       "    </tr>\n",
       "  </tbody>\n",
       "</table>\n",
       "</div>"
      ],
      "text/plain": [
       "                  documents  questions\n",
       "0  University_of_Notre_Dame  -0.001494\n",
       "1                   Beyoncé  -0.001358\n",
       "2                   Montana   0.000248\n",
       "3                  Genocide  -0.001865\n",
       "4               Antibiotics  -0.001031"
      ]
     },
     "execution_count": 161,
     "metadata": {},
     "output_type": "execute_result"
    }
   ],
   "source": [
    "questions_vs_documents3"
   ]
  },
  {
   "cell_type": "code",
   "execution_count": 142,
   "metadata": {
    "collapsed": false
   },
   "outputs": [
    {
     "ename": "ValueError",
     "evalue": "The truth value of a DataFrame is ambiguous. Use a.empty, a.bool(), a.item(), a.any() or a.all().",
     "output_type": "error",
     "traceback": [
      "\u001b[0;31m---------------------------------------------------------------------------\u001b[0m",
      "\u001b[0;31mValueError\u001b[0m                                Traceback (most recent call last)",
      "\u001b[0;32m<ipython-input-142-f9c1a71dfd15>\u001b[0m in \u001b[0;36m<module>\u001b[0;34m()\u001b[0m\n\u001b[0;32m----> 1\u001b[0;31m \u001b[0;32mif\u001b[0m \u001b[0mquestions_vs_documents3\u001b[0m\u001b[0;34m[\u001b[0m\u001b[0mquestions_vs_documents3\u001b[0m\u001b[0;34m.\u001b[0m\u001b[0mquestions\u001b[0m \u001b[0;34m==\u001b[0m \u001b[0;34m'To whom did the Virgin Mary allegedly appear in 1858 in Lourdes France?'\u001b[0m\u001b[0;34m]\u001b[0m\u001b[0;34m:\u001b[0m\u001b[0;34m\u001b[0m\u001b[0m\n\u001b[0m\u001b[1;32m      2\u001b[0m     \u001b[0mquestions_vs_documents3\u001b[0m\u001b[0;34m.\u001b[0m\u001b[0mquestions\u001b[0m \u001b[0;34m=\u001b[0m \u001b[0mpk\u001b[0m\u001b[0;34m\u001b[0m\u001b[0m\n",
      "\u001b[0;32m/home/user/classification/lib/python3.5/site-packages/pandas/core/generic.py\u001b[0m in \u001b[0;36m__nonzero__\u001b[0;34m(self)\u001b[0m\n\u001b[1;32m    915\u001b[0m         raise ValueError(\"The truth value of a {0} is ambiguous. \"\n\u001b[1;32m    916\u001b[0m                          \u001b[0;34m\"Use a.empty, a.bool(), a.item(), a.any() or a.all().\"\u001b[0m\u001b[0;34m\u001b[0m\u001b[0m\n\u001b[0;32m--> 917\u001b[0;31m                          .format(self.__class__.__name__))\n\u001b[0m\u001b[1;32m    918\u001b[0m \u001b[0;34m\u001b[0m\u001b[0m\n\u001b[1;32m    919\u001b[0m     \u001b[0m__bool__\u001b[0m \u001b[0;34m=\u001b[0m \u001b[0m__nonzero__\u001b[0m\u001b[0;34m\u001b[0m\u001b[0m\n",
      "\u001b[0;31mValueError\u001b[0m: The truth value of a DataFrame is ambiguous. Use a.empty, a.bool(), a.item(), a.any() or a.all()."
     ]
    }
   ],
   "source": [
    "if questions_vs_documents3[questions_vs_documents3.questions == 'To whom did the Virgin Mary allegedly appear in 1858 in Lourdes France?']:\n",
    "    questions_vs_documents3.questions = pk"
   ]
  },
  {
   "cell_type": "code",
   "execution_count": 137,
   "metadata": {
    "collapsed": false
   },
   "outputs": [
    {
     "data": {
      "text/html": [
       "<div>\n",
       "<table border=\"1\" class=\"dataframe\">\n",
       "  <thead>\n",
       "    <tr style=\"text-align: right;\">\n",
       "      <th></th>\n",
       "      <th>documents</th>\n",
       "      <th>questions</th>\n",
       "    </tr>\n",
       "  </thead>\n",
       "  <tbody>\n",
       "    <tr>\n",
       "      <th>0</th>\n",
       "      <td>University_of_Notre_Dame</td>\n",
       "      <td>To whom did the Virgin Mary allegedly appear i...</td>\n",
       "    </tr>\n",
       "    <tr>\n",
       "      <th>1</th>\n",
       "      <td>Beyoncé</td>\n",
       "      <td>To whom did the Virgin Mary allegedly appear i...</td>\n",
       "    </tr>\n",
       "    <tr>\n",
       "      <th>2</th>\n",
       "      <td>Montana</td>\n",
       "      <td>To whom did the Virgin Mary allegedly appear i...</td>\n",
       "    </tr>\n",
       "    <tr>\n",
       "      <th>3</th>\n",
       "      <td>Genocide</td>\n",
       "      <td>To whom did the Virgin Mary allegedly appear i...</td>\n",
       "    </tr>\n",
       "    <tr>\n",
       "      <th>4</th>\n",
       "      <td>Antibiotics</td>\n",
       "      <td>To whom did the Virgin Mary allegedly appear i...</td>\n",
       "    </tr>\n",
       "  </tbody>\n",
       "</table>\n",
       "</div>"
      ],
      "text/plain": [
       "                  documents                                          questions\n",
       "0  University_of_Notre_Dame  To whom did the Virgin Mary allegedly appear i...\n",
       "1                   Beyoncé  To whom did the Virgin Mary allegedly appear i...\n",
       "2                   Montana  To whom did the Virgin Mary allegedly appear i...\n",
       "3                  Genocide  To whom did the Virgin Mary allegedly appear i...\n",
       "4               Antibiotics  To whom did the Virgin Mary allegedly appear i..."
      ]
     },
     "execution_count": 137,
     "metadata": {},
     "output_type": "execute_result"
    }
   ],
   "source": [
    "z"
   ]
  },
  {
   "cell_type": "code",
   "execution_count": 136,
   "metadata": {
    "collapsed": false
   },
   "outputs": [
    {
     "ename": "ValueError",
     "evalue": "Length of values does not match length of index",
     "output_type": "error",
     "traceback": [
      "\u001b[0;31m---------------------------------------------------------------------------\u001b[0m",
      "\u001b[0;31mValueError\u001b[0m                                Traceback (most recent call last)",
      "\u001b[0;32m<ipython-input-136-b36f3a25189e>\u001b[0m in \u001b[0;36m<module>\u001b[0;34m()\u001b[0m\n\u001b[0;32m----> 1\u001b[0;31m \u001b[0mz\u001b[0m\u001b[0;34m.\u001b[0m\u001b[0mquestions\u001b[0m \u001b[0;34m=\u001b[0m \u001b[0mpk\u001b[0m\u001b[0;34m\u001b[0m\u001b[0m\n\u001b[0m",
      "\u001b[0;32m/home/user/classification/lib/python3.5/site-packages/pandas/core/generic.py\u001b[0m in \u001b[0;36m__setattr__\u001b[0;34m(self, name, value)\u001b[0m\n\u001b[1;32m   2771\u001b[0m                     \u001b[0mobject\u001b[0m\u001b[0;34m.\u001b[0m\u001b[0m__setattr__\u001b[0m\u001b[0;34m(\u001b[0m\u001b[0mself\u001b[0m\u001b[0;34m,\u001b[0m \u001b[0mname\u001b[0m\u001b[0;34m,\u001b[0m \u001b[0mvalue\u001b[0m\u001b[0;34m)\u001b[0m\u001b[0;34m\u001b[0m\u001b[0m\n\u001b[1;32m   2772\u001b[0m                 \u001b[0;32melif\u001b[0m \u001b[0mname\u001b[0m \u001b[0;32min\u001b[0m \u001b[0mself\u001b[0m\u001b[0;34m.\u001b[0m\u001b[0m_info_axis\u001b[0m\u001b[0;34m:\u001b[0m\u001b[0;34m\u001b[0m\u001b[0m\n\u001b[0;32m-> 2773\u001b[0;31m                     \u001b[0mself\u001b[0m\u001b[0;34m[\u001b[0m\u001b[0mname\u001b[0m\u001b[0;34m]\u001b[0m \u001b[0;34m=\u001b[0m \u001b[0mvalue\u001b[0m\u001b[0;34m\u001b[0m\u001b[0m\n\u001b[0m\u001b[1;32m   2774\u001b[0m                 \u001b[0;32melse\u001b[0m\u001b[0;34m:\u001b[0m\u001b[0;34m\u001b[0m\u001b[0m\n\u001b[1;32m   2775\u001b[0m                     \u001b[0mobject\u001b[0m\u001b[0;34m.\u001b[0m\u001b[0m__setattr__\u001b[0m\u001b[0;34m(\u001b[0m\u001b[0mself\u001b[0m\u001b[0;34m,\u001b[0m \u001b[0mname\u001b[0m\u001b[0;34m,\u001b[0m \u001b[0mvalue\u001b[0m\u001b[0;34m)\u001b[0m\u001b[0;34m\u001b[0m\u001b[0m\n",
      "\u001b[0;32m/home/user/classification/lib/python3.5/site-packages/pandas/core/frame.py\u001b[0m in \u001b[0;36m__setitem__\u001b[0;34m(self, key, value)\u001b[0m\n\u001b[1;32m   2417\u001b[0m         \u001b[0;32melse\u001b[0m\u001b[0;34m:\u001b[0m\u001b[0;34m\u001b[0m\u001b[0m\n\u001b[1;32m   2418\u001b[0m             \u001b[0;31m# set column\u001b[0m\u001b[0;34m\u001b[0m\u001b[0;34m\u001b[0m\u001b[0m\n\u001b[0;32m-> 2419\u001b[0;31m             \u001b[0mself\u001b[0m\u001b[0;34m.\u001b[0m\u001b[0m_set_item\u001b[0m\u001b[0;34m(\u001b[0m\u001b[0mkey\u001b[0m\u001b[0;34m,\u001b[0m \u001b[0mvalue\u001b[0m\u001b[0;34m)\u001b[0m\u001b[0;34m\u001b[0m\u001b[0m\n\u001b[0m\u001b[1;32m   2420\u001b[0m \u001b[0;34m\u001b[0m\u001b[0m\n\u001b[1;32m   2421\u001b[0m     \u001b[0;32mdef\u001b[0m \u001b[0m_setitem_slice\u001b[0m\u001b[0;34m(\u001b[0m\u001b[0mself\u001b[0m\u001b[0;34m,\u001b[0m \u001b[0mkey\u001b[0m\u001b[0;34m,\u001b[0m \u001b[0mvalue\u001b[0m\u001b[0;34m)\u001b[0m\u001b[0;34m:\u001b[0m\u001b[0;34m\u001b[0m\u001b[0m\n",
      "\u001b[0;32m/home/user/classification/lib/python3.5/site-packages/pandas/core/frame.py\u001b[0m in \u001b[0;36m_set_item\u001b[0;34m(self, key, value)\u001b[0m\n\u001b[1;32m   2483\u001b[0m \u001b[0;34m\u001b[0m\u001b[0m\n\u001b[1;32m   2484\u001b[0m         \u001b[0mself\u001b[0m\u001b[0;34m.\u001b[0m\u001b[0m_ensure_valid_index\u001b[0m\u001b[0;34m(\u001b[0m\u001b[0mvalue\u001b[0m\u001b[0;34m)\u001b[0m\u001b[0;34m\u001b[0m\u001b[0m\n\u001b[0;32m-> 2485\u001b[0;31m         \u001b[0mvalue\u001b[0m \u001b[0;34m=\u001b[0m \u001b[0mself\u001b[0m\u001b[0;34m.\u001b[0m\u001b[0m_sanitize_column\u001b[0m\u001b[0;34m(\u001b[0m\u001b[0mkey\u001b[0m\u001b[0;34m,\u001b[0m \u001b[0mvalue\u001b[0m\u001b[0;34m)\u001b[0m\u001b[0;34m\u001b[0m\u001b[0m\n\u001b[0m\u001b[1;32m   2486\u001b[0m         \u001b[0mNDFrame\u001b[0m\u001b[0;34m.\u001b[0m\u001b[0m_set_item\u001b[0m\u001b[0;34m(\u001b[0m\u001b[0mself\u001b[0m\u001b[0;34m,\u001b[0m \u001b[0mkey\u001b[0m\u001b[0;34m,\u001b[0m \u001b[0mvalue\u001b[0m\u001b[0;34m)\u001b[0m\u001b[0;34m\u001b[0m\u001b[0m\n\u001b[1;32m   2487\u001b[0m \u001b[0;34m\u001b[0m\u001b[0m\n",
      "\u001b[0;32m/home/user/classification/lib/python3.5/site-packages/pandas/core/frame.py\u001b[0m in \u001b[0;36m_sanitize_column\u001b[0;34m(self, key, value, broadcast)\u001b[0m\n\u001b[1;32m   2654\u001b[0m \u001b[0;34m\u001b[0m\u001b[0m\n\u001b[1;32m   2655\u001b[0m             \u001b[0;31m# turn me into an ndarray\u001b[0m\u001b[0;34m\u001b[0m\u001b[0;34m\u001b[0m\u001b[0m\n\u001b[0;32m-> 2656\u001b[0;31m             \u001b[0mvalue\u001b[0m \u001b[0;34m=\u001b[0m \u001b[0m_sanitize_index\u001b[0m\u001b[0;34m(\u001b[0m\u001b[0mvalue\u001b[0m\u001b[0;34m,\u001b[0m \u001b[0mself\u001b[0m\u001b[0;34m.\u001b[0m\u001b[0mindex\u001b[0m\u001b[0;34m,\u001b[0m \u001b[0mcopy\u001b[0m\u001b[0;34m=\u001b[0m\u001b[0;32mFalse\u001b[0m\u001b[0;34m)\u001b[0m\u001b[0;34m\u001b[0m\u001b[0m\n\u001b[0m\u001b[1;32m   2657\u001b[0m             \u001b[0;32mif\u001b[0m \u001b[0;32mnot\u001b[0m \u001b[0misinstance\u001b[0m\u001b[0;34m(\u001b[0m\u001b[0mvalue\u001b[0m\u001b[0;34m,\u001b[0m \u001b[0;34m(\u001b[0m\u001b[0mnp\u001b[0m\u001b[0;34m.\u001b[0m\u001b[0mndarray\u001b[0m\u001b[0;34m,\u001b[0m \u001b[0mIndex\u001b[0m\u001b[0;34m)\u001b[0m\u001b[0;34m)\u001b[0m\u001b[0;34m:\u001b[0m\u001b[0;34m\u001b[0m\u001b[0m\n\u001b[1;32m   2658\u001b[0m                 \u001b[0;32mif\u001b[0m \u001b[0misinstance\u001b[0m\u001b[0;34m(\u001b[0m\u001b[0mvalue\u001b[0m\u001b[0;34m,\u001b[0m \u001b[0mlist\u001b[0m\u001b[0;34m)\u001b[0m \u001b[0;32mand\u001b[0m \u001b[0mlen\u001b[0m\u001b[0;34m(\u001b[0m\u001b[0mvalue\u001b[0m\u001b[0;34m)\u001b[0m \u001b[0;34m>\u001b[0m \u001b[0;36m0\u001b[0m\u001b[0;34m:\u001b[0m\u001b[0;34m\u001b[0m\u001b[0m\n",
      "\u001b[0;32m/home/user/classification/lib/python3.5/site-packages/pandas/core/series.py\u001b[0m in \u001b[0;36m_sanitize_index\u001b[0;34m(data, index, copy)\u001b[0m\n\u001b[1;32m   2798\u001b[0m \u001b[0;34m\u001b[0m\u001b[0m\n\u001b[1;32m   2799\u001b[0m     \u001b[0;32mif\u001b[0m \u001b[0mlen\u001b[0m\u001b[0;34m(\u001b[0m\u001b[0mdata\u001b[0m\u001b[0;34m)\u001b[0m \u001b[0;34m!=\u001b[0m \u001b[0mlen\u001b[0m\u001b[0;34m(\u001b[0m\u001b[0mindex\u001b[0m\u001b[0;34m)\u001b[0m\u001b[0;34m:\u001b[0m\u001b[0;34m\u001b[0m\u001b[0m\n\u001b[0;32m-> 2800\u001b[0;31m         \u001b[0;32mraise\u001b[0m \u001b[0mValueError\u001b[0m\u001b[0;34m(\u001b[0m\u001b[0;34m'Length of values does not match length of '\u001b[0m \u001b[0;34m'index'\u001b[0m\u001b[0;34m)\u001b[0m\u001b[0;34m\u001b[0m\u001b[0m\n\u001b[0m\u001b[1;32m   2801\u001b[0m \u001b[0;34m\u001b[0m\u001b[0m\n\u001b[1;32m   2802\u001b[0m     \u001b[0;32mif\u001b[0m \u001b[0misinstance\u001b[0m\u001b[0;34m(\u001b[0m\u001b[0mdata\u001b[0m\u001b[0;34m,\u001b[0m \u001b[0mPeriodIndex\u001b[0m\u001b[0;34m)\u001b[0m\u001b[0;34m:\u001b[0m\u001b[0;34m\u001b[0m\u001b[0m\n",
      "\u001b[0;31mValueError\u001b[0m: Length of values does not match length of index"
     ]
    }
   ],
   "source": [
    "z.questions = pk"
   ]
  },
  {
   "cell_type": "code",
   "execution_count": 127,
   "metadata": {
    "collapsed": false
   },
   "outputs": [
    {
     "data": {
      "text/plain": [
       "array([[ -1.49376167e-03,  -1.35825737e-03,   2.48177908e-04,\n",
       "         -1.86451187e-03,  -1.03108771e-03,  -1.78812596e-03,\n",
       "         -6.75766671e-04,   2.13008164e-03,   2.45031947e-03,\n",
       "          1.43686181e-03,   2.32396601e-03,   1.66668533e-03,\n",
       "          7.27022416e-04,  -7.36753063e-05,  -1.99432648e-03,\n",
       "          1.47048582e-03,  -1.34569849e-03,   6.66542794e-04,\n",
       "          4.38582414e-04,  -9.92912217e-04,   1.29773514e-03,\n",
       "         -2.12226342e-03,  -1.34737708e-03,   2.18559941e-03,\n",
       "          2.36536958e-03,  -1.05773041e-03,  -1.22474821e-03,\n",
       "         -6.71010406e-04,   9.73643269e-04,  -2.38315016e-03,\n",
       "          1.52538810e-03,   8.21877911e-04,  -1.21718680e-03,\n",
       "         -1.48794171e-03,  -9.51257942e-04,  -2.44513620e-03,\n",
       "         -2.32611527e-03,  -2.36360170e-03,   4.98520210e-04,\n",
       "          1.21345697e-03,  -2.18996988e-03,  -2.10899953e-03,\n",
       "         -2.14571063e-03,  -1.35921501e-03,  -3.40325525e-04,\n",
       "         -4.87815065e-04,   7.45294208e-04,   2.92327983e-04,\n",
       "         -1.27140118e-03,  -8.22079310e-04,   5.29122364e-04,\n",
       "         -1.75884250e-03,  -1.12691394e-03,  -7.72566942e-04,\n",
       "          1.34837802e-03,  -1.45020580e-03,   1.97750749e-03,\n",
       "          1.58829498e-03,   7.09274726e-04,   9.73653747e-04,\n",
       "          1.56378525e-03,   1.08644343e-03,  -1.24111678e-03,\n",
       "         -1.66556786e-03,   1.26753142e-03,  -7.13534362e-04,\n",
       "         -1.46637065e-03,   2.05968297e-03,  -1.30030827e-03,\n",
       "          2.50377902e-03,  -6.02958899e-04,   1.34785616e-04,\n",
       "          3.87491425e-04,  -6.01755281e-04,  -1.19106029e-03,\n",
       "          2.76477131e-05,   1.55074187e-04,   1.38643826e-03,\n",
       "          4.62741562e-04,   2.21315445e-03,  -1.56206975e-03,\n",
       "          1.14280812e-03,  -1.96754438e-04,   2.08668271e-03,\n",
       "          5.34671824e-04,   1.81243231e-03,   4.52118751e-04,\n",
       "         -9.19978193e-04,   8.03328527e-04,   1.80780387e-03,\n",
       "         -1.10755838e-03,  -2.20727525e-03,  -3.65952408e-04,\n",
       "         -2.20109103e-03,   3.67917091e-05,  -7.70515413e-04,\n",
       "         -7.88593548e-04,   6.93493639e-04,   2.01692432e-03,\n",
       "         -6.13716082e-04,   8.05177842e-05,   1.19659596e-03,\n",
       "         -2.39329436e-03,   2.07968918e-03,   2.36143917e-03,\n",
       "         -1.72174571e-03,   2.25812895e-03,  -6.89214910e-04,\n",
       "          2.00914731e-03,   2.09294748e-03,  -2.04326189e-03,\n",
       "          3.72101960e-04,  -2.05762987e-03,   1.79749820e-03,\n",
       "          1.34905847e-03,  -1.74774986e-03,   6.06909627e-04,\n",
       "         -1.57235947e-03,   2.17980240e-03,   7.97832152e-04,\n",
       "         -4.94471868e-04,   1.05164805e-03,   1.10330374e-03,\n",
       "          2.48211669e-04,   1.10462235e-04,   1.73405127e-03,\n",
       "          1.67247083e-04,   1.14335993e-03,   1.84152764e-03,\n",
       "         -1.47600146e-03,   1.97186397e-04,  -2.38475623e-03,\n",
       "          1.62021269e-03,   1.51195901e-03,   2.27569859e-03,\n",
       "         -1.92879888e-04,   1.65625743e-03,   2.19537201e-03,\n",
       "          6.66420674e-04,  -2.42289389e-03,   1.10581785e-03,\n",
       "         -1.95457530e-03,  -7.59991352e-04,  -2.30568741e-03,\n",
       "         -1.35803176e-03,   1.28542178e-03,  -1.09969045e-03,\n",
       "          1.92931260e-03,  -1.65799388e-03,   2.37741027e-04,\n",
       "          9.86656058e-04,  -1.99871371e-03,   1.25775218e-03,\n",
       "          2.37069573e-04,   1.87871046e-03,  -8.58114945e-05,\n",
       "         -4.71026695e-04,  -1.50017149e-04,  -7.77596666e-04,\n",
       "          2.35452689e-03,  -1.04692148e-03,   1.71570480e-03,\n",
       "          1.69818185e-03,   9.85202030e-04,   1.24894374e-03,\n",
       "          1.18678249e-03,  -5.97450708e-04,  -3.92471935e-04,\n",
       "         -8.93741206e-04,   5.33499697e-04,   2.42314860e-03,\n",
       "         -9.71082074e-04,   3.29161034e-04,   6.86285202e-04,\n",
       "         -1.33032829e-03,  -2.32510176e-03,  -1.81450439e-03,\n",
       "          1.86188275e-03,   1.91771879e-03,  -1.37344212e-03,\n",
       "         -2.11888598e-03,  -1.58866332e-03,  -1.55209083e-04,\n",
       "         -2.14403169e-03,  -1.62170822e-04,   1.67937600e-03,\n",
       "         -1.79422309e-03,   9.29140835e-04,   8.84447829e-04,\n",
       "         -1.90321694e-03,  -1.79430726e-03,  -9.55025665e-04,\n",
       "         -1.79463380e-03,   5.33623272e-04,  -1.72803865e-03,\n",
       "          5.97872640e-05,  -1.99525547e-03,  -1.82787026e-03,\n",
       "          1.84030843e-03,   1.03644165e-03],\n",
       "       [ -1.49376167e-03,  -1.35825737e-03,   2.48177908e-04,\n",
       "         -1.86451187e-03,  -1.03108771e-03,  -1.78812596e-03,\n",
       "         -6.75766671e-04,   2.13008164e-03,   2.45031947e-03,\n",
       "          1.43686181e-03,   2.32396601e-03,   1.66668533e-03,\n",
       "          7.27022416e-04,  -7.36753063e-05,  -1.99432648e-03,\n",
       "          1.47048582e-03,  -1.34569849e-03,   6.66542794e-04,\n",
       "          4.38582414e-04,  -9.92912217e-04,   1.29773514e-03,\n",
       "         -2.12226342e-03,  -1.34737708e-03,   2.18559941e-03,\n",
       "          2.36536958e-03,  -1.05773041e-03,  -1.22474821e-03,\n",
       "         -6.71010406e-04,   9.73643269e-04,  -2.38315016e-03,\n",
       "          1.52538810e-03,   8.21877911e-04,  -1.21718680e-03,\n",
       "         -1.48794171e-03,  -9.51257942e-04,  -2.44513620e-03,\n",
       "         -2.32611527e-03,  -2.36360170e-03,   4.98520210e-04,\n",
       "          1.21345697e-03,  -2.18996988e-03,  -2.10899953e-03,\n",
       "         -2.14571063e-03,  -1.35921501e-03,  -3.40325525e-04,\n",
       "         -4.87815065e-04,   7.45294208e-04,   2.92327983e-04,\n",
       "         -1.27140118e-03,  -8.22079310e-04,   5.29122364e-04,\n",
       "         -1.75884250e-03,  -1.12691394e-03,  -7.72566942e-04,\n",
       "          1.34837802e-03,  -1.45020580e-03,   1.97750749e-03,\n",
       "          1.58829498e-03,   7.09274726e-04,   9.73653747e-04,\n",
       "          1.56378525e-03,   1.08644343e-03,  -1.24111678e-03,\n",
       "         -1.66556786e-03,   1.26753142e-03,  -7.13534362e-04,\n",
       "         -1.46637065e-03,   2.05968297e-03,  -1.30030827e-03,\n",
       "          2.50377902e-03,  -6.02958899e-04,   1.34785616e-04,\n",
       "          3.87491425e-04,  -6.01755281e-04,  -1.19106029e-03,\n",
       "          2.76477131e-05,   1.55074187e-04,   1.38643826e-03,\n",
       "          4.62741562e-04,   2.21315445e-03,  -1.56206975e-03,\n",
       "          1.14280812e-03,  -1.96754438e-04,   2.08668271e-03,\n",
       "          5.34671824e-04,   1.81243231e-03,   4.52118751e-04,\n",
       "         -9.19978193e-04,   8.03328527e-04,   1.80780387e-03,\n",
       "         -1.10755838e-03,  -2.20727525e-03,  -3.65952408e-04,\n",
       "         -2.20109103e-03,   3.67917091e-05,  -7.70515413e-04,\n",
       "         -7.88593548e-04,   6.93493639e-04,   2.01692432e-03,\n",
       "         -6.13716082e-04,   8.05177842e-05,   1.19659596e-03,\n",
       "         -2.39329436e-03,   2.07968918e-03,   2.36143917e-03,\n",
       "         -1.72174571e-03,   2.25812895e-03,  -6.89214910e-04,\n",
       "          2.00914731e-03,   2.09294748e-03,  -2.04326189e-03,\n",
       "          3.72101960e-04,  -2.05762987e-03,   1.79749820e-03,\n",
       "          1.34905847e-03,  -1.74774986e-03,   6.06909627e-04,\n",
       "         -1.57235947e-03,   2.17980240e-03,   7.97832152e-04,\n",
       "         -4.94471868e-04,   1.05164805e-03,   1.10330374e-03,\n",
       "          2.48211669e-04,   1.10462235e-04,   1.73405127e-03,\n",
       "          1.67247083e-04,   1.14335993e-03,   1.84152764e-03,\n",
       "         -1.47600146e-03,   1.97186397e-04,  -2.38475623e-03,\n",
       "          1.62021269e-03,   1.51195901e-03,   2.27569859e-03,\n",
       "         -1.92879888e-04,   1.65625743e-03,   2.19537201e-03,\n",
       "          6.66420674e-04,  -2.42289389e-03,   1.10581785e-03,\n",
       "         -1.95457530e-03,  -7.59991352e-04,  -2.30568741e-03,\n",
       "         -1.35803176e-03,   1.28542178e-03,  -1.09969045e-03,\n",
       "          1.92931260e-03,  -1.65799388e-03,   2.37741027e-04,\n",
       "          9.86656058e-04,  -1.99871371e-03,   1.25775218e-03,\n",
       "          2.37069573e-04,   1.87871046e-03,  -8.58114945e-05,\n",
       "         -4.71026695e-04,  -1.50017149e-04,  -7.77596666e-04,\n",
       "          2.35452689e-03,  -1.04692148e-03,   1.71570480e-03,\n",
       "          1.69818185e-03,   9.85202030e-04,   1.24894374e-03,\n",
       "          1.18678249e-03,  -5.97450708e-04,  -3.92471935e-04,\n",
       "         -8.93741206e-04,   5.33499697e-04,   2.42314860e-03,\n",
       "         -9.71082074e-04,   3.29161034e-04,   6.86285202e-04,\n",
       "         -1.33032829e-03,  -2.32510176e-03,  -1.81450439e-03,\n",
       "          1.86188275e-03,   1.91771879e-03,  -1.37344212e-03,\n",
       "         -2.11888598e-03,  -1.58866332e-03,  -1.55209083e-04,\n",
       "         -2.14403169e-03,  -1.62170822e-04,   1.67937600e-03,\n",
       "         -1.79422309e-03,   9.29140835e-04,   8.84447829e-04,\n",
       "         -1.90321694e-03,  -1.79430726e-03,  -9.55025665e-04,\n",
       "         -1.79463380e-03,   5.33623272e-04,  -1.72803865e-03,\n",
       "          5.97872640e-05,  -1.99525547e-03,  -1.82787026e-03,\n",
       "          1.84030843e-03,   1.03644165e-03],\n",
       "       [ -1.49376167e-03,  -1.35825737e-03,   2.48177908e-04,\n",
       "         -1.86451187e-03,  -1.03108771e-03,  -1.78812596e-03,\n",
       "         -6.75766671e-04,   2.13008164e-03,   2.45031947e-03,\n",
       "          1.43686181e-03,   2.32396601e-03,   1.66668533e-03,\n",
       "          7.27022416e-04,  -7.36753063e-05,  -1.99432648e-03,\n",
       "          1.47048582e-03,  -1.34569849e-03,   6.66542794e-04,\n",
       "          4.38582414e-04,  -9.92912217e-04,   1.29773514e-03,\n",
       "         -2.12226342e-03,  -1.34737708e-03,   2.18559941e-03,\n",
       "          2.36536958e-03,  -1.05773041e-03,  -1.22474821e-03,\n",
       "         -6.71010406e-04,   9.73643269e-04,  -2.38315016e-03,\n",
       "          1.52538810e-03,   8.21877911e-04,  -1.21718680e-03,\n",
       "         -1.48794171e-03,  -9.51257942e-04,  -2.44513620e-03,\n",
       "         -2.32611527e-03,  -2.36360170e-03,   4.98520210e-04,\n",
       "          1.21345697e-03,  -2.18996988e-03,  -2.10899953e-03,\n",
       "         -2.14571063e-03,  -1.35921501e-03,  -3.40325525e-04,\n",
       "         -4.87815065e-04,   7.45294208e-04,   2.92327983e-04,\n",
       "         -1.27140118e-03,  -8.22079310e-04,   5.29122364e-04,\n",
       "         -1.75884250e-03,  -1.12691394e-03,  -7.72566942e-04,\n",
       "          1.34837802e-03,  -1.45020580e-03,   1.97750749e-03,\n",
       "          1.58829498e-03,   7.09274726e-04,   9.73653747e-04,\n",
       "          1.56378525e-03,   1.08644343e-03,  -1.24111678e-03,\n",
       "         -1.66556786e-03,   1.26753142e-03,  -7.13534362e-04,\n",
       "         -1.46637065e-03,   2.05968297e-03,  -1.30030827e-03,\n",
       "          2.50377902e-03,  -6.02958899e-04,   1.34785616e-04,\n",
       "          3.87491425e-04,  -6.01755281e-04,  -1.19106029e-03,\n",
       "          2.76477131e-05,   1.55074187e-04,   1.38643826e-03,\n",
       "          4.62741562e-04,   2.21315445e-03,  -1.56206975e-03,\n",
       "          1.14280812e-03,  -1.96754438e-04,   2.08668271e-03,\n",
       "          5.34671824e-04,   1.81243231e-03,   4.52118751e-04,\n",
       "         -9.19978193e-04,   8.03328527e-04,   1.80780387e-03,\n",
       "         -1.10755838e-03,  -2.20727525e-03,  -3.65952408e-04,\n",
       "         -2.20109103e-03,   3.67917091e-05,  -7.70515413e-04,\n",
       "         -7.88593548e-04,   6.93493639e-04,   2.01692432e-03,\n",
       "         -6.13716082e-04,   8.05177842e-05,   1.19659596e-03,\n",
       "         -2.39329436e-03,   2.07968918e-03,   2.36143917e-03,\n",
       "         -1.72174571e-03,   2.25812895e-03,  -6.89214910e-04,\n",
       "          2.00914731e-03,   2.09294748e-03,  -2.04326189e-03,\n",
       "          3.72101960e-04,  -2.05762987e-03,   1.79749820e-03,\n",
       "          1.34905847e-03,  -1.74774986e-03,   6.06909627e-04,\n",
       "         -1.57235947e-03,   2.17980240e-03,   7.97832152e-04,\n",
       "         -4.94471868e-04,   1.05164805e-03,   1.10330374e-03,\n",
       "          2.48211669e-04,   1.10462235e-04,   1.73405127e-03,\n",
       "          1.67247083e-04,   1.14335993e-03,   1.84152764e-03,\n",
       "         -1.47600146e-03,   1.97186397e-04,  -2.38475623e-03,\n",
       "          1.62021269e-03,   1.51195901e-03,   2.27569859e-03,\n",
       "         -1.92879888e-04,   1.65625743e-03,   2.19537201e-03,\n",
       "          6.66420674e-04,  -2.42289389e-03,   1.10581785e-03,\n",
       "         -1.95457530e-03,  -7.59991352e-04,  -2.30568741e-03,\n",
       "         -1.35803176e-03,   1.28542178e-03,  -1.09969045e-03,\n",
       "          1.92931260e-03,  -1.65799388e-03,   2.37741027e-04,\n",
       "          9.86656058e-04,  -1.99871371e-03,   1.25775218e-03,\n",
       "          2.37069573e-04,   1.87871046e-03,  -8.58114945e-05,\n",
       "         -4.71026695e-04,  -1.50017149e-04,  -7.77596666e-04,\n",
       "          2.35452689e-03,  -1.04692148e-03,   1.71570480e-03,\n",
       "          1.69818185e-03,   9.85202030e-04,   1.24894374e-03,\n",
       "          1.18678249e-03,  -5.97450708e-04,  -3.92471935e-04,\n",
       "         -8.93741206e-04,   5.33499697e-04,   2.42314860e-03,\n",
       "         -9.71082074e-04,   3.29161034e-04,   6.86285202e-04,\n",
       "         -1.33032829e-03,  -2.32510176e-03,  -1.81450439e-03,\n",
       "          1.86188275e-03,   1.91771879e-03,  -1.37344212e-03,\n",
       "         -2.11888598e-03,  -1.58866332e-03,  -1.55209083e-04,\n",
       "         -2.14403169e-03,  -1.62170822e-04,   1.67937600e-03,\n",
       "         -1.79422309e-03,   9.29140835e-04,   8.84447829e-04,\n",
       "         -1.90321694e-03,  -1.79430726e-03,  -9.55025665e-04,\n",
       "         -1.79463380e-03,   5.33623272e-04,  -1.72803865e-03,\n",
       "          5.97872640e-05,  -1.99525547e-03,  -1.82787026e-03,\n",
       "          1.84030843e-03,   1.03644165e-03],\n",
       "       [ -1.49376167e-03,  -1.35825737e-03,   2.48177908e-04,\n",
       "         -1.86451187e-03,  -1.03108771e-03,  -1.78812596e-03,\n",
       "         -6.75766671e-04,   2.13008164e-03,   2.45031947e-03,\n",
       "          1.43686181e-03,   2.32396601e-03,   1.66668533e-03,\n",
       "          7.27022416e-04,  -7.36753063e-05,  -1.99432648e-03,\n",
       "          1.47048582e-03,  -1.34569849e-03,   6.66542794e-04,\n",
       "          4.38582414e-04,  -9.92912217e-04,   1.29773514e-03,\n",
       "         -2.12226342e-03,  -1.34737708e-03,   2.18559941e-03,\n",
       "          2.36536958e-03,  -1.05773041e-03,  -1.22474821e-03,\n",
       "         -6.71010406e-04,   9.73643269e-04,  -2.38315016e-03,\n",
       "          1.52538810e-03,   8.21877911e-04,  -1.21718680e-03,\n",
       "         -1.48794171e-03,  -9.51257942e-04,  -2.44513620e-03,\n",
       "         -2.32611527e-03,  -2.36360170e-03,   4.98520210e-04,\n",
       "          1.21345697e-03,  -2.18996988e-03,  -2.10899953e-03,\n",
       "         -2.14571063e-03,  -1.35921501e-03,  -3.40325525e-04,\n",
       "         -4.87815065e-04,   7.45294208e-04,   2.92327983e-04,\n",
       "         -1.27140118e-03,  -8.22079310e-04,   5.29122364e-04,\n",
       "         -1.75884250e-03,  -1.12691394e-03,  -7.72566942e-04,\n",
       "          1.34837802e-03,  -1.45020580e-03,   1.97750749e-03,\n",
       "          1.58829498e-03,   7.09274726e-04,   9.73653747e-04,\n",
       "          1.56378525e-03,   1.08644343e-03,  -1.24111678e-03,\n",
       "         -1.66556786e-03,   1.26753142e-03,  -7.13534362e-04,\n",
       "         -1.46637065e-03,   2.05968297e-03,  -1.30030827e-03,\n",
       "          2.50377902e-03,  -6.02958899e-04,   1.34785616e-04,\n",
       "          3.87491425e-04,  -6.01755281e-04,  -1.19106029e-03,\n",
       "          2.76477131e-05,   1.55074187e-04,   1.38643826e-03,\n",
       "          4.62741562e-04,   2.21315445e-03,  -1.56206975e-03,\n",
       "          1.14280812e-03,  -1.96754438e-04,   2.08668271e-03,\n",
       "          5.34671824e-04,   1.81243231e-03,   4.52118751e-04,\n",
       "         -9.19978193e-04,   8.03328527e-04,   1.80780387e-03,\n",
       "         -1.10755838e-03,  -2.20727525e-03,  -3.65952408e-04,\n",
       "         -2.20109103e-03,   3.67917091e-05,  -7.70515413e-04,\n",
       "         -7.88593548e-04,   6.93493639e-04,   2.01692432e-03,\n",
       "         -6.13716082e-04,   8.05177842e-05,   1.19659596e-03,\n",
       "         -2.39329436e-03,   2.07968918e-03,   2.36143917e-03,\n",
       "         -1.72174571e-03,   2.25812895e-03,  -6.89214910e-04,\n",
       "          2.00914731e-03,   2.09294748e-03,  -2.04326189e-03,\n",
       "          3.72101960e-04,  -2.05762987e-03,   1.79749820e-03,\n",
       "          1.34905847e-03,  -1.74774986e-03,   6.06909627e-04,\n",
       "         -1.57235947e-03,   2.17980240e-03,   7.97832152e-04,\n",
       "         -4.94471868e-04,   1.05164805e-03,   1.10330374e-03,\n",
       "          2.48211669e-04,   1.10462235e-04,   1.73405127e-03,\n",
       "          1.67247083e-04,   1.14335993e-03,   1.84152764e-03,\n",
       "         -1.47600146e-03,   1.97186397e-04,  -2.38475623e-03,\n",
       "          1.62021269e-03,   1.51195901e-03,   2.27569859e-03,\n",
       "         -1.92879888e-04,   1.65625743e-03,   2.19537201e-03,\n",
       "          6.66420674e-04,  -2.42289389e-03,   1.10581785e-03,\n",
       "         -1.95457530e-03,  -7.59991352e-04,  -2.30568741e-03,\n",
       "         -1.35803176e-03,   1.28542178e-03,  -1.09969045e-03,\n",
       "          1.92931260e-03,  -1.65799388e-03,   2.37741027e-04,\n",
       "          9.86656058e-04,  -1.99871371e-03,   1.25775218e-03,\n",
       "          2.37069573e-04,   1.87871046e-03,  -8.58114945e-05,\n",
       "         -4.71026695e-04,  -1.50017149e-04,  -7.77596666e-04,\n",
       "          2.35452689e-03,  -1.04692148e-03,   1.71570480e-03,\n",
       "          1.69818185e-03,   9.85202030e-04,   1.24894374e-03,\n",
       "          1.18678249e-03,  -5.97450708e-04,  -3.92471935e-04,\n",
       "         -8.93741206e-04,   5.33499697e-04,   2.42314860e-03,\n",
       "         -9.71082074e-04,   3.29161034e-04,   6.86285202e-04,\n",
       "         -1.33032829e-03,  -2.32510176e-03,  -1.81450439e-03,\n",
       "          1.86188275e-03,   1.91771879e-03,  -1.37344212e-03,\n",
       "         -2.11888598e-03,  -1.58866332e-03,  -1.55209083e-04,\n",
       "         -2.14403169e-03,  -1.62170822e-04,   1.67937600e-03,\n",
       "         -1.79422309e-03,   9.29140835e-04,   8.84447829e-04,\n",
       "         -1.90321694e-03,  -1.79430726e-03,  -9.55025665e-04,\n",
       "         -1.79463380e-03,   5.33623272e-04,  -1.72803865e-03,\n",
       "          5.97872640e-05,  -1.99525547e-03,  -1.82787026e-03,\n",
       "          1.84030843e-03,   1.03644165e-03],\n",
       "       [ -1.49376167e-03,  -1.35825737e-03,   2.48177908e-04,\n",
       "         -1.86451187e-03,  -1.03108771e-03,  -1.78812596e-03,\n",
       "         -6.75766671e-04,   2.13008164e-03,   2.45031947e-03,\n",
       "          1.43686181e-03,   2.32396601e-03,   1.66668533e-03,\n",
       "          7.27022416e-04,  -7.36753063e-05,  -1.99432648e-03,\n",
       "          1.47048582e-03,  -1.34569849e-03,   6.66542794e-04,\n",
       "          4.38582414e-04,  -9.92912217e-04,   1.29773514e-03,\n",
       "         -2.12226342e-03,  -1.34737708e-03,   2.18559941e-03,\n",
       "          2.36536958e-03,  -1.05773041e-03,  -1.22474821e-03,\n",
       "         -6.71010406e-04,   9.73643269e-04,  -2.38315016e-03,\n",
       "          1.52538810e-03,   8.21877911e-04,  -1.21718680e-03,\n",
       "         -1.48794171e-03,  -9.51257942e-04,  -2.44513620e-03,\n",
       "         -2.32611527e-03,  -2.36360170e-03,   4.98520210e-04,\n",
       "          1.21345697e-03,  -2.18996988e-03,  -2.10899953e-03,\n",
       "         -2.14571063e-03,  -1.35921501e-03,  -3.40325525e-04,\n",
       "         -4.87815065e-04,   7.45294208e-04,   2.92327983e-04,\n",
       "         -1.27140118e-03,  -8.22079310e-04,   5.29122364e-04,\n",
       "         -1.75884250e-03,  -1.12691394e-03,  -7.72566942e-04,\n",
       "          1.34837802e-03,  -1.45020580e-03,   1.97750749e-03,\n",
       "          1.58829498e-03,   7.09274726e-04,   9.73653747e-04,\n",
       "          1.56378525e-03,   1.08644343e-03,  -1.24111678e-03,\n",
       "         -1.66556786e-03,   1.26753142e-03,  -7.13534362e-04,\n",
       "         -1.46637065e-03,   2.05968297e-03,  -1.30030827e-03,\n",
       "          2.50377902e-03,  -6.02958899e-04,   1.34785616e-04,\n",
       "          3.87491425e-04,  -6.01755281e-04,  -1.19106029e-03,\n",
       "          2.76477131e-05,   1.55074187e-04,   1.38643826e-03,\n",
       "          4.62741562e-04,   2.21315445e-03,  -1.56206975e-03,\n",
       "          1.14280812e-03,  -1.96754438e-04,   2.08668271e-03,\n",
       "          5.34671824e-04,   1.81243231e-03,   4.52118751e-04,\n",
       "         -9.19978193e-04,   8.03328527e-04,   1.80780387e-03,\n",
       "         -1.10755838e-03,  -2.20727525e-03,  -3.65952408e-04,\n",
       "         -2.20109103e-03,   3.67917091e-05,  -7.70515413e-04,\n",
       "         -7.88593548e-04,   6.93493639e-04,   2.01692432e-03,\n",
       "         -6.13716082e-04,   8.05177842e-05,   1.19659596e-03,\n",
       "         -2.39329436e-03,   2.07968918e-03,   2.36143917e-03,\n",
       "         -1.72174571e-03,   2.25812895e-03,  -6.89214910e-04,\n",
       "          2.00914731e-03,   2.09294748e-03,  -2.04326189e-03,\n",
       "          3.72101960e-04,  -2.05762987e-03,   1.79749820e-03,\n",
       "          1.34905847e-03,  -1.74774986e-03,   6.06909627e-04,\n",
       "         -1.57235947e-03,   2.17980240e-03,   7.97832152e-04,\n",
       "         -4.94471868e-04,   1.05164805e-03,   1.10330374e-03,\n",
       "          2.48211669e-04,   1.10462235e-04,   1.73405127e-03,\n",
       "          1.67247083e-04,   1.14335993e-03,   1.84152764e-03,\n",
       "         -1.47600146e-03,   1.97186397e-04,  -2.38475623e-03,\n",
       "          1.62021269e-03,   1.51195901e-03,   2.27569859e-03,\n",
       "         -1.92879888e-04,   1.65625743e-03,   2.19537201e-03,\n",
       "          6.66420674e-04,  -2.42289389e-03,   1.10581785e-03,\n",
       "         -1.95457530e-03,  -7.59991352e-04,  -2.30568741e-03,\n",
       "         -1.35803176e-03,   1.28542178e-03,  -1.09969045e-03,\n",
       "          1.92931260e-03,  -1.65799388e-03,   2.37741027e-04,\n",
       "          9.86656058e-04,  -1.99871371e-03,   1.25775218e-03,\n",
       "          2.37069573e-04,   1.87871046e-03,  -8.58114945e-05,\n",
       "         -4.71026695e-04,  -1.50017149e-04,  -7.77596666e-04,\n",
       "          2.35452689e-03,  -1.04692148e-03,   1.71570480e-03,\n",
       "          1.69818185e-03,   9.85202030e-04,   1.24894374e-03,\n",
       "          1.18678249e-03,  -5.97450708e-04,  -3.92471935e-04,\n",
       "         -8.93741206e-04,   5.33499697e-04,   2.42314860e-03,\n",
       "         -9.71082074e-04,   3.29161034e-04,   6.86285202e-04,\n",
       "         -1.33032829e-03,  -2.32510176e-03,  -1.81450439e-03,\n",
       "          1.86188275e-03,   1.91771879e-03,  -1.37344212e-03,\n",
       "         -2.11888598e-03,  -1.58866332e-03,  -1.55209083e-04,\n",
       "         -2.14403169e-03,  -1.62170822e-04,   1.67937600e-03,\n",
       "         -1.79422309e-03,   9.29140835e-04,   8.84447829e-04,\n",
       "         -1.90321694e-03,  -1.79430726e-03,  -9.55025665e-04,\n",
       "         -1.79463380e-03,   5.33623272e-04,  -1.72803865e-03,\n",
       "          5.97872640e-05,  -1.99525547e-03,  -1.82787026e-03,\n",
       "          1.84030843e-03,   1.03644165e-03]], dtype=float32)"
      ]
     },
     "execution_count": 127,
     "metadata": {},
     "output_type": "execute_result"
    }
   ],
   "source": [
    "values23"
   ]
  },
  {
   "cell_type": "code",
   "execution_count": 121,
   "metadata": {
    "collapsed": false
   },
   "outputs": [
    {
     "ename": "AttributeError",
     "evalue": "can't set attribute",
     "output_type": "error",
     "traceback": [
      "\u001b[0;31m---------------------------------------------------------------------------\u001b[0m",
      "\u001b[0;31mAttributeError\u001b[0m                            Traceback (most recent call last)",
      "\u001b[0;32m/home/user/classification/lib/python3.5/site-packages/pandas/core/generic.py\u001b[0m in \u001b[0;36m__setattr__\u001b[0;34m(self, name, value)\u001b[0m\n\u001b[1;32m   2774\u001b[0m                 \u001b[0;32melse\u001b[0m\u001b[0;34m:\u001b[0m\u001b[0;34m\u001b[0m\u001b[0m\n\u001b[0;32m-> 2775\u001b[0;31m                     \u001b[0mobject\u001b[0m\u001b[0;34m.\u001b[0m\u001b[0m__setattr__\u001b[0m\u001b[0;34m(\u001b[0m\u001b[0mself\u001b[0m\u001b[0;34m,\u001b[0m \u001b[0mname\u001b[0m\u001b[0;34m,\u001b[0m \u001b[0mvalue\u001b[0m\u001b[0;34m)\u001b[0m\u001b[0;34m\u001b[0m\u001b[0m\n\u001b[0m\u001b[1;32m   2776\u001b[0m             \u001b[0;32mexcept\u001b[0m \u001b[0;34m(\u001b[0m\u001b[0mAttributeError\u001b[0m\u001b[0;34m,\u001b[0m \u001b[0mTypeError\u001b[0m\u001b[0;34m)\u001b[0m\u001b[0;34m:\u001b[0m\u001b[0;34m\u001b[0m\u001b[0m\n",
      "\u001b[0;31mAttributeError\u001b[0m: can't set attribute",
      "\nDuring handling of the above exception, another exception occurred:\n",
      "\u001b[0;31mAttributeError\u001b[0m                            Traceback (most recent call last)",
      "\u001b[0;32m<ipython-input-121-c02a788a0dcf>\u001b[0m in \u001b[0;36m<module>\u001b[0;34m()\u001b[0m\n\u001b[0;32m----> 1\u001b[0;31m \u001b[0mquestions_vs_documents3\u001b[0m\u001b[0;34m.\u001b[0m\u001b[0mquestions\u001b[0m\u001b[0;34m.\u001b[0m\u001b[0mvalues\u001b[0m \u001b[0;34m=\u001b[0m \u001b[0mvalues23\u001b[0m\u001b[0;34m\u001b[0m\u001b[0m\n\u001b[0m",
      "\u001b[0;32m/home/user/classification/lib/python3.5/site-packages/pandas/core/generic.py\u001b[0m in \u001b[0;36m__setattr__\u001b[0;34m(self, name, value)\u001b[0m\n\u001b[1;32m   2775\u001b[0m                     \u001b[0mobject\u001b[0m\u001b[0;34m.\u001b[0m\u001b[0m__setattr__\u001b[0m\u001b[0;34m(\u001b[0m\u001b[0mself\u001b[0m\u001b[0;34m,\u001b[0m \u001b[0mname\u001b[0m\u001b[0;34m,\u001b[0m \u001b[0mvalue\u001b[0m\u001b[0;34m)\u001b[0m\u001b[0;34m\u001b[0m\u001b[0m\n\u001b[1;32m   2776\u001b[0m             \u001b[0;32mexcept\u001b[0m \u001b[0;34m(\u001b[0m\u001b[0mAttributeError\u001b[0m\u001b[0;34m,\u001b[0m \u001b[0mTypeError\u001b[0m\u001b[0;34m)\u001b[0m\u001b[0;34m:\u001b[0m\u001b[0;34m\u001b[0m\u001b[0m\n\u001b[0;32m-> 2777\u001b[0;31m                 \u001b[0mobject\u001b[0m\u001b[0;34m.\u001b[0m\u001b[0m__setattr__\u001b[0m\u001b[0;34m(\u001b[0m\u001b[0mself\u001b[0m\u001b[0;34m,\u001b[0m \u001b[0mname\u001b[0m\u001b[0;34m,\u001b[0m \u001b[0mvalue\u001b[0m\u001b[0;34m)\u001b[0m\u001b[0;34m\u001b[0m\u001b[0m\n\u001b[0m\u001b[1;32m   2778\u001b[0m \u001b[0;34m\u001b[0m\u001b[0m\n\u001b[1;32m   2779\u001b[0m     \u001b[0;31m# ----------------------------------------------------------------------\u001b[0m\u001b[0;34m\u001b[0m\u001b[0;34m\u001b[0m\u001b[0m\n",
      "\u001b[0;31mAttributeError\u001b[0m: can't set attribute"
     ]
    }
   ],
   "source": [
    "questions_vs_documents3.questions.values = values23"
   ]
  },
  {
   "cell_type": "code",
   "execution_count": 162,
   "metadata": {
    "collapsed": true
   },
   "outputs": [],
   "source": [
    "from gensim.models import doc2vec\n",
    "from collections import namedtuple\n",
    "\n",
    "# Load data\n",
    "\n",
    "doc1 = [\"This is a sentence\", \"This is another sentence\"]\n",
    "\n",
    "# Transform data (you can add more data preprocessing steps) \n",
    "\n"
   ]
  },
  {
   "cell_type": "code",
   "execution_count": 178,
   "metadata": {
    "collapsed": true
   },
   "outputs": [],
   "source": [
    "def doc_2_vec(doc1):\n",
    "    docs = []\n",
    "    analyzedDocument = namedtuple('AnalyzedDocument', 'words tags')\n",
    "    for i, text in enumerate(doc1):\n",
    "        words = text.lower().split()\n",
    "        tags = [i]\n",
    "        docs.append(analyzedDocument(words, tags))\n",
    "\n",
    "    # Train model (set min_count = 1, if you want the model to work with the provided example data set)\n",
    "\n",
    "    model = doc2vec.Doc2Vec(docs, size = 100, window = 300, min_count = 1, workers = 4)\n",
    "    s = list(model.docvecs)    \n",
    "    return s"
   ]
  },
  {
   "cell_type": "code",
   "execution_count": 179,
   "metadata": {
    "collapsed": false
   },
   "outputs": [],
   "source": [
    "pqqq = doc_2_vec(doc1)"
   ]
  },
  {
   "cell_type": "code",
   "execution_count": 180,
   "metadata": {
    "collapsed": false
   },
   "outputs": [
    {
     "data": {
      "text/plain": [
       "[array([ -2.97993422e-03,  -2.70987814e-03,   4.90625855e-04,\n",
       "         -3.72301368e-03,  -2.05913745e-03,  -3.57176247e-03,\n",
       "         -1.34426728e-03,   4.25264239e-03,   4.89825802e-03,\n",
       "          2.86883628e-03,   4.64429846e-03,   3.32708028e-03,\n",
       "          1.44610624e-03,  -1.45733837e-04,  -3.99222691e-03,\n",
       "          2.93396157e-03,  -2.68466794e-03,   1.33024855e-03,\n",
       "          8.75272905e-04,  -1.98375899e-03,   2.59350357e-03,\n",
       "         -4.23856592e-03,  -2.69876397e-03,   4.36984375e-03,\n",
       "          4.72765882e-03,  -2.11208034e-03,  -2.44789454e-03,\n",
       "         -1.33529457e-03,   1.94521772e-03,  -4.76235431e-03,\n",
       "          3.05004814e-03,   1.64397852e-03,  -2.42934912e-03,\n",
       "         -2.96619488e-03,  -1.89820828e-03,  -4.88210516e-03,\n",
       "         -4.63751750e-03,  -4.72059241e-03,   9.94084287e-04,\n",
       "          2.42144475e-03,  -4.37540142e-03,  -4.21283999e-03,\n",
       "         -4.28563217e-03,  -2.71985563e-03,  -6.79032644e-04,\n",
       "         -9.69701621e-04,   1.48667546e-03,   5.78977051e-04,\n",
       "         -2.53406796e-03,  -1.64244964e-03,   1.05577556e-03,\n",
       "         -3.51427519e-03,  -2.25355476e-03,  -1.53972453e-03,\n",
       "          2.69288290e-03,  -2.90194270e-03,   3.95461125e-03,\n",
       "          3.16706393e-03,   1.42344902e-03,   1.93984050e-03,\n",
       "          3.12787946e-03,   2.17148266e-03,  -2.47629173e-03,\n",
       "         -3.32991499e-03,   2.52616662e-03,  -1.42878352e-03,\n",
       "         -2.92879343e-03,   4.11403552e-03,  -2.59023975e-03,\n",
       "          4.99879569e-03,  -1.20337389e-03,   2.65172392e-04,\n",
       "          7.75536988e-04,  -1.19671004e-03,  -2.37682485e-03,\n",
       "          4.88620171e-05,   3.09173192e-04,   2.76990747e-03,\n",
       "          9.21462022e-04,   4.42056172e-03,  -3.12477048e-03,\n",
       "          2.28323392e-03,  -3.85872292e-04,   4.17429255e-03,\n",
       "          1.06917031e-03,   3.61766922e-03,   9.04823304e-04,\n",
       "         -1.83684879e-03,   1.60016806e-03,   3.60870757e-03,\n",
       "         -2.21600174e-03,  -4.40846151e-03,  -7.27216830e-04,\n",
       "         -4.39361110e-03,   7.22559198e-05,  -1.54168578e-03,\n",
       "         -1.57165190e-03,   1.38517492e-03,   4.02488513e-03,\n",
       "         -1.22407835e-03], dtype=float32),\n",
       " array([ -2.75249640e-03,  -4.14154818e-03,   3.29850777e-03,\n",
       "         -2.14233459e-03,   3.11900559e-03,  -1.20517600e-03,\n",
       "         -2.04106793e-03,   6.05878304e-04,   4.26168740e-03,\n",
       "         -6.38828322e-04,   7.69199221e-04,   1.79938774e-03,\n",
       "         -6.89170047e-05,   1.81099377e-03,   1.92486274e-04,\n",
       "         -2.30990490e-03,   3.48821166e-03,  -3.71638662e-03,\n",
       "         -3.72510240e-03,   4.64836136e-03,   2.26250477e-03,\n",
       "          4.83664777e-03,   3.76532157e-03,  -3.17172473e-03,\n",
       "         -3.04587232e-03,   2.46662821e-04,   2.15573283e-03,\n",
       "         -3.03406524e-03,  -3.82962264e-03,  -2.39225058e-03,\n",
       "          3.21797980e-03,   2.30194652e-03,   1.84785889e-03,\n",
       "          1.03652081e-03,   1.99906272e-03,  -1.98499276e-03,\n",
       "          2.97777285e-03,  -1.97577896e-03,   3.49249574e-03,\n",
       "         -2.29106890e-03,   1.50060561e-03,   3.83157982e-03,\n",
       "          3.00742290e-03,  -4.81483433e-03,  -1.06185186e-03,\n",
       "         -4.35191160e-03,   1.68584520e-03,   1.23916392e-03,\n",
       "          4.86195646e-03,  -2.04703491e-03,  -1.26982026e-03,\n",
       "          1.98981841e-03,   2.02469900e-03,  -2.18823459e-03,\n",
       "          2.68815039e-03,  -4.95902076e-03,   4.87669092e-03,\n",
       "          2.57032691e-04,  -2.35783099e-03,   6.96009965e-06,\n",
       "          4.97715408e-03,  -4.71189478e-03,  -1.89796905e-03,\n",
       "         -1.29512779e-03,   2.52943719e-03,   1.97045505e-03,\n",
       "         -3.46618937e-03,   4.56093717e-03,  -3.74099909e-04,\n",
       "          4.00125748e-03,   2.18435726e-03,  -2.37052026e-03,\n",
       "         -1.61157933e-03,   1.90579612e-03,  -1.41742604e-03,\n",
       "          4.90363687e-03,   3.30398791e-03,  -3.81266745e-03,\n",
       "          1.90235325e-03,  -4.80264705e-03,  -1.17680465e-03,\n",
       "          1.87066803e-03,   8.35617189e-04,   1.16160850e-03,\n",
       "         -2.98486254e-03,   3.05793574e-03,  -2.58720247e-04,\n",
       "         -4.32852516e-03,  -3.74082383e-03,   1.05565647e-03,\n",
       "         -8.42344190e-04,   1.90079294e-03,  -6.37494435e-04,\n",
       "          3.71099892e-03,   3.70042189e-03,  -2.11806875e-03,\n",
       "          3.03037651e-03,  -2.57797167e-03,   4.70832177e-03,\n",
       "          3.73168918e-03], dtype=float32)]"
      ]
     },
     "execution_count": 180,
     "metadata": {},
     "output_type": "execute_result"
    }
   ],
   "source": [
    "pqqq"
   ]
  },
  {
   "cell_type": "code",
   "execution_count": null,
   "metadata": {
    "collapsed": true
   },
   "outputs": [],
   "source": []
  }
 ],
 "metadata": {
  "kernelspec": {
   "display_name": "Python 3",
   "language": "python",
   "name": "python3"
  },
  "language_info": {
   "codemirror_mode": {
    "name": "ipython",
    "version": 3
   },
   "file_extension": ".py",
   "mimetype": "text/x-python",
   "name": "python",
   "nbconvert_exporter": "python",
   "pygments_lexer": "ipython3",
   "version": "3.5.2"
  }
 },
 "nbformat": 4,
 "nbformat_minor": 2
}
